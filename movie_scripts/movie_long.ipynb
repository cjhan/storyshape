{
 "cells": [
  {
   "cell_type": "code",
   "execution_count": 1,
   "metadata": {
    "ExecuteTime": {
     "end_time": "2019-06-14T03:07:27.556285Z",
     "start_time": "2019-06-14T03:07:25.409749Z"
    }
   },
   "outputs": [],
   "source": [
    "from scipy.stats import chisquare\n",
    "from scipy import stats\n",
    "import urllib.request\n",
    "import string\n",
    "import requests\n",
    "from bs4 import BeautifulSoup\n",
    "import pandas as pd\n",
    "import multiprocessing\n",
    "import gensim\n",
    "import sys\n",
    "import spacy\n",
    "nlp=spacy.load('en')\n",
    "import seaborn as sns\n",
    "from nltk.tokenize import WordPunctTokenizer\n",
    "from gensim.models import Word2Vec\n",
    "from gensim.models import KeyedVectors\n",
    "from scipy import spatial\n",
    "from collections import Counter\n",
    "import numpy as np\n",
    "from collections import defaultdict\n",
    "from pprint import pprint\n",
    "from gensim import corpora\n",
    "import re\n",
    "import logging\n",
    "import requests\n",
    "import urllib \n",
    "import re\n",
    "import sys\n",
    "import zipfile\n",
    "from glob import glob\n",
    "import statsmodels.api as sm\n",
    "import scipy\n",
    "import scipy.stats as ss\n",
    "from scipy.signal import savgol_filter\n",
    "import random\n",
    "np.set_printoptions(precision=2)\n",
    "logging.basicConfig(format='%(asctime)s : %(levelname)s : %(message)s', level=logging.INFO)\n",
    "\n",
    "import matplotlib.pyplot as plt\n",
    "%matplotlib inline\n",
    "\n",
    "\n",
    "from sklearn import metrics\n",
    "from sklearn.cluster import KMeans\n",
    "# from the demo\n",
    "from sklearn.datasets import load_digits\n",
    "from sklearn.decomposition import PCA\n",
    "from sklearn.decomposition import TruncatedSVD\n",
    "from sklearn.decomposition import NMF\n",
    "from sklearn.preprocessing import scale\n",
    "from sklearn.linear_model import LogisticRegression\n",
    "from sklearn.model_selection import train_test_split\n",
    "from sklearn.metrics import accuracy_score\n",
    "from nltk.corpus import stopwords\n",
    "from nltk.corpus import names\n",
    "pd.set_option('display.max_columns',None)\n",
    "pd.set_option('display.max_rows',None)"
   ]
  },
  {
   "cell_type": "code",
   "execution_count": 2,
   "metadata": {
    "ExecuteTime": {
     "end_time": "2019-06-14T03:07:27.621481Z",
     "start_time": "2019-06-14T03:07:27.558579Z"
    }
   },
   "outputs": [],
   "source": [
    "def flushPrint(s):\n",
    "    sys.stdout.write('\\r')\n",
    "    sys.stdout.write('%s' % s)\n",
    "    sys.stdout.flush()\n",
    "    \n",
    "def normalize(v):\n",
    "    norm = np.linalg.norm(v)\n",
    "    if norm == 0:\n",
    "        return v\n",
    "    return v / norm\n",
    "\n",
    "def cultureD2(model, words):\n",
    "    cultures = []\n",
    "    for word in words:\n",
    "        if (word[0] in model.wv.vocab) & (word[1] in model.wv.vocab):\n",
    "            cultures.append(normalize(normalize(model[word[0]]) - normalize(model[word[1]])))\n",
    "        else:\n",
    "            print(word)\n",
    "    culturev = normalize(np.mean(cultures, axis=0))\n",
    "    return culturev\n",
    "\n",
    "def storyv(model,words):\n",
    "    veclist=[]\n",
    "    for w in words:\n",
    "        if w in model.wv.vocab:\n",
    "            veclist.append(normalize(model[w]))\n",
    "    storyv=normalize(np.mean(veclist,axis=0))\n",
    "    return storyv\n",
    "\n",
    "def projection(storyv, culturev):\n",
    "    # cosine similarity\n",
    "    return (1 - spatial.distance.cosine(storyv, culturev))\n",
    "           \n",
    "def cosine2angle(i):\n",
    "    return np.arccos(i) / np.pi * 180 #长度换角度\n",
    "\n",
    "def normalized(x):\n",
    "    x= np.array(x)\n",
    "    return (x-np.mean(x))/np.std(x)\n",
    "\n",
    "def normalization(x):\n",
    "    x=np.array(x)\n",
    "    return (x-np.min(x))/(np.max(x)-np.min(x))"
   ]
  },
  {
   "cell_type": "code",
   "execution_count": 3,
   "metadata": {
    "ExecuteTime": {
     "end_time": "2019-06-14T03:07:27.629961Z",
     "start_time": "2019-06-14T03:07:27.623367Z"
    }
   },
   "outputs": [],
   "source": [
    "swords = [\n",
    "    ['success','failure'],\n",
    "    ['succeed','fail'],\n",
    "    ['lucky', 'unlucky'],\n",
    "    ['fortunate', 'unfortunate'],\n",
    "    ['happy', 'unhappy'],\n",
    "    ['glad', 'sad'],\n",
    "    ['joy', 'sorrow'],\n",
    "    ['smile', 'tear']\n",
    "] # success words"
   ]
  },
  {
   "cell_type": "code",
   "execution_count": 4,
   "metadata": {},
   "outputs": [
    {
     "name": "stderr",
     "output_type": "stream",
     "text": [
      "2019-05-27 09:56:56,568 : INFO : loading projection weights from GoogleNews-vectors-negative300.bin\n",
      "2019-05-27 09:58:43,772 : INFO : loaded (3000000, 300) matrix from GoogleNews-vectors-negative300.bin\n"
     ]
    }
   ],
   "source": [
    "# Load Google's pre-trained Word2Vec model.\n",
    "model = gensim.models.KeyedVectors.load_word2vec_format('GoogleNews-vectors-negative300.bin',binary=True)\n",
    "\n",
    "# model = gensim.models.KeyedVectors.load_word2vec_format('english_fiction_sgns_gensim_1990.txt')"
   ]
  },
  {
   "cell_type": "code",
   "execution_count": 5,
   "metadata": {},
   "outputs": [
    {
     "name": "stderr",
     "output_type": "stream",
     "text": [
      "2019-05-27 09:58:43,783 : INFO : precomputing L2-norms of word weight vectors\n"
     ]
    }
   ],
   "source": [
    "success_vector = cultureD2(model, swords)\n",
    "success_word = [i[0] for i in model.similar_by_vector(success_vector, 1)]"
   ]
  },
  {
   "cell_type": "code",
   "execution_count": 80,
   "metadata": {
    "collapsed": true
   },
   "outputs": [],
   "source": [
    "def flushPrint(s):\n",
    "    sys.stdout.write('\\r')\n",
    "    sys.stdout.write('%s' % s)\n",
    "    sys.stdout.flush()"
   ]
  },
  {
   "cell_type": "code",
   "execution_count": 4,
   "metadata": {
    "collapsed": true
   },
   "outputs": [],
   "source": [
    "import re, sys, getopt\n",
    "\n",
    "PUNCTUATION = [ch for ch in \"\"\"(){}[]<>!?.:;,`'\"@#$%^&*+-|=~/\\\\_\"\"\"]\n",
    "LETTERS     = [ch for ch in \"abcdefghijklmnopqrstuvwxyz\"]\n",
    "CONSONANTS  = [ch for ch in \"bcdfghjklmnpqrstvwxz\"] # Need this for Mr. Mss. abbreviations.\n",
    "WHITESPACE  = [ch for ch in \" \\t\\n\\r\\f\\v\"]          # Need this to split words.\n",
    "DASHES      = [ch for ch in u\"鈥撯€�\"]                  # Not to be confused with hyphen.\n",
    "\n",
    "is_uppercase   = lambda s: len(s)>0 and s==s.upper()                          # Goodbye => True\n",
    "is_capitalized = lambda s: len(s)>0 and s[0].isalpha() and s[0]==s[0].upper() # GOODBYE => True\n",
    "\n",
    "digits = re.compile(\"^[0-9]+$\")\n",
    "is_int = lambda s: digits.search(s) != None\n",
    "\n",
    "# regex pattern for entities: &amp; &#164;\n",
    "entity = \"&[a-z]+;|&#[0-9]+;\"\n",
    "\n",
    "class Range(dict):\n",
    "    \n",
    "    def __init__(self, items=[]):\n",
    "        dict.__init__(self, items)\n",
    "        self.patterns = []\n",
    "        \n",
    "    def __contains__(self, str):\n",
    "        if dict.__contains__(self, str): \n",
    "            return True\n",
    "        for p in self.patterns:\n",
    "            if p.search(str) != None: \n",
    "                return True\n",
    "        return False\n",
    "\n",
    "def in_any(word, ranges=[]):\n",
    "    for rng in ranges:\n",
    "        if word in rng: return True\n",
    "        \n",
    "abbreviations = [\n",
    "    \"Adm.\", \"Ala.\", \"Ariz.\", \"Ark.\", \"Aug.\", \"B.C.\", \"Bancorp.\", \"Bhd.\", \"Brig.\", \"Bros.\", \"CO.\", \n",
    "    \"CORP.\", \"COS.\", \"ca.\", \"Calif.\", \"Capt.\", \"Cie.\", \"Cmdr.\", \"Co.\", \"Col.\", \"Colo.\", \"Conn.\", \"Corp.\", \n",
    "    \"Cos.\", \"Cpl.\", \"D-Mass.\", \"D.C.\", \"Dec.\", \"Del.\", \"Dept.\", \"Dr.\", \"E.g.\", \"Etc.\", \"Ex.\", \"Exch.\", \n",
    "    \"Feb.\", \"Fla.\", \"Fri.\", \"Ga.\", \"Gen.\", \"Gov.\", \"INC.\", \"Ill.\", \"Inc.\", \"Ind.\", \"Jan.\", \"Jansz.\", \n",
    "    \"Jos.\", \"Jr.\", \"Kan.\", \"Ky.\", \"L.A.\", \"La.\", \"Lt.\", \"Ltd.\", \"Maj.\", \"Mass.\", \"Md.\", \"Messrs.\", \n",
    "    \"Mfg.\", \"Mich.\", \"Minn.\", \"Miss.\", \"Mo.\", \"Mon.\", \"Mr.\", \"Mrs.\", \"Ms.\", \"Mt.\", \"N.C.\", \"N.J.\", \n",
    "    \"N.Y.\", \"NFATc.\", \"Neb.\", \"Nev.\", \"No.\", \"Nos.\", \"Nov.\", \"O.J.\", \"Oct.\", \"Okla.\", \"Ont.\", \"Ore.\", \n",
    "    \"P.T.\", \"Pa.\", \"Ph.\", \"Prof.\", \"Prop.\", \"Pty.\", \"R.I.\", \"R.J.\", \"Rep.\", \"Reps.\", \"Rev.\", \"S.C.\", \n",
    "    \"Sat.\", \"Sen.\", \"Sens.\", \"Sep.\", \"Sept.\", \"Sgt.\", \"Sol.\", \"Sr.\", \"St.\", \"Sun.\", \"Tenn.\", \"Tex.\", \n",
    "    \"Thu.\", \"Tue.\", \"U.K.\", \"U.N.\", \"U.S.\", \"Va.\", \"Vt.\", \"W.J.\", \"W.Va.\", \"Wash.\", \"Wed.\", \"Wis.\", \n",
    "    \"Wyo.\", \"a.m.\", \"cit.\", \"def.\", \"ed.\", \"eds.\", \"e.g.\", \"etc.\", \"ft.\", \"i.e.\", \"op.\", \"p.m.\", \"pp.\", \n",
    "    \"sc.\", \"v.\", \"vs.\", \"Biol.\", \"Chem.\", \"beta4.\", \"Struct.\", \"Funct.\", \"Natl.\", \"Acad.\", \"Sci.\",\n",
    "    \"Biochem.\", \"Cell.\", \"Proc.\", \"Res.\", \"Lond.\", \"Nat.\", \"Dev.\", \"Camb.\", \"Profilin.\", \"Thymosin-beta4.\"\n",
    "]\n",
    "\n",
    "class Abbreviations(Range):\n",
    "    \n",
    "    def __init__(self, known=[]):\n",
    "        \"\"\" A dictionary of known abbreviations, extended with patterns of likely abbreviations.\n",
    "            word in Abbreviations() == True if word is a known or likely abbreviation.\n",
    "            Periods in English are ambiguous,\n",
    "            marking end of sentence, abbreviation, decimal point or ellipsis.\n",
    "            - Simple rule: \"every point is a sentence break\" is 93.20% correct for Brown corpus.\n",
    "            - Fix decimal points: 93,64% correct.\n",
    "            - Fix single letter abbreviations (T. De Smedt), alternating letters (i.e. U.S.),\n",
    "              and capital letter followed by consonants (Mr. Assn.): 97.7% correct.\n",
    "            - Fix with dictionary of known abbreviations: up to 99,07 accuracy.\n",
    "            http://bulba.sdsu.edu/~malouf/ling571/13-token-bw.pdf\n",
    "        \"\"\"\n",
    "        Range.__init__(self, [(x,True) for x in known])\n",
    "        self.patterns = [\n",
    "            re.compile(\"^[A-Za-z]\\.$\"),                       # single letter, \"T. De Smedt\"\n",
    "            re.compile(\"^([A-Za-z]\\.)+$\"),                    # alternating letters, \"U.S.\"\n",
    "            #re.compile(\".+\\.[,;]$\"),                         # followed by punctuation, \"dept.,\"\n",
    "            re.compile(\"^[A-Z][\"+\"|\".join(CONSONANTS)+\"]+.$\") # capital followed by consonants, \"Mr.\"\n",
    "        ]\n",
    "        \n",
    "    def __contains__(self, word):\n",
    "        return word.endswith(\".\") and Range.__contains__(self, word)\n",
    "\n",
    "abbreviations = Abbreviations(abbreviations)\n",
    "# # from https://www.clips.uantwerpen.be/BiographTA/tokenizer.py"
   ]
  },
  {
   "cell_type": "code",
   "execution_count": 5,
   "metadata": {
    "collapsed": true
   },
   "outputs": [],
   "source": [
    "def pre_process(data):\n",
    "    for w in abbreviations:\n",
    "        data = data.replace(w,' ')\n",
    "    data = data.replace('\\r',' ').replace('\\n',' ').replace('\\t',' ')\n",
    "    data = re.split('[.?!]',data) # cut the sentence\n",
    "    tknzr = WordPunctTokenizer()\n",
    "    data = [tknzr.tokenize(i) for i in data]\n",
    "    data=[i for i in data if len(i)>1]\n",
    "    return data"
   ]
  },
  {
   "cell_type": "code",
   "execution_count": 6,
   "metadata": {
    "collapsed": true
   },
   "outputs": [],
   "source": [
    "with open('./stopword.txt','r') as f:\n",
    "    stopword=f.readlines()\n",
    "stopword=[i.split('\\n')[0] for i in stopword]"
   ]
  },
  {
   "cell_type": "code",
   "execution_count": 7,
   "metadata": {
    "collapsed": true
   },
   "outputs": [],
   "source": [
    "# 获取名字，性别数据列表\n",
    "from nltk.corpus import names\n",
    "male_names = [name for name in names.words('male.txt')]\n",
    "female_names = [name for name in names.words('female.txt')]\n",
    "all_names = male_names+female_names"
   ]
  },
  {
   "cell_type": "code",
   "execution_count": 8,
   "metadata": {
    "collapsed": true
   },
   "outputs": [],
   "source": [
    "tknzr = WordPunctTokenizer()"
   ]
  },
  {
   "cell_type": "code",
   "execution_count": 9,
   "metadata": {
    "collapsed": true
   },
   "outputs": [],
   "source": [
    "import json\n",
    "with open(\"diction.txt\",\"r\") as f:\n",
    "    diction = json.loads(f.readline())"
   ]
  },
  {
   "cell_type": "code",
   "execution_count": 242,
   "metadata": {
    "collapsed": true
   },
   "outputs": [],
   "source": [
    "def get_maintext_lines_script(raw_text):\n",
    "    lines = raw_text.split(\"\\n\")\n",
    "    start_book_i = 0\n",
    "    end_book_i = len(lines)-1\n",
    "    if end_book_i == len(lines)-1:\n",
    "        for j,line in enumerate(lines):\n",
    "            if \"FADE OUT\" in line and j>.9*len(lines):\n",
    "                end_book_i = j\n",
    "    if end_book_i == len(lines)-1:\n",
    "        for j,line in enumerate(lines):\n",
    "            if \"THE END\" in line and j>.9*len(lines):\n",
    "                end_book_i = j\n",
    "    if end_book_i == len(lines)-1:\n",
    "        for j,line in enumerate(lines):\n",
    "            if \"- END -\" in line and j>.9*len(lines):\n",
    "                end_book_i = j  \n",
    "    return lines[(start_book_i+1):(end_book_i)]"
   ]
  },
  {
   "cell_type": "code",
   "execution_count": 243,
   "metadata": {
    "collapsed": true
   },
   "outputs": [],
   "source": [
    "def chunkify(lines):\n",
    "    # put them back together...\n",
    "    raw_text = \"\\n\".join(lines)\n",
    "    # remove extra whitespace\n",
    "    raw_text_1 = re.sub(\"\\n[\\\\s]+?\\n\",\"\\n\\n\",raw_text)\n",
    "    # remove singleton newlines\n",
    "    raw_text_2 = re.sub(r\"([^\\n])\\n([^\\n])\",r\"\\1 \\2\",raw_text_1)\n",
    "    raw_text_3 = raw_text_2.rstrip().lstrip()\n",
    "\n",
    "\n",
    "    # split on those triples (or more)\n",
    "    big_chunks = re.split(\"\\n\\n\\n+\",raw_text_3)\n",
    "\n",
    "    big_chunks = [i for i in big_chunks if len(tknzr.tokenize(i))>20] #remove title,author et al.\n",
    "    \n",
    "    if len(big_chunks)!=1:\n",
    "#         print('error chunk!')\n",
    "        big_chunks = ['\\n\\n'.join(big_chunks)]\n",
    "        \n",
    "    # break into different cuts\n",
    "    big_chunks = re.split(\"CUT TO:\",big_chunks[0])\n",
    "#     print(big_chunks)\n",
    "    # now break them into the paragraphs\n",
    "    small_chunks = list(map(lambda x: re.split(\"\\n\\n\",x),big_chunks))\n",
    "    combined_chunks = []\n",
    "    [combined_chunks.extend(el) for el in small_chunks]\n",
    "    combined_chunks = [i for i in combined_chunks if len(i.strip())>0]\n",
    "#     combined_chunks = ' '.join(combined_chunks)\n",
    "#     combined_chunks = []\n",
    "\n",
    "#     for i in range(len(small_chunks)):\n",
    "#         for j in range(len(small_chunks[i])):\n",
    "#             combined_chunks.append((i,j,small_chunks[i][j]))\n",
    "    return combined_chunks\n",
    "#     return small_chunks"
   ]
  },
  {
   "cell_type": "code",
   "execution_count": 244,
   "metadata": {
    "collapsed": true
   },
   "outputs": [],
   "source": [
    "def main_character(lead):\n",
    "    lead=[i.title() for i in lead]\n",
    "    film_name_list = (set(lead) & set(male_names)) |\\\n",
    "                    (set(lead) & set(female_names))\n",
    "    film_script_wordlist_counter = Counter(lead)\n",
    "    df = pd.DataFrame([[i, film_script_wordlist_counter[i]] for i in film_name_list]\\\n",
    "                                      , columns=['name', 'count'])\n",
    "    df['gender']=df['name'].apply(lambda x:'male' if x in male_names else 'female')\n",
    "    df=df.sort_values(by='count', ascending=False)\n",
    "    lead = df['name'].values[0]\n",
    "    lead_gender=df['gender'].values[0]\n",
    "    if lead_gender=='female':\n",
    "        lead1=df[df['gender']=='male']['name'].values[0]\n",
    "    else:\n",
    "        lead1=df[df['gender']=='female']['name'].values[0]\n",
    "    return lead,lead_gender,lead1"
   ]
  },
  {
   "cell_type": "code",
   "execution_count": 10,
   "metadata": {
    "collapsed": true
   },
   "outputs": [],
   "source": [
    "movie_type=pd.read_csv('./movie_type.csv')"
   ]
  },
  {
   "cell_type": "code",
   "execution_count": 11,
   "metadata": {
    "collapsed": true
   },
   "outputs": [],
   "source": [
    "name=movie_type['name'].values"
   ]
  },
  {
   "cell_type": "code",
   "execution_count": 12,
   "metadata": {
    "collapsed": true
   },
   "outputs": [],
   "source": [
    "def word_to_emotion(data):\n",
    "    da=tknzr.tokenize(data)\n",
    "    d=[]\n",
    "    for word in da:\n",
    "        try:\n",
    "            if (word.lower() not in stopword) & (word.title() not in all_names):\n",
    "                sim = diction[word]\n",
    "                if (sim<-3)|(sim>3):\n",
    "                    d.append(sim)\n",
    "        except:\n",
    "            pass\n",
    "    return np.mean(d)"
   ]
  },
  {
   "cell_type": "code",
   "execution_count": 254,
   "metadata": {
    "collapsed": true
   },
   "outputs": [
    {
     "name": "stderr",
     "output_type": "stream",
     "text": [
      "/home/sysadmin/anaconda3/lib/python3.6/site-packages/pandas/core/ops.py:1167: FutureWarning: elementwise comparison failed; returning scalar instead, but in the future will perform elementwise comparison\n",
      "  result = method(y)\n"
     ]
    },
    {
     "name": "stdout",
     "output_type": "stream",
     "text": [
      "invalid type comparison 12-Monkeys\n"
     ]
    },
    {
     "name": "stderr",
     "output_type": "stream",
     "text": [
      "/home/sysadmin/anaconda3/lib/python3.6/site-packages/numpy/core/fromnumeric.py:2920: RuntimeWarning: Mean of empty slice.\n",
      "  out=out, **kwargs)\n"
     ]
    },
    {
     "name": "stdout",
     "output_type": "stream",
     "text": [
      "[Errno 2] No such file or directory: './imsdb/48-Hrs.txt' 48-Hrs\n",
      "invalid type comparison 9\n",
      "invalid type comparison Adaptation\n",
      "invalid type comparison Adventures-of-Buckaroo-Banzai-Across-the-Eighth-Dimension,-The\n",
      "[Errno 2] No such file or directory: './imsdb/After.txt' After\n",
      "index 0 is out of bounds for axis 0 with size 0 Aladdin\n",
      "invalid type comparison Alien-3\n",
      "[Errno 2] No such file or directory: './imsdb/Alien-vs.txt' Alien-vs\n",
      "invalid type comparison All-the-President's-Men\n",
      "invalid type comparison Amadeus\n",
      "invalid type comparison American-Psycho\n",
      "index 0 is out of bounds for axis 0 with size 0 American-Shaolin-King-of-Kickboxers-II\n",
      "invalid type comparison American-Werewolf-in-London\n",
      "invalid type comparison Angels-&-Demons\n",
      "invalid type comparison Anna-Karenina\n",
      "index 0 is out of bounds for axis 0 with size 0 Antz\n",
      "index 0 is out of bounds for axis 0 with size 0 Arcade\n",
      "invalid type comparison Armageddon\n",
      "invalid type comparison Bad-Lieutenant\n",
      "index 0 is out of bounds for axis 0 with size 0 Badlands\n",
      "index 0 is out of bounds for axis 0 with size 0 Basic\n",
      "invalid type comparison Battle-of-Algiers,-The\n",
      "invalid type comparison Beavis-and-Butt-head-Do-America\n",
      "invalid type comparison Big-Blue,-The\n",
      "invalid type comparison Big-Lebowski,-The\n",
      "invalid type comparison Blade-II\n",
      "invalid type comparison Bounty-Hunter,-The\n",
      "invalid type comparison Bourne-Identity,-The\n",
      "index 0 is out of bounds for axis 0 with size 0 Bourne-Ultimatum,-The\n",
      "invalid type comparison Broken-Arrow\n",
      "invalid type comparison Cable-Guy\n",
      "[Errno 2] No such file or directory: './imsdb/Cecil-B.txt' Cecil-B\n",
      "invalid type comparison Chaos\n",
      "invalid type comparison Chasing-Amy\n",
      "invalid type comparison Chinatown\n",
      "invalid type comparison Clash-of-the-Titans\n",
      "invalid type comparison Collateral-Damage\n",
      "invalid type comparison Coriolanus\n",
      "index 0 is out of bounds for axis 0 with size 0 Croods,-The\n",
      "index 0 is out of bounds for axis 0 with size 0 Crow-Salvation,-The\n",
      "index 0 is out of bounds for axis 0 with size 0 Crying-Game\n",
      "index 0 is out of bounds for axis 0 with size 0 Cube\n",
      "invalid type comparison Dances-with-Wolves\n",
      "invalid type comparison Dark-City\n",
      "index 0 is out of bounds for axis 0 with size 0 Dark-Star\n",
      "invalid type comparison Darkman\n",
      "invalid type comparison Dawn-of-the-Dead\n",
      "invalid type comparison Day-the-Clown-Cried,-The\n",
      "invalid type comparison Deep-Cover\n",
      "invalid type comparison Deep-Rising\n",
      "invalid type comparison Die-Hard\n",
      "index 0 is out of bounds for axis 0 with size 0 Die-Hard-2\n",
      "[Errno 2] No such file or directory: './imsdb/E.txt' E\n",
      "index 0 is out of bounds for axis 0 with size 0 El-Mariachi\n",
      "index 0 is out of bounds for axis 0 with size 0 Entrapment\n",
      "[Errno 2] No such file or directory: './imsdb/Escape-From-L.txt' Escape-From-L\n",
      "index 0 is out of bounds for axis 0 with size 0 Event-Horizon\n",
      "invalid type comparison Face-Off\n",
      "invalid type comparison Feast\n",
      "index 0 is out of bounds for axis 0 with size 0 Fifth-Element,-The\n",
      "invalid type comparison Finding-Nemo\n",
      "invalid type comparison Flight\n",
      "index 0 is out of bounds for axis 0 with size 0 Four-Feathers\n",
      "[Errno 2] No such file or directory: './imsdb/Freddy-vs.txt' Freddy-vs\n",
      "invalid type comparison French-Connection,-The\n",
      "index 0 is out of bounds for axis 0 with size 0 Frozen\n",
      "[Errno 2] No such file or directory: './imsdb/G.txt' G\n",
      "[Errno 2] No such file or directory: './imsdb/G.txt' G\n",
      "invalid type comparison Gamer\n",
      "invalid type comparison Gandhi\n",
      "invalid type comparison Gang-Related\n",
      "invalid type comparison Ghost-and-the-Darkness,-The\n",
      "index 0 is out of bounds for axis 0 with size 0 Gladiator\n",
      "index 0 is out of bounds for axis 0 with size 0 Glengarry-Glen-Gross\n",
      "invalid type comparison Good-Will-Hunting\n",
      "invalid type comparison Grapes-of-Wrath,-The\n",
      "index 0 is out of bounds for axis 0 with size 0 Gravity\n",
      "invalid type comparison Hannibal\n",
      "invalid type comparison Happy-Feet\n",
      "invalid type comparison Heavy-Metal\n",
      "invalid type comparison Hebrew-Hammer,-The\n",
      "index 0 is out of bounds for axis 0 with size 0 How-to-Train-Your-Dragon\n",
      "index 0 is out of bounds for axis 0 with size 0 How-to-Train-Your-Dragon-2\n",
      "index 0 is out of bounds for axis 0 with size 0 I,-Robot\n",
      "index 0 is out of bounds for axis 0 with size 0 Indiana-Jones-and-the-Raiders-of-the-Lost-Ark\n",
      "index 0 is out of bounds for axis 0 with size 0 Indiana-Jones-and-the-Temple-of-Doom\n",
      "invalid type comparison Informant,-The\n",
      "invalid type comparison Jacket,-The\n",
      "invalid type comparison Jason-X\n",
      "invalid type comparison Jimmy-and-Judy\n",
      "invalid type comparison Kafka\n",
      "invalid type comparison Killing-Zoe\n",
      "invalid type comparison King-of-Comedy,-The\n",
      "index 0 is out of bounds for axis 0 with size 0 Kundun\n",
      "invalid type comparison Kung-Fu-Panda\n",
      "[Errno 2] No such file or directory: './imsdb/L.txt' L\n",
      "invalid type comparison Labyrinth\n",
      "invalid type comparison Ladykillers,-The\n",
      "index 0 is out of bounds for axis 0 with size 0 Last-Flight,-The\n",
      "invalid type comparison Last-of-the-Mohicans,-The\n",
      "index 0 is out of bounds for axis 0 with size 0 Last-Samurai,-The\n",
      "index 0 is out of bounds for axis 0 with size 0 Leaving-Las-Vegas\n",
      "index 0 is out of bounds for axis 0 with size 0 Legend\n",
      "index 0 is out of bounds for axis 0 with size 0 Leviathan\n",
      "index 0 is out of bounds for axis 0 with size 0 Life-of-Pi\n",
      "index 0 is out of bounds for axis 0 with size 0 Little-Mermaid,-The\n",
      "invalid type comparison Lock,-Stock-and-Two-Smoking-Barrels\n",
      "index 0 is out of bounds for axis 0 with size 0 Lord-of-the-Rings-Fellowship-of-the-Ring,-The\n",
      "index 0 is out of bounds for axis 0 with size 0 Lord-of-the-Rings-Return-of-the-King\n",
      "invalid type comparison Lord-of-the-Rings-The-Two-Towers\n",
      "index 0 is out of bounds for axis 0 with size 0 Losers,-The\n",
      "invalid type comparison Machete\n",
      "index 0 is out of bounds for axis 0 with size 0 Mariachi,-El\n",
      "invalid type comparison Mary-Poppins\n",
      "invalid type comparison Matrix,-The\n",
      "index 0 is out of bounds for axis 0 with size 0 Metro\n",
      "index 0 is out of bounds for axis 0 with size 0 Mission-Impossible-II\n",
      "[Errno 2] No such file or directory: './imsdb/Mrs.txt' Mrs\n",
      "index 0 is out of bounds for axis 0 with size 0 Mulan\n",
      "invalid type comparison Mumford\n",
      "index 0 is out of bounds for axis 0 with size 0 Mummy,-The\n",
      "invalid type comparison Mystery-Men\n",
      "invalid type comparison Nashville\n",
      "index 0 is out of bounds for axis 0 with size 0 Neverending-Story,-The\n",
      "index 0 is out of bounds for axis 0 with size 0 New-York-Minute\n",
      "index 0 is out of bounds for axis 0 with size 0 Night-Time-(The-Poltergeist-Treatment)\n",
      "index 0 is out of bounds for axis 0 with size 0 Nightbreed\n",
      "index 0 is out of bounds for axis 0 with size 0 Ninja-Assassin\n",
      "index 0 is out of bounds for axis 0 with size 0 Ninth-Gate,-The\n",
      "index 0 is out of bounds for axis 0 with size 0 Passion-of-Joan-of-Arc,-The\n",
      "invalid type comparison Pianist,-The\n",
      "index 0 is out of bounds for axis 0 with size 0 Planet-of-the-Apes,-The\n",
      "index 0 is out of bounds for axis 0 with size 0 Point-Break\n",
      "invalid type comparison Precious\n",
      "invalid type comparison Producer,-The\n",
      "index 0 is out of bounds for axis 0 with size 0 Prometheus\n",
      "invalid type comparison Public-Enemies\n",
      "index 0 is out of bounds for axis 0 with size 0 Rambo-First-Blood-II-The-Mission\n",
      "index 0 is out of bounds for axis 0 with size 0 Red-Planet\n",
      "index 0 is out of bounds for axis 0 with size 0 Rescuers-Down-Under,-The\n",
      "invalid type comparison Reservoir-Dogs\n",
      "index 0 is out of bounds for axis 0 with size 0 Revenant,-The\n",
      "index 0 is out of bounds for axis 0 with size 0 Ringu\n",
      "index 0 is out of bounds for axis 0 with size 0 Road,-The\n",
      "invalid type comparison RocknRolla\n",
      "[Errno 2] No such file or directory: './imsdb/S.txt' S\n",
      "index 0 is out of bounds for axis 0 with size 0 Sandlot-Kids,-The\n",
      "[Errno 2] No such file or directory: './imsdb/Saving-Mr.txt' Saving-Mr\n",
      "invalid type comparison Saving-Private-Ryan\n",
      "index 0 is out of bounds for axis 0 with size 0 Seventh-Seal,-The\n",
      "invalid type comparison Sherlock-Holmes\n",
      "invalid type comparison Shifty\n",
      "invalid type comparison Shipping-News,-The\n",
      "invalid type comparison Slumdog-Millionaire\n",
      "index 0 is out of bounds for axis 0 with size 0 Solaris\n",
      "[Errno 2] No such file or directory: './imsdb/St.txt' St\n",
      "invalid type comparison Star-Trek-Generations\n",
      "index 0 is out of bounds for axis 0 with size 0 Star-Trek-Nemesis\n",
      "index 0 is out of bounds for axis 0 with size 0 Star-Trek-The-Motion-Picture\n"
     ]
    },
    {
     "name": "stdout",
     "output_type": "stream",
     "text": [
      "invalid type comparison Star-Wars-Attack-of-the-Clones\n",
      "index 0 is out of bounds for axis 0 with size 0 Star-Wars-Revenge-of-the-Sith\n",
      "index 0 is out of bounds for axis 0 with size 0 Star-Wars-The-Phantom-Menace\n",
      "index 0 is out of bounds for axis 0 with size 0 Station-West\n",
      "invalid type comparison Sting,-The\n",
      "invalid type comparison Storytelling\n",
      "[Errno 2] No such file or directory: './imsdb/Sunset-Blvd.txt' Sunset-Blvd\n",
      "invalid type comparison Suspect-Zero\n",
      "invalid type comparison Swordfish\n",
      "index 0 is out of bounds for axis 0 with size 0 Taking-Lives\n",
      "invalid type comparison Taking-of-Pelham-One-Two-Three,-The\n",
      "[Errno 2] No such file or directory: './imsdb/Talented-Mr.txt' Talented-Mr\n",
      "index 0 is out of bounds for axis 0 with size 0 Thing,-The\n",
      "index 0 is out of bounds for axis 0 with size 0 Three-Kings-(Spoils-of-War)\n",
      "index 0 is out of bounds for axis 0 with size 0 Time-Machine,-The\n",
      "invalid type comparison Tinker-Tailor-Soldier-Spy\n",
      "invalid type comparison Tomorrow-Never-Dies\n",
      "invalid type comparison Top-Gun\n",
      "invalid type comparison Traffic\n",
      "index 0 is out of bounds for axis 0 with size 0 Transformers-The-Movie\n",
      "index 0 is out of bounds for axis 0 with size 0 Tropic-Thunder\n",
      "invalid type comparison Twin-Peaks\n",
      "index 0 is out of bounds for axis 0 with size 0 Usual-Suspects,-The\n",
      "invalid type comparison V-for-Vendetta\n",
      "invalid type comparison Valkyrie\n",
      "index 0 is out of bounds for axis 0 with size 0 Village,-The\n",
      "invalid type comparison War-Horse\n",
      "invalid type comparison White-Jazz\n",
      "index 0 is out of bounds for axis 0 with size 0 White-Ribbon,-The\n",
      "invalid type comparison Wild-Bunch,-The\n",
      "index 0 is out of bounds for axis 0 with size 0 Withnail-and-I\n",
      "invalid type comparison World-is-not-Enough,-The\n",
      "index 0 is out of bounds for axis 0 with size 0 X-Files-Fight-the-Future,-The\n",
      "invalid type comparison xXx\n"
     ]
    }
   ],
   "source": [
    "characters=[]\n",
    "for n in name:\n",
    "    try:\n",
    "        f = open('./imsdb/'+n+'.txt',\"r\")\n",
    "        rawtext = f.read()\n",
    "        f.close()\n",
    "        lines = get_maintext_lines_script(rawtext)\n",
    "        lines1=[]\n",
    "        for i in range(len(lines)-1):\n",
    "            if (0<len(tknzr.tokenize(lines[i]))<4):\n",
    "                if (tknzr.tokenize(lines[i])[-1][-1] not in string.punctuation) & (len(tknzr.tokenize(lines[i]))>0):\n",
    "                    if lines[i+1]!='':\n",
    "                        lines1.append(lines[i]+'\\n\\n')\n",
    "                    else:\n",
    "                        lines1.append(lines[i])\n",
    "            else:\n",
    "                lines1.append(lines[i])\n",
    "        chunked = chunkify(lines1)\n",
    "        lead_role=[]\n",
    "        for i,c in enumerate(chunked):\n",
    "            t=[i.lower() for i in tknzr.tokenize(c)]\n",
    "            if (t[-1][-1] not in string.punctuation) & (len(t)<4):\n",
    "                lead_role.extend(t)\n",
    "        lead,lead_gender,lead1=main_character(lead_role)\n",
    "        common=[]\n",
    "        for i,c in enumerate(chunked):\n",
    "            t=[i.lower() for i in tknzr.tokenize(c)]\n",
    "            if t[-1][-1] in string.punctuation:\n",
    "                if (lead.lower() in t)&(lead1.lower() in t):\n",
    "                    common.append(i)\n",
    "        \n",
    "        common1=[]\n",
    "        for i,c in enumerate(chunked):\n",
    "            t=[i.lower() for i in tknzr.tokenize(c)]\n",
    "            if t[-1][-1] not in string.punctuation:\n",
    "                common1.append([i,t])\n",
    "                \n",
    "        a=[]\n",
    "        t=4\n",
    "        for i in range(1,len(common1)-1):\n",
    "            if (lead.lower() in common1[i][1])&(lead1.lower() in common1[i-1][1]):\n",
    "                if (common1[i+1][0]-common1[i][0])<t: #4 is a threshold of dialoge length\n",
    "                    a.extend([j for j in range(common1[i-1][0],common1[i+1][0])])\n",
    "                else:\n",
    "                    a.extend([j for j in range(common1[i-1][0],common1[i][0]+t)])\n",
    "            if (lead.lower() in common1[i-1][1])&(lead1.lower() in common1[i][1]):\n",
    "                if (common1[i+1][0]-common1[i][0])<t: #4 is a threshold of dialoge length\n",
    "                    a.extend([j for j in range(common1[i-1][0],common1[i+1][0])])\n",
    "                else:\n",
    "                    a.extend([j for j in range(common1[i-1][0],common1[i][0]+t)])\n",
    "            if (lead.lower() in common1[i][1])&(lead1.lower() in common1[i][1]):\n",
    "                a.extend([common1[i][0]])\n",
    "        a=a+common\n",
    "        a=sorted(list(set(a)))\n",
    "        \n",
    "        d=pd.DataFrame()\n",
    "        d['sentence']=chunked\n",
    "        d['index']=d.index\n",
    "        d['tp']=d['index'].apply(lambda x: 'yes' if x in a else np.nan)\n",
    "        d['include']=d['sentence'].apply(lambda x: 'no' if ([i.lower() for i in tknzr.tokenize(x)][-1][-1] \\\n",
    "                        not in string.punctuation) & (len([i.lower() for i in tknzr.tokenize(x)])<6) else 'yes')    \n",
    "        d=d[d['include']=='yes']\n",
    "        d=d.reset_index(drop=False)\n",
    "        tp=d[d['tp']=='yes'].index\n",
    "        d['emotion']=d['sentence'].apply(lambda x: word_to_emotion(x))\n",
    "        w=d['emotion'].values\n",
    "        w=[0 if np.isnan(i)==True else i for i in w]\n",
    "        characters.append([n,lead,lead_gender,lead1,tp,w])\n",
    "    except Exception as e:\n",
    "        print(e,n)\n",
    "        pass"
   ]
  },
  {
   "cell_type": "code",
   "execution_count": 436,
   "metadata": {},
   "outputs": [
    {
     "data": {
      "text/plain": [
       "915"
      ]
     },
     "execution_count": 436,
     "metadata": {},
     "output_type": "execute_result"
    }
   ],
   "source": [
    "len(characters)"
   ]
  },
  {
   "cell_type": "code",
   "execution_count": 466,
   "metadata": {
    "collapsed": true
   },
   "outputs": [],
   "source": [
    "file=[i[0] for i in characters]\n",
    "emotion=[i[-1] for i in characters]\n",
    "tp=[i[-2].values for i in characters]\n",
    "character=[i[1:4] for i in characters]\n",
    "\n",
    "diction1=dict(zip(file,tp))\n",
    "diction2=dict(zip(file,emotion))\n",
    "diction3=dict(zip(file,character))\n",
    "\n",
    "movie_type['tp']=movie_type['name'].apply(lambda x: diction1[x] if x in diction1 else np.nan)\n",
    "movie_type['emotion']=movie_type['name'].apply(lambda x: diction2[x] if x in diction2 else np.nan)\n",
    "movie_type['character']=movie_type['name'].apply(lambda x: diction3[x] if x in diction3 else np.nan)\n",
    "\n",
    "movie_type.to_csv('./movie_type_e2.csv',index=False)"
   ]
  },
  {
   "cell_type": "code",
   "execution_count": 13,
   "metadata": {
    "collapsed": true
   },
   "outputs": [],
   "source": [
    "movie_type=pd.read_csv('./movie_type_e2.csv')"
   ]
  },
  {
   "cell_type": "code",
   "execution_count": 14,
   "metadata": {
    "scrolled": false
   },
   "outputs": [
    {
     "data": {
      "text/plain": [
       "915"
      ]
     },
     "execution_count": 14,
     "metadata": {},
     "output_type": "execute_result"
    }
   ],
   "source": [
    "len(movie_type)"
   ]
  },
  {
   "cell_type": "code",
   "execution_count": 15,
   "metadata": {
    "collapsed": true
   },
   "outputs": [],
   "source": [
    "def tp_eval(x):\n",
    "    try:\n",
    "        if type(x)==str:\n",
    "            return [eval(i) for i in x.replace('\\n','').replace('[','').replace(']','').split(' ') if i!='']\n",
    "        else:\n",
    "            return [i for i in x.replace('\\n','').replace('[','').replace(']','').split(' ') if i!='']\n",
    "    except:\n",
    "        return x"
   ]
  },
  {
   "cell_type": "code",
   "execution_count": 16,
   "metadata": {
    "collapsed": true
   },
   "outputs": [],
   "source": [
    "movie_type['tp']=movie_type['tp'].apply(lambda x: tp_eval(x))"
   ]
  },
  {
   "cell_type": "code",
   "execution_count": 17,
   "metadata": {
    "collapsed": true
   },
   "outputs": [],
   "source": [
    "def eval_(x):\n",
    "    try:\n",
    "        return eval(x)\n",
    "    except:\n",
    "        return np.nan\n",
    "        pass\n",
    "\n",
    "# movie_type['tp']=movie_type['tp'].apply(lambda x: eval_(x))\n",
    "\n",
    "movie_type['emotion']=movie_type['emotion'].apply(lambda x: eval_(x))"
   ]
  },
  {
   "cell_type": "code",
   "execution_count": 18,
   "metadata": {
    "collapsed": true,
    "scrolled": true
   },
   "outputs": [],
   "source": [
    "movie_type['character']=movie_type['character'].apply(lambda x: eval_(x))"
   ]
  },
  {
   "cell_type": "code",
   "execution_count": 19,
   "metadata": {
    "collapsed": true
   },
   "outputs": [],
   "source": [
    "movie_type['lead_gender']=movie_type['character'].apply(lambda x: x[1] if type(x)==list else np.nan)"
   ]
  },
  {
   "cell_type": "code",
   "execution_count": 20,
   "metadata": {
    "collapsed": true
   },
   "outputs": [],
   "source": [
    "movie_type=movie_type.dropna(axis=0,how='any',subset=['lead_gender','tp','emotion'])"
   ]
  },
  {
   "cell_type": "code",
   "execution_count": 21,
   "metadata": {
    "scrolled": true
   },
   "outputs": [
    {
     "data": {
      "text/plain": [
       "915"
      ]
     },
     "execution_count": 21,
     "metadata": {},
     "output_type": "execute_result"
    }
   ],
   "source": [
    "len(movie_type)"
   ]
  },
  {
   "cell_type": "code",
   "execution_count": 22,
   "metadata": {
    "collapsed": true
   },
   "outputs": [],
   "source": [
    "# movie_type.to_csv('./movie_long.csv',index=False)"
   ]
  },
  {
   "cell_type": "code",
   "execution_count": 23,
   "metadata": {},
   "outputs": [
    {
     "data": {
      "text/plain": [
       "'Celeste'"
      ]
     },
     "execution_count": 23,
     "metadata": {},
     "output_type": "execute_result"
    }
   ],
   "source": [
    "movie_type['lead_gender'].values[0]"
   ]
  },
  {
   "cell_type": "code",
   "execution_count": null,
   "metadata": {
    "collapsed": true
   },
   "outputs": [],
   "source": []
  },
  {
   "cell_type": "markdown",
   "metadata": {},
   "source": [
    "### acompany"
   ]
  },
  {
   "cell_type": "code",
   "execution_count": 30,
   "metadata": {
    "ExecuteTime": {
     "end_time": "2019-06-14T03:09:56.057379Z",
     "start_time": "2019-06-14T03:09:55.232464Z"
    }
   },
   "outputs": [],
   "source": [
    "movie_type=pd.read_csv('./movie_type_e2.csv')"
   ]
  },
  {
   "cell_type": "code",
   "execution_count": 31,
   "metadata": {
    "ExecuteTime": {
     "end_time": "2019-06-14T03:09:58.222663Z",
     "start_time": "2019-06-14T03:09:56.059343Z"
    }
   },
   "outputs": [],
   "source": [
    "def eval_(x):\n",
    "    try:\n",
    "        return eval(x)\n",
    "    except:\n",
    "        return np.nan\n",
    "        pass\n",
    "\n",
    "movie_type['tp']=movie_type['tp'].apply(lambda x: eval_(x))\n",
    "movie_type['character']=movie_type['character'].apply(lambda x: eval_(x))\n",
    "movie_type['emotion']=movie_type['emotion'].apply(lambda x: eval_(x))"
   ]
  },
  {
   "cell_type": "code",
   "execution_count": 32,
   "metadata": {
    "ExecuteTime": {
     "end_time": "2019-06-14T03:09:58.228307Z",
     "start_time": "2019-06-14T03:09:58.224446Z"
    }
   },
   "outputs": [],
   "source": [
    "movie_type['co_n']=movie_type['tp'].apply(lambda x: len(x))"
   ]
  },
  {
   "cell_type": "code",
   "execution_count": 33,
   "metadata": {
    "ExecuteTime": {
     "end_time": "2019-06-14T03:09:59.024213Z",
     "start_time": "2019-06-14T03:09:59.020438Z"
    }
   },
   "outputs": [],
   "source": [
    "movie_type['len_p']=movie_type['emotion'].apply(lambda x: len(x))"
   ]
  },
  {
   "cell_type": "code",
   "execution_count": 34,
   "metadata": {
    "ExecuteTime": {
     "end_time": "2019-06-14T03:10:01.179059Z",
     "start_time": "2019-06-14T03:10:01.175747Z"
    }
   },
   "outputs": [],
   "source": [
    "movie_type['prob']=movie_type['co_n']/movie_type['len_p']"
   ]
  },
  {
   "cell_type": "code",
   "execution_count": 106,
   "metadata": {
    "ExecuteTime": {
     "end_time": "2019-06-14T03:12:29.156445Z",
     "start_time": "2019-06-14T03:12:29.150004Z"
    }
   },
   "outputs": [],
   "source": [
    "movie_type1=movie_type[movie_type['co_n']>=11]"
   ]
  },
  {
   "cell_type": "code",
   "execution_count": 107,
   "metadata": {
    "ExecuteTime": {
     "end_time": "2019-06-14T03:12:29.449734Z",
     "start_time": "2019-06-14T03:12:29.440960Z"
    }
   },
   "outputs": [],
   "source": [
    "male=movie_type1[(movie_type1['lead_gender']=='male')]\n",
    "female=movie_type1[(movie_type1['lead_gender']=='female')]"
   ]
  },
  {
   "cell_type": "code",
   "execution_count": 108,
   "metadata": {
    "ExecuteTime": {
     "end_time": "2019-06-14T03:12:29.841126Z",
     "start_time": "2019-06-14T03:12:29.832761Z"
    }
   },
   "outputs": [
    {
     "data": {
      "text/plain": [
       "count    607.000000\n",
       "mean       0.105578\n",
       "std        0.085084\n",
       "min        0.005553\n",
       "25%        0.041276\n",
       "50%        0.085540\n",
       "75%        0.149515\n",
       "max        0.446908\n",
       "Name: prob, dtype: float64"
      ]
     },
     "execution_count": 108,
     "metadata": {},
     "output_type": "execute_result"
    }
   ],
   "source": [
    "male['prob'].describe()"
   ]
  },
  {
   "cell_type": "code",
   "execution_count": 109,
   "metadata": {
    "ExecuteTime": {
     "end_time": "2019-06-14T03:12:30.260931Z",
     "start_time": "2019-06-14T03:12:30.256043Z"
    }
   },
   "outputs": [
    {
     "data": {
      "text/plain": [
       "0.003453460450487416"
      ]
     },
     "execution_count": 109,
     "metadata": {},
     "output_type": "execute_result"
    }
   ],
   "source": [
    "male['prob'].sem()"
   ]
  },
  {
   "cell_type": "code",
   "execution_count": 110,
   "metadata": {
    "ExecuteTime": {
     "end_time": "2019-06-14T03:12:30.791804Z",
     "start_time": "2019-06-14T03:12:30.782350Z"
    }
   },
   "outputs": [
    {
     "data": {
      "text/plain": [
       "count    190.000000\n",
       "mean       0.119438\n",
       "std        0.095192\n",
       "min        0.006471\n",
       "25%        0.039829\n",
       "50%        0.094763\n",
       "75%        0.177963\n",
       "max        0.451299\n",
       "Name: prob, dtype: float64"
      ]
     },
     "execution_count": 110,
     "metadata": {},
     "output_type": "execute_result"
    }
   ],
   "source": [
    "female['prob'].describe()"
   ]
  },
  {
   "cell_type": "code",
   "execution_count": 111,
   "metadata": {
    "ExecuteTime": {
     "end_time": "2019-06-14T03:12:31.886126Z",
     "start_time": "2019-06-14T03:12:31.881658Z"
    }
   },
   "outputs": [
    {
     "data": {
      "text/plain": [
       "0.006905923456519293"
      ]
     },
     "execution_count": 111,
     "metadata": {},
     "output_type": "execute_result"
    }
   ],
   "source": [
    "female['prob'].sem()"
   ]
  },
  {
   "cell_type": "code",
   "execution_count": 112,
   "metadata": {
    "ExecuteTime": {
     "end_time": "2019-06-14T03:12:35.572306Z",
     "start_time": "2019-06-14T03:12:35.566164Z"
    }
   },
   "outputs": [
    {
     "data": {
      "text/plain": [
       "0.057349574963749546"
      ]
     },
     "execution_count": 112,
     "metadata": {},
     "output_type": "execute_result"
    }
   ],
   "source": [
    "v,p=stats.ttest_ind([i for i in male['prob'].values], [i for i in female['prob'].values])\n",
    "p"
   ]
  },
  {
   "cell_type": "code",
   "execution_count": 84,
   "metadata": {
    "ExecuteTime": {
     "end_time": "2019-06-14T03:11:47.062948Z",
     "start_time": "2019-06-14T03:11:47.057095Z"
    }
   },
   "outputs": [
    {
     "data": {
      "text/plain": [
       "912"
      ]
     },
     "execution_count": 84,
     "metadata": {},
     "output_type": "execute_result"
    }
   ],
   "source": [
    "len(movie_type)"
   ]
  },
  {
   "cell_type": "code",
   "execution_count": 675,
   "metadata": {
    "collapsed": true
   },
   "outputs": [],
   "source": [
    "def first_meeting(x,y):\n",
    "    try:\n",
    "        return x[y[0]-1]\n",
    "    except:\n",
    "        return np.nan"
   ]
  },
  {
   "cell_type": "code",
   "execution_count": 676,
   "metadata": {
    "collapsed": true
   },
   "outputs": [],
   "source": [
    "movie_type['first_meeting']=movie_type.apply(lambda row: first_meeting(row.cum_e,row.tp),axis=1)"
   ]
  },
  {
   "cell_type": "code",
   "execution_count": 678,
   "metadata": {
    "collapsed": true
   },
   "outputs": [],
   "source": [
    "movie_type=movie_type.dropna(axis=0,how='any',subset=['first_meeting'])"
   ]
  },
  {
   "cell_type": "code",
   "execution_count": 679,
   "metadata": {
    "collapsed": true
   },
   "outputs": [],
   "source": [
    "male=movie_type[(movie_type['lead_gender']=='male')]\n",
    "female=movie_type[(movie_type['lead_gender']=='female')]"
   ]
  },
  {
   "cell_type": "code",
   "execution_count": 684,
   "metadata": {
    "collapsed": true
   },
   "outputs": [],
   "source": [
    "male=movie_type[(movie_type['lead_gender']=='male')&movie_type['type'].str.contains('Romance')]\n",
    "female=movie_type[(movie_type['lead_gender']=='female')&movie_type['type'].str.contains('Romance')]"
   ]
  },
  {
   "cell_type": "code",
   "execution_count": 685,
   "metadata": {},
   "outputs": [
    {
     "data": {
      "text/plain": [
       "count    81.000000\n",
       "mean     -3.380332\n",
       "std      18.823124\n",
       "min     -68.650092\n",
       "25%     -10.020354\n",
       "50%      -2.483307\n",
       "75%       2.336963\n",
       "max      54.436297\n",
       "Name: first_meeting, dtype: float64"
      ]
     },
     "execution_count": 685,
     "metadata": {},
     "output_type": "execute_result"
    }
   ],
   "source": [
    "male['first_meeting'].describe()"
   ]
  },
  {
   "cell_type": "code",
   "execution_count": 686,
   "metadata": {},
   "outputs": [
    {
     "data": {
      "text/plain": [
       "count    49.000000\n",
       "mean     -3.725187\n",
       "std      26.302315\n",
       "min     -89.720115\n",
       "25%     -13.314656\n",
       "50%      -4.142785\n",
       "75%       9.862794\n",
       "max      76.140776\n",
       "Name: first_meeting, dtype: float64"
      ]
     },
     "execution_count": 686,
     "metadata": {},
     "output_type": "execute_result"
    }
   ],
   "source": [
    "female['first_meeting'].describe()"
   ]
  },
  {
   "cell_type": "code",
   "execution_count": 687,
   "metadata": {},
   "outputs": [
    {
     "data": {
      "text/plain": [
       "(0.08689389630619679, 0.9308916375336826)"
      ]
     },
     "execution_count": 687,
     "metadata": {},
     "output_type": "execute_result"
    }
   ],
   "source": [
    "v,p=stats.ttest_ind([i for i in male['first_meeting'].values], [i for i in female['first_meeting'].values])\n",
    "v,p"
   ]
  },
  {
   "cell_type": "code",
   "execution_count": null,
   "metadata": {
    "collapsed": true
   },
   "outputs": [],
   "source": []
  },
  {
   "cell_type": "code",
   "execution_count": 45,
   "metadata": {
    "collapsed": true
   },
   "outputs": [],
   "source": [
    "movie_type['cum_e']=movie_type['emotion'].apply(lambda x: np.cumsum(normalized(x)))"
   ]
  },
  {
   "cell_type": "code",
   "execution_count": 629,
   "metadata": {
    "collapsed": true
   },
   "outputs": [],
   "source": [
    "# movie_type['cum_e']=movie_type['cum_e'].apply(lambda x:normalization(x))"
   ]
  },
  {
   "cell_type": "code",
   "execution_count": 46,
   "metadata": {
    "collapsed": true
   },
   "outputs": [],
   "source": [
    "def smooth(x):\n",
    "    a=0.3\n",
    "    t=[int(len(x)*a)+1 if int(len(x)*a)%2==0 else int(len(x)*a)][0]\n",
    "    p=[2 if t>2 else 0][0]\n",
    "    return savgol_filter(x, t, p)"
   ]
  },
  {
   "cell_type": "code",
   "execution_count": 47,
   "metadata": {
    "scrolled": true
   },
   "outputs": [
    {
     "name": "stderr",
     "output_type": "stream",
     "text": [
      "/home/sysadmin/anaconda3/lib/python3.6/site-packages/scipy/signal/_arraytools.py:45: FutureWarning: Using a non-tuple sequence for multidimensional indexing is deprecated; use `arr[tuple(seq)]` instead of `arr[seq]`. In the future this will be interpreted as an array index, `arr[np.array(seq)]`, which will result either in an error or a different result.\n",
      "  b = a[a_slice]\n"
     ]
    }
   ],
   "source": [
    "movie_type['smooth_cum_e']=movie_type['cum_e'].apply(lambda x: smooth(x))"
   ]
  },
  {
   "cell_type": "code",
   "execution_count": 632,
   "metadata": {
    "collapsed": true
   },
   "outputs": [],
   "source": [
    "# movie_type['norm_len']=movie_type['len_p'].apply(lambda x:normalization(range(int(x))))"
   ]
  },
  {
   "cell_type": "code",
   "execution_count": 48,
   "metadata": {
    "collapsed": true
   },
   "outputs": [],
   "source": [
    "def is_arithmetic(l): \n",
    "    if len(l)==1:\n",
    "        return True\n",
    "    else:\n",
    "        delta = l[1] - l[0]  \n",
    "        for index in range(len(l) - 1):  \n",
    "            if not (np.sign(l[index + 1] - l[index]) == np.sign(delta)):  \n",
    "                 return False  \n",
    "    return True  "
   ]
  },
  {
   "cell_type": "code",
   "execution_count": 49,
   "metadata": {
    "collapsed": true
   },
   "outputs": [],
   "source": [
    "def extreme_v(nums):\n",
    "    peaks = []\n",
    "    troughs = []\n",
    "    t=0\n",
    "    num1=[i[0] for i in nums]\n",
    "    num2=[i[1] for i in nums]\n",
    "    for idx in range(1, len(num1)-1):\n",
    "        if num2[idx-1]+t < num2[idx] > num2[idx+1]+t:\n",
    "            peaks.append([num1[idx],num2[idx]])\n",
    "        if num2[idx-1] > num2[idx]+t < num2[idx+1]:\n",
    "            troughs.append([num1[idx],num2[idx]])\n",
    "    a=sorted(peaks+troughs,key=lambda x: x[0])\n",
    "    a=[nums[0]]+a+[nums[-1]]\n",
    "    b=[a[i+1] for i in range(1,len(a)-1) if (a[i+1][0]-a[i][0]==1)&(abs(a[i+1][1]-a[i][1])<t)]\n",
    "    a=[i for i in a if i not in b]\n",
    "#     print(a)\n",
    "    return a"
   ]
  },
  {
   "cell_type": "code",
   "execution_count": 50,
   "metadata": {
    "collapsed": true
   },
   "outputs": [],
   "source": [
    "def t_p(nums):\n",
    "    try:\n",
    "        peaks = []\n",
    "        troughs = []\n",
    "        for idx in range(1, len(nums)-1):\n",
    "            if nums[idx-1] < nums[idx] > nums[idx+1]:\n",
    "                peaks.append(idx)\n",
    "            if nums[idx-1] > nums[idx] < nums[idx+1]:\n",
    "                troughs.append(idx)\n",
    "        if len(peaks)<len(troughs):\n",
    "            peaks=peaks+[len(nums)-1]\n",
    "        elif len(peaks)>len(troughs):\n",
    "            troughs=[0]+troughs\n",
    "        else:\n",
    "            if peaks[0]<troughs[0]:\n",
    "                peaks=peaks+[len(nums)-1]\n",
    "                troughs=[0]+troughs\n",
    "        a=[[i,nums[i]] for i in troughs]\n",
    "        b=[[i,nums[i]] for i in peaks]\n",
    "        c=[i for i in list(zip(a,b))]\n",
    "        return c\n",
    "    except  Exception as e:\n",
    "        return np.nan\n",
    "        pass"
   ]
  },
  {
   "cell_type": "code",
   "execution_count": 51,
   "metadata": {
    "collapsed": true
   },
   "outputs": [],
   "source": [
    "movie_type['t_p']=movie_type['smooth_cum_e'].apply(lambda x: t_p(x))"
   ]
  },
  {
   "cell_type": "code",
   "execution_count": 52,
   "metadata": {
    "collapsed": true
   },
   "outputs": [],
   "source": [
    "def tp_e(cum_e,tp):\n",
    "    try:\n",
    "        tp_e=[[i,cum_e[i]] for i in tp]\n",
    "        return tp_e\n",
    "    except Exception as e:\n",
    "        print(type(tp))\n",
    "        print(tp)\n",
    "        print(e)\n",
    "        return np.nan"
   ]
  },
  {
   "cell_type": "code",
   "execution_count": 53,
   "metadata": {
    "collapsed": true
   },
   "outputs": [],
   "source": [
    "movie_type['tp_e']=movie_type.apply(lambda row: tp_e(row.cum_e,row.tp),axis=1)"
   ]
  },
  {
   "cell_type": "code",
   "execution_count": 54,
   "metadata": {
    "collapsed": true
   },
   "outputs": [],
   "source": [
    "def tp_c(tp_e,w): #non-normalize\n",
    "    try:\n",
    "        a=[]\n",
    "        for i in range(len(tp_e)-1):\n",
    "            if (tp_e[i+1][0]-tp_e[i][0])>len(w)/15:\n",
    "                a.append(i+1)\n",
    "\n",
    "        a=[0]+a+[len(tp_e)]\n",
    "\n",
    "        b=[]\n",
    "        for i in range(len(a)-1):\n",
    "            if is_arithmetic([i[1] for i in tp_e[a[i]:a[i+1]]])==True:\n",
    "                b.append(tp_e[a[i]:a[i+1]])\n",
    "            else:\n",
    "                extreme=extreme_v(tp_e[a[i]:a[i+1]])\n",
    "                index=[tp_e.index(i) for i in extreme]\n",
    "        #         print([i[0] for i in extreme])\n",
    "                q=index[0]\n",
    "                for j in range(1,len(index)-1):\n",
    "                    if (tp_e[index[j]][0]-tp_e[index[j]-1][0])>=(tp_e[index[j]+1][0]-tp_e[index[j]][0]):\n",
    "                        b.append(tp_e[q:index[j]])\n",
    "                        q=index[j]\n",
    "                    else:\n",
    "                        b.append(tp_e[q:index[j]+1])\n",
    "                        q=index[j]+1\n",
    "                b.append(tp_e[q:index[-1]+1])\n",
    "\n",
    "        b=[i for i in b if len(i)!=0]\n",
    "\n",
    "        for i in range(len(b)-1):\n",
    "            if (len(b[i])==1)&(b[i+1][0][0]-b[i][0][0]==1):\n",
    "                b[i+1]=b[i]+b[i+1]\n",
    "                b[i]=[]\n",
    "        b=[i for i in b if len(i)!=0]\n",
    "        if len(b)>1:\n",
    "            if (len(b[-1])==1)&(b[-1][0][0]-b[-2][-1][0]==1):\n",
    "                b[-2]=b[-2]+b[-1]\n",
    "                b[-1]=[]\n",
    "            b=[i for i in b if len(i)!=0]\n",
    "        return b\n",
    "        \n",
    "    except Exception as e:\n",
    "        return np.nan\n",
    "        pass"
   ]
  },
  {
   "cell_type": "code",
   "execution_count": 55,
   "metadata": {
    "collapsed": true
   },
   "outputs": [],
   "source": [
    "movie_type['tp_c']=movie_type.apply(lambda row: tp_c(row.tp_e,row.emotion),axis=1)"
   ]
  },
  {
   "cell_type": "code",
   "execution_count": 56,
   "metadata": {
    "collapsed": true
   },
   "outputs": [],
   "source": [
    "def k(b):\n",
    "    try:\n",
    "        a=[]\n",
    "        for i in b:\n",
    "            if len(i)==0:\n",
    "                continue\n",
    "            if len(i)==1:\n",
    "                a.append([0,1])\n",
    "            if len(i)>1:\n",
    "                x=[j[0] for j in i] #non_normalize\n",
    "                y=[j[1] for j in i] #non_normalize\n",
    "                poly = np.polyfit(x,y,deg=1)\n",
    "                a.append([poly[0],[x[0],x[-1]]])\n",
    "#                 a.append([poly[0],len(x)]) #number\n",
    "#                 a.append([poly[0],x[-1]-x[0]]) #length\n",
    "#                 a.append(poly[0])\n",
    "        return a\n",
    "    except Exception as e:\n",
    "        return np.nan\n",
    "        pass\n",
    "movie_type['k']=movie_type['tp_c'].apply(lambda x: k(x))"
   ]
  },
  {
   "cell_type": "code",
   "execution_count": 58,
   "metadata": {
    "collapsed": true
   },
   "outputs": [],
   "source": [
    "movie_type=movie_type.dropna(axis=0,how='any',subset=['k'])"
   ]
  },
  {
   "cell_type": "code",
   "execution_count": 59,
   "metadata": {
    "collapsed": true
   },
   "outputs": [],
   "source": [
    "def up(x):\n",
    "    b=[]\n",
    "    for i in x:\n",
    "        b.extend(range(i[0],i[1]+1))\n",
    "    return b"
   ]
  },
  {
   "cell_type": "code",
   "execution_count": 60,
   "metadata": {
    "collapsed": true
   },
   "outputs": [],
   "source": [
    "movie_type['up']=movie_type['k'].apply(lambda x: [i[1] for i in x if i[0]>0])"
   ]
  },
  {
   "cell_type": "code",
   "execution_count": 61,
   "metadata": {
    "collapsed": true
   },
   "outputs": [],
   "source": [
    "movie_type['up']=movie_type['up'].apply(lambda x: up(x))"
   ]
  },
  {
   "cell_type": "code",
   "execution_count": 63,
   "metadata": {
    "collapsed": true
   },
   "outputs": [],
   "source": [
    "movie_type.to_csv('./movie_type_e2.csv',index=False)"
   ]
  },
  {
   "cell_type": "code",
   "execution_count": 642,
   "metadata": {
    "collapsed": true
   },
   "outputs": [],
   "source": [
    "# def k(b,l):\n",
    "#     try:\n",
    "#         a=[]\n",
    "#         for i in b:\n",
    "#             if len(i)==0:\n",
    "#                 continue\n",
    "#             if len(i)==1:\n",
    "#                 a.append([0,(l[-1]-l[-2])/2])\n",
    "#             if len(i)>1:\n",
    "#                 x=[l[j[0]] for j in i] #normalize\n",
    "#                 y=[j[1] for j in i] \n",
    "#                 poly = np.polyfit(x,y,deg=1)\n",
    "# #                 a.append([poly[0],len(x)]) #number\n",
    "#                 a.append([poly[0],x[-1]-x[0]]) #length\n",
    "# #                 a.append(poly[0])\n",
    "#         return a\n",
    "#     except Exception as e:\n",
    "# #         print(e)\n",
    "#         return np.nan\n",
    "#         pass\n",
    "\n",
    "# movie_type['k']=movie_type.apply(lambda row: k(row.tp_c,row.norm_len),axis=1)"
   ]
  },
  {
   "cell_type": "code",
   "execution_count": 643,
   "metadata": {
    "collapsed": true
   },
   "outputs": [],
   "source": [
    "movie_type1=movie_type.dropna(axis=0,how='any',subset=['k'])"
   ]
  },
  {
   "cell_type": "code",
   "execution_count": 644,
   "metadata": {},
   "outputs": [
    {
     "data": {
      "text/plain": [
       "913"
      ]
     },
     "execution_count": 644,
     "metadata": {},
     "output_type": "execute_result"
    }
   ],
   "source": [
    "len(movie_type1)"
   ]
  },
  {
   "cell_type": "code",
   "execution_count": 645,
   "metadata": {
    "collapsed": true
   },
   "outputs": [],
   "source": [
    "def max_(x):\n",
    "    try:\n",
    "        return np.max([i[0]*i[1] for i in x if i[0]>0])\n",
    "#         return np.max([i[0] for i in x if i[0]>0])\n",
    "    except:\n",
    "        return 0\n",
    "        \n",
    "def min_(x):\n",
    "    try:\n",
    "        return np.min([i[0]*i[1] for i in x if i[0]<0])\n",
    "#         return np.min([i[0] for i in x if i[0]<0])\n",
    "    except:\n",
    "        return 0"
   ]
  },
  {
   "cell_type": "code",
   "execution_count": 669,
   "metadata": {
    "scrolled": true
   },
   "outputs": [
    {
     "name": "stderr",
     "output_type": "stream",
     "text": [
      "/home/sysadmin/anaconda3/lib/python3.6/site-packages/ipykernel_launcher.py:5: SettingWithCopyWarning: \n",
      "A value is trying to be set on a copy of a slice from a DataFrame.\n",
      "Try using .loc[row_indexer,col_indexer] = value instead\n",
      "\n",
      "See the caveats in the documentation: http://pandas.pydata.org/pandas-docs/stable/indexing.html#indexing-view-versus-copy\n",
      "  \"\"\"\n",
      "/home/sysadmin/anaconda3/lib/python3.6/site-packages/ipykernel_launcher.py:6: SettingWithCopyWarning: \n",
      "A value is trying to be set on a copy of a slice from a DataFrame.\n",
      "Try using .loc[row_indexer,col_indexer] = value instead\n",
      "\n",
      "See the caveats in the documentation: http://pandas.pydata.org/pandas-docs/stable/indexing.html#indexing-view-versus-copy\n",
      "  \n"
     ]
    }
   ],
   "source": [
    "# IMDB1['trend']=IMDB1['k'].apply(lambda x: [i[0]*i[1] for i in x if i!=0])\n",
    "# IMDB1['trend']=IMDB1['k'].apply(lambda x: x[0][0]*x[0][1])\n",
    "# IMDB1['trend']=IMDB1['k'].apply(lambda x: np.sum([i[0]*i[1] for i in x if i!=0])/np.sum([i[1] for i in x if i!=0]))\n",
    "# movie_type1['trend']=movie_type1['k'].apply(lambda x: np.sum([i[0]*i[1] for i in x if i!=0])/len(x))\n",
    "movie_type1['trend']=movie_type1['k'].apply(lambda x: max_(x))\n",
    "movie_type1['trend1']=movie_type1['k'].apply(lambda x: min_(x))\n",
    "# IMDB1['trend']=IMDB1['k'].apply(lambda x: np.sum([abs(i[0]*i[1]) for i in x])/np.sum([i[1] for i in x]))\n",
    "# IMDB1['trend1']=IMDB1['k'].apply(lambda x: np.sum([abs(i[0]*i[1]) for i in x if i[0]>0])/np.sum([i[1] for i in x if i[0]>0]))\n",
    "# IMDB1['trend2']=IMDB1['k'].apply(lambda x: np.sum([abs(i[0]*i[1]) for i in x if i[0]<0])/np.sum([i[1] for i in x if i[0]<0]))\n",
    "# movie_type1['trend']=movie_type1['k'].apply(lambda x: np.sum([abs(i[0]*i[1]) for i in x])/len([i[1] for i in x]))\n",
    "# movie_type1['K']=movie_type1['k'].apply(lambda x: np.std([i[0] for i in x]))\n",
    "# movie_type1['trend']=movie_type1['k'].apply(lambda x: np.sum([abs(i[0]) for i in x])/len([i for i in x]))\n",
    "# movie_type1['trend1']=movie_type1['k'].apply(lambda x: np.sum([abs(i[0]) for i in x if i[0]>0])/len([i for i in x if i[0]>0]))\n",
    "# movie_type1['trend2']=movie_type1['k'].apply(lambda x: np.sum([abs(i[0]) for i in x if i[0]<0])/len([i for i in x if i[0]<0]))\n",
    "# movie_type1['K']=movie_type1['k'].apply(lambda x: np.std([i[0]*i[1] for i in x]))\n",
    "# movie_type1['trend']=movie_type1['k'].apply(lambda x: np.sum([abs(i[0]*i[1]) for i in x])/len([i[1] for i in x]))\n",
    "# movie_type1['trend1']=movie_type1['k'].apply(lambda x: np.sum([abs(i[0]*i[1]) for i in x if i[0]>0])/len([i[1] for i in x if i[0]>0]))\n",
    "# movie_type1['trend2']=movie_type1['k'].apply(lambda x: np.sum([abs(i[0]*i[1]) for i in x if i[0]<0])/len([i[1] for i in x if i[0]<0]))"
   ]
  },
  {
   "cell_type": "code",
   "execution_count": 648,
   "metadata": {
    "collapsed": true
   },
   "outputs": [],
   "source": [
    "def biggest_p (x):\n",
    "    try:\n",
    "        a=[]\n",
    "        for i in x:\n",
    "            a.append(i[1][0]-i[0][0])\n",
    "        m=np.argmax(a)\n",
    "        return [x[m][0][0],x[m][1][0]]\n",
    "    except Exception as e:\n",
    "        return np.nan"
   ]
  },
  {
   "cell_type": "code",
   "execution_count": 649,
   "metadata": {
    "scrolled": true
   },
   "outputs": [
    {
     "name": "stderr",
     "output_type": "stream",
     "text": [
      "/home/sysadmin/anaconda3/lib/python3.6/site-packages/ipykernel_launcher.py:1: SettingWithCopyWarning: \n",
      "A value is trying to be set on a copy of a slice from a DataFrame.\n",
      "Try using .loc[row_indexer,col_indexer] = value instead\n",
      "\n",
      "See the caveats in the documentation: http://pandas.pydata.org/pandas-docs/stable/indexing.html#indexing-view-versus-copy\n",
      "  \"\"\"Entry point for launching an IPython kernel.\n"
     ]
    }
   ],
   "source": [
    "movie_type1['biggest_p']=movie_type1['t_p'].apply(lambda x:biggest_p(x))"
   ]
  },
  {
   "cell_type": "code",
   "execution_count": 650,
   "metadata": {
    "collapsed": true
   },
   "outputs": [],
   "source": [
    "def happy_p(x,y,z):\n",
    "    try:\n",
    "        c=[i[0][0] for i in z if len(i)==1]\n",
    "        a=x[0]\n",
    "        b=x[1]\n",
    "        return len([i for i in y if (a<i<=b) & (i not in c)])\n",
    "#         return len([i for i in y if a<i<b])/len(y)\n",
    "#         return len([i for i in y if a<=i<=b])\n",
    "    except:\n",
    "        return np.nan\n",
    "        pass"
   ]
  },
  {
   "cell_type": "code",
   "execution_count": 651,
   "metadata": {},
   "outputs": [
    {
     "name": "stderr",
     "output_type": "stream",
     "text": [
      "/home/sysadmin/anaconda3/lib/python3.6/site-packages/ipykernel_launcher.py:1: SettingWithCopyWarning: \n",
      "A value is trying to be set on a copy of a slice from a DataFrame.\n",
      "Try using .loc[row_indexer,col_indexer] = value instead\n",
      "\n",
      "See the caveats in the documentation: http://pandas.pydata.org/pandas-docs/stable/indexing.html#indexing-view-versus-copy\n",
      "  \"\"\"Entry point for launching an IPython kernel.\n"
     ]
    }
   ],
   "source": [
    "movie_type1['happy_p']=movie_type1.apply(lambda row: happy_p(row.biggest_p,row.tp,row.tp_c),axis=1)"
   ]
  },
  {
   "cell_type": "code",
   "execution_count": 652,
   "metadata": {},
   "outputs": [
    {
     "name": "stderr",
     "output_type": "stream",
     "text": [
      "/home/sysadmin/anaconda3/lib/python3.6/site-packages/ipykernel_launcher.py:1: SettingWithCopyWarning: \n",
      "A value is trying to be set on a copy of a slice from a DataFrame.\n",
      "Try using .loc[row_indexer,col_indexer] = value instead\n",
      "\n",
      "See the caveats in the documentation: http://pandas.pydata.org/pandas-docs/stable/indexing.html#indexing-view-versus-copy\n",
      "  \"\"\"Entry point for launching an IPython kernel.\n"
     ]
    }
   ],
   "source": [
    "movie_type1['happy_l']=movie_type1['biggest_p'].apply(lambda x: (x[1]-x[0]) if type(x)==list else np.nan)"
   ]
  },
  {
   "cell_type": "code",
   "execution_count": 653,
   "metadata": {
    "scrolled": false
   },
   "outputs": [
    {
     "name": "stderr",
     "output_type": "stream",
     "text": [
      "/home/sysadmin/anaconda3/lib/python3.6/site-packages/ipykernel_launcher.py:1: SettingWithCopyWarning: \n",
      "A value is trying to be set on a copy of a slice from a DataFrame.\n",
      "Try using .loc[row_indexer,col_indexer] = value instead\n",
      "\n",
      "See the caveats in the documentation: http://pandas.pydata.org/pandas-docs/stable/indexing.html#indexing-view-versus-copy\n",
      "  \"\"\"Entry point for launching an IPython kernel.\n"
     ]
    }
   ],
   "source": [
    "movie_type1['real_exp']=movie_type1['happy_p']-movie_type1['prob']*movie_type1['happy_l']"
   ]
  },
  {
   "cell_type": "code",
   "execution_count": 654,
   "metadata": {},
   "outputs": [
    {
     "name": "stderr",
     "output_type": "stream",
     "text": [
      "/home/sysadmin/anaconda3/lib/python3.6/site-packages/ipykernel_launcher.py:1: SettingWithCopyWarning: \n",
      "A value is trying to be set on a copy of a slice from a DataFrame.\n",
      "Try using .loc[row_indexer,col_indexer] = value instead\n",
      "\n",
      "See the caveats in the documentation: http://pandas.pydata.org/pandas-docs/stable/indexing.html#indexing-view-versus-copy\n",
      "  \"\"\"Entry point for launching an IPython kernel.\n",
      "/home/sysadmin/anaconda3/lib/python3.6/site-packages/ipykernel_launcher.py:2: SettingWithCopyWarning: \n",
      "A value is trying to be set on a copy of a slice from a DataFrame.\n",
      "Try using .loc[row_indexer,col_indexer] = value instead\n",
      "\n",
      "See the caveats in the documentation: http://pandas.pydata.org/pandas-docs/stable/indexing.html#indexing-view-versus-copy\n",
      "  \n"
     ]
    }
   ],
   "source": [
    "movie_type1['real']=movie_type1['happy_p']\n",
    "movie_type1['exp']=movie_type1['prob']*movie_type1['happy_l']"
   ]
  },
  {
   "cell_type": "code",
   "execution_count": 655,
   "metadata": {},
   "outputs": [
    {
     "data": {
      "text/plain": [
       "913"
      ]
     },
     "execution_count": 655,
     "metadata": {},
     "output_type": "execute_result"
    }
   ],
   "source": [
    "len(movie_type1)"
   ]
  },
  {
   "cell_type": "code",
   "execution_count": 656,
   "metadata": {},
   "outputs": [
    {
     "data": {
      "text/plain": [
       "1013    100.188017\n",
       "Name: real_exp, dtype: float64"
      ]
     },
     "execution_count": 656,
     "metadata": {},
     "output_type": "execute_result"
    }
   ],
   "source": [
    "movie_type1[movie_type1['name']=='Titanic']['real_exp']"
   ]
  },
  {
   "cell_type": "code",
   "execution_count": 463,
   "metadata": {},
   "outputs": [
    {
     "data": {
      "text/plain": [
       "558    55.37913\n",
       "Name: real_exp, dtype: float64"
      ]
     },
     "execution_count": 463,
     "metadata": {},
     "output_type": "execute_result"
    }
   ],
   "source": [
    "movie_type1[movie_type1['name']=='Jane-Eyre']['real_exp']"
   ]
  },
  {
   "cell_type": "code",
   "execution_count": 464,
   "metadata": {},
   "outputs": [
    {
     "data": {
      "text/plain": [
       "1   -8.485269\n",
       "Name: real_exp, dtype: float64"
      ]
     },
     "execution_count": 464,
     "metadata": {},
     "output_type": "execute_result"
    }
   ],
   "source": [
    "movie_type1[movie_type1['name']=='12-Years-a-Slave']['real_exp']"
   ]
  },
  {
   "cell_type": "code",
   "execution_count": 465,
   "metadata": {
    "collapsed": true
   },
   "outputs": [],
   "source": [
    "# male=movie_type1[(movie_type1['lead_gender']=='male')&(movie_type1['type'].str.contains('Romance'))]\n",
    "# female=movie_type1[(movie_type1['lead_gender']=='female')&(movie_type1['type'].str.contains('Romance'))]"
   ]
  },
  {
   "cell_type": "code",
   "execution_count": 670,
   "metadata": {
    "collapsed": true
   },
   "outputs": [],
   "source": [
    "male=movie_type1[(movie_type1['lead_gender']=='male')]\n",
    "female=movie_type1[(movie_type1['lead_gender']=='female')]"
   ]
  },
  {
   "cell_type": "code",
   "execution_count": 671,
   "metadata": {},
   "outputs": [
    {
     "data": {
      "text/plain": [
       "(689, 224)"
      ]
     },
     "execution_count": 671,
     "metadata": {},
     "output_type": "execute_result"
    }
   ],
   "source": [
    "len(male),len(female)"
   ]
  },
  {
   "cell_type": "code",
   "execution_count": 468,
   "metadata": {},
   "outputs": [
    {
     "data": {
      "text/plain": [
       "Power_divergenceResult(statistic=2964.5906299393437, pvalue=0.0)"
      ]
     },
     "execution_count": 468,
     "metadata": {},
     "output_type": "execute_result"
    }
   ],
   "source": [
    "import numpy as np\n",
    "from scipy import stats\n",
    "from scipy.stats import chisquare        \n",
    "list_observe=[i for i in female['real'].values]\n",
    "list_expect=[i for i in female['exp'].values]\n",
    " \n",
    "chisquare(f_obs=list_observe, f_exp=list_expect)"
   ]
  },
  {
   "cell_type": "code",
   "execution_count": 469,
   "metadata": {},
   "outputs": [
    {
     "data": {
      "text/plain": [
       "Power_divergenceResult(statistic=10450.070027075713, pvalue=0.0)"
      ]
     },
     "execution_count": 469,
     "metadata": {},
     "output_type": "execute_result"
    }
   ],
   "source": [
    "import numpy as np\n",
    "from scipy import stats\n",
    "from scipy.stats import chisquare        \n",
    "list_observe=[i for i in male['real'].values]\n",
    "list_expect=[i for i in male['exp'].values]\n",
    " \n",
    "chisquare(f_obs=list_observe, f_exp=list_expect)"
   ]
  },
  {
   "cell_type": "code",
   "execution_count": 470,
   "metadata": {
    "scrolled": true
   },
   "outputs": [
    {
     "data": {
      "text/plain": [
       "count    689.000000\n",
       "mean       2.102012\n",
       "std       27.036768\n",
       "min     -169.105642\n",
       "25%      -10.163462\n",
       "50%       -0.356729\n",
       "75%       11.111732\n",
       "max      112.748634\n",
       "Name: real_exp, dtype: float64"
      ]
     },
     "execution_count": 470,
     "metadata": {},
     "output_type": "execute_result"
    }
   ],
   "source": [
    "male['real_exp'].describe()"
   ]
  },
  {
   "cell_type": "code",
   "execution_count": 471,
   "metadata": {
    "scrolled": false
   },
   "outputs": [
    {
     "data": {
      "text/plain": [
       "count    224.000000\n",
       "mean       3.952829\n",
       "std       24.709246\n",
       "min      -69.801414\n",
       "25%       -7.945792\n",
       "50%       -0.525806\n",
       "75%       13.031923\n",
       "max      100.188017\n",
       "Name: real_exp, dtype: float64"
      ]
     },
     "execution_count": 471,
     "metadata": {},
     "output_type": "execute_result"
    }
   ],
   "source": [
    "female['real_exp'].describe()"
   ]
  },
  {
   "cell_type": "code",
   "execution_count": 472,
   "metadata": {},
   "outputs": [
    {
     "data": {
      "text/plain": [
       "0.36383069518077893"
      ]
     },
     "execution_count": 472,
     "metadata": {},
     "output_type": "execute_result"
    }
   ],
   "source": [
    "v,p=stats.ttest_ind([i for i in male['real_exp'].values], [i for i in female['real_exp'].values])\n",
    "p"
   ]
  },
  {
   "cell_type": "code",
   "execution_count": 473,
   "metadata": {
    "collapsed": true
   },
   "outputs": [],
   "source": [
    "# m=[i for i in male['k'].values]\n",
    "# f=[i for i in female['k'].values]\n",
    "# for j in m:\n",
    "#     sns.kdeplot([q[0] for q in j], bw=0.5,color='blue')\n",
    "# for j in f:\n",
    "#     sns.kdeplot([q[0] for q in j], bw=0.5,color='red')\n",
    "# plt.ylabel('Probability',fontsize=15)\n",
    "# plt.title('Movie (long) ',fontsize=20)"
   ]
  },
  {
   "cell_type": "code",
   "execution_count": 657,
   "metadata": {
    "collapsed": true
   },
   "outputs": [],
   "source": [
    "# sns.set(style=\"whitegrid\")\n",
    "sns.set(rc={\"font.style\":\"normal\",\n",
    "#             \"axes.facecolor\":bg_color,\n",
    "#             \"figure.facecolor\":bg_color,\n",
    "            \"text.color\":\"black\",\n",
    "            \"xtick.color\":\"black\",\n",
    "            \"ytick.color\":\"black\",\n",
    "            \"axes.labelcolor\":\"black\",\n",
    "            \"axes.grid\":False,\n",
    "            'axes.labelsize':30,\n",
    "            'figure.figsize':(20.0, 10.0),\n",
    "            'xtick.labelsize':15,\n",
    "            'font.size':20,\n",
    "            'ytick.labelsize':10})"
   ]
  },
  {
   "cell_type": "code",
   "execution_count": 668,
   "metadata": {
    "scrolled": true
   },
   "outputs": [
    {
     "name": "stderr",
     "output_type": "stream",
     "text": [
      "/home/sysadmin/anaconda3/lib/python3.6/site-packages/scipy/stats/stats.py:1713: FutureWarning: Using a non-tuple sequence for multidimensional indexing is deprecated; use `arr[tuple(seq)]` instead of `arr[seq]`. In the future this will be interpreted as an array index, `arr[np.array(seq)]`, which will result either in an error or a different result.\n",
      "  return np.add.reduce(sorted[indexer] * weights, axis=axis) / sumval\n"
     ]
    },
    {
     "data": {
      "image/png": "[encoded data removed]",
      "text/plain": [
       "<Figure size 720x288 with 3 Axes>"
      ]
     },
     "metadata": {},
     "output_type": "display_data"
    }
   ],
   "source": [
    "fig = plt.figure(figsize=(10,4))\n",
    "ax=fig.add_subplot(1,3,1)\n",
    "sns.barplot(x='lead_gender',y='trend',data = movie_type1,label='absolute overall')\n",
    "ax.set_xlabel(None,fontsize=20)\n",
    "ax.set_ylabel('Trend',fontsize=20)\n",
    "plt.legend()\n",
    "ax=fig.add_subplot(1,3,2)\n",
    "sns.barplot(x='lead_gender',y='trend1',data = movie_type1,label='absolute positive')\n",
    "ax.set(ylabel=None,xlabel=None)\n",
    "plt.legend()\n",
    "ax=fig.add_subplot(1,3,3)\n",
    "sns.barplot(x='lead_gender',y='trend2',data = movie_type1,label='absolute negative')\n",
    "ax.set(ylabel=None,xlabel=None)\n",
    "plt.legend()\n",
    "plt.tight_layout()\n",
    "plt.show()"
   ]
  },
  {
   "cell_type": "code",
   "execution_count": 664,
   "metadata": {},
   "outputs": [
    {
     "data": {
      "text/plain": [
       "count    689.000000\n",
       "mean       2.189538\n",
       "std        0.835009\n",
       "min        0.000000\n",
       "25%        1.831925\n",
       "50%        2.327311\n",
       "75%        2.681132\n",
       "max        5.807827\n",
       "Name: K, dtype: float64"
      ]
     },
     "execution_count": 664,
     "metadata": {},
     "output_type": "execute_result"
    }
   ],
   "source": [
    "male['K'].describe()"
   ]
  },
  {
   "cell_type": "code",
   "execution_count": 665,
   "metadata": {},
   "outputs": [
    {
     "data": {
      "text/plain": [
       "count    224.000000\n",
       "mean       2.069932\n",
       "std        0.824158\n",
       "min        0.000000\n",
       "25%        1.900353\n",
       "50%        2.283326\n",
       "75%        2.551853\n",
       "max        4.104631\n",
       "Name: K, dtype: float64"
      ]
     },
     "execution_count": 665,
     "metadata": {},
     "output_type": "execute_result"
    }
   ],
   "source": [
    "female['K'].describe()"
   ]
  },
  {
   "cell_type": "code",
   "execution_count": 666,
   "metadata": {},
   "outputs": [
    {
     "data": {
      "text/plain": [
       "0.06204777901460332"
      ]
     },
     "execution_count": 666,
     "metadata": {},
     "output_type": "execute_result"
    }
   ],
   "source": [
    "v,p=stats.ttest_ind([i for i in male['K'].values], [i for i in female['K'].values])\n",
    "p"
   ]
  },
  {
   "cell_type": "code",
   "execution_count": 667,
   "metadata": {},
   "outputs": [
    {
     "name": "stderr",
     "output_type": "stream",
     "text": [
      "/home/sysadmin/anaconda3/lib/python3.6/site-packages/scipy/stats/stats.py:1713: FutureWarning: Using a non-tuple sequence for multidimensional indexing is deprecated; use `arr[tuple(seq)]` instead of `arr[seq]`. In the future this will be interpreted as an array index, `arr[np.array(seq)]`, which will result either in an error or a different result.\n",
      "  return np.add.reduce(sorted[indexer] * weights, axis=axis) / sumval\n"
     ]
    },
    {
     "data": {
      "text/plain": [
       "<matplotlib.legend.Legend at 0x7f6ae41e4908>"
      ]
     },
     "execution_count": 667,
     "metadata": {},
     "output_type": "execute_result"
    },
    {
     "data": {
      "image/png": "[encoded data removed]",
      "text/plain": [
       "<Figure size 720x288 with 1 Axes>"
      ]
     },
     "metadata": {},
     "output_type": "display_data"
    }
   ],
   "source": [
    "fig = plt.figure(figsize=(10,4))\n",
    "ax=fig.add_subplot(1,3,1)\n",
    "sns.barplot(x='lead_gender',y='K',data = movie_type1,label='Standard error')\n",
    "ax.set_xlabel(None,fontsize=20)\n",
    "ax.set_ylabel('Trend',fontsize=20)\n",
    "plt.legend()"
   ]
  },
  {
   "cell_type": "code",
   "execution_count": 674,
   "metadata": {},
   "outputs": [
    {
     "data": {
      "text/html": [
       "<div>\n",
       "<style scoped>\n",
       "    .dataframe tbody tr th:only-of-type {\n",
       "        vertical-align: middle;\n",
       "    }\n",
       "\n",
       "    .dataframe tbody tr th {\n",
       "        vertical-align: top;\n",
       "    }\n",
       "\n",
       "    .dataframe thead th {\n",
       "        text-align: right;\n",
       "    }\n",
       "</style>\n",
       "<table border=\"1\" class=\"dataframe\">\n",
       "  <thead>\n",
       "    <tr style=\"text-align: right;\">\n",
       "      <th></th>\n",
       "      <th>name</th>\n",
       "      <th>ending</th>\n",
       "      <th>type</th>\n",
       "      <th>IMSDb_rating</th>\n",
       "      <th>User_rating</th>\n",
       "      <th>Release_date</th>\n",
       "      <th>Script_date</th>\n",
       "      <th>gender</th>\n",
       "      <th>ending_10</th>\n",
       "      <th>vec</th>\n",
       "      <th>wordvec</th>\n",
       "      <th>wordvec100</th>\n",
       "      <th>wordvec200</th>\n",
       "      <th>mode</th>\n",
       "      <th>ending_100</th>\n",
       "      <th>positive1</th>\n",
       "      <th>negative1</th>\n",
       "      <th>overall</th>\n",
       "      <th>count</th>\n",
       "      <th>len</th>\n",
       "      <th>tp</th>\n",
       "      <th>emotion</th>\n",
       "      <th>character</th>\n",
       "      <th>lead_gender</th>\n",
       "      <th>co_n</th>\n",
       "      <th>len_p</th>\n",
       "      <th>prob</th>\n",
       "      <th>cum_e</th>\n",
       "      <th>smooth_cum_e</th>\n",
       "      <th>norm_len</th>\n",
       "      <th>t_p</th>\n",
       "      <th>tp_e</th>\n",
       "      <th>tp_c</th>\n",
       "      <th>k</th>\n",
       "      <th>K</th>\n",
       "      <th>trend</th>\n",
       "      <th>trend1</th>\n",
       "      <th>trend2</th>\n",
       "      <th>biggest_p</th>\n",
       "      <th>happy_p</th>\n",
       "      <th>happy_l</th>\n",
       "      <th>real_exp</th>\n",
       "      <th>real</th>\n",
       "      <th>exp</th>\n",
       "    </tr>\n",
       "  </thead>\n",
       "  <tbody>\n",
       "    <tr>\n",
       "      <th>1013</th>\n",
       "      <td>Titanic</td>\n",
       "      <td>0.0</td>\n",
       "      <td>Drama,Romance,nan,nan,nan,nan,nan</td>\n",
       "      <td>NaN</td>\n",
       "      <td>8.02</td>\n",
       "      <td>NaN</td>\n",
       "      <td>1997.0</td>\n",
       "      <td>1.0</td>\n",
       "      <td>0.0</td>\n",
       "      <td>[6.6855454545454505, 6.821111111111105, 6.6536...</td>\n",
       "      <td>[11.307730492605003, -0.7205430117394371, 10.9...</td>\n",
       "      <td>[14.956624680212244, 14.956624680212244, 14.95...</td>\n",
       "      <td>[8.23082187576179, 12.77271117249029, 14.95662...</td>\n",
       "      <td>-1.0</td>\n",
       "      <td>0.0</td>\n",
       "      <td>[8.657915364887568, 8.820793189154038, 9.06785...</td>\n",
       "      <td>[-7.028320461450602, -6.863868231968566, -7.47...</td>\n",
       "      <td>[0.5910918173241869, 0.6526220046905217, 0.828...</td>\n",
       "      <td>39842.0</td>\n",
       "      <td>4500.0</td>\n",
       "      <td>[479, 482, 483, 500, 505, 506, 507, 508, 509, ...</td>\n",
       "      <td>[3.595249255956679, 3.857720104487779, 1.63964...</td>\n",
       "      <td>[Rose, female, Jack]</td>\n",
       "      <td>female</td>\n",
       "      <td>445</td>\n",
       "      <td>2420</td>\n",
       "      <td>0.183884</td>\n",
       "      <td>[0.21004554098304495, 0.4893768641865141, 0.18...</td>\n",
       "      <td>[8.472556042499917, 8.39602775306718, 8.319693...</td>\n",
       "      <td>[0.0, 0.00041339396444811904, 0.00082678792889...</td>\n",
       "      <td>[([468, -10.633487040162436], [469, -10.631493...</td>\n",
       "      <td>[[479, -5.207362721877825], [482, -4.564424163...</td>\n",
       "      <td>[[[479, -5.207362721877825], [482, -4.56442416...</td>\n",
       "      <td>[[0.19632525375813742, 3], [0, 1], [0.53869457...</td>\n",
       "      <td>2.239948</td>\n",
       "      <td>7.573866</td>\n",
       "      <td>-7.239835</td>\n",
       "      <td>1.679874</td>\n",
       "      <td>[482, 1139]</td>\n",
       "      <td>221</td>\n",
       "      <td>657</td>\n",
       "      <td>100.188017</td>\n",
       "      <td>221</td>\n",
       "      <td>120.811983</td>\n",
       "    </tr>\n",
       "  </tbody>\n",
       "</table>\n",
       "</div>"
      ],
      "text/plain": [
       "         name  ending                               type  IMSDb_rating  \\\n",
       "1013  Titanic     0.0  Drama,Romance,nan,nan,nan,nan,nan           NaN   \n",
       "\n",
       "      User_rating  Release_date  Script_date  gender  ending_10  \\\n",
       "1013         8.02           NaN       1997.0     1.0        0.0   \n",
       "\n",
       "                                                    vec  \\\n",
       "1013  [6.6855454545454505, 6.821111111111105, 6.6536...   \n",
       "\n",
       "                                                wordvec  \\\n",
       "1013  [11.307730492605003, -0.7205430117394371, 10.9...   \n",
       "\n",
       "                                             wordvec100  \\\n",
       "1013  [14.956624680212244, 14.956624680212244, 14.95...   \n",
       "\n",
       "                                             wordvec200  mode  ending_100  \\\n",
       "1013  [8.23082187576179, 12.77271117249029, 14.95662...  -1.0         0.0   \n",
       "\n",
       "                                              positive1  \\\n",
       "1013  [8.657915364887568, 8.820793189154038, 9.06785...   \n",
       "\n",
       "                                              negative1  \\\n",
       "1013  [-7.028320461450602, -6.863868231968566, -7.47...   \n",
       "\n",
       "                                                overall    count     len  \\\n",
       "1013  [0.5910918173241869, 0.6526220046905217, 0.828...  39842.0  4500.0   \n",
       "\n",
       "                                                     tp  \\\n",
       "1013  [479, 482, 483, 500, 505, 506, 507, 508, 509, ...   \n",
       "\n",
       "                                                emotion             character  \\\n",
       "1013  [3.595249255956679, 3.857720104487779, 1.63964...  [Rose, female, Jack]   \n",
       "\n",
       "     lead_gender  co_n  len_p      prob  \\\n",
       "1013      female   445   2420  0.183884   \n",
       "\n",
       "                                                  cum_e  \\\n",
       "1013  [0.21004554098304495, 0.4893768641865141, 0.18...   \n",
       "\n",
       "                                           smooth_cum_e  \\\n",
       "1013  [8.472556042499917, 8.39602775306718, 8.319693...   \n",
       "\n",
       "                                               norm_len  \\\n",
       "1013  [0.0, 0.00041339396444811904, 0.00082678792889...   \n",
       "\n",
       "                                                    t_p  \\\n",
       "1013  [([468, -10.633487040162436], [469, -10.631493...   \n",
       "\n",
       "                                                   tp_e  \\\n",
       "1013  [[479, -5.207362721877825], [482, -4.564424163...   \n",
       "\n",
       "                                                   tp_c  \\\n",
       "1013  [[[479, -5.207362721877825], [482, -4.56442416...   \n",
       "\n",
       "                                                      k         K     trend  \\\n",
       "1013  [[0.19632525375813742, 3], [0, 1], [0.53869457...  2.239948  7.573866   \n",
       "\n",
       "        trend1    trend2    biggest_p  happy_p  happy_l    real_exp  real  \\\n",
       "1013 -7.239835  1.679874  [482, 1139]      221      657  100.188017   221   \n",
       "\n",
       "             exp  \n",
       "1013  120.811983  "
      ]
     },
     "execution_count": 674,
     "metadata": {},
     "output_type": "execute_result"
    }
   ],
   "source": [
    "movie_type1[movie_type1['name']=='Titanic']"
   ]
  },
  {
   "cell_type": "code",
   "execution_count": 672,
   "metadata": {},
   "outputs": [
    {
     "name": "stderr",
     "output_type": "stream",
     "text": [
      "/home/sysadmin/anaconda3/lib/python3.6/site-packages/scipy/stats/stats.py:1713: FutureWarning: Using a non-tuple sequence for multidimensional indexing is deprecated; use `arr[tuple(seq)]` instead of `arr[seq]`. In the future this will be interpreted as an array index, `arr[np.array(seq)]`, which will result either in an error or a different result.\n",
      "  return np.add.reduce(sorted[indexer] * weights, axis=axis) / sumval\n"
     ]
    },
    {
     "data": {
      "image/png": "[encoded data removed]",
      "text/plain": [
       "<Figure size 576x360 with 2 Axes>"
      ]
     },
     "metadata": {},
     "output_type": "display_data"
    }
   ],
   "source": [
    "fig = plt.figure(figsize=(8,5))\n",
    "ax=fig.add_subplot(1,2,1)\n",
    "sns.barplot(x='lead_gender',y='trend',data = movie_type1,label='max')\n",
    "ax.set_xlabel(None,fontsize=20)\n",
    "ax.set_ylabel('Trend',fontsize=20)\n",
    "plt.legend()\n",
    "ax=fig.add_subplot(1,2,2)\n",
    "sns.barplot(x='lead_gender',y='trend1',data = movie_type1,label='min')\n",
    "# plt.yscale('log')\n",
    "# plt.yticks([-5,5])\n",
    "ax.set(ylabel=None,xlabel=None)\n",
    "plt.legend()\n",
    "plt.tight_layout()\n",
    "plt.show()"
   ]
  },
  {
   "cell_type": "code",
   "execution_count": null,
   "metadata": {
    "collapsed": true
   },
   "outputs": [],
   "source": []
  }
 ],
 "metadata": {
  "kernelspec": {
   "display_name": "Python 3",
   "language": "python",
   "name": "python3"
  },
  "language_info": {
   "codemirror_mode": {
    "name": "ipython",
    "version": 3
   },
   "file_extension": ".py",
   "mimetype": "text/x-python",
   "name": "python",
   "nbconvert_exporter": "python",
   "pygments_lexer": "ipython3",
   "version": "3.6.2"
  },
  "toc": {
   "nav_menu": {},
   "number_sections": true,
   "sideBar": true,
   "skip_h1_title": false,
   "title_cell": "Table of Contents",
   "title_sidebar": "Contents",
   "toc_cell": false,
   "toc_position": {},
   "toc_section_display": true,
   "toc_window_display": false
  }
 },
 "nbformat": 4,
 "nbformat_minor": 2
}
