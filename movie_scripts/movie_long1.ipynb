{
 "cells": [
  {
   "cell_type": "code",
   "execution_count": 1,
   "metadata": {
    "ExecuteTime": {
     "end_time": "2019-06-14T03:06:52.730663Z",
     "start_time": "2019-06-14T03:06:50.590912Z"
    }
   },
   "outputs": [],
   "source": [
    "from scipy.stats import chisquare\n",
    "from scipy import stats\n",
    "import urllib.request\n",
    "import string\n",
    "import requests\n",
    "from bs4 import BeautifulSoup\n",
    "import pandas as pd\n",
    "import multiprocessing\n",
    "import gensim\n",
    "import sys\n",
    "import spacy\n",
    "nlp=spacy.load('en')\n",
    "import seaborn as sns\n",
    "from nltk.tokenize import WordPunctTokenizer\n",
    "from gensim.models import Word2Vec\n",
    "from gensim.models import KeyedVectors\n",
    "from scipy import spatial\n",
    "from collections import Counter\n",
    "import numpy as np\n",
    "from collections import defaultdict\n",
    "from pprint import pprint\n",
    "from gensim import corpora\n",
    "import re\n",
    "import logging\n",
    "import requests\n",
    "import urllib \n",
    "import re\n",
    "import sys\n",
    "import zipfile\n",
    "from glob import glob\n",
    "import statsmodels.api as sm\n",
    "import scipy\n",
    "import scipy.stats as ss\n",
    "from scipy.signal import savgol_filter\n",
    "import random\n",
    "np.set_printoptions(precision=2)\n",
    "logging.basicConfig(format='%(asctime)s : %(levelname)s : %(message)s', level=logging.INFO)\n",
    "\n",
    "import matplotlib.pyplot as plt\n",
    "%matplotlib inline\n",
    "\n",
    "\n",
    "from sklearn import metrics\n",
    "from sklearn.cluster import KMeans\n",
    "# from the demo\n",
    "from sklearn.datasets import load_digits\n",
    "from sklearn.decomposition import PCA\n",
    "from sklearn.decomposition import TruncatedSVD\n",
    "from sklearn.decomposition import NMF\n",
    "from sklearn.preprocessing import scale\n",
    "from sklearn.linear_model import LogisticRegression\n",
    "from sklearn.model_selection import train_test_split\n",
    "from sklearn.metrics import accuracy_score\n",
    "from nltk.corpus import stopwords\n",
    "from nltk.corpus import names\n",
    "pd.set_option('display.max_columns',None)\n",
    "pd.set_option('display.max_rows',None)"
   ]
  },
  {
   "cell_type": "code",
   "execution_count": 2,
   "metadata": {
    "ExecuteTime": {
     "end_time": "2019-06-14T03:06:53.174373Z",
     "start_time": "2019-06-14T03:06:52.732337Z"
    }
   },
   "outputs": [
    {
     "name": "stderr",
     "output_type": "stream",
     "text": [
      "2019-06-14 11:06:53,031 : INFO : Loading model from /Users/xuhuimin/.neuralcoref_cache/neuralcoref\n"
     ]
    }
   ],
   "source": [
    "# Load your usual SpaCy model (one of SpaCy English models)\n",
    "import spacy\n",
    "nlp = spacy.load('en')\n",
    "\n",
    "# load NeuralCoref and add it to the pipe of SpaCy's model\n",
    "import neuralcoref\n",
    "coref = neuralcoref.NeuralCoref(nlp.vocab)\n",
    "nlp.add_pipe(coref, name='neuralcoref')"
   ]
  },
  {
   "cell_type": "code",
   "execution_count": 3,
   "metadata": {
    "ExecuteTime": {
     "end_time": "2019-06-14T03:06:53.251095Z",
     "start_time": "2019-06-14T03:06:53.176375Z"
    }
   },
   "outputs": [],
   "source": [
    "def flushPrint(s):\n",
    "    sys.stdout.write('\\r')\n",
    "    sys.stdout.write('%s' % s)\n",
    "    sys.stdout.flush()\n",
    "    \n",
    "def normalize(v):\n",
    "    norm = np.linalg.norm(v)\n",
    "    if norm == 0:\n",
    "        return v\n",
    "    return v / norm\n",
    "\n",
    "def cultureD2(model, words):\n",
    "    cultures = []\n",
    "    for word in words:\n",
    "        if (word[0] in model.wv.vocab) & (word[1] in model.wv.vocab):\n",
    "            cultures.append(normalize(normalize(model[word[0]]) - normalize(model[word[1]])))\n",
    "        else:\n",
    "            print(word)\n",
    "    culturev = normalize(np.mean(cultures, axis=0))\n",
    "    return culturev\n",
    "\n",
    "def storyv(model,words):\n",
    "    veclist=[]\n",
    "    for w in words:\n",
    "        if w in model.wv.vocab:\n",
    "            veclist.append(normalize(model[w]))\n",
    "    storyv=normalize(np.mean(veclist,axis=0))\n",
    "    return storyv\n",
    "\n",
    "def projection(storyv, culturev):\n",
    "    # cosine similarity\n",
    "    return (1 - spatial.distance.cosine(storyv, culturev))\n",
    "           \n",
    "def cosine2angle(i):\n",
    "    return np.arccos(i) / np.pi * 180 #长度换角度\n",
    "\n",
    "def normalized(x):\n",
    "    x= np.array(x)\n",
    "    return (x-np.mean(x))/np.std(x)\n",
    "\n",
    "def normalization(x):\n",
    "    x=np.array(x)\n",
    "    return (x-np.min(x))/(np.max(x)-np.min(x))"
   ]
  },
  {
   "cell_type": "code",
   "execution_count": 4,
   "metadata": {
    "ExecuteTime": {
     "end_time": "2019-06-14T03:06:53.258262Z",
     "start_time": "2019-06-14T03:06:53.253077Z"
    }
   },
   "outputs": [],
   "source": [
    "swords = [\n",
    "    ['success','failure'],\n",
    "    ['succeed','fail'],\n",
    "    ['lucky', 'unlucky'],\n",
    "    ['fortunate', 'unfortunate'],\n",
    "    ['happy', 'unhappy'],\n",
    "    ['glad', 'sad'],\n",
    "    ['joy', 'sorrow'],\n",
    "    ['smile', 'tear']\n",
    "] # success words"
   ]
  },
  {
   "cell_type": "code",
   "execution_count": 5,
   "metadata": {
    "collapsed": true
   },
   "outputs": [],
   "source": [
    "# Load Google's pre-trained Word2Vec model.\n",
    "# model = gensim.models.KeyedVectors.load_word2vec_format('GoogleNews-vectors-negative300.bin',binary=True)"
   ]
  },
  {
   "cell_type": "code",
   "execution_count": 6,
   "metadata": {
    "collapsed": true
   },
   "outputs": [],
   "source": [
    "# success_vector = cultureD2(model, swords)\n",
    "# success_word = [i[0] for i in model.similar_by_vector(success_vector, 1)]"
   ]
  },
  {
   "cell_type": "code",
   "execution_count": 5,
   "metadata": {
    "collapsed": true
   },
   "outputs": [],
   "source": [
    "def flushPrint(s):\n",
    "    sys.stdout.write('\\r')\n",
    "    sys.stdout.write('%s' % s)\n",
    "    sys.stdout.flush()"
   ]
  },
  {
   "cell_type": "code",
   "execution_count": 6,
   "metadata": {
    "collapsed": true
   },
   "outputs": [],
   "source": [
    "import re, sys, getopt\n",
    "\n",
    "PUNCTUATION = [ch for ch in \"\"\"(){}[]<>!?.:;,`'\"@#$%^&*+-|=~/\\\\_\"\"\"]\n",
    "LETTERS     = [ch for ch in \"abcdefghijklmnopqrstuvwxyz\"]\n",
    "CONSONANTS  = [ch for ch in \"bcdfghjklmnpqrstvwxz\"] # Need this for Mr. Mss. abbreviations.\n",
    "WHITESPACE  = [ch for ch in \" \\t\\n\\r\\f\\v\"]          # Need this to split words.\n",
    "DASHES      = [ch for ch in u\"鈥撯€�\"]                  # Not to be confused with hyphen.\n",
    "\n",
    "is_uppercase   = lambda s: len(s)>0 and s==s.upper()                          # Goodbye => True\n",
    "is_capitalized = lambda s: len(s)>0 and s[0].isalpha() and s[0]==s[0].upper() # GOODBYE => True\n",
    "\n",
    "digits = re.compile(\"^[0-9]+$\")\n",
    "is_int = lambda s: digits.search(s) != None\n",
    "\n",
    "# regex pattern for entities: &amp; &#164;\n",
    "entity = \"&[a-z]+;|&#[0-9]+;\"\n",
    "\n",
    "class Range(dict):\n",
    "    \n",
    "    def __init__(self, items=[]):\n",
    "        dict.__init__(self, items)\n",
    "        self.patterns = []\n",
    "        \n",
    "    def __contains__(self, str):\n",
    "        if dict.__contains__(self, str): \n",
    "            return True\n",
    "        for p in self.patterns:\n",
    "            if p.search(str) != None: \n",
    "                return True\n",
    "        return False\n",
    "\n",
    "def in_any(word, ranges=[]):\n",
    "    for rng in ranges:\n",
    "        if word in rng: return True\n",
    "        \n",
    "abbreviations = [\n",
    "    \"Adm.\", \"Ala.\", \"Ariz.\", \"Ark.\", \"Aug.\", \"B.C.\", \"Bancorp.\", \"Bhd.\", \"Brig.\", \"Bros.\", \"CO.\", \n",
    "    \"CORP.\", \"COS.\", \"ca.\", \"Calif.\", \"Capt.\", \"Cie.\", \"Cmdr.\", \"Co.\", \"Col.\", \"Colo.\", \"Conn.\", \"Corp.\", \n",
    "    \"Cos.\", \"Cpl.\", \"D-Mass.\", \"D.C.\", \"Dec.\", \"Del.\", \"Dept.\", \"Dr.\", \"E.g.\", \"Etc.\", \"Ex.\", \"Exch.\", \n",
    "    \"Feb.\", \"Fla.\", \"Fri.\", \"Ga.\", \"Gen.\", \"Gov.\", \"INC.\", \"Ill.\", \"Inc.\", \"Ind.\", \"Jan.\", \"Jansz.\", \n",
    "    \"Jos.\", \"Jr.\", \"Kan.\", \"Ky.\", \"L.A.\", \"La.\", \"Lt.\", \"Ltd.\", \"Maj.\", \"Mass.\", \"Md.\", \"Messrs.\", \n",
    "    \"Mfg.\", \"Mich.\", \"Minn.\", \"Miss.\", \"Mo.\", \"Mon.\", \"Mr.\", \"Mrs.\", \"Ms.\", \"Mt.\", \"N.C.\", \"N.J.\", \n",
    "    \"N.Y.\", \"NFATc.\", \"Neb.\", \"Nev.\", \"No.\", \"Nos.\", \"Nov.\", \"O.J.\", \"Oct.\", \"Okla.\", \"Ont.\", \"Ore.\", \n",
    "    \"P.T.\", \"Pa.\", \"Ph.\", \"Prof.\", \"Prop.\", \"Pty.\", \"R.I.\", \"R.J.\", \"Rep.\", \"Reps.\", \"Rev.\", \"S.C.\", \n",
    "    \"Sat.\", \"Sen.\", \"Sens.\", \"Sep.\", \"Sept.\", \"Sgt.\", \"Sol.\", \"Sr.\", \"St.\", \"Sun.\", \"Tenn.\", \"Tex.\", \n",
    "    \"Thu.\", \"Tue.\", \"U.K.\", \"U.N.\", \"U.S.\", \"Va.\", \"Vt.\", \"W.J.\", \"W.Va.\", \"Wash.\", \"Wed.\", \"Wis.\", \n",
    "    \"Wyo.\", \"a.m.\", \"cit.\", \"def.\", \"ed.\", \"eds.\", \"e.g.\", \"etc.\", \"ft.\", \"i.e.\", \"op.\", \"p.m.\", \"pp.\", \n",
    "    \"sc.\", \"v.\", \"vs.\", \"Biol.\", \"Chem.\", \"beta4.\", \"Struct.\", \"Funct.\", \"Natl.\", \"Acad.\", \"Sci.\",\n",
    "    \"Biochem.\", \"Cell.\", \"Proc.\", \"Res.\", \"Lond.\", \"Nat.\", \"Dev.\", \"Camb.\", \"Profilin.\", \"Thymosin-beta4.\"\n",
    "]\n",
    "\n",
    "class Abbreviations(Range):\n",
    "    \n",
    "    def __init__(self, known=[]):\n",
    "        \"\"\" A dictionary of known abbreviations, extended with patterns of likely abbreviations.\n",
    "            word in Abbreviations() == True if word is a known or likely abbreviation.\n",
    "            Periods in English are ambiguous,\n",
    "            marking end of sentence, abbreviation, decimal point or ellipsis.\n",
    "            - Simple rule: \"every point is a sentence break\" is 93.20% correct for Brown corpus.\n",
    "            - Fix decimal points: 93,64% correct.\n",
    "            - Fix single letter abbreviations (T. De Smedt), alternating letters (i.e. U.S.),\n",
    "              and capital letter followed by consonants (Mr. Assn.): 97.7% correct.\n",
    "            - Fix with dictionary of known abbreviations: up to 99,07 accuracy.\n",
    "            http://bulba.sdsu.edu/~malouf/ling571/13-token-bw.pdf\n",
    "        \"\"\"\n",
    "        Range.__init__(self, [(x,True) for x in known])\n",
    "        self.patterns = [\n",
    "            re.compile(\"^[A-Za-z]\\.$\"),                       # single letter, \"T. De Smedt\"\n",
    "            re.compile(\"^([A-Za-z]\\.)+$\"),                    # alternating letters, \"U.S.\"\n",
    "            #re.compile(\".+\\.[,;]$\"),                         # followed by punctuation, \"dept.,\"\n",
    "            re.compile(\"^[A-Z][\"+\"|\".join(CONSONANTS)+\"]+.$\") # capital followed by consonants, \"Mr.\"\n",
    "        ]\n",
    "        \n",
    "    def __contains__(self, word):\n",
    "        return word.endswith(\".\") and Range.__contains__(self, word)\n",
    "\n",
    "abbreviations = Abbreviations(abbreviations)\n",
    "# # from https://www.clips.uantwerpen.be/BiographTA/tokenizer.py"
   ]
  },
  {
   "cell_type": "code",
   "execution_count": 7,
   "metadata": {
    "collapsed": true
   },
   "outputs": [],
   "source": [
    "def pre_process(data):\n",
    "    for w in abbreviations:\n",
    "        data = data.replace(w,' ')\n",
    "    data = data.replace('\\r',' ').replace('\\n',' ').replace('\\t',' ')\n",
    "    data = re.split('[.?!]',data) # cut the sentence\n",
    "    tknzr = WordPunctTokenizer()\n",
    "    data = [tknzr.tokenize(i) for i in data]\n",
    "    data=[i for i in data if len(i)>1]\n",
    "    return data"
   ]
  },
  {
   "cell_type": "code",
   "execution_count": 8,
   "metadata": {
    "collapsed": true
   },
   "outputs": [],
   "source": [
    "with open('./stopword.txt','r') as f:\n",
    "    stopword=f.readlines()\n",
    "stopword=[i.split('\\n')[0] for i in stopword]"
   ]
  },
  {
   "cell_type": "code",
   "execution_count": 9,
   "metadata": {
    "collapsed": true
   },
   "outputs": [],
   "source": [
    "# 获取名字，性别数据列表\n",
    "from nltk.corpus import names\n",
    "male_names = [name for name in names.words('male.txt')]\n",
    "female_names = [name for name in names.words('female.txt')]\n",
    "names = male_names+female_names"
   ]
  },
  {
   "cell_type": "code",
   "execution_count": 10,
   "metadata": {
    "collapsed": true
   },
   "outputs": [],
   "source": [
    "tknzr = WordPunctTokenizer()"
   ]
  },
  {
   "cell_type": "code",
   "execution_count": 11,
   "metadata": {
    "collapsed": true
   },
   "outputs": [],
   "source": [
    "import json\n",
    "with open(\"diction.txt\",\"r\") as f:\n",
    "    ediction = json.loads(f.readline())"
   ]
  },
  {
   "cell_type": "code",
   "execution_count": 12,
   "metadata": {
    "collapsed": true
   },
   "outputs": [],
   "source": [
    "def get_maintext_lines_script(raw_text):\n",
    "    lines = raw_text.split(\"\\n\")\n",
    "    start_book_i = 0\n",
    "    end_book_i = len(lines)-1\n",
    "    if end_book_i == len(lines)-1:\n",
    "        for j,line in enumerate(lines):\n",
    "            if \"FADE OUT\" in line and j>.9*len(lines):\n",
    "                end_book_i = j\n",
    "    if end_book_i == len(lines)-1:\n",
    "        for j,line in enumerate(lines):\n",
    "            if \"THE END\" in line and j>.9*len(lines):\n",
    "                end_book_i = j\n",
    "    if end_book_i == len(lines)-1:\n",
    "        for j,line in enumerate(lines):\n",
    "            if \"- END -\" in line and j>.9*len(lines):\n",
    "                end_book_i = j  \n",
    "    return lines[(start_book_i+1):(end_book_i)]"
   ]
  },
  {
   "cell_type": "code",
   "execution_count": 13,
   "metadata": {
    "collapsed": true
   },
   "outputs": [],
   "source": [
    "def chunkify(lines):\n",
    "    # put them back together...\n",
    "    raw_text = \"\\n\".join(lines)\n",
    "    # remove extra whitespace\n",
    "    raw_text_1 = re.sub(\"\\n[\\\\s]+?\\n\",\"\\n\\n\",raw_text)\n",
    "    # remove singleton newlines\n",
    "    raw_text_2 = re.sub(r\"([^\\n])\\n([^\\n])\",r\"\\1 \\2\",raw_text_1)\n",
    "    raw_text_3 = raw_text_2.rstrip().lstrip()\n",
    "\n",
    "\n",
    "    # split on those triples (or more)\n",
    "    big_chunks = re.split(\"\\n\\n\\n+\",raw_text_3)\n",
    "\n",
    "    big_chunks = [i for i in big_chunks if len(tknzr.tokenize(i))>20] #remove title,author et al.\n",
    "    \n",
    "    if len(big_chunks)!=1:\n",
    "#         print('error chunk!')\n",
    "        big_chunks = ['\\n\\n'.join(big_chunks)]\n",
    "        \n",
    "    # break into different cuts\n",
    "    big_chunks = re.split(\"CUT TO:\",big_chunks[0])\n",
    "#     print(big_chunks)\n",
    "    # now break them into the paragraphs\n",
    "    small_chunks = list(map(lambda x: re.split(\"\\n\\n\",x),big_chunks))\n",
    "    combined_chunks = []\n",
    "    [combined_chunks.extend(el) for el in small_chunks]\n",
    "    combined_chunks = [i for i in combined_chunks if len(i.strip())>0]\n",
    "#     combined_chunks = ' '.join(combined_chunks)\n",
    "#     combined_chunks = []\n",
    "\n",
    "#     for i in range(len(small_chunks)):\n",
    "#         for j in range(len(small_chunks[i])):\n",
    "#             combined_chunks.append((i,j,small_chunks[i][j]))\n",
    "    return combined_chunks\n",
    "#     return small_chunks"
   ]
  },
  {
   "cell_type": "code",
   "execution_count": 14,
   "metadata": {
    "collapsed": true
   },
   "outputs": [],
   "source": [
    "def main_character(lead):\n",
    "    lead=[i.title() for i in lead]\n",
    "    film_name_list = (set(lead) & set(male_names)) |\\\n",
    "                    (set(lead) & set(female_names))\n",
    "    film_script_wordlist_counter = Counter(lead)\n",
    "    df = pd.DataFrame([[i, film_script_wordlist_counter[i]] for i in film_name_list]\\\n",
    "                                      , columns=['name', 'count'])\n",
    "    df['gender']=df['name'].apply(lambda x:'male' if x in male_names else 'female')\n",
    "    df=df.sort_values(by='count', ascending=False)\n",
    "    lead = df['name'].values[0]\n",
    "    lead_gender=df['gender'].values[0]\n",
    "    if lead_gender=='female':\n",
    "        lead1=df[df['gender']=='male']['name'].values[0]\n",
    "    else:\n",
    "        lead1=df[df['gender']=='female']['name'].values[0]\n",
    "    return lead,lead_gender,lead1"
   ]
  },
  {
   "cell_type": "code",
   "execution_count": 15,
   "metadata": {
    "collapsed": true
   },
   "outputs": [],
   "source": [
    "movie_type=pd.read_csv('./movie_type_e2.csv')"
   ]
  },
  {
   "cell_type": "code",
   "execution_count": 16,
   "metadata": {},
   "outputs": [
    {
     "data": {
      "text/plain": [
       "913"
      ]
     },
     "execution_count": 16,
     "metadata": {},
     "output_type": "execute_result"
    }
   ],
   "source": [
    "len(movie_type)"
   ]
  },
  {
   "cell_type": "code",
   "execution_count": 17,
   "metadata": {
    "collapsed": true
   },
   "outputs": [],
   "source": [
    "import spacy\n",
    "from spacy.symbols import nsubj, nsubjpass, csubj, csubjpass, agent, expl, VERB\n",
    "nlp1 = spacy.load(\"en_core_web_sm\")"
   ]
  },
  {
   "cell_type": "code",
   "execution_count": 21,
   "metadata": {
    "collapsed": true
   },
   "outputs": [],
   "source": [
    "# def tp_eval(x):\n",
    "#     try:\n",
    "#         if type(x)==str:\n",
    "#             return [eval(i) for i in x.replace('\\n','').replace('[','').replace(']','').split(' ') if i!='']\n",
    "#         else:\n",
    "#             return [i for i in x.replace('\\n','').replace('[','').replace(']','').split(' ') if i!='']\n",
    "#     except:\n",
    "#         return x"
   ]
  },
  {
   "cell_type": "code",
   "execution_count": 18,
   "metadata": {
    "collapsed": true
   },
   "outputs": [],
   "source": [
    "def eval_(x):\n",
    "    try:\n",
    "        return eval(x)\n",
    "    except:\n",
    "        return np.nan\n",
    "        pass\n",
    "\n",
    "movie_type['tp']=movie_type['tp'].apply(lambda x: eval_(x))\n",
    "\n",
    "movie_type['emotion']=movie_type['emotion'].apply(lambda x: eval_(x))"
   ]
  },
  {
   "cell_type": "code",
   "execution_count": 19,
   "metadata": {
    "collapsed": true
   },
   "outputs": [],
   "source": [
    "movie_type['character']=movie_type['character'].apply(lambda x: eval_(x))"
   ]
  },
  {
   "cell_type": "code",
   "execution_count": 20,
   "metadata": {
    "collapsed": true
   },
   "outputs": [],
   "source": [
    "# movie_type['lead_gender']=movie_type['character'].apply(lambda x: x[1] if type(x)==list else np.nan)"
   ]
  },
  {
   "cell_type": "code",
   "execution_count": 21,
   "metadata": {
    "collapsed": true
   },
   "outputs": [],
   "source": [
    "movie_type=movie_type.dropna(axis=0,how='any',subset=['lead_gender','tp','emotion'])"
   ]
  },
  {
   "cell_type": "code",
   "execution_count": 42,
   "metadata": {
    "collapsed": true
   },
   "outputs": [],
   "source": [
    "# len(movie_type)"
   ]
  },
  {
   "cell_type": "code",
   "execution_count": 22,
   "metadata": {
    "collapsed": true
   },
   "outputs": [],
   "source": [
    "# movie_type['character']=movie_type['character'].apply(lambda x: [x[0],x[2],x[1]] if x[1]=='male' else [x[2],x[0],x[1]])"
   ]
  },
  {
   "cell_type": "code",
   "execution_count": null,
   "metadata": {
    "collapsed": true
   },
   "outputs": [],
   "source": []
  },
  {
   "cell_type": "code",
   "execution_count": 53,
   "metadata": {
    "collapsed": true
   },
   "outputs": [
    {
     "name": "stdout",
     "output_type": "stream",
     "text": [
      "2"
     ]
    },
    {
     "ename": "KeyboardInterrupt",
     "evalue": "",
     "output_type": "error",
     "traceback": [
      "\u001b[0;31m---------------------------------------------------------------------------\u001b[0m",
      "\u001b[0;31mKeyboardInterrupt\u001b[0m                         Traceback (most recent call last)",
      "\u001b[0;32m<ipython-input-53-0d92becd4070>\u001b[0m in \u001b[0;36m<module>\u001b[0;34m()\u001b[0m\n\u001b[1;32m     57\u001b[0m             \u001b[0mvalue\u001b[0m\u001b[0;34m=\u001b[0m\u001b[0;34m[\u001b[0m\u001b[0mj\u001b[0m \u001b[0;32mfor\u001b[0m \u001b[0mj\u001b[0m \u001b[0;32min\u001b[0m \u001b[0mtknzr\u001b[0m\u001b[0;34m.\u001b[0m\u001b[0mtokenize\u001b[0m\u001b[0;34m(\u001b[0m\u001b[0md\u001b[0m\u001b[0;34m[\u001b[0m\u001b[0;34m'sentence'\u001b[0m\u001b[0;34m]\u001b[0m\u001b[0;34m.\u001b[0m\u001b[0mvalues\u001b[0m\u001b[0;34m[\u001b[0m\u001b[0mt\u001b[0m\u001b[0;34m]\u001b[0m\u001b[0;34m)\u001b[0m\u001b[0;34m]\u001b[0m\u001b[0;34m\u001b[0m\u001b[0m\n\u001b[1;32m     58\u001b[0m             \u001b[0mvalue\u001b[0m\u001b[0;34m=\u001b[0m\u001b[0mnlp\u001b[0m\u001b[0;34m(\u001b[0m\u001b[0;34m' '\u001b[0m\u001b[0;34m.\u001b[0m\u001b[0mjoin\u001b[0m\u001b[0;34m(\u001b[0m\u001b[0mvalue\u001b[0m\u001b[0;34m)\u001b[0m\u001b[0;34m)\u001b[0m\u001b[0;34m.\u001b[0m\u001b[0m_\u001b[0m\u001b[0;34m.\u001b[0m\u001b[0mcoref_resolved\u001b[0m\u001b[0;34m\u001b[0m\u001b[0m\n\u001b[0;32m---> 59\u001b[0;31m             \u001b[0mdoc\u001b[0m \u001b[0;34m=\u001b[0m \u001b[0mnlp1\u001b[0m\u001b[0;34m(\u001b[0m\u001b[0mvalue\u001b[0m\u001b[0;34m)\u001b[0m\u001b[0;34m\u001b[0m\u001b[0m\n\u001b[0m\u001b[1;32m     60\u001b[0m             \u001b[0mdoc\u001b[0m\u001b[0;34m=\u001b[0m\u001b[0;34m[\u001b[0m\u001b[0mi\u001b[0m\u001b[0;34m.\u001b[0m\u001b[0mstring\u001b[0m\u001b[0;34m.\u001b[0m\u001b[0msplit\u001b[0m\u001b[0;34m(\u001b[0m\u001b[0;34m' '\u001b[0m\u001b[0;34m)\u001b[0m\u001b[0;34m[\u001b[0m\u001b[0;36m0\u001b[0m\u001b[0;34m]\u001b[0m \u001b[0;32mfor\u001b[0m \u001b[0mi\u001b[0m \u001b[0;32min\u001b[0m \u001b[0mdoc\u001b[0m\u001b[0;34m]\u001b[0m\u001b[0;34m\u001b[0m\u001b[0m\n\u001b[1;32m     61\u001b[0m             \u001b[0mi\u001b[0m\u001b[0;34m=\u001b[0m\u001b[0;34m[\u001b[0m\u001b[0mj\u001b[0m \u001b[0;32mfor\u001b[0m \u001b[0mj\u001b[0m \u001b[0;32min\u001b[0m \u001b[0mdoc\u001b[0m \u001b[0;32mif\u001b[0m \u001b[0;34m(\u001b[0m\u001b[0mlen\u001b[0m\u001b[0;34m(\u001b[0m\u001b[0mj\u001b[0m\u001b[0;34m)\u001b[0m\u001b[0;34m>\u001b[0m\u001b[0;36m1\u001b[0m\u001b[0;34m)\u001b[0m \u001b[0;34m&\u001b[0m \u001b[0;34m(\u001b[0m\u001b[0mj\u001b[0m \u001b[0;32mnot\u001b[0m \u001b[0;32min\u001b[0m \u001b[0mstring\u001b[0m\u001b[0;34m.\u001b[0m\u001b[0mpunctuation\u001b[0m\u001b[0;34m)\u001b[0m\u001b[0;34m]\u001b[0m\u001b[0;34m\u001b[0m\u001b[0m\n",
      "\u001b[0;32m/home/sysadmin/anaconda3/lib/python3.6/site-packages/spacy/language.py\u001b[0m in \u001b[0;36m__call__\u001b[0;34m(self, text, disable, component_cfg)\u001b[0m\n\u001b[1;32m    383\u001b[0m             \u001b[0;32mif\u001b[0m \u001b[0;32mnot\u001b[0m \u001b[0mhasattr\u001b[0m\u001b[0;34m(\u001b[0m\u001b[0mproc\u001b[0m\u001b[0;34m,\u001b[0m \u001b[0;34m\"__call__\"\u001b[0m\u001b[0;34m)\u001b[0m\u001b[0;34m:\u001b[0m\u001b[0;34m\u001b[0m\u001b[0m\n\u001b[1;32m    384\u001b[0m                 \u001b[0;32mraise\u001b[0m \u001b[0mValueError\u001b[0m\u001b[0;34m(\u001b[0m\u001b[0mErrors\u001b[0m\u001b[0;34m.\u001b[0m\u001b[0mE003\u001b[0m\u001b[0;34m.\u001b[0m\u001b[0mformat\u001b[0m\u001b[0;34m(\u001b[0m\u001b[0mcomponent\u001b[0m\u001b[0;34m=\u001b[0m\u001b[0mtype\u001b[0m\u001b[0;34m(\u001b[0m\u001b[0mproc\u001b[0m\u001b[0;34m)\u001b[0m\u001b[0;34m,\u001b[0m \u001b[0mname\u001b[0m\u001b[0;34m=\u001b[0m\u001b[0mname\u001b[0m\u001b[0;34m)\u001b[0m\u001b[0;34m)\u001b[0m\u001b[0;34m\u001b[0m\u001b[0m\n\u001b[0;32m--> 385\u001b[0;31m             \u001b[0mdoc\u001b[0m \u001b[0;34m=\u001b[0m \u001b[0mproc\u001b[0m\u001b[0;34m(\u001b[0m\u001b[0mdoc\u001b[0m\u001b[0;34m,\u001b[0m \u001b[0;34m**\u001b[0m\u001b[0mcomponent_cfg\u001b[0m\u001b[0;34m.\u001b[0m\u001b[0mget\u001b[0m\u001b[0;34m(\u001b[0m\u001b[0mname\u001b[0m\u001b[0;34m,\u001b[0m \u001b[0;34m{\u001b[0m\u001b[0;34m}\u001b[0m\u001b[0;34m)\u001b[0m\u001b[0;34m)\u001b[0m\u001b[0;34m\u001b[0m\u001b[0m\n\u001b[0m\u001b[1;32m    386\u001b[0m             \u001b[0;32mif\u001b[0m \u001b[0mdoc\u001b[0m \u001b[0;32mis\u001b[0m \u001b[0;32mNone\u001b[0m\u001b[0;34m:\u001b[0m\u001b[0;34m\u001b[0m\u001b[0m\n\u001b[1;32m    387\u001b[0m                 \u001b[0;32mraise\u001b[0m \u001b[0mValueError\u001b[0m\u001b[0;34m(\u001b[0m\u001b[0mErrors\u001b[0m\u001b[0;34m.\u001b[0m\u001b[0mE005\u001b[0m\u001b[0;34m.\u001b[0m\u001b[0mformat\u001b[0m\u001b[0;34m(\u001b[0m\u001b[0mname\u001b[0m\u001b[0;34m=\u001b[0m\u001b[0mname\u001b[0m\u001b[0;34m)\u001b[0m\u001b[0;34m)\u001b[0m\u001b[0;34m\u001b[0m\u001b[0m\n",
      "\u001b[0;32mnn_parser.pyx\u001b[0m in \u001b[0;36mspacy.syntax.nn_parser.Parser.__call__\u001b[0;34m()\u001b[0m\n",
      "\u001b[0;32mnn_parser.pyx\u001b[0m in \u001b[0;36mspacy.syntax.nn_parser.Parser.predict\u001b[0;34m()\u001b[0m\n",
      "\u001b[0;32mnn_parser.pyx\u001b[0m in \u001b[0;36mspacy.syntax.nn_parser.Parser.greedy_parse\u001b[0;34m()\u001b[0m\n",
      "\u001b[0;32m/home/sysadmin/anaconda3/lib/python3.6/site-packages/thinc/neural/_classes/model.py\u001b[0m in \u001b[0;36m__call__\u001b[0;34m(self, x)\u001b[0m\n\u001b[1;32m    163\u001b[0m             \u001b[0mMust\u001b[0m \u001b[0mmatch\u001b[0m \u001b[0mexpected\u001b[0m \u001b[0mshape\u001b[0m\u001b[0;34m\u001b[0m\u001b[0m\n\u001b[1;32m    164\u001b[0m         \"\"\"\n\u001b[0;32m--> 165\u001b[0;31m         \u001b[0;32mreturn\u001b[0m \u001b[0mself\u001b[0m\u001b[0;34m.\u001b[0m\u001b[0mpredict\u001b[0m\u001b[0;34m(\u001b[0m\u001b[0mx\u001b[0m\u001b[0;34m)\u001b[0m\u001b[0;34m\u001b[0m\u001b[0m\n\u001b[0m\u001b[1;32m    166\u001b[0m \u001b[0;34m\u001b[0m\u001b[0m\n\u001b[1;32m    167\u001b[0m     \u001b[0;32mdef\u001b[0m \u001b[0mpipe\u001b[0m\u001b[0;34m(\u001b[0m\u001b[0mself\u001b[0m\u001b[0;34m,\u001b[0m \u001b[0mstream\u001b[0m\u001b[0;34m,\u001b[0m \u001b[0mbatch_size\u001b[0m\u001b[0;34m=\u001b[0m\u001b[0;36m128\u001b[0m\u001b[0;34m)\u001b[0m\u001b[0;34m:\u001b[0m\u001b[0;34m\u001b[0m\u001b[0m\n",
      "\u001b[0;32m/home/sysadmin/anaconda3/lib/python3.6/site-packages/thinc/neural/_classes/model.py\u001b[0m in \u001b[0;36mpredict\u001b[0;34m(self, X)\u001b[0m\n\u001b[1;32m    127\u001b[0m \u001b[0;34m\u001b[0m\u001b[0m\n\u001b[1;32m    128\u001b[0m     \u001b[0;32mdef\u001b[0m \u001b[0mpredict\u001b[0m\u001b[0;34m(\u001b[0m\u001b[0mself\u001b[0m\u001b[0;34m,\u001b[0m \u001b[0mX\u001b[0m\u001b[0;34m)\u001b[0m\u001b[0;34m:\u001b[0m\u001b[0;34m\u001b[0m\u001b[0m\n\u001b[0;32m--> 129\u001b[0;31m         \u001b[0my\u001b[0m\u001b[0;34m,\u001b[0m \u001b[0m_\u001b[0m \u001b[0;34m=\u001b[0m \u001b[0mself\u001b[0m\u001b[0;34m.\u001b[0m\u001b[0mbegin_update\u001b[0m\u001b[0;34m(\u001b[0m\u001b[0mX\u001b[0m\u001b[0;34m,\u001b[0m \u001b[0mdrop\u001b[0m\u001b[0;34m=\u001b[0m\u001b[0;32mNone\u001b[0m\u001b[0;34m)\u001b[0m\u001b[0;34m\u001b[0m\u001b[0m\n\u001b[0m\u001b[1;32m    130\u001b[0m         \u001b[0;32mreturn\u001b[0m \u001b[0my\u001b[0m\u001b[0;34m\u001b[0m\u001b[0m\n\u001b[1;32m    131\u001b[0m \u001b[0;34m\u001b[0m\u001b[0m\n",
      "\u001b[0;32m_parser_model.pyx\u001b[0m in \u001b[0;36mspacy.syntax._parser_model.ParserModel.begin_update\u001b[0;34m()\u001b[0m\n",
      "\u001b[0;32m_parser_model.pyx\u001b[0m in \u001b[0;36mspacy.syntax._parser_model.ParserStepModel.__init__\u001b[0;34m()\u001b[0m\n",
      "\u001b[0;32m/home/sysadmin/anaconda3/lib/python3.6/site-packages/thinc/neural/_classes/feed_forward.py\u001b[0m in \u001b[0;36mbegin_update\u001b[0;34m(self, X, drop)\u001b[0m\n\u001b[1;32m     44\u001b[0m         \u001b[0mcallbacks\u001b[0m \u001b[0;34m=\u001b[0m \u001b[0;34m[\u001b[0m\u001b[0;34m]\u001b[0m\u001b[0;34m\u001b[0m\u001b[0m\n\u001b[1;32m     45\u001b[0m         \u001b[0;32mfor\u001b[0m \u001b[0mlayer\u001b[0m \u001b[0;32min\u001b[0m \u001b[0mself\u001b[0m\u001b[0;34m.\u001b[0m\u001b[0m_layers\u001b[0m\u001b[0;34m:\u001b[0m\u001b[0;34m\u001b[0m\u001b[0m\n\u001b[0;32m---> 46\u001b[0;31m             \u001b[0mX\u001b[0m\u001b[0;34m,\u001b[0m \u001b[0minc_layer_grad\u001b[0m \u001b[0;34m=\u001b[0m \u001b[0mlayer\u001b[0m\u001b[0;34m.\u001b[0m\u001b[0mbegin_update\u001b[0m\u001b[0;34m(\u001b[0m\u001b[0mX\u001b[0m\u001b[0;34m,\u001b[0m \u001b[0mdrop\u001b[0m\u001b[0;34m=\u001b[0m\u001b[0mdrop\u001b[0m\u001b[0;34m)\u001b[0m\u001b[0;34m\u001b[0m\u001b[0m\n\u001b[0m\u001b[1;32m     47\u001b[0m             \u001b[0mcallbacks\u001b[0m\u001b[0;34m.\u001b[0m\u001b[0mappend\u001b[0m\u001b[0;34m(\u001b[0m\u001b[0minc_layer_grad\u001b[0m\u001b[0;34m)\u001b[0m\u001b[0;34m\u001b[0m\u001b[0m\n\u001b[1;32m     48\u001b[0m \u001b[0;34m\u001b[0m\u001b[0m\n",
      "\u001b[0;32m/home/sysadmin/anaconda3/lib/python3.6/site-packages/thinc/api.py\u001b[0m in \u001b[0;36mbegin_update\u001b[0;34m(seqs_in, drop)\u001b[0m\n\u001b[1;32m    262\u001b[0m     \u001b[0;32mdef\u001b[0m \u001b[0mbegin_update\u001b[0m\u001b[0;34m(\u001b[0m\u001b[0mseqs_in\u001b[0m\u001b[0;34m,\u001b[0m \u001b[0mdrop\u001b[0m\u001b[0;34m=\u001b[0m\u001b[0;36m0.0\u001b[0m\u001b[0;34m)\u001b[0m\u001b[0;34m:\u001b[0m\u001b[0;34m\u001b[0m\u001b[0m\n\u001b[1;32m    263\u001b[0m         \u001b[0mlengths\u001b[0m \u001b[0;34m=\u001b[0m \u001b[0mlayer\u001b[0m\u001b[0;34m.\u001b[0m\u001b[0mops\u001b[0m\u001b[0;34m.\u001b[0m\u001b[0masarray\u001b[0m\u001b[0;34m(\u001b[0m\u001b[0;34m[\u001b[0m\u001b[0mlen\u001b[0m\u001b[0;34m(\u001b[0m\u001b[0mseq\u001b[0m\u001b[0;34m)\u001b[0m \u001b[0;32mfor\u001b[0m \u001b[0mseq\u001b[0m \u001b[0;32min\u001b[0m \u001b[0mseqs_in\u001b[0m\u001b[0;34m]\u001b[0m\u001b[0;34m)\u001b[0m\u001b[0;34m\u001b[0m\u001b[0m\n\u001b[0;32m--> 264\u001b[0;31m         \u001b[0mX\u001b[0m\u001b[0;34m,\u001b[0m \u001b[0mbp_layer\u001b[0m \u001b[0;34m=\u001b[0m \u001b[0mlayer\u001b[0m\u001b[0;34m.\u001b[0m\u001b[0mbegin_update\u001b[0m\u001b[0;34m(\u001b[0m\u001b[0mlayer\u001b[0m\u001b[0;34m.\u001b[0m\u001b[0mops\u001b[0m\u001b[0;34m.\u001b[0m\u001b[0mflatten\u001b[0m\u001b[0;34m(\u001b[0m\u001b[0mseqs_in\u001b[0m\u001b[0;34m,\u001b[0m \u001b[0mpad\u001b[0m\u001b[0;34m=\u001b[0m\u001b[0mpad\u001b[0m\u001b[0;34m)\u001b[0m\u001b[0;34m,\u001b[0m \u001b[0mdrop\u001b[0m\u001b[0;34m=\u001b[0m\u001b[0mdrop\u001b[0m\u001b[0;34m)\u001b[0m\u001b[0;34m\u001b[0m\u001b[0m\n\u001b[0m\u001b[1;32m    265\u001b[0m         \u001b[0;32mif\u001b[0m \u001b[0mbp_layer\u001b[0m \u001b[0;32mis\u001b[0m \u001b[0;32mNone\u001b[0m\u001b[0;34m:\u001b[0m\u001b[0;34m\u001b[0m\u001b[0m\n\u001b[1;32m    266\u001b[0m             \u001b[0;32mreturn\u001b[0m \u001b[0mlayer\u001b[0m\u001b[0;34m.\u001b[0m\u001b[0mops\u001b[0m\u001b[0;34m.\u001b[0m\u001b[0munflatten\u001b[0m\u001b[0;34m(\u001b[0m\u001b[0mX\u001b[0m\u001b[0;34m,\u001b[0m \u001b[0mlengths\u001b[0m\u001b[0;34m,\u001b[0m \u001b[0mpad\u001b[0m\u001b[0;34m=\u001b[0m\u001b[0mpad\u001b[0m\u001b[0;34m)\u001b[0m\u001b[0;34m,\u001b[0m \u001b[0;32mNone\u001b[0m\u001b[0;34m\u001b[0m\u001b[0m\n",
      "\u001b[0;32m/home/sysadmin/anaconda3/lib/python3.6/site-packages/thinc/neural/_classes/feed_forward.py\u001b[0m in \u001b[0;36mbegin_update\u001b[0;34m(self, X, drop)\u001b[0m\n\u001b[1;32m     44\u001b[0m         \u001b[0mcallbacks\u001b[0m \u001b[0;34m=\u001b[0m \u001b[0;34m[\u001b[0m\u001b[0;34m]\u001b[0m\u001b[0;34m\u001b[0m\u001b[0m\n\u001b[1;32m     45\u001b[0m         \u001b[0;32mfor\u001b[0m \u001b[0mlayer\u001b[0m \u001b[0;32min\u001b[0m \u001b[0mself\u001b[0m\u001b[0;34m.\u001b[0m\u001b[0m_layers\u001b[0m\u001b[0;34m:\u001b[0m\u001b[0;34m\u001b[0m\u001b[0m\n\u001b[0;32m---> 46\u001b[0;31m             \u001b[0mX\u001b[0m\u001b[0;34m,\u001b[0m \u001b[0minc_layer_grad\u001b[0m \u001b[0;34m=\u001b[0m \u001b[0mlayer\u001b[0m\u001b[0;34m.\u001b[0m\u001b[0mbegin_update\u001b[0m\u001b[0;34m(\u001b[0m\u001b[0mX\u001b[0m\u001b[0;34m,\u001b[0m \u001b[0mdrop\u001b[0m\u001b[0;34m=\u001b[0m\u001b[0mdrop\u001b[0m\u001b[0;34m)\u001b[0m\u001b[0;34m\u001b[0m\u001b[0m\n\u001b[0m\u001b[1;32m     47\u001b[0m             \u001b[0mcallbacks\u001b[0m\u001b[0;34m.\u001b[0m\u001b[0mappend\u001b[0m\u001b[0;34m(\u001b[0m\u001b[0minc_layer_grad\u001b[0m\u001b[0;34m)\u001b[0m\u001b[0;34m\u001b[0m\u001b[0m\n\u001b[1;32m     48\u001b[0m \u001b[0;34m\u001b[0m\u001b[0m\n",
      "\u001b[0;32m/home/sysadmin/anaconda3/lib/python3.6/site-packages/thinc/api.py\u001b[0m in \u001b[0;36muniqued_fwd\u001b[0;34m(X, drop)\u001b[0m\n\u001b[1;32m    346\u001b[0m         )\n\u001b[1;32m    347\u001b[0m         \u001b[0mX_uniq\u001b[0m \u001b[0;34m=\u001b[0m \u001b[0mlayer\u001b[0m\u001b[0;34m.\u001b[0m\u001b[0mops\u001b[0m\u001b[0;34m.\u001b[0m\u001b[0mxp\u001b[0m\u001b[0;34m.\u001b[0m\u001b[0mascontiguousarray\u001b[0m\u001b[0;34m(\u001b[0m\u001b[0mX\u001b[0m\u001b[0;34m[\u001b[0m\u001b[0mind\u001b[0m\u001b[0;34m]\u001b[0m\u001b[0;34m)\u001b[0m\u001b[0;34m\u001b[0m\u001b[0m\n\u001b[0;32m--> 348\u001b[0;31m         \u001b[0mY_uniq\u001b[0m\u001b[0;34m,\u001b[0m \u001b[0mbp_Y_uniq\u001b[0m \u001b[0;34m=\u001b[0m \u001b[0mlayer\u001b[0m\u001b[0;34m.\u001b[0m\u001b[0mbegin_update\u001b[0m\u001b[0;34m(\u001b[0m\u001b[0mX_uniq\u001b[0m\u001b[0;34m,\u001b[0m \u001b[0mdrop\u001b[0m\u001b[0;34m=\u001b[0m\u001b[0mdrop\u001b[0m\u001b[0;34m)\u001b[0m\u001b[0;34m\u001b[0m\u001b[0m\n\u001b[0m\u001b[1;32m    349\u001b[0m         \u001b[0mY\u001b[0m \u001b[0;34m=\u001b[0m \u001b[0mY_uniq\u001b[0m\u001b[0;34m[\u001b[0m\u001b[0minv\u001b[0m\u001b[0;34m]\u001b[0m\u001b[0;34m.\u001b[0m\u001b[0mreshape\u001b[0m\u001b[0;34m(\u001b[0m\u001b[0;34m(\u001b[0m\u001b[0mX\u001b[0m\u001b[0;34m.\u001b[0m\u001b[0mshape\u001b[0m\u001b[0;34m[\u001b[0m\u001b[0;36m0\u001b[0m\u001b[0;34m]\u001b[0m\u001b[0;34m,\u001b[0m\u001b[0;34m)\u001b[0m \u001b[0;34m+\u001b[0m \u001b[0mY_uniq\u001b[0m\u001b[0;34m.\u001b[0m\u001b[0mshape\u001b[0m\u001b[0;34m[\u001b[0m\u001b[0;36m1\u001b[0m\u001b[0;34m:\u001b[0m\u001b[0;34m]\u001b[0m\u001b[0;34m)\u001b[0m\u001b[0;34m\u001b[0m\u001b[0m\n\u001b[1;32m    350\u001b[0m \u001b[0;34m\u001b[0m\u001b[0m\n",
      "\u001b[0;32m/home/sysadmin/anaconda3/lib/python3.6/site-packages/thinc/neural/_classes/feed_forward.py\u001b[0m in \u001b[0;36mbegin_update\u001b[0;34m(self, X, drop)\u001b[0m\n\u001b[1;32m     44\u001b[0m         \u001b[0mcallbacks\u001b[0m \u001b[0;34m=\u001b[0m \u001b[0;34m[\u001b[0m\u001b[0;34m]\u001b[0m\u001b[0;34m\u001b[0m\u001b[0m\n\u001b[1;32m     45\u001b[0m         \u001b[0;32mfor\u001b[0m \u001b[0mlayer\u001b[0m \u001b[0;32min\u001b[0m \u001b[0mself\u001b[0m\u001b[0;34m.\u001b[0m\u001b[0m_layers\u001b[0m\u001b[0;34m:\u001b[0m\u001b[0;34m\u001b[0m\u001b[0m\n\u001b[0;32m---> 46\u001b[0;31m             \u001b[0mX\u001b[0m\u001b[0;34m,\u001b[0m \u001b[0minc_layer_grad\u001b[0m \u001b[0;34m=\u001b[0m \u001b[0mlayer\u001b[0m\u001b[0;34m.\u001b[0m\u001b[0mbegin_update\u001b[0m\u001b[0;34m(\u001b[0m\u001b[0mX\u001b[0m\u001b[0;34m,\u001b[0m \u001b[0mdrop\u001b[0m\u001b[0;34m=\u001b[0m\u001b[0mdrop\u001b[0m\u001b[0;34m)\u001b[0m\u001b[0;34m\u001b[0m\u001b[0m\n\u001b[0m\u001b[1;32m     47\u001b[0m             \u001b[0mcallbacks\u001b[0m\u001b[0;34m.\u001b[0m\u001b[0mappend\u001b[0m\u001b[0;34m(\u001b[0m\u001b[0minc_layer_grad\u001b[0m\u001b[0;34m)\u001b[0m\u001b[0;34m\u001b[0m\u001b[0m\n\u001b[1;32m     48\u001b[0m \u001b[0;34m\u001b[0m\u001b[0m\n",
      "\u001b[0;32m/home/sysadmin/anaconda3/lib/python3.6/site-packages/thinc/neural/_classes/layernorm.py\u001b[0m in \u001b[0;36mbegin_update\u001b[0;34m(self, X, drop)\u001b[0m\n\u001b[1;32m     54\u001b[0m     \u001b[0;32mdef\u001b[0m \u001b[0mbegin_update\u001b[0m\u001b[0;34m(\u001b[0m\u001b[0mself\u001b[0m\u001b[0;34m,\u001b[0m \u001b[0mX\u001b[0m\u001b[0;34m,\u001b[0m \u001b[0mdrop\u001b[0m\u001b[0;34m=\u001b[0m\u001b[0;36m0.0\u001b[0m\u001b[0;34m)\u001b[0m\u001b[0;34m:\u001b[0m\u001b[0;34m\u001b[0m\u001b[0m\n\u001b[1;32m     55\u001b[0m         \u001b[0mX\u001b[0m\u001b[0;34m,\u001b[0m \u001b[0mbackprop_child\u001b[0m \u001b[0;34m=\u001b[0m \u001b[0mself\u001b[0m\u001b[0;34m.\u001b[0m\u001b[0mchild\u001b[0m\u001b[0;34m.\u001b[0m\u001b[0mbegin_update\u001b[0m\u001b[0;34m(\u001b[0m\u001b[0mX\u001b[0m\u001b[0;34m,\u001b[0m \u001b[0mdrop\u001b[0m\u001b[0;34m=\u001b[0m\u001b[0;36m0.0\u001b[0m\u001b[0;34m)\u001b[0m\u001b[0;34m\u001b[0m\u001b[0m\n\u001b[0;32m---> 56\u001b[0;31m         \u001b[0mN\u001b[0m\u001b[0;34m,\u001b[0m \u001b[0mmu\u001b[0m\u001b[0;34m,\u001b[0m \u001b[0mvar\u001b[0m \u001b[0;34m=\u001b[0m \u001b[0m_get_moments\u001b[0m\u001b[0;34m(\u001b[0m\u001b[0mself\u001b[0m\u001b[0;34m.\u001b[0m\u001b[0mops\u001b[0m\u001b[0;34m,\u001b[0m \u001b[0mX\u001b[0m\u001b[0;34m)\u001b[0m\u001b[0;34m\u001b[0m\u001b[0m\n\u001b[0m\u001b[1;32m     57\u001b[0m \u001b[0;34m\u001b[0m\u001b[0m\n\u001b[1;32m     58\u001b[0m         \u001b[0mXhat\u001b[0m \u001b[0;34m=\u001b[0m \u001b[0m_forward\u001b[0m\u001b[0;34m(\u001b[0m\u001b[0mself\u001b[0m\u001b[0;34m.\u001b[0m\u001b[0mops\u001b[0m\u001b[0;34m,\u001b[0m \u001b[0mX\u001b[0m\u001b[0;34m,\u001b[0m \u001b[0mmu\u001b[0m\u001b[0;34m,\u001b[0m \u001b[0mvar\u001b[0m\u001b[0;34m)\u001b[0m\u001b[0;34m\u001b[0m\u001b[0m\n",
      "\u001b[0;32m/home/sysadmin/anaconda3/lib/python3.6/site-packages/thinc/neural/_classes/layernorm.py\u001b[0m in \u001b[0;36m_get_moments\u001b[0;34m(ops, X)\u001b[0m\n\u001b[1;32m     93\u001b[0m     \u001b[0mmu\u001b[0m \u001b[0;34m=\u001b[0m \u001b[0mX\u001b[0m\u001b[0;34m.\u001b[0m\u001b[0mmean\u001b[0m\u001b[0;34m(\u001b[0m\u001b[0maxis\u001b[0m\u001b[0;34m=\u001b[0m\u001b[0;36m1\u001b[0m\u001b[0;34m,\u001b[0m \u001b[0mkeepdims\u001b[0m\u001b[0;34m=\u001b[0m\u001b[0;32mTrue\u001b[0m\u001b[0;34m)\u001b[0m\u001b[0;34m\u001b[0m\u001b[0m\n\u001b[1;32m     94\u001b[0m     \u001b[0mvar\u001b[0m \u001b[0;34m=\u001b[0m \u001b[0mX\u001b[0m\u001b[0;34m.\u001b[0m\u001b[0mvar\u001b[0m\u001b[0;34m(\u001b[0m\u001b[0maxis\u001b[0m\u001b[0;34m=\u001b[0m\u001b[0;36m1\u001b[0m\u001b[0;34m,\u001b[0m \u001b[0mkeepdims\u001b[0m\u001b[0;34m=\u001b[0m\u001b[0;32mTrue\u001b[0m\u001b[0;34m)\u001b[0m \u001b[0;34m+\u001b[0m \u001b[0;36m1e-08\u001b[0m\u001b[0;34m\u001b[0m\u001b[0m\n\u001b[0;32m---> 95\u001b[0;31m     \u001b[0;32mreturn\u001b[0m \u001b[0mops\u001b[0m\u001b[0;34m.\u001b[0m\u001b[0masarray\u001b[0m\u001b[0;34m(\u001b[0m\u001b[0;34m[\u001b[0m\u001b[0mX\u001b[0m\u001b[0;34m.\u001b[0m\u001b[0mshape\u001b[0m\u001b[0;34m[\u001b[0m\u001b[0;36m1\u001b[0m\u001b[0;34m]\u001b[0m\u001b[0;34m]\u001b[0m\u001b[0;34m,\u001b[0m \u001b[0mdtype\u001b[0m\u001b[0;34m=\u001b[0m\u001b[0;34m\"f\"\u001b[0m\u001b[0;34m)\u001b[0m\u001b[0;34m,\u001b[0m \u001b[0mmu\u001b[0m\u001b[0;34m,\u001b[0m \u001b[0mvar\u001b[0m\u001b[0;34m\u001b[0m\u001b[0m\n\u001b[0m\u001b[1;32m     96\u001b[0m \u001b[0;34m\u001b[0m\u001b[0m\n\u001b[1;32m     97\u001b[0m \u001b[0;34m\u001b[0m\u001b[0m\n",
      "\u001b[0;31mKeyboardInterrupt\u001b[0m: "
     ]
    }
   ],
   "source": [
    "all_pos=[]\n",
    "gap=5\n",
    "for i,n in enumerate(movie_type['name'].values):\n",
    "    try:\n",
    "        flushPrint(i)\n",
    "        f = open('./imsdb/'+n+'.txt',\"r\")\n",
    "        rawtext = f.read()\n",
    "        f.close()\n",
    "        lines = get_maintext_lines_script(rawtext)\n",
    "        lines1=[]\n",
    "        for i in range(len(lines)-1):\n",
    "            if (0<len(tknzr.tokenize(lines[i]))<4):\n",
    "                if (tknzr.tokenize(lines[i])[-1][-1] not in string.punctuation) & (len(tknzr.tokenize(lines[i]))>0):\n",
    "                    if lines[i+1]!='':\n",
    "                        lines1.append(lines[i]+'\\n\\n')\n",
    "                    else:\n",
    "                        lines1.append(lines[i])\n",
    "            else:\n",
    "                lines1.append(lines[i])\n",
    "        chunked = chunkify(lines1)\n",
    "        male=movie_type[movie_type['name']==n]['character'].values[0][0]\n",
    "        female=movie_type[movie_type['name']==n]['character'].values[0][1]\n",
    "\n",
    "        d=pd.DataFrame()\n",
    "        d['sentence']=chunked\n",
    "        d['index']=d.index\n",
    "        d['include']=d['sentence'].apply(lambda x: 'no' if ([i.lower() for i in tknzr.tokenize(x)][-1][-1] \\\n",
    "                        not in string.punctuation) & (len([i.lower() for i in tknzr.tokenize(x)])<6) else 'yes')\n",
    "        d=d[d['include']=='yes']\n",
    "        d=d.reset_index(drop=False)\n",
    "\n",
    "        d['f']=d['sentence'].apply(lambda x: 'yes' if female.lower() in [i.lower() for i in tknzr.tokenize(x)] else 'no')\n",
    "        d['m']=d['sentence'].apply(lambda x: 'yes' if male.lower() in [i.lower() for i in tknzr.tokenize(x)] else 'no')\n",
    "        d['a']=d['sentence'].apply(lambda x: 'yes' if (male.lower() in [i.lower() for i in tknzr.tokenize(x)]) or (female.lower() in [i.lower() for i in tknzr.tokenize(x)]) else 'no')\n",
    "\n",
    "        tp_f=d[d['f']=='yes'].index.values\n",
    "        tp_m=d[d['m']=='yes'].index.values\n",
    "\n",
    "        female_all=[]\n",
    "        for t in tp_f:\n",
    "            value=[j for j in tknzr.tokenize(d['sentence'].values[t])]\n",
    "            value=nlp(' '.join(value))._.coref_resolved\n",
    "            doc = nlp1(value)\n",
    "            doc=[i.string.split(' ')[0] for i in doc]\n",
    "            i=[j for j in doc if (len(j)>1) & (j not in string.punctuation)]\n",
    "            indices = (j for j,word in enumerate(i) if word.lower()==female.lower())\n",
    "            neighbors = []\n",
    "            for ind in indices:\n",
    "                if ind<gap:\n",
    "                    a=i[0:ind]+i[ind+1:ind+1+gap]\n",
    "                    neighbors.append([j.lower() for j in a if (j not in names) &(j.lower() not in stopword)])\n",
    "                else:\n",
    "                    neighbors.append([j.lower() for j in i[ind-gap:ind]+i[ind+1:ind+1+gap] if (j not in names) &(j.lower() not in stopword)])\n",
    "            female_all.append(neighbors)\n",
    "\n",
    "        male_all=[]\n",
    "        for t in tp_m:\n",
    "            value=[j for j in tknzr.tokenize(d['sentence'].values[t])]\n",
    "            value=nlp(' '.join(value))._.coref_resolved\n",
    "            doc = nlp1(value)\n",
    "            doc=[i.string.split(' ')[0] for i in doc]\n",
    "            i=[j for j in doc if (len(j)>1) & (j not in string.punctuation)]\n",
    "            indices = (j for j,word in enumerate(i) if word.lower()==male.lower())\n",
    "            neighbors = []\n",
    "            for ind in indices:\n",
    "                if ind<gap:\n",
    "                    a=i[0:ind]+i[ind+1:ind+1+gap]\n",
    "                    neighbors.append([j.lower() for j in a if (j not in names) &(j.lower() not in stopword)])\n",
    "                else:\n",
    "                    neighbors.append([j.lower() for j in i[ind-gap:ind]+i[ind+1:ind+1+gap] if (j not in names) &(j.lower() not in stopword)])\n",
    "            male_all.append(neighbors)\n",
    "        all_pos.append([n,female_all,male_all,tp_f,tp_m])\n",
    "    except Exception as e:\n",
    "        print(e)\n",
    "        pass"
   ]
  },
  {
   "cell_type": "code",
   "execution_count": 59,
   "metadata": {
    "collapsed": true
   },
   "outputs": [],
   "source": [
    "file=[i[0] for i in all_pos]\n",
    "female_all=[i[1] for i in all_pos]\n",
    "male_all=[i[2] for i in all_pos]\n",
    "tp_f=[i[3] for i in all_pos]\n",
    "tp_m=[i[4] for i in all_pos]\n",
    "\n",
    "diction1=dict(zip(file,female_all))\n",
    "diction2=dict(zip(file,male_all))\n",
    "diction3=dict(zip(file,tp_f))\n",
    "diction4=dict(zip(file,tp_m))\n",
    "\n",
    "\n",
    "movie_type['female_all']=movie_type['name'].apply(lambda x: diction1[x] if x in diction1 else np.nan)\n",
    "movie_type['male_all']=movie_type['name'].apply(lambda x: diction2[x] if x in diction2 else np.nan)\n",
    "movie_type['tp_f']=movie_type['name'].apply(lambda x: diction3[x] if x in diction3 else np.nan)\n",
    "movie_type['tp_m']=movie_type['name'].apply(lambda x: diction4[x] if x in diction4 else np.nan)"
   ]
  },
  {
   "cell_type": "code",
   "execution_count": null,
   "metadata": {
    "collapsed": true
   },
   "outputs": [],
   "source": [
    "movie_type.to_csv('./movie_type_e2.csv',index=False)"
   ]
  },
  {
   "cell_type": "code",
   "execution_count": null,
   "metadata": {
    "collapsed": true
   },
   "outputs": [],
   "source": []
  },
  {
   "cell_type": "code",
   "execution_count": null,
   "metadata": {
    "collapsed": true
   },
   "outputs": [],
   "source": []
  },
  {
   "cell_type": "code",
   "execution_count": 47,
   "metadata": {
    "scrolled": true
   },
   "outputs": [],
   "source": [
    "# gap=5\n",
    "# f = open('./imsdb/'+'12-Years-a-Slave'+'.txt',\"r\")\n",
    "# rawtext = f.read()\n",
    "# f.close()\n",
    "# lines = get_maintext_lines_script(rawtext)\n",
    "# lines1=[]\n",
    "# for i in range(len(lines)-1):\n",
    "#     if (0<len(tknzr.tokenize(lines[i]))<4):\n",
    "#         if (tknzr.tokenize(lines[i])[-1][-1] not in string.punctuation) & (len(tknzr.tokenize(lines[i]))>0):\n",
    "#             if lines[i+1]!='':\n",
    "#                 lines1.append(lines[i]+'\\n\\n')\n",
    "#             else:\n",
    "#                 lines1.append(lines[i])\n",
    "#     else:\n",
    "#         lines1.append(lines[i])\n",
    "# chunked = chunkify(lines1)\n",
    "# male=movie_type[movie_type['name']=='12-Years-a-Slave']['character'].values[0][0]\n",
    "# female=movie_type[movie_type['name']=='12-Years-a-Slave']['character'].values[0][1]\n",
    "\n",
    "# d=pd.DataFrame()\n",
    "# d['sentence']=chunked\n",
    "# d['index']=d.index\n",
    "# d['include']=d['sentence'].apply(lambda x: 'no' if ([i.lower() for i in tknzr.tokenize(x)][-1][-1] \\\n",
    "#                 not in string.punctuation) & (len([i.lower() for i in tknzr.tokenize(x)])<6) else 'yes')\n",
    "# d=d[d['include']=='yes']\n",
    "# d=d.reset_index(drop=False)\n",
    "\n",
    "# d['f']=d['sentence'].apply(lambda x: 'yes' if female.lower() in [i.lower() for i in tknzr.tokenize(x)] else 'no')\n",
    "# d['m']=d['sentence'].apply(lambda x: 'yes' if male.lower() in [i.lower() for i in tknzr.tokenize(x)] else 'no')\n",
    "# d['a']=d['sentence'].apply(lambda x: 'yes' if (male.lower() in [i.lower() for i in tknzr.tokenize(x)]) or (female.lower() in [i.lower() for i in tknzr.tokenize(x)]) else 'no')\n",
    "\n",
    "# tp_f=d[d['f']=='yes'].index.values\n",
    "# tp_m=d[d['f']=='yes'].index.values\n",
    "\n",
    "# female_all=[]\n",
    "# for t in tp_f:\n",
    "#     value=[j for j in tknzr.tokenize(d['sentence'].values[t])]\n",
    "#     value=nlp(' '.join(value))._.coref_resolved\n",
    "#     doc = nlp1(value)\n",
    "#     doc=[i.string.split(' ')[0] for i in doc]\n",
    "#     i=[j for j in doc if (len(j)>1) & (j not in string.punctuation)]\n",
    "#     indices = (j for j,word in enumerate(i) if word.lower()==female.lower())\n",
    "#     neighbors = []\n",
    "#     for ind in indices:\n",
    "#         if ind<gap:\n",
    "#             a=i[0:ind]+i[ind+1:ind+1+gap]\n",
    "#             neighbors.append([j.lower() for j in a if (j not in names) &(j.lower() not in stopword)])\n",
    "#         else:\n",
    "#             neighbors.append([j.lower() for j in i[ind-gap:ind]+i[ind+1:ind+1+gap] if (j not in names) &(j.lower() not in stopword)])\n",
    "#     female_all.append(neighbors)\n",
    "    \n",
    "# male_all=[]\n",
    "# for t in tp_m:\n",
    "#     value=[j for j in tknzr.tokenize(d['sentence'].values[t])]\n",
    "#     value=nlp(' '.join(value))._.coref_resolved\n",
    "#     doc = nlp1(value)\n",
    "#     doc=[i.string.split(' ')[0] for i in doc]\n",
    "#     i=[j for j in doc if (len(j)>1) & (j not in string.punctuation)]\n",
    "#     indices = (j for j,word in enumerate(i) if word.lower()==male.lower())\n",
    "#     neighbors = []\n",
    "#     for ind in indices:\n",
    "#         if ind<gap:\n",
    "#             a=i[0:ind]+i[ind+1:ind+1+gap]\n",
    "#             neighbors.append([j.lower() for j in a if (j not in names) &(j.lower() not in stopword)])\n",
    "#         else:\n",
    "#             neighbors.append([j.lower() for j in i[ind-gap:ind]+i[ind+1:ind+1+gap] if (j not in names) &(j.lower() not in stopword)])\n",
    "#     male_all.append(neighbors)"
   ]
  },
  {
   "cell_type": "code",
   "execution_count": null,
   "metadata": {
    "collapsed": true
   },
   "outputs": [],
   "source": []
  },
  {
   "cell_type": "code",
   "execution_count": null,
   "metadata": {
    "collapsed": true
   },
   "outputs": [],
   "source": []
  },
  {
   "cell_type": "code",
   "execution_count": null,
   "metadata": {
    "collapsed": true
   },
   "outputs": [],
   "source": []
  },
  {
   "cell_type": "code",
   "execution_count": null,
   "metadata": {
    "collapsed": true
   },
   "outputs": [],
   "source": []
  },
  {
   "cell_type": "code",
   "execution_count": 116,
   "metadata": {
    "collapsed": true
   },
   "outputs": [
    {
     "name": "stdout",
     "output_type": "stream",
     "text": [
      "2"
     ]
    },
    {
     "ename": "KeyboardInterrupt",
     "evalue": "",
     "output_type": "error",
     "traceback": [
      "\u001b[0;31m---------------------------------------------------------------------------\u001b[0m",
      "\u001b[0;31mKeyboardInterrupt\u001b[0m                         Traceback (most recent call last)",
      "\u001b[0;32m<ipython-input-116-dd35d1f02794>\u001b[0m in \u001b[0;36m<module>\u001b[0;34m()\u001b[0m\n\u001b[1;32m     44\u001b[0m             \u001b[0mf_adj\u001b[0m\u001b[0;34m=\u001b[0m\u001b[0;34m[\u001b[0m\u001b[0;34m]\u001b[0m\u001b[0;34m\u001b[0m\u001b[0m\n\u001b[1;32m     45\u001b[0m             \u001b[0mvalue\u001b[0m\u001b[0;34m=\u001b[0m\u001b[0;34m[\u001b[0m\u001b[0mj\u001b[0m \u001b[0;32mfor\u001b[0m \u001b[0mj\u001b[0m \u001b[0;32min\u001b[0m \u001b[0mtknzr\u001b[0m\u001b[0;34m.\u001b[0m\u001b[0mtokenize\u001b[0m\u001b[0;34m(\u001b[0m\u001b[0md\u001b[0m\u001b[0;34m[\u001b[0m\u001b[0;34m'sentence'\u001b[0m\u001b[0;34m]\u001b[0m\u001b[0;34m.\u001b[0m\u001b[0mvalues\u001b[0m\u001b[0;34m[\u001b[0m\u001b[0mt\u001b[0m\u001b[0;34m]\u001b[0m\u001b[0;34m)\u001b[0m\u001b[0;34m]\u001b[0m\u001b[0;34m\u001b[0m\u001b[0m\n\u001b[0;32m---> 46\u001b[0;31m             \u001b[0mvalue\u001b[0m\u001b[0;34m=\u001b[0m\u001b[0mnlp\u001b[0m\u001b[0;34m(\u001b[0m\u001b[0;34m' '\u001b[0m\u001b[0;34m.\u001b[0m\u001b[0mjoin\u001b[0m\u001b[0;34m(\u001b[0m\u001b[0mvalue\u001b[0m\u001b[0;34m)\u001b[0m\u001b[0;34m)\u001b[0m\u001b[0;34m.\u001b[0m\u001b[0m_\u001b[0m\u001b[0;34m.\u001b[0m\u001b[0mcoref_resolved\u001b[0m\u001b[0;34m\u001b[0m\u001b[0m\n\u001b[0m\u001b[1;32m     47\u001b[0m             \u001b[0mdoc\u001b[0m \u001b[0;34m=\u001b[0m \u001b[0mnlp1\u001b[0m\u001b[0;34m(\u001b[0m\u001b[0mvalue\u001b[0m\u001b[0;34m)\u001b[0m\u001b[0;34m\u001b[0m\u001b[0m\n\u001b[1;32m     48\u001b[0m             \u001b[0;32mfor\u001b[0m \u001b[0mtoken\u001b[0m \u001b[0;32min\u001b[0m \u001b[0mdoc\u001b[0m\u001b[0;34m:\u001b[0m\u001b[0;34m\u001b[0m\u001b[0m\n",
      "\u001b[0;32m/home/sysadmin/anaconda3/lib/python3.6/site-packages/spacy/language.py\u001b[0m in \u001b[0;36m__call__\u001b[0;34m(self, text, disable, component_cfg)\u001b[0m\n\u001b[1;32m    383\u001b[0m             \u001b[0;32mif\u001b[0m \u001b[0;32mnot\u001b[0m \u001b[0mhasattr\u001b[0m\u001b[0;34m(\u001b[0m\u001b[0mproc\u001b[0m\u001b[0;34m,\u001b[0m \u001b[0;34m\"__call__\"\u001b[0m\u001b[0;34m)\u001b[0m\u001b[0;34m:\u001b[0m\u001b[0;34m\u001b[0m\u001b[0m\n\u001b[1;32m    384\u001b[0m                 \u001b[0;32mraise\u001b[0m \u001b[0mValueError\u001b[0m\u001b[0;34m(\u001b[0m\u001b[0mErrors\u001b[0m\u001b[0;34m.\u001b[0m\u001b[0mE003\u001b[0m\u001b[0;34m.\u001b[0m\u001b[0mformat\u001b[0m\u001b[0;34m(\u001b[0m\u001b[0mcomponent\u001b[0m\u001b[0;34m=\u001b[0m\u001b[0mtype\u001b[0m\u001b[0;34m(\u001b[0m\u001b[0mproc\u001b[0m\u001b[0;34m)\u001b[0m\u001b[0;34m,\u001b[0m \u001b[0mname\u001b[0m\u001b[0;34m=\u001b[0m\u001b[0mname\u001b[0m\u001b[0;34m)\u001b[0m\u001b[0;34m)\u001b[0m\u001b[0;34m\u001b[0m\u001b[0m\n\u001b[0;32m--> 385\u001b[0;31m             \u001b[0mdoc\u001b[0m \u001b[0;34m=\u001b[0m \u001b[0mproc\u001b[0m\u001b[0;34m(\u001b[0m\u001b[0mdoc\u001b[0m\u001b[0;34m,\u001b[0m \u001b[0;34m**\u001b[0m\u001b[0mcomponent_cfg\u001b[0m\u001b[0;34m.\u001b[0m\u001b[0mget\u001b[0m\u001b[0;34m(\u001b[0m\u001b[0mname\u001b[0m\u001b[0;34m,\u001b[0m \u001b[0;34m{\u001b[0m\u001b[0;34m}\u001b[0m\u001b[0;34m)\u001b[0m\u001b[0;34m)\u001b[0m\u001b[0;34m\u001b[0m\u001b[0m\n\u001b[0m\u001b[1;32m    386\u001b[0m             \u001b[0;32mif\u001b[0m \u001b[0mdoc\u001b[0m \u001b[0;32mis\u001b[0m \u001b[0;32mNone\u001b[0m\u001b[0;34m:\u001b[0m\u001b[0;34m\u001b[0m\u001b[0m\n\u001b[1;32m    387\u001b[0m                 \u001b[0;32mraise\u001b[0m \u001b[0mValueError\u001b[0m\u001b[0;34m(\u001b[0m\u001b[0mErrors\u001b[0m\u001b[0;34m.\u001b[0m\u001b[0mE005\u001b[0m\u001b[0;34m.\u001b[0m\u001b[0mformat\u001b[0m\u001b[0;34m(\u001b[0m\u001b[0mname\u001b[0m\u001b[0;34m=\u001b[0m\u001b[0mname\u001b[0m\u001b[0;34m)\u001b[0m\u001b[0;34m)\u001b[0m\u001b[0;34m\u001b[0m\u001b[0m\n",
      "\u001b[0;31mKeyboardInterrupt\u001b[0m: "
     ]
    }
   ],
   "source": [
    "# all_pos=[]\n",
    "# for i,n in enumerate(movie_type['name'].values):\n",
    "#     try:\n",
    "#         flushPrint(i)\n",
    "#         f = open('./imsdb/'+n+'.txt',\"r\")\n",
    "#         rawtext = f.read()\n",
    "#         f.close()\n",
    "#         lines = get_maintext_lines_script(rawtext)\n",
    "#         lines1=[]\n",
    "#         for i in range(len(lines)-1):\n",
    "#             if (0<len(tknzr.tokenize(lines[i]))<4):\n",
    "#                 if (tknzr.tokenize(lines[i])[-1][-1] not in string.punctuation) & (len(tknzr.tokenize(lines[i]))>0):\n",
    "#                     if lines[i+1]!='':\n",
    "#                         lines1.append(lines[i]+'\\n\\n')\n",
    "#                     else:\n",
    "#                         lines1.append(lines[i])\n",
    "#             else:\n",
    "#                 lines1.append(lines[i])\n",
    "#         chunked = chunkify(lines1)\n",
    "#         male=movie_type[movie_type['name']==n]['character'].values[0][0]\n",
    "#         female=movie_type[movie_type['name']==n]['character'].values[0][1]\n",
    "\n",
    "#         d=pd.DataFrame()\n",
    "#         d['sentence']=chunked\n",
    "#         d['index']=d.index\n",
    "#         d['include']=d['sentence'].apply(lambda x: 'no' if ([i.lower() for i in tknzr.tokenize(x)][-1][-1] \\\n",
    "#                         not in string.punctuation) & (len([i.lower() for i in tknzr.tokenize(x)])<6) else 'yes')\n",
    "#         d=d[d['include']=='yes']\n",
    "#         d=d.reset_index(drop=False)\n",
    "\n",
    "#         d['f']=d['sentence'].apply(lambda x: 'yes' if female.lower() in [i.lower() for i in tknzr.tokenize(x)] else 'no')\n",
    "#         d['m']=d['sentence'].apply(lambda x: 'yes' if male.lower() in [i.lower() for i in tknzr.tokenize(x)] else 'no')\n",
    "#         d['a']=d['sentence'].apply(lambda x: 'yes' if (male.lower() in [i.lower() for i in tknzr.tokenize(x)]) or (female.lower() in [i.lower() for i in tknzr.tokenize(x)]) else 'no')\n",
    "\n",
    "#         tp=d[d['a']=='yes'].index\n",
    "\n",
    "#         m_verbs=[]\n",
    "#         f_verbs=[]\n",
    "#         m_adjs=[]\n",
    "#         f_adjs=[]\n",
    "#         for t in tp:\n",
    "#             m_verb=[]\n",
    "#             f_verb=[]\n",
    "#             m_adj=[]\n",
    "#             f_adj=[]\n",
    "#             value=[j for j in tknzr.tokenize(d['sentence'].values[t])]\n",
    "#             value=nlp(' '.join(value))._.coref_resolved\n",
    "#             doc = nlp1(value)\n",
    "#             for token in doc:\n",
    "#                 if male in token.string:\n",
    "#                     if (token.dep == nsubj or agent)and token.head.pos == VERB:\n",
    "#                         m_verb.append(token.head)\n",
    "#                         a=[i for i in token.children if i.pos_== 'ADJ']\n",
    "#                         b=[i for i in token.head.children if i.pos_== 'ADJ']\n",
    "#                         m_adj.extend(a+b)\n",
    "#                 if female in token.string:\n",
    "#                     if (token.dep == nsubj or agent)and token.head.pos == VERB:\n",
    "#                         f_verb.append(token.head)\n",
    "#                         a=[i for i in token.children if i.pos_== 'ADJ']\n",
    "#                         b=[i for i in token.head.children if i.pos_== 'ADJ']\n",
    "#                         f_adj.extend(a+b)\n",
    "#             m_verbs.append(m_verb)\n",
    "#             f_verbs.append(f_verb)\n",
    "#             m_adjs.append(m_adj)\n",
    "#             f_adjs.append(f_adj)\n",
    "#         all_pos.append([n,m_verbs,f_verbs,m_adjs,f_adjs])\n",
    "#     except Exception as e:\n",
    "#         print(e)\n",
    "#         pass  "
   ]
  },
  {
   "cell_type": "code",
   "execution_count": 118,
   "metadata": {
    "collapsed": true
   },
   "outputs": [],
   "source": [
    "# file=[i[0] for i in all_pos]\n",
    "# m_verbs=[i[1] for i in all_pos]\n",
    "# f_verbs=[i[2] for i in all_pos]\n",
    "# m_adjs=[i[3] for i in all_pos]\n",
    "# f_adjs=[i[4] for i in all_pos]\n",
    "\n",
    "# diction1=dict(zip(file,m_verbs))\n",
    "# diction2=dict(zip(file,f_verbs))\n",
    "# diction3=dict(zip(file,m_adjs))\n",
    "# diction4=dict(zip(file,f_adjs))\n",
    "\n",
    "\n",
    "# movie_type['m_verbs']=movie_type['name'].apply(lambda x: diction1[x] if x in diction1 else np.nan)\n",
    "# movie_type['f_verbs']=movie_type['name'].apply(lambda x: diction2[x] if x in diction2 else np.nan)\n",
    "# movie_type['m_adjs']=movie_type['name'].apply(lambda x: diction3[x] if x in diction3 else np.nan)\n",
    "# movie_type['f_adjs']=movie_type['name'].apply(lambda x: diction4[x] if x in diction4 else np.nan)"
   ]
  },
  {
   "cell_type": "code",
   "execution_count": null,
   "metadata": {
    "collapsed": true
   },
   "outputs": [],
   "source": [
    "# movie_type.to_csv('./movie_type_e2.csv',index=False)"
   ]
  },
  {
   "cell_type": "code",
   "execution_count": null,
   "metadata": {
    "collapsed": true
   },
   "outputs": [],
   "source": []
  },
  {
   "cell_type": "code",
   "execution_count": null,
   "metadata": {
    "collapsed": true
   },
   "outputs": [],
   "source": []
  },
  {
   "cell_type": "code",
   "execution_count": 16,
   "metadata": {
    "collapsed": true
   },
   "outputs": [],
   "source": [
    "movie_long=pd.read_csv('./movie_type_e2.csv')"
   ]
  },
  {
   "cell_type": "code",
   "execution_count": 18,
   "metadata": {
    "collapsed": true
   },
   "outputs": [],
   "source": [
    "def eval_(x):\n",
    "    try:\n",
    "        return eval(x)\n",
    "    except:\n",
    "        return np.nan\n",
    "        pass"
   ]
  },
  {
   "cell_type": "code",
   "execution_count": 19,
   "metadata": {
    "collapsed": true
   },
   "outputs": [],
   "source": [
    "movie_long['tp']=movie_long['tp'].apply(lambda x: eval_(x))\n",
    "movie_long['emotion']=movie_long['emotion'].apply(lambda x: eval_(x))\n",
    "movie_long['character']=movie_long['character'].apply(lambda x: eval_(x))"
   ]
  },
  {
   "cell_type": "code",
   "execution_count": 22,
   "metadata": {
    "collapsed": true
   },
   "outputs": [],
   "source": [
    "def extend(x):\n",
    "    c=[]\n",
    "    for n,i in enumerate(movie_long[x].values):\n",
    "        match = re.findall('\\[.*?\\]', i[1:-1])\n",
    "        match =[re.findall(r'[[](.*?)[]]', j)[0].split(', ') for j in match]\n",
    "        tp=movie_long['tp'].values[n]\n",
    "        a=[]\n",
    "        [a.extend(q) for k,q in enumerate(match) if k in tp]\n",
    "        a=[j for j in a if len(j)>0]\n",
    "        c.extend(a)\n",
    "    return c"
   ]
  },
  {
   "cell_type": "code",
   "execution_count": 23,
   "metadata": {
    "collapsed": true
   },
   "outputs": [],
   "source": [
    "female_adj=extend('f_adjs')\n",
    "male_adj=extend('m_adjs')\n",
    "female_verb=extend('f_verbs')\n",
    "male_verb=extend('m_verbs')"
   ]
  },
  {
   "cell_type": "code",
   "execution_count": 28,
   "metadata": {},
   "outputs": [
    {
     "data": {
      "text/plain": [
       "326"
      ]
     },
     "execution_count": 28,
     "metadata": {},
     "output_type": "execute_result"
    }
   ],
   "source": [
    "len(set(female_adj))"
   ]
  },
  {
   "cell_type": "code",
   "execution_count": 29,
   "metadata": {},
   "outputs": [
    {
     "data": {
      "text/plain": [
       "409"
      ]
     },
     "execution_count": 29,
     "metadata": {},
     "output_type": "execute_result"
    }
   ],
   "source": [
    "len(set(male_adj))"
   ]
  },
  {
   "cell_type": "code",
   "execution_count": 30,
   "metadata": {},
   "outputs": [
    {
     "data": {
      "text/plain": [
       "1516"
      ]
     },
     "execution_count": 30,
     "metadata": {},
     "output_type": "execute_result"
    }
   ],
   "source": [
    "len(set(female_verb))"
   ]
  },
  {
   "cell_type": "code",
   "execution_count": 31,
   "metadata": {},
   "outputs": [
    {
     "data": {
      "text/plain": [
       "2174"
      ]
     },
     "execution_count": 31,
     "metadata": {},
     "output_type": "execute_result"
    }
   ],
   "source": [
    "len(set(male_verb))"
   ]
  },
  {
   "cell_type": "code",
   "execution_count": 32,
   "metadata": {
    "collapsed": true
   },
   "outputs": [],
   "source": [
    "all_adj=pd.DataFrame(list(set(female_adj)&set(male_adj)),columns=['adj'])"
   ]
  },
  {
   "cell_type": "code",
   "execution_count": 35,
   "metadata": {
    "collapsed": true
   },
   "outputs": [],
   "source": [
    "all_adj['score']=all_adj['adj'].apply(lambda x: ediction[x] if x in ediction else np.nan)"
   ]
  },
  {
   "cell_type": "code",
   "execution_count": 36,
   "metadata": {
    "collapsed": true
   },
   "outputs": [],
   "source": [
    "def dic(x):\n",
    "    diction = {}\n",
    "    cnt = Counter(x)\n",
    "    for word, freq in cnt.items():\n",
    "        diction[word] = freq\n",
    "    return diction"
   ]
  },
  {
   "cell_type": "code",
   "execution_count": 37,
   "metadata": {
    "collapsed": true
   },
   "outputs": [],
   "source": [
    "diction=dic(female_adj)\n",
    "all_adj['female_adj']=all_adj['adj'].apply(lambda x: diction[x] if x in diction else np.nan)\n",
    "\n",
    "diction=dic(male_adj)\n",
    "all_adj['male_adj']=all_adj['adj'].apply(lambda x: diction[x] if x in diction else np.nan)"
   ]
  },
  {
   "cell_type": "code",
   "execution_count": 51,
   "metadata": {
    "collapsed": true
   },
   "outputs": [],
   "source": [
    "all_adj_e=all_adj[(all_adj['score']<-5)|(all_adj['score']>5)]"
   ]
  },
  {
   "cell_type": "code",
   "execution_count": 52,
   "metadata": {},
   "outputs": [
    {
     "name": "stderr",
     "output_type": "stream",
     "text": [
      "/home/sysadmin/anaconda3/lib/python3.6/site-packages/ipykernel_launcher.py:1: SettingWithCopyWarning: \n",
      "A value is trying to be set on a copy of a slice from a DataFrame.\n",
      "Try using .loc[row_indexer,col_indexer] = value instead\n",
      "\n",
      "See the caveats in the documentation: http://pandas.pydata.org/pandas-docs/stable/indexing.html#indexing-view-versus-copy\n",
      "  \"\"\"Entry point for launching an IPython kernel.\n"
     ]
    }
   ],
   "source": [
    "all_adj_e['distance']=abs(all_adj_e['female_adj']-all_adj_e['male_adj'])"
   ]
  },
  {
   "cell_type": "code",
   "execution_count": 53,
   "metadata": {
    "collapsed": true
   },
   "outputs": [],
   "source": [
    "all_adj_e1=all_adj_e.sort_values(by='distance',ascending=False)"
   ]
  },
  {
   "cell_type": "code",
   "execution_count": 54,
   "metadata": {
    "collapsed": true
   },
   "outputs": [],
   "source": [
    "all_adj_e1['male_score']=abs(all_adj_e1['score']*all_adj_e1['male_adj'])"
   ]
  },
  {
   "cell_type": "code",
   "execution_count": 55,
   "metadata": {
    "collapsed": true
   },
   "outputs": [],
   "source": [
    "all_adj_e1['female_score']=abs(all_adj_e1['score']*all_adj_e1['female_adj'])"
   ]
  },
  {
   "cell_type": "code",
   "execution_count": 56,
   "metadata": {},
   "outputs": [
    {
     "data": {
      "text/plain": [
       "212"
      ]
     },
     "execution_count": 56,
     "metadata": {},
     "output_type": "execute_result"
    }
   ],
   "source": [
    "all_adj_e1['female_adj'].sum()"
   ]
  },
  {
   "cell_type": "code",
   "execution_count": 57,
   "metadata": {},
   "outputs": [
    {
     "data": {
      "text/plain": [
       "300"
      ]
     },
     "execution_count": 57,
     "metadata": {},
     "output_type": "execute_result"
    }
   ],
   "source": [
    "all_adj_e1['male_adj'].sum()"
   ]
  },
  {
   "cell_type": "code",
   "execution_count": 58,
   "metadata": {},
   "outputs": [
    {
     "data": {
      "text/plain": [
       "29.945322198667224"
      ]
     },
     "execution_count": 58,
     "metadata": {},
     "output_type": "execute_result"
    }
   ],
   "source": [
    "all_adj_e1['female_score'].mean()"
   ]
  },
  {
   "cell_type": "code",
   "execution_count": 59,
   "metadata": {},
   "outputs": [
    {
     "data": {
      "text/plain": [
       "40.503298107066634"
      ]
     },
     "execution_count": 59,
     "metadata": {},
     "output_type": "execute_result"
    }
   ],
   "source": [
    "all_adj_e1['male_score'].mean()"
   ]
  },
  {
   "cell_type": "code",
   "execution_count": 60,
   "metadata": {
    "collapsed": true
   },
   "outputs": [],
   "source": [
    "all_verb=pd.DataFrame(list(set(female_verb)&set(male_verb)),columns=['verb'])"
   ]
  },
  {
   "cell_type": "code",
   "execution_count": 61,
   "metadata": {
    "collapsed": true
   },
   "outputs": [],
   "source": [
    "all_verb['score']=all_verb['verb'].apply(lambda x: ediction[x] if x in ediction else np.nan)"
   ]
  },
  {
   "cell_type": "code",
   "execution_count": 62,
   "metadata": {
    "collapsed": true
   },
   "outputs": [],
   "source": [
    "def dic(x):\n",
    "    diction = {}\n",
    "    cnt = Counter(x)\n",
    "    for word, freq in cnt.items():\n",
    "        diction[word] = freq\n",
    "    return diction"
   ]
  },
  {
   "cell_type": "code",
   "execution_count": 63,
   "metadata": {
    "collapsed": true
   },
   "outputs": [],
   "source": [
    "diction=dic(female_verb)\n",
    "all_verb['female_verb']=all_verb['verb'].apply(lambda x: diction[x] if x in diction else np.nan)\n",
    "\n",
    "diction=dic(male_verb)\n",
    "all_verb['male_verb']=all_verb['verb'].apply(lambda x: diction[x] if x in diction else np.nan)"
   ]
  },
  {
   "cell_type": "code",
   "execution_count": 66,
   "metadata": {
    "collapsed": true
   },
   "outputs": [],
   "source": [
    "all_verb_e=all_verb[(all_verb['score']<-5)|(all_verb['score']>5)]"
   ]
  },
  {
   "cell_type": "code",
   "execution_count": 67,
   "metadata": {
    "scrolled": true
   },
   "outputs": [
    {
     "name": "stderr",
     "output_type": "stream",
     "text": [
      "/home/sysadmin/anaconda3/lib/python3.6/site-packages/ipykernel_launcher.py:1: SettingWithCopyWarning: \n",
      "A value is trying to be set on a copy of a slice from a DataFrame.\n",
      "Try using .loc[row_indexer,col_indexer] = value instead\n",
      "\n",
      "See the caveats in the documentation: http://pandas.pydata.org/pandas-docs/stable/indexing.html#indexing-view-versus-copy\n",
      "  \"\"\"Entry point for launching an IPython kernel.\n"
     ]
    }
   ],
   "source": [
    "all_verb_e['distance']=abs(all_verb_e['female_verb']-all_verb_e['male_verb'])"
   ]
  },
  {
   "cell_type": "code",
   "execution_count": 68,
   "metadata": {
    "collapsed": true
   },
   "outputs": [],
   "source": [
    "all_verb_e1=all_verb_e.sort_values(by='male_verb',ascending=False)[:40]"
   ]
  },
  {
   "cell_type": "code",
   "execution_count": 69,
   "metadata": {
    "collapsed": true
   },
   "outputs": [],
   "source": [
    "all_verb_e1['male_score']=abs(all_verb_e1['score']*all_verb_e1['male_verb'])"
   ]
  },
  {
   "cell_type": "code",
   "execution_count": 70,
   "metadata": {
    "collapsed": true
   },
   "outputs": [],
   "source": [
    "all_verb_e1['female_score']=abs(all_verb_e1['score']*all_verb_e1['female_verb'])"
   ]
  },
  {
   "cell_type": "code",
   "execution_count": 71,
   "metadata": {},
   "outputs": [
    {
     "data": {
      "text/plain": [
       "376.12833892773295"
      ]
     },
     "execution_count": 71,
     "metadata": {},
     "output_type": "execute_result"
    }
   ],
   "source": [
    "all_verb_e1['male_score'].mean()"
   ]
  },
  {
   "cell_type": "code",
   "execution_count": 72,
   "metadata": {},
   "outputs": [
    {
     "data": {
      "text/plain": [
       "222.68661317945939"
      ]
     },
     "execution_count": 72,
     "metadata": {},
     "output_type": "execute_result"
    }
   ],
   "source": [
    "all_verb_e1['female_score'].mean()"
   ]
  },
  {
   "cell_type": "code",
   "execution_count": 73,
   "metadata": {},
   "outputs": [
    {
     "data": {
      "text/plain": [
       "60.53693373272404"
      ]
     },
     "execution_count": 73,
     "metadata": {},
     "output_type": "execute_result"
    }
   ],
   "source": [
    "all_verb_e1['female_score'].sem()"
   ]
  },
  {
   "cell_type": "code",
   "execution_count": 74,
   "metadata": {},
   "outputs": [
    {
     "data": {
      "text/plain": [
       "1821"
      ]
     },
     "execution_count": 74,
     "metadata": {},
     "output_type": "execute_result"
    }
   ],
   "source": [
    "all_verb_e1['male_verb'].sum()"
   ]
  },
  {
   "cell_type": "code",
   "execution_count": 75,
   "metadata": {},
   "outputs": [
    {
     "data": {
      "text/plain": [
       "994"
      ]
     },
     "execution_count": 75,
     "metadata": {},
     "output_type": "execute_result"
    }
   ],
   "source": [
    "all_verb_e1['female_verb'].sum()"
   ]
  },
  {
   "cell_type": "code",
   "execution_count": 76,
   "metadata": {},
   "outputs": [
    {
     "data": {
      "image/png": "[encoded data removed]",
      "text/plain": [
       "<Figure size 1800x360 with 1 Axes>"
      ]
     },
     "metadata": {},
     "output_type": "display_data"
    }
   ],
   "source": [
    "fig = plt.figure(figsize=(25,5))\n",
    "# ax=fig.add_subplot(4,1,1)\n",
    "index=np.arange(len(all_verb_e1))\n",
    "m=all_verb_e1['male_verb'].values\n",
    "f=all_verb_e1['female_verb'].values\n",
    "bar_width=0.3\n",
    "plt.bar(index,m,bar_width,color='b',label='male')\n",
    "plt.bar(index+bar_width,f,bar_width,color='r',label='female')\n",
    "plt.ylabel('Frequency',fontsize=20)\n",
    "plt.xticks(rotation=45,fontsize=15)\n",
    "plt.xticks([i-0.15 for i in index],[i for i in all_verb_e1['verb'].values])\n",
    "plt.title('Verb',fontsize=20)\n",
    "plt.legend()\n",
    "plt.show()"
   ]
  },
  {
   "cell_type": "code",
   "execution_count": null,
   "metadata": {
    "collapsed": true
   },
   "outputs": [],
   "source": []
  }
 ],
 "metadata": {
  "kernelspec": {
   "display_name": "Python 3",
   "language": "python",
   "name": "python3"
  },
  "language_info": {
   "codemirror_mode": {
    "name": "ipython",
    "version": 3
   },
   "file_extension": ".py",
   "mimetype": "text/x-python",
   "name": "python",
   "nbconvert_exporter": "python",
   "pygments_lexer": "ipython3",
   "version": "3.6.2"
  },
  "toc": {
   "nav_menu": {},
   "number_sections": true,
   "sideBar": true,
   "skip_h1_title": false,
   "title_cell": "Table of Contents",
   "title_sidebar": "Contents",
   "toc_cell": false,
   "toc_position": {},
   "toc_section_display": true,
   "toc_window_display": false
  }
 },
 "nbformat": 4,
 "nbformat_minor": 2
}
