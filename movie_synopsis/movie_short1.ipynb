{
 "cells": [
  {
   "cell_type": "code",
   "execution_count": 7,
   "metadata": {
    "ExecuteTime": {
     "end_time": "2019-06-14T04:13:06.093358Z",
     "start_time": "2019-06-14T04:13:06.019102Z"
    }
   },
   "outputs": [],
   "source": [
    "from scipy.stats import chisquare\n",
    "from scipy import stats\n",
    "import urllib.request\n",
    "import string\n",
    "import requests\n",
    "from bs4 import BeautifulSoup\n",
    "import pandas as pd\n",
    "import multiprocessing\n",
    "import gensim\n",
    "import sys\n",
    "import nltk\n",
    "# import spacy\n",
    "# nlp=spacy.load('en')\n",
    "# nlp = spacy.load('en_coref_sm')  \n",
    "import seaborn as sns\n",
    "from nltk.tokenize import WordPunctTokenizer\n",
    "tknzr = WordPunctTokenizer()\n",
    "from gensim.models import Word2Vec\n",
    "from gensim.models import KeyedVectors\n",
    "from scipy import spatial\n",
    "from collections import Counter\n",
    "import numpy as np\n",
    "from collections import defaultdict\n",
    "from pprint import pprint\n",
    "from gensim import corpora\n",
    "import re\n",
    "import logging\n",
    "import requests\n",
    "import urllib \n",
    "import re\n",
    "import sys\n",
    "import zipfile\n",
    "from glob import glob\n",
    "import statsmodels.api as sm\n",
    "import scipy\n",
    "import scipy.stats as ss\n",
    "from scipy.signal import savgol_filter\n",
    "import random\n",
    "# np.set_printoptions(precision=4)\n",
    "logging.basicConfig(format='%(asctime)s : %(levelname)s : %(message)s', level=logging.INFO)\n",
    "\n",
    "import matplotlib.pyplot as plt\n",
    "# %matplotlib inline\n",
    "import bezier\n",
    "\n",
    "from sklearn import metrics\n",
    "from sklearn.cluster import KMeans\n",
    "# from the demo\n",
    "from sklearn.datasets import load_digits\n",
    "from sklearn.decomposition import PCA\n",
    "from sklearn.decomposition import TruncatedSVD\n",
    "from sklearn.decomposition import NMF\n",
    "from sklearn.preprocessing import scale\n",
    "from sklearn.linear_model import LogisticRegression\n",
    "from sklearn.model_selection import train_test_split\n",
    "from sklearn.metrics import accuracy_score\n",
    "from nltk.corpus import stopwords\n",
    "from nltk.corpus import names\n",
    "from scipy.stats import norm   \n",
    "from itertools import combinations\n",
    "pd.set_option('display.max_columns',None)\n",
    "pd.set_option('display.max_rows',None)"
   ]
  },
  {
   "cell_type": "code",
   "execution_count": 2,
   "metadata": {
    "ExecuteTime": {
     "end_time": "2019-06-10T10:57:00.030793Z",
     "start_time": "2019-06-10T10:56:59.213603Z"
    }
   },
   "outputs": [
    {
     "name": "stderr",
     "output_type": "stream",
     "text": [
      "2019-06-10 18:56:59,897 : INFO : Loading model from /Users/xuhuimin/.neuralcoref_cache/neuralcoref\n"
     ]
    }
   ],
   "source": [
    "# Load your usual SpaCy model (one of SpaCy English models)\n",
    "import spacy\n",
    "nlp = spacy.load('en')\n",
    "\n",
    "# load NeuralCoref and add it to the pipe of SpaCy's model\n",
    "import neuralcoref\n",
    "coref = neuralcoref.NeuralCoref(nlp.vocab)\n",
    "nlp.add_pipe(coref, name='neuralcoref')"
   ]
  },
  {
   "cell_type": "code",
   "execution_count": 3,
   "metadata": {
    "ExecuteTime": {
     "end_time": "2019-06-10T10:57:00.327929Z",
     "start_time": "2019-06-10T10:57:00.258386Z"
    }
   },
   "outputs": [],
   "source": [
    "def flushPrint(s):\n",
    "    sys.stdout.write('\\r')\n",
    "    sys.stdout.write('%s' % s)\n",
    "    sys.stdout.flush()\n",
    "    \n",
    "def normalize(v):\n",
    "    norm = np.linalg.norm(v)\n",
    "    if norm == 0:\n",
    "        return v\n",
    "    return v / norm\n",
    "\n",
    "def cultureD2(model, words):\n",
    "    cultures = []\n",
    "    for word in words:\n",
    "        if (word[0] in model.wv.vocab) & (word[1] in model.wv.vocab):\n",
    "            cultures.append(normalize(normalize(model[word[0]]) - normalize(model[word[1]])))\n",
    "        else:\n",
    "            print(word)\n",
    "    culturev = normalize(np.mean(cultures, axis=0))\n",
    "    return culturev\n",
    "\n",
    "def storyv(model,words):\n",
    "    veclist=[]\n",
    "    for w in words:\n",
    "        if w in model.wv.vocab:\n",
    "            veclist.append(normalize(model[w]))\n",
    "    storyv=normalize(np.mean(veclist,axis=0))\n",
    "    return storyv\n",
    "\n",
    "def projection(storyv, culturev):\n",
    "    # cosine similarity\n",
    "    return (1 - spatial.distance.cosine(storyv, culturev))\n",
    "           \n",
    "def cosine2angle(i):\n",
    "    return np.arccos(i) / np.pi * 180 #长度换角度\n",
    "\n",
    "def normalized(x):\n",
    "    x= np.array(x)\n",
    "    return (x-np.mean(x))/np.std(x)\n",
    "\n",
    "def normalization(x):\n",
    "    x=np.array(x)\n",
    "    return (x-np.min(x))/(np.max(x)-np.min(x))"
   ]
  },
  {
   "cell_type": "code",
   "execution_count": 4,
   "metadata": {
    "ExecuteTime": {
     "end_time": "2019-06-10T10:57:01.284470Z",
     "start_time": "2019-06-10T10:57:01.275488Z"
    }
   },
   "outputs": [],
   "source": [
    "def pre_process(data):\n",
    "    for w in abbreviations:\n",
    "        data = data.replace(w,' ')\n",
    "    data = data.replace('\\r',' ').replace('\\n',' ').replace('\\t',' ')\n",
    "    data = re.split('[.?!]',data) # cut the sentence\n",
    "    tknzr = WordPunctTokenizer()\n",
    "    data = [tknzr.tokenize(i) for i in data]\n",
    "    data=[i for i in data if len(i)>1]\n",
    "    return data"
   ]
  },
  {
   "cell_type": "code",
   "execution_count": 5,
   "metadata": {
    "ExecuteTime": {
     "end_time": "2019-06-10T10:57:02.280653Z",
     "start_time": "2019-06-10T10:57:02.269938Z"
    }
   },
   "outputs": [],
   "source": [
    "def word_to_emotion(data):\n",
    "    w=[]\n",
    "    for da in data:\n",
    "        d=[]\n",
    "        for word in da:\n",
    "            try:\n",
    "                if (word.lower() not in stopword):#&(word not in names):\n",
    "                    sim = 90-cosine2angle(projection(model[word],success_vector))\n",
    "                    if (sim<-3)|(sim>3):\n",
    "                        d.append(sim)\n",
    "            except:\n",
    "                pass\n",
    "        w.append(np.mean(d))\n",
    "    return w"
   ]
  },
  {
   "cell_type": "code",
   "execution_count": 6,
   "metadata": {
    "ExecuteTime": {
     "end_time": "2019-06-10T10:57:03.519684Z",
     "start_time": "2019-06-10T10:57:03.344955Z"
    }
   },
   "outputs": [],
   "source": [
    "import re, sys, getopt\n",
    "\n",
    "PUNCTUATION = [ch for ch in \"\"\"(){}[]<>!?.:;,`'\"@#$%^&*+-|=~/\\\\_\"\"\"]\n",
    "LETTERS     = [ch for ch in \"abcdefghijklmnopqrstuvwxyz\"]\n",
    "CONSONANTS  = [ch for ch in \"bcdfghjklmnpqrstvwxz\"] # Need this for Mr. Mss. abbreviations.\n",
    "WHITESPACE  = [ch for ch in \" \\t\\n\\r\\f\\v\"]          # Need this to split words.\n",
    "DASHES      = [ch for ch in u\"鈥撯€�\"]                  # Not to be confused with hyphen.\n",
    "\n",
    "is_uppercase   = lambda s: len(s)>0 and s==s.upper()                          # Goodbye => True\n",
    "is_capitalized = lambda s: len(s)>0 and s[0].isalpha() and s[0]==s[0].upper() # GOODBYE => True\n",
    "\n",
    "digits = re.compile(\"^[0-9]+$\")\n",
    "is_int = lambda s: digits.search(s) != None\n",
    "\n",
    "# regex pattern for entities: &amp; &#164;\n",
    "entity = \"&[a-z]+;|&#[0-9]+;\"\n",
    "\n",
    "class Range(dict):\n",
    "    \n",
    "    def __init__(self, items=[]):\n",
    "        dict.__init__(self, items)\n",
    "        self.patterns = []\n",
    "        \n",
    "    def __contains__(self, str):\n",
    "        if dict.__contains__(self, str): \n",
    "            return True\n",
    "        for p in self.patterns:\n",
    "            if p.search(str) != None: \n",
    "                return True\n",
    "        return False\n",
    "\n",
    "def in_any(word, ranges=[]):\n",
    "    for rng in ranges:\n",
    "        if word in rng: return True\n",
    "        \n",
    "abbreviations = [\n",
    "    \"Adm.\", \"Ala.\", \"Ariz.\", \"Ark.\", \"Aug.\", \"B.C.\", \"Bancorp.\", \"Bhd.\", \"Brig.\", \"Bros.\", \"CO.\", \n",
    "    \"CORP.\", \"COS.\", \"ca.\", \"Calif.\", \"Capt.\", \"Cie.\", \"Cmdr.\", \"Co.\", \"Col.\", \"Colo.\", \"Conn.\", \"Corp.\", \n",
    "    \"Cos.\", \"Cpl.\", \"D-Mass.\", \"D.C.\", \"Dec.\", \"Del.\", \"Dept.\", \"Dr.\", \"E.g.\", \"Etc.\", \"Ex.\", \"Exch.\", \n",
    "    \"Feb.\", \"Fla.\", \"Fri.\", \"Ga.\", \"Gen.\", \"Gov.\", \"INC.\", \"Ill.\", \"Inc.\", \"Ind.\", \"Jan.\", \"Jansz.\", \n",
    "    \"Jos.\", \"Jr.\", \"Kan.\", \"Ky.\", \"L.A.\", \"La.\", \"Lt.\", \"Ltd.\", \"Maj.\", \"Mass.\", \"Md.\", \"Messrs.\", \n",
    "    \"Mfg.\", \"Mich.\", \"Minn.\", \"Miss.\", \"Mo.\", \"Mon.\", \"Mr.\", \"Mrs.\", \"Ms.\", \"Mt.\", \"N.C.\", \"N.J.\", \n",
    "    \"N.Y.\", \"NFATc.\", \"Neb.\", \"Nev.\", \"No.\", \"Nos.\", \"Nov.\", \"O.J.\", \"Oct.\", \"Okla.\", \"Ont.\", \"Ore.\", \n",
    "    \"P.T.\", \"Pa.\", \"Ph.\", \"Prof.\", \"Prop.\", \"Pty.\", \"R.I.\", \"R.J.\", \"Rep.\", \"Reps.\", \"Rev.\", \"S.C.\", \n",
    "    \"Sat.\", \"Sen.\", \"Sens.\", \"Sep.\", \"Sept.\", \"Sgt.\", \"Sol.\", \"Sr.\", \"St.\", \"Sun.\", \"Tenn.\", \"Tex.\", \n",
    "    \"Thu.\", \"Tue.\", \"U.K.\", \"U.N.\", \"U.S.\", \"Va.\", \"Vt.\", \"W.J.\", \"W.Va.\", \"Wash.\", \"Wed.\", \"Wis.\", \n",
    "    \"Wyo.\", \"a.m.\", \"cit.\", \"def.\", \"ed.\", \"eds.\", \"e.g.\", \"etc.\", \"ft.\", \"i.e.\", \"op.\", \"p.m.\", \"pp.\", \n",
    "    \"sc.\", \"v.\", \"vs.\", \"Biol.\", \"Chem.\", \"beta4.\", \"Struct.\", \"Funct.\", \"Natl.\", \"Acad.\", \"Sci.\",\n",
    "    \"Biochem.\", \"Cell.\", \"Proc.\", \"Res.\", \"Lond.\", \"Nat.\", \"Dev.\", \"Camb.\", \"Profilin.\", \"Thymosin-beta4.\"\n",
    "]\n",
    "\n",
    "# class Abbreviations(Range):\n",
    "    \n",
    "#     def __init__(self, known=[]):\n",
    "#         \"\"\" A dictionary of known abbreviations, extended with patterns of likely abbreviations.\n",
    "#             word in Abbreviations() == True if word is a known or likely abbreviation.\n",
    "#             Periods in English are ambiguous,\n",
    "#             marking end of sentence, abbreviation, decimal point or ellipsis.\n",
    "#             - Simple rule: \"every point is a sentence break\" is 93.20% correct for Brown corpus.\n",
    "#             - Fix decimal points: 93,64% correct.\n",
    "#             - Fix single letter abbreviations (T. De Smedt), alternating letters (i.e. U.S.),\n",
    "#               and capital letter followed by consonants (Mr. Assn.): 97.7% correct.\n",
    "#             - Fix with dictionary of known abbreviations: up to 99,07 accuracy.\n",
    "#             http://bulba.sdsu.edu/~malouf/ling571/13-token-bw.pdf\n",
    "#         \"\"\"\n",
    "#         Range.__init__(self, [(x,True) for x in known])\n",
    "#         self.patterns = [\n",
    "#             re.compile(\"^[A-Za-z]\\.$\"),                       # single letter, \"T. De Smedt\"\n",
    "#             re.compile(\"^([A-Za-z]\\.)+$\"),                    # alternating letters, \"U.S.\"\n",
    "#             #re.compile(\".+\\.[,;]$\"),                         # followed by punctuation, \"dept.,\"\n",
    "#             re.compile(\"^[A-Z][\"+\"|\".join(CONSONANTS)+\"]+.$\") # capital followed by consonants, \"Mr.\"\n",
    "#         ]\n",
    "        \n",
    "#     def __contains__(self, word):\n",
    "#         return word.endswith(\".\") and Range.__contains__(self, word)\n",
    "\n",
    "# abbreviations = Abbreviations(abbreviations)\n",
    "# # from https://www.clips.uantwerpen.be/BiographTA/tokenizer.py"
   ]
  },
  {
   "cell_type": "code",
   "execution_count": 7,
   "metadata": {
    "ExecuteTime": {
     "end_time": "2019-06-10T10:57:05.137742Z",
     "start_time": "2019-06-10T10:57:05.133523Z"
    }
   },
   "outputs": [],
   "source": [
    "swords = [\n",
    "    ['success','failure'],\n",
    "    ['succeed','fail'],\n",
    "    ['lucky', 'unlucky'],\n",
    "    ['fortunate', 'unfortunate'],\n",
    "    ['happy', 'unhappy'],\n",
    "    ['glad', 'sad'],\n",
    "    ['joy', 'sorrow'],\n",
    "    ['smile', 'tear']\n",
    "] # success words"
   ]
  },
  {
   "cell_type": "code",
   "execution_count": 8,
   "metadata": {
    "ExecuteTime": {
     "end_time": "2019-06-10T10:57:06.032399Z",
     "start_time": "2019-06-10T10:57:06.029138Z"
    },
    "scrolled": true
   },
   "outputs": [],
   "source": [
    "# Load Google's pre-trained Word2Vec model.\n",
    "# model = gensim.models.KeyedVectors.load_word2vec_format('GoogleNews-vectors-negative300.bin',binary=True)"
   ]
  },
  {
   "cell_type": "code",
   "execution_count": 10,
   "metadata": {
    "ExecuteTime": {
     "end_time": "2019-06-08T09:59:50.331833Z",
     "start_time": "2019-06-08T09:59:50.327276Z"
    }
   },
   "outputs": [],
   "source": [
    "def flushPrint(s):\n",
    "    sys.stdout.write('\\r')\n",
    "    sys.stdout.write('%s' % s)\n",
    "    sys.stdout.flush()"
   ]
  },
  {
   "cell_type": "code",
   "execution_count": 10,
   "metadata": {
    "collapsed": true
   },
   "outputs": [],
   "source": [
    "# 获取名字，性别数据列表\n",
    "male_names = [name for name in names.words('male.txt')]\n",
    "female_names = [name for name in names.words('female.txt')]\n",
    "names=male_names+female_names"
   ]
  },
  {
   "cell_type": "code",
   "execution_count": 11,
   "metadata": {
    "collapsed": true
   },
   "outputs": [],
   "source": [
    "with open('./stopword.txt','r') as f:\n",
    "    stopword=f.readlines()\n",
    "stopword=[i.split('\\n')[0] for i in stopword]"
   ]
  },
  {
   "cell_type": "code",
   "execution_count": 12,
   "metadata": {
    "collapsed": true
   },
   "outputs": [],
   "source": [
    "IMDB=pd.read_csv('./IMDB/IMDB_e2.csv')"
   ]
  },
  {
   "cell_type": "code",
   "execution_count": 11,
   "metadata": {
    "ExecuteTime": {
     "end_time": "2019-06-08T10:15:57.885938Z",
     "start_time": "2019-06-08T10:15:57.881650Z"
    }
   },
   "outputs": [],
   "source": [
    "def eval_(x):\n",
    "    try:\n",
    "        return eval(x)\n",
    "    except:\n",
    "        return np.nan\n",
    "        pass"
   ]
  },
  {
   "cell_type": "code",
   "execution_count": 14,
   "metadata": {
    "collapsed": true
   },
   "outputs": [],
   "source": [
    "IMDB['tp']=IMDB['tp'].apply(lambda x: eval_(x))\n",
    "IMDB['emotion']=IMDB['emotion'].apply(lambda x: eval_(x))\n",
    "IMDB['character']=IMDB['character'].apply(lambda x: eval_(x))"
   ]
  },
  {
   "cell_type": "code",
   "execution_count": 15,
   "metadata": {
    "collapsed": true
   },
   "outputs": [],
   "source": [
    "IMDB=IMDB.dropna(axis=0,how='any',subset=['lead_gender','tp','emotion'])"
   ]
  },
  {
   "cell_type": "code",
   "execution_count": 16,
   "metadata": {
    "collapsed": true
   },
   "outputs": [],
   "source": [
    "# len(IMDB)"
   ]
  },
  {
   "cell_type": "code",
   "execution_count": 82,
   "metadata": {
    "scrolled": true
   },
   "outputs": [
    {
     "name": "stdout",
     "output_type": "stream",
     "text": [
      "2"
     ]
    },
    {
     "ename": "KeyboardInterrupt",
     "evalue": "",
     "output_type": "error",
     "traceback": [
      "\u001b[0;31m---------------------------------------------------------------------------\u001b[0m",
      "\u001b[0;31mKeyboardInterrupt\u001b[0m                         Traceback (most recent call last)",
      "\u001b[0;32m<ipython-input-82-f3957996ffa2>\u001b[0m in \u001b[0;36m<module>\u001b[0;34m()\u001b[0m\n\u001b[1;32m      8\u001b[0m         \u001b[0mmale\u001b[0m\u001b[0;34m=\u001b[0m\u001b[0mIMDB\u001b[0m\u001b[0;34m[\u001b[0m\u001b[0mIMDB\u001b[0m\u001b[0;34m[\u001b[0m\u001b[0;34m'tconst'\u001b[0m\u001b[0;34m]\u001b[0m\u001b[0;34m==\u001b[0m\u001b[0mn\u001b[0m\u001b[0;34m]\u001b[0m\u001b[0;34m[\u001b[0m\u001b[0;34m'character'\u001b[0m\u001b[0;34m]\u001b[0m\u001b[0;34m.\u001b[0m\u001b[0mvalues\u001b[0m\u001b[0;34m[\u001b[0m\u001b[0;36m0\u001b[0m\u001b[0;34m]\u001b[0m\u001b[0;34m[\u001b[0m\u001b[0;36m0\u001b[0m\u001b[0;34m]\u001b[0m\u001b[0;34m\u001b[0m\u001b[0m\n\u001b[1;32m      9\u001b[0m         \u001b[0mfemale\u001b[0m\u001b[0;34m=\u001b[0m\u001b[0mIMDB\u001b[0m\u001b[0;34m[\u001b[0m\u001b[0mIMDB\u001b[0m\u001b[0;34m[\u001b[0m\u001b[0;34m'tconst'\u001b[0m\u001b[0;34m]\u001b[0m\u001b[0;34m==\u001b[0m\u001b[0mn\u001b[0m\u001b[0;34m]\u001b[0m\u001b[0;34m[\u001b[0m\u001b[0;34m'character'\u001b[0m\u001b[0;34m]\u001b[0m\u001b[0;34m.\u001b[0m\u001b[0mvalues\u001b[0m\u001b[0;34m[\u001b[0m\u001b[0;36m0\u001b[0m\u001b[0;34m]\u001b[0m\u001b[0;34m[\u001b[0m\u001b[0;36m1\u001b[0m\u001b[0;34m]\u001b[0m\u001b[0;34m\u001b[0m\u001b[0m\n\u001b[0;32m---> 10\u001b[0;31m         \u001b[0mdoc1\u001b[0m\u001b[0;34m=\u001b[0m\u001b[0mnlp\u001b[0m\u001b[0;34m(\u001b[0m\u001b[0mdata\u001b[0m\u001b[0;34m)\u001b[0m\u001b[0;34m.\u001b[0m\u001b[0m_\u001b[0m\u001b[0;34m.\u001b[0m\u001b[0mcoref_resolved\u001b[0m\u001b[0;34m\u001b[0m\u001b[0m\n\u001b[0m\u001b[1;32m     11\u001b[0m         \u001b[0mdoc1\u001b[0m\u001b[0;34m=\u001b[0m\u001b[0mpre_process\u001b[0m\u001b[0;34m(\u001b[0m\u001b[0mdoc1\u001b[0m\u001b[0;34m)\u001b[0m\u001b[0;34m\u001b[0m\u001b[0m\n\u001b[1;32m     12\u001b[0m \u001b[0;34m\u001b[0m\u001b[0m\n",
      "\u001b[0;32m/home/sysadmin/anaconda3/lib/python3.6/site-packages/spacy/language.py\u001b[0m in \u001b[0;36m__call__\u001b[0;34m(self, text, disable, component_cfg)\u001b[0m\n\u001b[1;32m    383\u001b[0m             \u001b[0;32mif\u001b[0m \u001b[0;32mnot\u001b[0m \u001b[0mhasattr\u001b[0m\u001b[0;34m(\u001b[0m\u001b[0mproc\u001b[0m\u001b[0;34m,\u001b[0m \u001b[0;34m\"__call__\"\u001b[0m\u001b[0;34m)\u001b[0m\u001b[0;34m:\u001b[0m\u001b[0;34m\u001b[0m\u001b[0m\n\u001b[1;32m    384\u001b[0m                 \u001b[0;32mraise\u001b[0m \u001b[0mValueError\u001b[0m\u001b[0;34m(\u001b[0m\u001b[0mErrors\u001b[0m\u001b[0;34m.\u001b[0m\u001b[0mE003\u001b[0m\u001b[0;34m.\u001b[0m\u001b[0mformat\u001b[0m\u001b[0;34m(\u001b[0m\u001b[0mcomponent\u001b[0m\u001b[0;34m=\u001b[0m\u001b[0mtype\u001b[0m\u001b[0;34m(\u001b[0m\u001b[0mproc\u001b[0m\u001b[0;34m)\u001b[0m\u001b[0;34m,\u001b[0m \u001b[0mname\u001b[0m\u001b[0;34m=\u001b[0m\u001b[0mname\u001b[0m\u001b[0;34m)\u001b[0m\u001b[0;34m)\u001b[0m\u001b[0;34m\u001b[0m\u001b[0m\n\u001b[0;32m--> 385\u001b[0;31m             \u001b[0mdoc\u001b[0m \u001b[0;34m=\u001b[0m \u001b[0mproc\u001b[0m\u001b[0;34m(\u001b[0m\u001b[0mdoc\u001b[0m\u001b[0;34m,\u001b[0m \u001b[0;34m**\u001b[0m\u001b[0mcomponent_cfg\u001b[0m\u001b[0;34m.\u001b[0m\u001b[0mget\u001b[0m\u001b[0;34m(\u001b[0m\u001b[0mname\u001b[0m\u001b[0;34m,\u001b[0m \u001b[0;34m{\u001b[0m\u001b[0;34m}\u001b[0m\u001b[0;34m)\u001b[0m\u001b[0;34m)\u001b[0m\u001b[0;34m\u001b[0m\u001b[0m\n\u001b[0m\u001b[1;32m    386\u001b[0m             \u001b[0;32mif\u001b[0m \u001b[0mdoc\u001b[0m \u001b[0;32mis\u001b[0m \u001b[0;32mNone\u001b[0m\u001b[0;34m:\u001b[0m\u001b[0;34m\u001b[0m\u001b[0m\n\u001b[1;32m    387\u001b[0m                 \u001b[0;32mraise\u001b[0m \u001b[0mValueError\u001b[0m\u001b[0;34m(\u001b[0m\u001b[0mErrors\u001b[0m\u001b[0;34m.\u001b[0m\u001b[0mE005\u001b[0m\u001b[0;34m.\u001b[0m\u001b[0mformat\u001b[0m\u001b[0;34m(\u001b[0m\u001b[0mname\u001b[0m\u001b[0;34m=\u001b[0m\u001b[0mname\u001b[0m\u001b[0;34m)\u001b[0m\u001b[0;34m)\u001b[0m\u001b[0;34m\u001b[0m\u001b[0m\n",
      "\u001b[0;32mneuralcoref.pyx\u001b[0m in \u001b[0;36mneuralcoref.neuralcoref.NeuralCoref.__call__\u001b[0;34m()\u001b[0m\n",
      "\u001b[0;32mneuralcoref.pyx\u001b[0m in \u001b[0;36mneuralcoref.neuralcoref.NeuralCoref.predict\u001b[0;34m()\u001b[0m\n",
      "\u001b[0;32m/home/sysadmin/anaconda3/lib/python3.6/site-packages/thinc/neural/_classes/model.py\u001b[0m in \u001b[0;36m__call__\u001b[0;34m(self, x)\u001b[0m\n\u001b[1;32m    163\u001b[0m             \u001b[0mMust\u001b[0m \u001b[0mmatch\u001b[0m \u001b[0mexpected\u001b[0m \u001b[0mshape\u001b[0m\u001b[0;34m\u001b[0m\u001b[0m\n\u001b[1;32m    164\u001b[0m         \"\"\"\n\u001b[0;32m--> 165\u001b[0;31m         \u001b[0;32mreturn\u001b[0m \u001b[0mself\u001b[0m\u001b[0;34m.\u001b[0m\u001b[0mpredict\u001b[0m\u001b[0;34m(\u001b[0m\u001b[0mx\u001b[0m\u001b[0;34m)\u001b[0m\u001b[0;34m\u001b[0m\u001b[0m\n\u001b[0m\u001b[1;32m    166\u001b[0m \u001b[0;34m\u001b[0m\u001b[0m\n\u001b[1;32m    167\u001b[0m     \u001b[0;32mdef\u001b[0m \u001b[0mpipe\u001b[0m\u001b[0;34m(\u001b[0m\u001b[0mself\u001b[0m\u001b[0;34m,\u001b[0m \u001b[0mstream\u001b[0m\u001b[0;34m,\u001b[0m \u001b[0mbatch_size\u001b[0m\u001b[0;34m=\u001b[0m\u001b[0;36m128\u001b[0m\u001b[0;34m)\u001b[0m\u001b[0;34m:\u001b[0m\u001b[0;34m\u001b[0m\u001b[0m\n",
      "\u001b[0;32m/home/sysadmin/anaconda3/lib/python3.6/site-packages/thinc/neural/_classes/feed_forward.py\u001b[0m in \u001b[0;36mpredict\u001b[0;34m(self, X)\u001b[0m\n\u001b[1;32m     38\u001b[0m     \u001b[0;32mdef\u001b[0m \u001b[0mpredict\u001b[0m\u001b[0;34m(\u001b[0m\u001b[0mself\u001b[0m\u001b[0;34m,\u001b[0m \u001b[0mX\u001b[0m\u001b[0;34m)\u001b[0m\u001b[0;34m:\u001b[0m\u001b[0;34m\u001b[0m\u001b[0m\n\u001b[1;32m     39\u001b[0m         \u001b[0;32mfor\u001b[0m \u001b[0mlayer\u001b[0m \u001b[0;32min\u001b[0m \u001b[0mself\u001b[0m\u001b[0;34m.\u001b[0m\u001b[0m_layers\u001b[0m\u001b[0;34m:\u001b[0m\u001b[0;34m\u001b[0m\u001b[0m\n\u001b[0;32m---> 40\u001b[0;31m             \u001b[0mX\u001b[0m \u001b[0;34m=\u001b[0m \u001b[0mlayer\u001b[0m\u001b[0;34m(\u001b[0m\u001b[0mX\u001b[0m\u001b[0;34m)\u001b[0m\u001b[0;34m\u001b[0m\u001b[0m\n\u001b[0m\u001b[1;32m     41\u001b[0m         \u001b[0;32mreturn\u001b[0m \u001b[0mX\u001b[0m\u001b[0;34m\u001b[0m\u001b[0m\n\u001b[1;32m     42\u001b[0m \u001b[0;34m\u001b[0m\u001b[0m\n",
      "\u001b[0;32m/home/sysadmin/anaconda3/lib/python3.6/site-packages/thinc/neural/_classes/model.py\u001b[0m in \u001b[0;36m__call__\u001b[0;34m(self, x)\u001b[0m\n\u001b[1;32m    163\u001b[0m             \u001b[0mMust\u001b[0m \u001b[0mmatch\u001b[0m \u001b[0mexpected\u001b[0m \u001b[0mshape\u001b[0m\u001b[0;34m\u001b[0m\u001b[0m\n\u001b[1;32m    164\u001b[0m         \"\"\"\n\u001b[0;32m--> 165\u001b[0;31m         \u001b[0;32mreturn\u001b[0m \u001b[0mself\u001b[0m\u001b[0;34m.\u001b[0m\u001b[0mpredict\u001b[0m\u001b[0;34m(\u001b[0m\u001b[0mx\u001b[0m\u001b[0;34m)\u001b[0m\u001b[0;34m\u001b[0m\u001b[0m\n\u001b[0m\u001b[1;32m    166\u001b[0m \u001b[0;34m\u001b[0m\u001b[0m\n\u001b[1;32m    167\u001b[0m     \u001b[0;32mdef\u001b[0m \u001b[0mpipe\u001b[0m\u001b[0;34m(\u001b[0m\u001b[0mself\u001b[0m\u001b[0;34m,\u001b[0m \u001b[0mstream\u001b[0m\u001b[0;34m,\u001b[0m \u001b[0mbatch_size\u001b[0m\u001b[0;34m=\u001b[0m\u001b[0;36m128\u001b[0m\u001b[0;34m)\u001b[0m\u001b[0;34m:\u001b[0m\u001b[0;34m\u001b[0m\u001b[0m\n",
      "\u001b[0;32m/home/sysadmin/anaconda3/lib/python3.6/site-packages/thinc/check.py\u001b[0m in \u001b[0;36mchecked_function\u001b[0;34m(wrapped, instance, args, kwargs)\u001b[0m\n\u001b[1;32m    149\u001b[0m                     \u001b[0;32mraise\u001b[0m \u001b[0mExpectedTypeError\u001b[0m\u001b[0;34m(\u001b[0m\u001b[0mcheck\u001b[0m\u001b[0;34m,\u001b[0m \u001b[0;34m[\u001b[0m\u001b[0;34m\"Callable\"\u001b[0m\u001b[0;34m]\u001b[0m\u001b[0;34m)\u001b[0m\u001b[0;34m\u001b[0m\u001b[0m\n\u001b[1;32m    150\u001b[0m                 \u001b[0mcheck\u001b[0m\u001b[0;34m(\u001b[0m\u001b[0marg_id\u001b[0m\u001b[0;34m,\u001b[0m \u001b[0mfix_args\u001b[0m\u001b[0;34m,\u001b[0m \u001b[0mkwargs\u001b[0m\u001b[0;34m)\u001b[0m\u001b[0;34m\u001b[0m\u001b[0m\n\u001b[0;32m--> 151\u001b[0;31m         \u001b[0;32mreturn\u001b[0m \u001b[0mwrapped\u001b[0m\u001b[0;34m(\u001b[0m\u001b[0;34m*\u001b[0m\u001b[0margs\u001b[0m\u001b[0;34m,\u001b[0m \u001b[0;34m**\u001b[0m\u001b[0mkwargs\u001b[0m\u001b[0;34m)\u001b[0m\u001b[0;34m\u001b[0m\u001b[0m\n\u001b[0m\u001b[1;32m    152\u001b[0m \u001b[0;34m\u001b[0m\u001b[0m\n\u001b[1;32m    153\u001b[0m     \u001b[0;32mdef\u001b[0m \u001b[0marg_check_adder\u001b[0m\u001b[0;34m(\u001b[0m\u001b[0mfunc\u001b[0m\u001b[0;34m)\u001b[0m\u001b[0;34m:\u001b[0m\u001b[0;34m\u001b[0m\u001b[0m\n",
      "\u001b[0;32m/home/sysadmin/anaconda3/lib/python3.6/site-packages/thinc/neural/_classes/relu.py\u001b[0m in \u001b[0;36mpredict\u001b[0;34m(self, input__BI)\u001b[0m\n\u001b[1;32m     10\u001b[0m     \u001b[0;34m@\u001b[0m\u001b[0mcheck\u001b[0m\u001b[0;34m.\u001b[0m\u001b[0marg\u001b[0m\u001b[0;34m(\u001b[0m\u001b[0;36m1\u001b[0m\u001b[0;34m,\u001b[0m \u001b[0mhas_shape\u001b[0m\u001b[0;34m(\u001b[0m\u001b[0;34m(\u001b[0m\u001b[0;34m\"nB\"\u001b[0m\u001b[0;34m,\u001b[0m \u001b[0;34m\"nI\"\u001b[0m\u001b[0;34m)\u001b[0m\u001b[0;34m)\u001b[0m\u001b[0;34m)\u001b[0m\u001b[0;34m\u001b[0m\u001b[0m\n\u001b[1;32m     11\u001b[0m     \u001b[0;32mdef\u001b[0m \u001b[0mpredict\u001b[0m\u001b[0;34m(\u001b[0m\u001b[0mself\u001b[0m\u001b[0;34m,\u001b[0m \u001b[0minput__BI\u001b[0m\u001b[0;34m)\u001b[0m\u001b[0;34m:\u001b[0m\u001b[0;34m\u001b[0m\u001b[0m\n\u001b[0;32m---> 12\u001b[0;31m         \u001b[0moutput__BO\u001b[0m \u001b[0;34m=\u001b[0m \u001b[0mAffine\u001b[0m\u001b[0;34m.\u001b[0m\u001b[0mpredict\u001b[0m\u001b[0;34m(\u001b[0m\u001b[0mself\u001b[0m\u001b[0;34m,\u001b[0m \u001b[0minput__BI\u001b[0m\u001b[0;34m)\u001b[0m\u001b[0;34m\u001b[0m\u001b[0m\n\u001b[0m\u001b[1;32m     13\u001b[0m         \u001b[0moutput__BO\u001b[0m \u001b[0;34m=\u001b[0m \u001b[0mself\u001b[0m\u001b[0;34m.\u001b[0m\u001b[0mops\u001b[0m\u001b[0;34m.\u001b[0m\u001b[0mrelu\u001b[0m\u001b[0;34m(\u001b[0m\u001b[0moutput__BO\u001b[0m\u001b[0;34m,\u001b[0m \u001b[0minplace\u001b[0m\u001b[0;34m=\u001b[0m\u001b[0;32mFalse\u001b[0m\u001b[0;34m)\u001b[0m\u001b[0;34m\u001b[0m\u001b[0m\n\u001b[1;32m     14\u001b[0m         \u001b[0;32mreturn\u001b[0m \u001b[0moutput__BO\u001b[0m\u001b[0;34m\u001b[0m\u001b[0m\n",
      "\u001b[0;32m/home/sysadmin/anaconda3/lib/python3.6/site-packages/thinc/check.py\u001b[0m in \u001b[0;36mchecked_function\u001b[0;34m(wrapped, instance, args, kwargs)\u001b[0m\n\u001b[1;32m    149\u001b[0m                     \u001b[0;32mraise\u001b[0m \u001b[0mExpectedTypeError\u001b[0m\u001b[0;34m(\u001b[0m\u001b[0mcheck\u001b[0m\u001b[0;34m,\u001b[0m \u001b[0;34m[\u001b[0m\u001b[0;34m\"Callable\"\u001b[0m\u001b[0;34m]\u001b[0m\u001b[0;34m)\u001b[0m\u001b[0;34m\u001b[0m\u001b[0m\n\u001b[1;32m    150\u001b[0m                 \u001b[0mcheck\u001b[0m\u001b[0;34m(\u001b[0m\u001b[0marg_id\u001b[0m\u001b[0;34m,\u001b[0m \u001b[0mfix_args\u001b[0m\u001b[0;34m,\u001b[0m \u001b[0mkwargs\u001b[0m\u001b[0;34m)\u001b[0m\u001b[0;34m\u001b[0m\u001b[0m\n\u001b[0;32m--> 151\u001b[0;31m         \u001b[0;32mreturn\u001b[0m \u001b[0mwrapped\u001b[0m\u001b[0;34m(\u001b[0m\u001b[0;34m*\u001b[0m\u001b[0margs\u001b[0m\u001b[0;34m,\u001b[0m \u001b[0;34m**\u001b[0m\u001b[0mkwargs\u001b[0m\u001b[0;34m)\u001b[0m\u001b[0;34m\u001b[0m\u001b[0m\n\u001b[0m\u001b[1;32m    152\u001b[0m \u001b[0;34m\u001b[0m\u001b[0m\n\u001b[1;32m    153\u001b[0m     \u001b[0;32mdef\u001b[0m \u001b[0marg_check_adder\u001b[0m\u001b[0;34m(\u001b[0m\u001b[0mfunc\u001b[0m\u001b[0;34m)\u001b[0m\u001b[0;34m:\u001b[0m\u001b[0;34m\u001b[0m\u001b[0m\n",
      "\u001b[0;32m/home/sysadmin/anaconda3/lib/python3.6/site-packages/thinc/neural/_classes/affine.py\u001b[0m in \u001b[0;36mpredict\u001b[0;34m(self, input__BI)\u001b[0m\n\u001b[1;32m     54\u001b[0m     \u001b[0;34m@\u001b[0m\u001b[0mcheck\u001b[0m\u001b[0;34m.\u001b[0m\u001b[0marg\u001b[0m\u001b[0;34m(\u001b[0m\u001b[0;36m1\u001b[0m\u001b[0;34m,\u001b[0m \u001b[0mhas_shape\u001b[0m\u001b[0;34m(\u001b[0m\u001b[0;34m(\u001b[0m\u001b[0;34m\"nB\"\u001b[0m\u001b[0;34m,\u001b[0m \u001b[0;34m\"nI\"\u001b[0m\u001b[0;34m)\u001b[0m\u001b[0;34m)\u001b[0m\u001b[0;34m)\u001b[0m\u001b[0;34m\u001b[0m\u001b[0m\n\u001b[1;32m     55\u001b[0m     \u001b[0;32mdef\u001b[0m \u001b[0mpredict\u001b[0m\u001b[0;34m(\u001b[0m\u001b[0mself\u001b[0m\u001b[0;34m,\u001b[0m \u001b[0minput__BI\u001b[0m\u001b[0;34m)\u001b[0m\u001b[0;34m:\u001b[0m\u001b[0;34m\u001b[0m\u001b[0m\n\u001b[0;32m---> 56\u001b[0;31m         \u001b[0moutput\u001b[0m \u001b[0;34m=\u001b[0m \u001b[0mself\u001b[0m\u001b[0;34m.\u001b[0m\u001b[0mops\u001b[0m\u001b[0;34m.\u001b[0m\u001b[0mgemm\u001b[0m\u001b[0;34m(\u001b[0m\u001b[0minput__BI\u001b[0m\u001b[0;34m,\u001b[0m \u001b[0mself\u001b[0m\u001b[0;34m.\u001b[0m\u001b[0mW\u001b[0m\u001b[0;34m,\u001b[0m \u001b[0mtrans2\u001b[0m\u001b[0;34m=\u001b[0m\u001b[0;32mTrue\u001b[0m\u001b[0;34m)\u001b[0m\u001b[0;34m\u001b[0m\u001b[0m\n\u001b[0m\u001b[1;32m     57\u001b[0m         \u001b[0moutput\u001b[0m \u001b[0;34m+=\u001b[0m \u001b[0mself\u001b[0m\u001b[0;34m.\u001b[0m\u001b[0mb\u001b[0m\u001b[0;34m\u001b[0m\u001b[0m\n\u001b[1;32m     58\u001b[0m         \u001b[0;32mreturn\u001b[0m \u001b[0moutput\u001b[0m\u001b[0;34m\u001b[0m\u001b[0m\n",
      "\u001b[0;31mKeyboardInterrupt\u001b[0m: "
     ]
    }
   ],
   "source": [
    "all_pos=[]\n",
    "gap=5\n",
    "for i,n in enumerate(IMDB['tconst'].values):\n",
    "    try:\n",
    "        flushPrint(i)\n",
    "        with open ('./IMDB/synopsis/'+n[2:]+'.txt','r') as f:\n",
    "            data=f.read()\n",
    "        male=IMDB[IMDB['tconst']==n]['character'].values[0][0]\n",
    "        female=IMDB[IMDB['tconst']==n]['character'].values[0][1]\n",
    "        doc1=nlp(data)._.coref_resolved\n",
    "        doc1=pre_process(doc1)\n",
    "        \n",
    "        female_all=[]\n",
    "        for i in doc1:\n",
    "            i=[j for j in i if (len(j)>1) & (j not in string.punctuation)]\n",
    "            indices = (j for j,word in enumerate(i) if word==female)\n",
    "            neighbors = []\n",
    "            for ind in indices:\n",
    "                if ind<gap:\n",
    "                    a=i[0:ind]+i[ind+1:ind+1+gap]\n",
    "                    neighbors.append([j.lower() for j in a if (j not in names) &(j.lower() not in stopword)])\n",
    "                else:\n",
    "                    neighbors.append([j.lower() for j in i[ind-gap:ind]+i[ind+1:ind+1+gap] if (j not in names) &(j.lower() not in stopword)])\n",
    "            female_all.append(neighbors)\n",
    "\n",
    "        male_all=[]\n",
    "        for i in doc1:\n",
    "            i=[j for j in i if (len(j)>1) & (j not in string.punctuation)]\n",
    "            indices = (j for j,word in enumerate(i) if word==male)\n",
    "            neighbors = []\n",
    "            for ind in indices:\n",
    "                if ind<gap:\n",
    "                    a=i[0:ind]+i[ind+1:ind+1+gap]\n",
    "                    neighbors.append([j.lower() for j in a if (j not in names) &(j.lower() not in stopword)])\n",
    "                else:\n",
    "                    neighbors.append([j.lower() for j in i[ind-gap:ind]+i[ind+1:ind+1+gap] if (j not in names) &(j.lower() not in stopword)])\n",
    "            male_all.append(neighbors)\n",
    "            \n",
    "        all_pos.append([n,female_all,male_all])\n",
    "    except Exception as e:\n",
    "        print(e)\n",
    "        pass  "
   ]
  },
  {
   "cell_type": "code",
   "execution_count": 64,
   "metadata": {
    "collapsed": true
   },
   "outputs": [],
   "source": [
    "file=[i[0] for i in all_pos]\n",
    "female_all=[i[1] for i in all_pos]\n",
    "male_all=[i[2] for i in all_pos]\n",
    "\n",
    "diction1=dict(zip(file,female_all))\n",
    "diction2=dict(zip(file,male_all))\n",
    "\n",
    "IMDB['female_all']=IMDB['tconst'].apply(lambda x: diction1[x] if x in diction1 else np.nan)\n",
    "IMDB['male_all']=IMDB['tconst'].apply(lambda x: diction2[x] if x in diction2 else np.nan)"
   ]
  },
  {
   "cell_type": "code",
   "execution_count": 9,
   "metadata": {
    "ExecuteTime": {
     "end_time": "2019-06-08T09:56:31.426159Z",
     "start_time": "2019-06-08T09:56:31.168911Z"
    },
    "collapsed": true
   },
   "outputs": [
    {
     "ename": "NameError",
     "evalue": "name 'IMDB' is not defined",
     "output_type": "error",
     "traceback": [
      "\u001b[0;31m---------------------------------------------------------------------------\u001b[0m",
      "\u001b[0;31mNameError\u001b[0m                                 Traceback (most recent call last)",
      "\u001b[0;32m<ipython-input-9-4075cc913de8>\u001b[0m in \u001b[0;36m<module>\u001b[0;34m()\u001b[0m\n\u001b[0;32m----> 1\u001b[0;31m \u001b[0mIMDB\u001b[0m\u001b[0;34m.\u001b[0m\u001b[0mto_csv\u001b[0m\u001b[0;34m(\u001b[0m\u001b[0;34m'./IMDB/IMDB_e2.csv'\u001b[0m\u001b[0;34m,\u001b[0m\u001b[0mindex\u001b[0m\u001b[0;34m=\u001b[0m\u001b[0;32mFalse\u001b[0m\u001b[0;34m)\u001b[0m\u001b[0;34m\u001b[0m\u001b[0m\n\u001b[0m",
      "\u001b[0;31mNameError\u001b[0m: name 'IMDB' is not defined"
     ]
    }
   ],
   "source": [
    "IMDB.to_csv('./IMDB/IMDB_e2.csv',index=False)"
   ]
  },
  {
   "cell_type": "code",
   "execution_count": 48,
   "metadata": {
    "collapsed": true
   },
   "outputs": [
    {
     "name": "stdout",
     "output_type": "stream",
     "text": [
      "6"
     ]
    },
    {
     "ename": "KeyboardInterrupt",
     "evalue": "",
     "output_type": "error",
     "traceback": [
      "\u001b[0;31m---------------------------------------------------------------------------\u001b[0m",
      "\u001b[0;31mKeyboardInterrupt\u001b[0m                         Traceback (most recent call last)",
      "\u001b[0;32m<ipython-input-48-41132bc0f398>\u001b[0m in \u001b[0;36m<module>\u001b[0;34m()\u001b[0m\n\u001b[1;32m      8\u001b[0m         \u001b[0mmale\u001b[0m\u001b[0;34m=\u001b[0m\u001b[0mIMDB\u001b[0m\u001b[0;34m[\u001b[0m\u001b[0mIMDB\u001b[0m\u001b[0;34m[\u001b[0m\u001b[0;34m'tconst'\u001b[0m\u001b[0;34m]\u001b[0m\u001b[0;34m==\u001b[0m\u001b[0mn\u001b[0m\u001b[0;34m]\u001b[0m\u001b[0;34m[\u001b[0m\u001b[0;34m'character'\u001b[0m\u001b[0;34m]\u001b[0m\u001b[0;34m.\u001b[0m\u001b[0mvalues\u001b[0m\u001b[0;34m[\u001b[0m\u001b[0;36m0\u001b[0m\u001b[0;34m]\u001b[0m\u001b[0;34m[\u001b[0m\u001b[0;36m0\u001b[0m\u001b[0;34m]\u001b[0m\u001b[0;34m\u001b[0m\u001b[0m\n\u001b[1;32m      9\u001b[0m         \u001b[0mfemale\u001b[0m\u001b[0;34m=\u001b[0m\u001b[0mIMDB\u001b[0m\u001b[0;34m[\u001b[0m\u001b[0mIMDB\u001b[0m\u001b[0;34m[\u001b[0m\u001b[0;34m'tconst'\u001b[0m\u001b[0;34m]\u001b[0m\u001b[0;34m==\u001b[0m\u001b[0mn\u001b[0m\u001b[0;34m]\u001b[0m\u001b[0;34m[\u001b[0m\u001b[0;34m'character'\u001b[0m\u001b[0;34m]\u001b[0m\u001b[0;34m.\u001b[0m\u001b[0mvalues\u001b[0m\u001b[0;34m[\u001b[0m\u001b[0;36m0\u001b[0m\u001b[0;34m]\u001b[0m\u001b[0;34m[\u001b[0m\u001b[0;36m1\u001b[0m\u001b[0;34m]\u001b[0m\u001b[0;34m\u001b[0m\u001b[0m\n\u001b[0;32m---> 10\u001b[0;31m         \u001b[0mdoc1\u001b[0m\u001b[0;34m=\u001b[0m\u001b[0mnlp\u001b[0m\u001b[0;34m(\u001b[0m\u001b[0mdata\u001b[0m\u001b[0;34m)\u001b[0m\u001b[0;34m.\u001b[0m\u001b[0m_\u001b[0m\u001b[0;34m.\u001b[0m\u001b[0mcoref_resolved\u001b[0m\u001b[0;34m\u001b[0m\u001b[0m\n\u001b[0m\u001b[1;32m     11\u001b[0m         \u001b[0mdoc1\u001b[0m\u001b[0;34m=\u001b[0m\u001b[0mpre_process\u001b[0m\u001b[0;34m(\u001b[0m\u001b[0mdoc1\u001b[0m\u001b[0;34m)\u001b[0m\u001b[0;34m\u001b[0m\u001b[0m\n\u001b[1;32m     12\u001b[0m \u001b[0;34m\u001b[0m\u001b[0m\n",
      "\u001b[0;32m/home/sysadmin/anaconda3/lib/python3.6/site-packages/spacy/language.py\u001b[0m in \u001b[0;36m__call__\u001b[0;34m(self, text, disable, component_cfg)\u001b[0m\n\u001b[1;32m    383\u001b[0m             \u001b[0;32mif\u001b[0m \u001b[0;32mnot\u001b[0m \u001b[0mhasattr\u001b[0m\u001b[0;34m(\u001b[0m\u001b[0mproc\u001b[0m\u001b[0;34m,\u001b[0m \u001b[0;34m\"__call__\"\u001b[0m\u001b[0;34m)\u001b[0m\u001b[0;34m:\u001b[0m\u001b[0;34m\u001b[0m\u001b[0m\n\u001b[1;32m    384\u001b[0m                 \u001b[0;32mraise\u001b[0m \u001b[0mValueError\u001b[0m\u001b[0;34m(\u001b[0m\u001b[0mErrors\u001b[0m\u001b[0;34m.\u001b[0m\u001b[0mE003\u001b[0m\u001b[0;34m.\u001b[0m\u001b[0mformat\u001b[0m\u001b[0;34m(\u001b[0m\u001b[0mcomponent\u001b[0m\u001b[0;34m=\u001b[0m\u001b[0mtype\u001b[0m\u001b[0;34m(\u001b[0m\u001b[0mproc\u001b[0m\u001b[0;34m)\u001b[0m\u001b[0;34m,\u001b[0m \u001b[0mname\u001b[0m\u001b[0;34m=\u001b[0m\u001b[0mname\u001b[0m\u001b[0;34m)\u001b[0m\u001b[0;34m)\u001b[0m\u001b[0;34m\u001b[0m\u001b[0m\n\u001b[0;32m--> 385\u001b[0;31m             \u001b[0mdoc\u001b[0m \u001b[0;34m=\u001b[0m \u001b[0mproc\u001b[0m\u001b[0;34m(\u001b[0m\u001b[0mdoc\u001b[0m\u001b[0;34m,\u001b[0m \u001b[0;34m**\u001b[0m\u001b[0mcomponent_cfg\u001b[0m\u001b[0;34m.\u001b[0m\u001b[0mget\u001b[0m\u001b[0;34m(\u001b[0m\u001b[0mname\u001b[0m\u001b[0;34m,\u001b[0m \u001b[0;34m{\u001b[0m\u001b[0;34m}\u001b[0m\u001b[0;34m)\u001b[0m\u001b[0;34m)\u001b[0m\u001b[0;34m\u001b[0m\u001b[0m\n\u001b[0m\u001b[1;32m    386\u001b[0m             \u001b[0;32mif\u001b[0m \u001b[0mdoc\u001b[0m \u001b[0;32mis\u001b[0m \u001b[0;32mNone\u001b[0m\u001b[0;34m:\u001b[0m\u001b[0;34m\u001b[0m\u001b[0m\n\u001b[1;32m    387\u001b[0m                 \u001b[0;32mraise\u001b[0m \u001b[0mValueError\u001b[0m\u001b[0;34m(\u001b[0m\u001b[0mErrors\u001b[0m\u001b[0;34m.\u001b[0m\u001b[0mE005\u001b[0m\u001b[0;34m.\u001b[0m\u001b[0mformat\u001b[0m\u001b[0;34m(\u001b[0m\u001b[0mname\u001b[0m\u001b[0;34m=\u001b[0m\u001b[0mname\u001b[0m\u001b[0;34m)\u001b[0m\u001b[0;34m)\u001b[0m\u001b[0;34m\u001b[0m\u001b[0m\n",
      "\u001b[0;32mneuralcoref.pyx\u001b[0m in \u001b[0;36mneuralcoref.neuralcoref.NeuralCoref.__call__\u001b[0;34m()\u001b[0m\n",
      "\u001b[0;32mneuralcoref.pyx\u001b[0m in \u001b[0;36mneuralcoref.neuralcoref.NeuralCoref.predict\u001b[0;34m()\u001b[0m\n",
      "\u001b[0;32m/home/sysadmin/anaconda3/lib/python3.6/site-packages/thinc/neural/_classes/model.py\u001b[0m in \u001b[0;36m__call__\u001b[0;34m(self, x)\u001b[0m\n\u001b[1;32m    163\u001b[0m             \u001b[0mMust\u001b[0m \u001b[0mmatch\u001b[0m \u001b[0mexpected\u001b[0m \u001b[0mshape\u001b[0m\u001b[0;34m\u001b[0m\u001b[0m\n\u001b[1;32m    164\u001b[0m         \"\"\"\n\u001b[0;32m--> 165\u001b[0;31m         \u001b[0;32mreturn\u001b[0m \u001b[0mself\u001b[0m\u001b[0;34m.\u001b[0m\u001b[0mpredict\u001b[0m\u001b[0;34m(\u001b[0m\u001b[0mx\u001b[0m\u001b[0;34m)\u001b[0m\u001b[0;34m\u001b[0m\u001b[0m\n\u001b[0m\u001b[1;32m    166\u001b[0m \u001b[0;34m\u001b[0m\u001b[0m\n\u001b[1;32m    167\u001b[0m     \u001b[0;32mdef\u001b[0m \u001b[0mpipe\u001b[0m\u001b[0;34m(\u001b[0m\u001b[0mself\u001b[0m\u001b[0;34m,\u001b[0m \u001b[0mstream\u001b[0m\u001b[0;34m,\u001b[0m \u001b[0mbatch_size\u001b[0m\u001b[0;34m=\u001b[0m\u001b[0;36m128\u001b[0m\u001b[0;34m)\u001b[0m\u001b[0;34m:\u001b[0m\u001b[0;34m\u001b[0m\u001b[0m\n",
      "\u001b[0;32m/home/sysadmin/anaconda3/lib/python3.6/site-packages/thinc/neural/_classes/feed_forward.py\u001b[0m in \u001b[0;36mpredict\u001b[0;34m(self, X)\u001b[0m\n\u001b[1;32m     38\u001b[0m     \u001b[0;32mdef\u001b[0m \u001b[0mpredict\u001b[0m\u001b[0;34m(\u001b[0m\u001b[0mself\u001b[0m\u001b[0;34m,\u001b[0m \u001b[0mX\u001b[0m\u001b[0;34m)\u001b[0m\u001b[0;34m:\u001b[0m\u001b[0;34m\u001b[0m\u001b[0m\n\u001b[1;32m     39\u001b[0m         \u001b[0;32mfor\u001b[0m \u001b[0mlayer\u001b[0m \u001b[0;32min\u001b[0m \u001b[0mself\u001b[0m\u001b[0;34m.\u001b[0m\u001b[0m_layers\u001b[0m\u001b[0;34m:\u001b[0m\u001b[0;34m\u001b[0m\u001b[0m\n\u001b[0;32m---> 40\u001b[0;31m             \u001b[0mX\u001b[0m \u001b[0;34m=\u001b[0m \u001b[0mlayer\u001b[0m\u001b[0;34m(\u001b[0m\u001b[0mX\u001b[0m\u001b[0;34m)\u001b[0m\u001b[0;34m\u001b[0m\u001b[0m\n\u001b[0m\u001b[1;32m     41\u001b[0m         \u001b[0;32mreturn\u001b[0m \u001b[0mX\u001b[0m\u001b[0;34m\u001b[0m\u001b[0m\n\u001b[1;32m     42\u001b[0m \u001b[0;34m\u001b[0m\u001b[0m\n",
      "\u001b[0;32m/home/sysadmin/anaconda3/lib/python3.6/site-packages/thinc/neural/_classes/model.py\u001b[0m in \u001b[0;36m__call__\u001b[0;34m(self, x)\u001b[0m\n\u001b[1;32m    163\u001b[0m             \u001b[0mMust\u001b[0m \u001b[0mmatch\u001b[0m \u001b[0mexpected\u001b[0m \u001b[0mshape\u001b[0m\u001b[0;34m\u001b[0m\u001b[0m\n\u001b[1;32m    164\u001b[0m         \"\"\"\n\u001b[0;32m--> 165\u001b[0;31m         \u001b[0;32mreturn\u001b[0m \u001b[0mself\u001b[0m\u001b[0;34m.\u001b[0m\u001b[0mpredict\u001b[0m\u001b[0;34m(\u001b[0m\u001b[0mx\u001b[0m\u001b[0;34m)\u001b[0m\u001b[0;34m\u001b[0m\u001b[0m\n\u001b[0m\u001b[1;32m    166\u001b[0m \u001b[0;34m\u001b[0m\u001b[0m\n\u001b[1;32m    167\u001b[0m     \u001b[0;32mdef\u001b[0m \u001b[0mpipe\u001b[0m\u001b[0;34m(\u001b[0m\u001b[0mself\u001b[0m\u001b[0;34m,\u001b[0m \u001b[0mstream\u001b[0m\u001b[0;34m,\u001b[0m \u001b[0mbatch_size\u001b[0m\u001b[0;34m=\u001b[0m\u001b[0;36m128\u001b[0m\u001b[0;34m)\u001b[0m\u001b[0;34m:\u001b[0m\u001b[0;34m\u001b[0m\u001b[0m\n",
      "\u001b[0;32m/home/sysadmin/anaconda3/lib/python3.6/site-packages/thinc/check.py\u001b[0m in \u001b[0;36mchecked_function\u001b[0;34m(wrapped, instance, args, kwargs)\u001b[0m\n\u001b[1;32m    149\u001b[0m                     \u001b[0;32mraise\u001b[0m \u001b[0mExpectedTypeError\u001b[0m\u001b[0;34m(\u001b[0m\u001b[0mcheck\u001b[0m\u001b[0;34m,\u001b[0m \u001b[0;34m[\u001b[0m\u001b[0;34m\"Callable\"\u001b[0m\u001b[0;34m]\u001b[0m\u001b[0;34m)\u001b[0m\u001b[0;34m\u001b[0m\u001b[0m\n\u001b[1;32m    150\u001b[0m                 \u001b[0mcheck\u001b[0m\u001b[0;34m(\u001b[0m\u001b[0marg_id\u001b[0m\u001b[0;34m,\u001b[0m \u001b[0mfix_args\u001b[0m\u001b[0;34m,\u001b[0m \u001b[0mkwargs\u001b[0m\u001b[0;34m)\u001b[0m\u001b[0;34m\u001b[0m\u001b[0m\n\u001b[0;32m--> 151\u001b[0;31m         \u001b[0;32mreturn\u001b[0m \u001b[0mwrapped\u001b[0m\u001b[0;34m(\u001b[0m\u001b[0;34m*\u001b[0m\u001b[0margs\u001b[0m\u001b[0;34m,\u001b[0m \u001b[0;34m**\u001b[0m\u001b[0mkwargs\u001b[0m\u001b[0;34m)\u001b[0m\u001b[0;34m\u001b[0m\u001b[0m\n\u001b[0m\u001b[1;32m    152\u001b[0m \u001b[0;34m\u001b[0m\u001b[0m\n\u001b[1;32m    153\u001b[0m     \u001b[0;32mdef\u001b[0m \u001b[0marg_check_adder\u001b[0m\u001b[0;34m(\u001b[0m\u001b[0mfunc\u001b[0m\u001b[0;34m)\u001b[0m\u001b[0;34m:\u001b[0m\u001b[0;34m\u001b[0m\u001b[0m\n",
      "\u001b[0;32m/home/sysadmin/anaconda3/lib/python3.6/site-packages/thinc/neural/_classes/relu.py\u001b[0m in \u001b[0;36mpredict\u001b[0;34m(self, input__BI)\u001b[0m\n\u001b[1;32m     11\u001b[0m     \u001b[0;32mdef\u001b[0m \u001b[0mpredict\u001b[0m\u001b[0;34m(\u001b[0m\u001b[0mself\u001b[0m\u001b[0;34m,\u001b[0m \u001b[0minput__BI\u001b[0m\u001b[0;34m)\u001b[0m\u001b[0;34m:\u001b[0m\u001b[0;34m\u001b[0m\u001b[0m\n\u001b[1;32m     12\u001b[0m         \u001b[0moutput__BO\u001b[0m \u001b[0;34m=\u001b[0m \u001b[0mAffine\u001b[0m\u001b[0;34m.\u001b[0m\u001b[0mpredict\u001b[0m\u001b[0;34m(\u001b[0m\u001b[0mself\u001b[0m\u001b[0;34m,\u001b[0m \u001b[0minput__BI\u001b[0m\u001b[0;34m)\u001b[0m\u001b[0;34m\u001b[0m\u001b[0m\n\u001b[0;32m---> 13\u001b[0;31m         \u001b[0moutput__BO\u001b[0m \u001b[0;34m=\u001b[0m \u001b[0mself\u001b[0m\u001b[0;34m.\u001b[0m\u001b[0mops\u001b[0m\u001b[0;34m.\u001b[0m\u001b[0mrelu\u001b[0m\u001b[0;34m(\u001b[0m\u001b[0moutput__BO\u001b[0m\u001b[0;34m,\u001b[0m \u001b[0minplace\u001b[0m\u001b[0;34m=\u001b[0m\u001b[0;32mFalse\u001b[0m\u001b[0;34m)\u001b[0m\u001b[0;34m\u001b[0m\u001b[0m\n\u001b[0m\u001b[1;32m     14\u001b[0m         \u001b[0;32mreturn\u001b[0m \u001b[0moutput__BO\u001b[0m\u001b[0;34m\u001b[0m\u001b[0m\n\u001b[1;32m     15\u001b[0m \u001b[0;34m\u001b[0m\u001b[0m\n",
      "\u001b[0;31mKeyboardInterrupt\u001b[0m: "
     ]
    }
   ],
   "source": [
    "# all_pos=[]\n",
    "# gap=5\n",
    "# for i,n in enumerate(IMDB['tconst'].values):\n",
    "#     try:\n",
    "#         flushPrint(i)\n",
    "#         with open ('./IMDB/synopsis/'+n[2:]+'.txt','r') as f:\n",
    "#             data=f.read()\n",
    "#         male=IMDB[IMDB['tconst']==n]['character'].values[0][0]\n",
    "#         female=IMDB[IMDB['tconst']==n]['character'].values[0][1]\n",
    "#         doc1=nlp(data)._.coref_resolved\n",
    "#         doc1=pre_process(doc1)\n",
    "\n",
    "#         female_adj=[]\n",
    "#         female_verb=[]\n",
    "#         for i in doc1:\n",
    "#             indices = (j for j,word in enumerate(i) if word==female)\n",
    "#             neighbors_a = []\n",
    "#             neighbors_v = []\n",
    "#             for ind in indices:\n",
    "#                 pos_tags = nltk.pos_tag(i[ind-gap:ind]+i[ind+1:ind+1+gap])\n",
    "#                 for word,pos in pos_tags:\n",
    "#                     if (pos == 'JJ' or pos == 'JJR' or pos == 'JJS' or 'VA')&(word not in neighbors_a)&(len(word)>1):\n",
    "#                         neighbors_a.append(word)\n",
    "#                     if (pos == 'VB' or pos == 'VBD' or pos == 'VBG' or pos == 'VBN' or pos == 'VBP' or pos == 'VBZ')&(word not in neighbors_v)&(len(word)>1):\n",
    "#                         neighbors_v.append(word)\n",
    "#             female_adj.append(neighbors_a)\n",
    "#             female_verb.append(neighbors_v)\n",
    "\n",
    "#         male_adj=[]\n",
    "#         male_verb=[]\n",
    "#         for i in doc1:\n",
    "#             indices = (j for j,word in enumerate(i) if word==male)\n",
    "#             neighbors_a = []\n",
    "#             neighbors_v = []\n",
    "#             for ind in indices:\n",
    "#                 pos_tags = nltk.pos_tag(i[ind-gap:ind]+i[ind+1:ind+1+gap])\n",
    "#                 for word,pos in pos_tags:\n",
    "#                     if (pos == 'JJ' or pos == 'JJR' or pos == 'JJS' or 'VA')&(word not in neighbors_a)&(len(word)>1):\n",
    "#                         neighbors_a.append(word)\n",
    "#                     if (pos == 'VB' or pos == 'VBD' or pos == 'VBG' or pos == 'VBN' or pos == 'VBP' or pos == 'VBZ')&(word not in neighbors_v)&(len(word)>1):\n",
    "#                         neighbors_v.append(word)\n",
    "#             male_adj.append(neighbors_a)\n",
    "#             male_verb.append(neighbors_v)\n",
    "#         all_pos.append([n,female_adj,female_verb,male_adj,male_verb])\n",
    "#     except Exception as e:\n",
    "#         print(e)\n",
    "#         pass  "
   ]
  },
  {
   "cell_type": "code",
   "execution_count": 51,
   "metadata": {
    "collapsed": true
   },
   "outputs": [],
   "source": [
    "# file=[i[0] for i in all_pos]\n",
    "# female_adj=[i[1] for i in all_pos]\n",
    "# female_verb=[i[2] for i in all_pos]\n",
    "# male_adj=[i[3] for i in all_pos]\n",
    "# male_verb=[i[4] for i in all_pos]\n",
    "\n",
    "# diction1=dict(zip(file,female_adj))\n",
    "# diction2=dict(zip(file,female_verb))\n",
    "# diction3=dict(zip(file,male_adj))\n",
    "# diction4=dict(zip(file,male_verb))\n",
    "\n",
    "\n",
    "# IMDB['female_adj']=IMDB['tconst'].apply(lambda x: diction1[x] if x in diction1 else np.nan)\n",
    "# IMDB['female_verb']=IMDB['tconst'].apply(lambda x: diction2[x] if x in diction2 else np.nan)\n",
    "# IMDB['male_adj']=IMDB['tconst'].apply(lambda x: diction3[x] if x in diction3 else np.nan)\n",
    "# IMDB['male_verb']=IMDB['tconst'].apply(lambda x: diction4[x] if x in diction4 else np.nan)"
   ]
  },
  {
   "cell_type": "code",
   "execution_count": null,
   "metadata": {
    "collapsed": true
   },
   "outputs": [],
   "source": []
  },
  {
   "cell_type": "code",
   "execution_count": 16,
   "metadata": {
    "collapsed": true
   },
   "outputs": [],
   "source": [
    "# import spacy\n",
    "# from spacy.symbols import nsubj, nsubjpass, csubj, csubjpass, agent, expl, VERB\n",
    "# nlp1 = spacy.load(\"en_core_web_sm\")"
   ]
  },
  {
   "cell_type": "code",
   "execution_count": 16,
   "metadata": {
    "collapsed": true
   },
   "outputs": [
    {
     "name": "stdout",
     "output_type": "stream",
     "text": [
      "2"
     ]
    },
    {
     "ename": "KeyboardInterrupt",
     "evalue": "",
     "output_type": "error",
     "traceback": [
      "\u001b[0;31m---------------------------------------------------------------------------\u001b[0m",
      "\u001b[0;31mKeyboardInterrupt\u001b[0m                         Traceback (most recent call last)",
      "\u001b[0;32m<ipython-input-16-0a3f2b0666e3>\u001b[0m in \u001b[0;36m<module>\u001b[0;34m()\u001b[0m\n\u001b[1;32m      7\u001b[0m         \u001b[0mmale\u001b[0m\u001b[0;34m=\u001b[0m\u001b[0mIMDB\u001b[0m\u001b[0;34m[\u001b[0m\u001b[0mIMDB\u001b[0m\u001b[0;34m[\u001b[0m\u001b[0;34m'tconst'\u001b[0m\u001b[0;34m]\u001b[0m\u001b[0;34m==\u001b[0m\u001b[0mn\u001b[0m\u001b[0;34m]\u001b[0m\u001b[0;34m[\u001b[0m\u001b[0;34m'character'\u001b[0m\u001b[0;34m]\u001b[0m\u001b[0;34m.\u001b[0m\u001b[0mvalues\u001b[0m\u001b[0;34m[\u001b[0m\u001b[0;36m0\u001b[0m\u001b[0;34m]\u001b[0m\u001b[0;34m[\u001b[0m\u001b[0;36m0\u001b[0m\u001b[0;34m]\u001b[0m\u001b[0;34m\u001b[0m\u001b[0m\n\u001b[1;32m      8\u001b[0m         \u001b[0mfemale\u001b[0m\u001b[0;34m=\u001b[0m\u001b[0mIMDB\u001b[0m\u001b[0;34m[\u001b[0m\u001b[0mIMDB\u001b[0m\u001b[0;34m[\u001b[0m\u001b[0;34m'tconst'\u001b[0m\u001b[0;34m]\u001b[0m\u001b[0;34m==\u001b[0m\u001b[0mn\u001b[0m\u001b[0;34m]\u001b[0m\u001b[0;34m[\u001b[0m\u001b[0;34m'character'\u001b[0m\u001b[0;34m]\u001b[0m\u001b[0;34m.\u001b[0m\u001b[0mvalues\u001b[0m\u001b[0;34m[\u001b[0m\u001b[0;36m0\u001b[0m\u001b[0;34m]\u001b[0m\u001b[0;34m[\u001b[0m\u001b[0;36m1\u001b[0m\u001b[0;34m]\u001b[0m\u001b[0;34m\u001b[0m\u001b[0m\n\u001b[0;32m----> 9\u001b[0;31m         \u001b[0mdoc1\u001b[0m\u001b[0;34m=\u001b[0m\u001b[0mnlp\u001b[0m\u001b[0;34m(\u001b[0m\u001b[0mdata\u001b[0m\u001b[0;34m)\u001b[0m\u001b[0;34m.\u001b[0m\u001b[0m_\u001b[0m\u001b[0;34m.\u001b[0m\u001b[0mcoref_resolved\u001b[0m\u001b[0;34m\u001b[0m\u001b[0m\n\u001b[0m\u001b[1;32m     10\u001b[0m         \u001b[0mdoc1\u001b[0m\u001b[0;34m=\u001b[0m\u001b[0mpre_process\u001b[0m\u001b[0;34m(\u001b[0m\u001b[0mdoc1\u001b[0m\u001b[0;34m)\u001b[0m\u001b[0;34m\u001b[0m\u001b[0m\n\u001b[1;32m     11\u001b[0m \u001b[0;34m\u001b[0m\u001b[0m\n",
      "\u001b[0;32m/home/sysadmin/anaconda3/lib/python3.6/site-packages/spacy/language.py\u001b[0m in \u001b[0;36m__call__\u001b[0;34m(self, text, disable, component_cfg)\u001b[0m\n\u001b[1;32m    383\u001b[0m             \u001b[0;32mif\u001b[0m \u001b[0;32mnot\u001b[0m \u001b[0mhasattr\u001b[0m\u001b[0;34m(\u001b[0m\u001b[0mproc\u001b[0m\u001b[0;34m,\u001b[0m \u001b[0;34m\"__call__\"\u001b[0m\u001b[0;34m)\u001b[0m\u001b[0;34m:\u001b[0m\u001b[0;34m\u001b[0m\u001b[0m\n\u001b[1;32m    384\u001b[0m                 \u001b[0;32mraise\u001b[0m \u001b[0mValueError\u001b[0m\u001b[0;34m(\u001b[0m\u001b[0mErrors\u001b[0m\u001b[0;34m.\u001b[0m\u001b[0mE003\u001b[0m\u001b[0;34m.\u001b[0m\u001b[0mformat\u001b[0m\u001b[0;34m(\u001b[0m\u001b[0mcomponent\u001b[0m\u001b[0;34m=\u001b[0m\u001b[0mtype\u001b[0m\u001b[0;34m(\u001b[0m\u001b[0mproc\u001b[0m\u001b[0;34m)\u001b[0m\u001b[0;34m,\u001b[0m \u001b[0mname\u001b[0m\u001b[0;34m=\u001b[0m\u001b[0mname\u001b[0m\u001b[0;34m)\u001b[0m\u001b[0;34m)\u001b[0m\u001b[0;34m\u001b[0m\u001b[0m\n\u001b[0;32m--> 385\u001b[0;31m             \u001b[0mdoc\u001b[0m \u001b[0;34m=\u001b[0m \u001b[0mproc\u001b[0m\u001b[0;34m(\u001b[0m\u001b[0mdoc\u001b[0m\u001b[0;34m,\u001b[0m \u001b[0;34m**\u001b[0m\u001b[0mcomponent_cfg\u001b[0m\u001b[0;34m.\u001b[0m\u001b[0mget\u001b[0m\u001b[0;34m(\u001b[0m\u001b[0mname\u001b[0m\u001b[0;34m,\u001b[0m \u001b[0;34m{\u001b[0m\u001b[0;34m}\u001b[0m\u001b[0;34m)\u001b[0m\u001b[0;34m)\u001b[0m\u001b[0;34m\u001b[0m\u001b[0m\n\u001b[0m\u001b[1;32m    386\u001b[0m             \u001b[0;32mif\u001b[0m \u001b[0mdoc\u001b[0m \u001b[0;32mis\u001b[0m \u001b[0;32mNone\u001b[0m\u001b[0;34m:\u001b[0m\u001b[0;34m\u001b[0m\u001b[0m\n\u001b[1;32m    387\u001b[0m                 \u001b[0;32mraise\u001b[0m \u001b[0mValueError\u001b[0m\u001b[0;34m(\u001b[0m\u001b[0mErrors\u001b[0m\u001b[0;34m.\u001b[0m\u001b[0mE005\u001b[0m\u001b[0;34m.\u001b[0m\u001b[0mformat\u001b[0m\u001b[0;34m(\u001b[0m\u001b[0mname\u001b[0m\u001b[0;34m=\u001b[0m\u001b[0mname\u001b[0m\u001b[0;34m)\u001b[0m\u001b[0;34m)\u001b[0m\u001b[0;34m\u001b[0m\u001b[0m\n",
      "\u001b[0;32mneuralcoref.pyx\u001b[0m in \u001b[0;36mneuralcoref.neuralcoref.NeuralCoref.__call__\u001b[0;34m()\u001b[0m\n",
      "\u001b[0;32mneuralcoref.pyx\u001b[0m in \u001b[0;36mneuralcoref.neuralcoref.NeuralCoref.predict\u001b[0;34m()\u001b[0m\n",
      "\u001b[0;32m/home/sysadmin/anaconda3/lib/python3.6/site-packages/thinc/neural/_classes/model.py\u001b[0m in \u001b[0;36m__call__\u001b[0;34m(self, x)\u001b[0m\n\u001b[1;32m    163\u001b[0m             \u001b[0mMust\u001b[0m \u001b[0mmatch\u001b[0m \u001b[0mexpected\u001b[0m \u001b[0mshape\u001b[0m\u001b[0;34m\u001b[0m\u001b[0m\n\u001b[1;32m    164\u001b[0m         \"\"\"\n\u001b[0;32m--> 165\u001b[0;31m         \u001b[0;32mreturn\u001b[0m \u001b[0mself\u001b[0m\u001b[0;34m.\u001b[0m\u001b[0mpredict\u001b[0m\u001b[0;34m(\u001b[0m\u001b[0mx\u001b[0m\u001b[0;34m)\u001b[0m\u001b[0;34m\u001b[0m\u001b[0m\n\u001b[0m\u001b[1;32m    166\u001b[0m \u001b[0;34m\u001b[0m\u001b[0m\n\u001b[1;32m    167\u001b[0m     \u001b[0;32mdef\u001b[0m \u001b[0mpipe\u001b[0m\u001b[0;34m(\u001b[0m\u001b[0mself\u001b[0m\u001b[0;34m,\u001b[0m \u001b[0mstream\u001b[0m\u001b[0;34m,\u001b[0m \u001b[0mbatch_size\u001b[0m\u001b[0;34m=\u001b[0m\u001b[0;36m128\u001b[0m\u001b[0;34m)\u001b[0m\u001b[0;34m:\u001b[0m\u001b[0;34m\u001b[0m\u001b[0m\n",
      "\u001b[0;32m/home/sysadmin/anaconda3/lib/python3.6/site-packages/thinc/neural/_classes/feed_forward.py\u001b[0m in \u001b[0;36mpredict\u001b[0;34m(self, X)\u001b[0m\n\u001b[1;32m     38\u001b[0m     \u001b[0;32mdef\u001b[0m \u001b[0mpredict\u001b[0m\u001b[0;34m(\u001b[0m\u001b[0mself\u001b[0m\u001b[0;34m,\u001b[0m \u001b[0mX\u001b[0m\u001b[0;34m)\u001b[0m\u001b[0;34m:\u001b[0m\u001b[0;34m\u001b[0m\u001b[0m\n\u001b[1;32m     39\u001b[0m         \u001b[0;32mfor\u001b[0m \u001b[0mlayer\u001b[0m \u001b[0;32min\u001b[0m \u001b[0mself\u001b[0m\u001b[0;34m.\u001b[0m\u001b[0m_layers\u001b[0m\u001b[0;34m:\u001b[0m\u001b[0;34m\u001b[0m\u001b[0m\n\u001b[0;32m---> 40\u001b[0;31m             \u001b[0mX\u001b[0m \u001b[0;34m=\u001b[0m \u001b[0mlayer\u001b[0m\u001b[0;34m(\u001b[0m\u001b[0mX\u001b[0m\u001b[0;34m)\u001b[0m\u001b[0;34m\u001b[0m\u001b[0m\n\u001b[0m\u001b[1;32m     41\u001b[0m         \u001b[0;32mreturn\u001b[0m \u001b[0mX\u001b[0m\u001b[0;34m\u001b[0m\u001b[0m\n\u001b[1;32m     42\u001b[0m \u001b[0;34m\u001b[0m\u001b[0m\n",
      "\u001b[0;32m/home/sysadmin/anaconda3/lib/python3.6/site-packages/thinc/neural/_classes/model.py\u001b[0m in \u001b[0;36m__call__\u001b[0;34m(self, x)\u001b[0m\n\u001b[1;32m    163\u001b[0m             \u001b[0mMust\u001b[0m \u001b[0mmatch\u001b[0m \u001b[0mexpected\u001b[0m \u001b[0mshape\u001b[0m\u001b[0;34m\u001b[0m\u001b[0m\n\u001b[1;32m    164\u001b[0m         \"\"\"\n\u001b[0;32m--> 165\u001b[0;31m         \u001b[0;32mreturn\u001b[0m \u001b[0mself\u001b[0m\u001b[0;34m.\u001b[0m\u001b[0mpredict\u001b[0m\u001b[0;34m(\u001b[0m\u001b[0mx\u001b[0m\u001b[0;34m)\u001b[0m\u001b[0;34m\u001b[0m\u001b[0m\n\u001b[0m\u001b[1;32m    166\u001b[0m \u001b[0;34m\u001b[0m\u001b[0m\n\u001b[1;32m    167\u001b[0m     \u001b[0;32mdef\u001b[0m \u001b[0mpipe\u001b[0m\u001b[0;34m(\u001b[0m\u001b[0mself\u001b[0m\u001b[0;34m,\u001b[0m \u001b[0mstream\u001b[0m\u001b[0;34m,\u001b[0m \u001b[0mbatch_size\u001b[0m\u001b[0;34m=\u001b[0m\u001b[0;36m128\u001b[0m\u001b[0;34m)\u001b[0m\u001b[0;34m:\u001b[0m\u001b[0;34m\u001b[0m\u001b[0m\n",
      "\u001b[0;32m/home/sysadmin/anaconda3/lib/python3.6/site-packages/thinc/check.py\u001b[0m in \u001b[0;36mchecked_function\u001b[0;34m(wrapped, instance, args, kwargs)\u001b[0m\n\u001b[1;32m    149\u001b[0m                     \u001b[0;32mraise\u001b[0m \u001b[0mExpectedTypeError\u001b[0m\u001b[0;34m(\u001b[0m\u001b[0mcheck\u001b[0m\u001b[0;34m,\u001b[0m \u001b[0;34m[\u001b[0m\u001b[0;34m\"Callable\"\u001b[0m\u001b[0;34m]\u001b[0m\u001b[0;34m)\u001b[0m\u001b[0;34m\u001b[0m\u001b[0m\n\u001b[1;32m    150\u001b[0m                 \u001b[0mcheck\u001b[0m\u001b[0;34m(\u001b[0m\u001b[0marg_id\u001b[0m\u001b[0;34m,\u001b[0m \u001b[0mfix_args\u001b[0m\u001b[0;34m,\u001b[0m \u001b[0mkwargs\u001b[0m\u001b[0;34m)\u001b[0m\u001b[0;34m\u001b[0m\u001b[0m\n\u001b[0;32m--> 151\u001b[0;31m         \u001b[0;32mreturn\u001b[0m \u001b[0mwrapped\u001b[0m\u001b[0;34m(\u001b[0m\u001b[0;34m*\u001b[0m\u001b[0margs\u001b[0m\u001b[0;34m,\u001b[0m \u001b[0;34m**\u001b[0m\u001b[0mkwargs\u001b[0m\u001b[0;34m)\u001b[0m\u001b[0;34m\u001b[0m\u001b[0m\n\u001b[0m\u001b[1;32m    152\u001b[0m \u001b[0;34m\u001b[0m\u001b[0m\n\u001b[1;32m    153\u001b[0m     \u001b[0;32mdef\u001b[0m \u001b[0marg_check_adder\u001b[0m\u001b[0;34m(\u001b[0m\u001b[0mfunc\u001b[0m\u001b[0;34m)\u001b[0m\u001b[0;34m:\u001b[0m\u001b[0;34m\u001b[0m\u001b[0m\n",
      "\u001b[0;32m/home/sysadmin/anaconda3/lib/python3.6/site-packages/thinc/neural/_classes/relu.py\u001b[0m in \u001b[0;36mpredict\u001b[0;34m(self, input__BI)\u001b[0m\n\u001b[1;32m     10\u001b[0m     \u001b[0;34m@\u001b[0m\u001b[0mcheck\u001b[0m\u001b[0;34m.\u001b[0m\u001b[0marg\u001b[0m\u001b[0;34m(\u001b[0m\u001b[0;36m1\u001b[0m\u001b[0;34m,\u001b[0m \u001b[0mhas_shape\u001b[0m\u001b[0;34m(\u001b[0m\u001b[0;34m(\u001b[0m\u001b[0;34m\"nB\"\u001b[0m\u001b[0;34m,\u001b[0m \u001b[0;34m\"nI\"\u001b[0m\u001b[0;34m)\u001b[0m\u001b[0;34m)\u001b[0m\u001b[0;34m)\u001b[0m\u001b[0;34m\u001b[0m\u001b[0m\n\u001b[1;32m     11\u001b[0m     \u001b[0;32mdef\u001b[0m \u001b[0mpredict\u001b[0m\u001b[0;34m(\u001b[0m\u001b[0mself\u001b[0m\u001b[0;34m,\u001b[0m \u001b[0minput__BI\u001b[0m\u001b[0;34m)\u001b[0m\u001b[0;34m:\u001b[0m\u001b[0;34m\u001b[0m\u001b[0m\n\u001b[0;32m---> 12\u001b[0;31m         \u001b[0moutput__BO\u001b[0m \u001b[0;34m=\u001b[0m \u001b[0mAffine\u001b[0m\u001b[0;34m.\u001b[0m\u001b[0mpredict\u001b[0m\u001b[0;34m(\u001b[0m\u001b[0mself\u001b[0m\u001b[0;34m,\u001b[0m \u001b[0minput__BI\u001b[0m\u001b[0;34m)\u001b[0m\u001b[0;34m\u001b[0m\u001b[0m\n\u001b[0m\u001b[1;32m     13\u001b[0m         \u001b[0moutput__BO\u001b[0m \u001b[0;34m=\u001b[0m \u001b[0mself\u001b[0m\u001b[0;34m.\u001b[0m\u001b[0mops\u001b[0m\u001b[0;34m.\u001b[0m\u001b[0mrelu\u001b[0m\u001b[0;34m(\u001b[0m\u001b[0moutput__BO\u001b[0m\u001b[0;34m,\u001b[0m \u001b[0minplace\u001b[0m\u001b[0;34m=\u001b[0m\u001b[0;32mFalse\u001b[0m\u001b[0;34m)\u001b[0m\u001b[0;34m\u001b[0m\u001b[0m\n\u001b[1;32m     14\u001b[0m         \u001b[0;32mreturn\u001b[0m \u001b[0moutput__BO\u001b[0m\u001b[0;34m\u001b[0m\u001b[0m\n",
      "\u001b[0;32m/home/sysadmin/anaconda3/lib/python3.6/site-packages/thinc/check.py\u001b[0m in \u001b[0;36mchecked_function\u001b[0;34m(wrapped, instance, args, kwargs)\u001b[0m\n\u001b[1;32m    149\u001b[0m                     \u001b[0;32mraise\u001b[0m \u001b[0mExpectedTypeError\u001b[0m\u001b[0;34m(\u001b[0m\u001b[0mcheck\u001b[0m\u001b[0;34m,\u001b[0m \u001b[0;34m[\u001b[0m\u001b[0;34m\"Callable\"\u001b[0m\u001b[0;34m]\u001b[0m\u001b[0;34m)\u001b[0m\u001b[0;34m\u001b[0m\u001b[0m\n\u001b[1;32m    150\u001b[0m                 \u001b[0mcheck\u001b[0m\u001b[0;34m(\u001b[0m\u001b[0marg_id\u001b[0m\u001b[0;34m,\u001b[0m \u001b[0mfix_args\u001b[0m\u001b[0;34m,\u001b[0m \u001b[0mkwargs\u001b[0m\u001b[0;34m)\u001b[0m\u001b[0;34m\u001b[0m\u001b[0m\n\u001b[0;32m--> 151\u001b[0;31m         \u001b[0;32mreturn\u001b[0m \u001b[0mwrapped\u001b[0m\u001b[0;34m(\u001b[0m\u001b[0;34m*\u001b[0m\u001b[0margs\u001b[0m\u001b[0;34m,\u001b[0m \u001b[0;34m**\u001b[0m\u001b[0mkwargs\u001b[0m\u001b[0;34m)\u001b[0m\u001b[0;34m\u001b[0m\u001b[0m\n\u001b[0m\u001b[1;32m    152\u001b[0m \u001b[0;34m\u001b[0m\u001b[0m\n\u001b[1;32m    153\u001b[0m     \u001b[0;32mdef\u001b[0m \u001b[0marg_check_adder\u001b[0m\u001b[0;34m(\u001b[0m\u001b[0mfunc\u001b[0m\u001b[0;34m)\u001b[0m\u001b[0;34m:\u001b[0m\u001b[0;34m\u001b[0m\u001b[0m\n",
      "\u001b[0;32m/home/sysadmin/anaconda3/lib/python3.6/site-packages/thinc/neural/_classes/affine.py\u001b[0m in \u001b[0;36mpredict\u001b[0;34m(self, input__BI)\u001b[0m\n\u001b[1;32m     54\u001b[0m     \u001b[0;34m@\u001b[0m\u001b[0mcheck\u001b[0m\u001b[0;34m.\u001b[0m\u001b[0marg\u001b[0m\u001b[0;34m(\u001b[0m\u001b[0;36m1\u001b[0m\u001b[0;34m,\u001b[0m \u001b[0mhas_shape\u001b[0m\u001b[0;34m(\u001b[0m\u001b[0;34m(\u001b[0m\u001b[0;34m\"nB\"\u001b[0m\u001b[0;34m,\u001b[0m \u001b[0;34m\"nI\"\u001b[0m\u001b[0;34m)\u001b[0m\u001b[0;34m)\u001b[0m\u001b[0;34m)\u001b[0m\u001b[0;34m\u001b[0m\u001b[0m\n\u001b[1;32m     55\u001b[0m     \u001b[0;32mdef\u001b[0m \u001b[0mpredict\u001b[0m\u001b[0;34m(\u001b[0m\u001b[0mself\u001b[0m\u001b[0;34m,\u001b[0m \u001b[0minput__BI\u001b[0m\u001b[0;34m)\u001b[0m\u001b[0;34m:\u001b[0m\u001b[0;34m\u001b[0m\u001b[0m\n\u001b[0;32m---> 56\u001b[0;31m         \u001b[0moutput\u001b[0m \u001b[0;34m=\u001b[0m \u001b[0mself\u001b[0m\u001b[0;34m.\u001b[0m\u001b[0mops\u001b[0m\u001b[0;34m.\u001b[0m\u001b[0mgemm\u001b[0m\u001b[0;34m(\u001b[0m\u001b[0minput__BI\u001b[0m\u001b[0;34m,\u001b[0m \u001b[0mself\u001b[0m\u001b[0;34m.\u001b[0m\u001b[0mW\u001b[0m\u001b[0;34m,\u001b[0m \u001b[0mtrans2\u001b[0m\u001b[0;34m=\u001b[0m\u001b[0;32mTrue\u001b[0m\u001b[0;34m)\u001b[0m\u001b[0;34m\u001b[0m\u001b[0m\n\u001b[0m\u001b[1;32m     57\u001b[0m         \u001b[0moutput\u001b[0m \u001b[0;34m+=\u001b[0m \u001b[0mself\u001b[0m\u001b[0;34m.\u001b[0m\u001b[0mb\u001b[0m\u001b[0;34m\u001b[0m\u001b[0m\n\u001b[1;32m     58\u001b[0m         \u001b[0;32mreturn\u001b[0m \u001b[0moutput\u001b[0m\u001b[0;34m\u001b[0m\u001b[0m\n",
      "\u001b[0;31mKeyboardInterrupt\u001b[0m: "
     ]
    }
   ],
   "source": [
    "# all_pos=[]\n",
    "# for i,n in enumerate(IMDB['tconst'].values):\n",
    "#     try:\n",
    "#         flushPrint(i)\n",
    "#         with open ('./IMDB/synopsis/'+n[2:]+'.txt','r') as f:\n",
    "#             data=f.read()\n",
    "#         male=IMDB[IMDB['tconst']==n]['character'].values[0][0]\n",
    "#         female=IMDB[IMDB['tconst']==n]['character'].values[0][1]\n",
    "#         doc1=nlp(data)._.coref_resolved\n",
    "#         doc1=pre_process(doc1)\n",
    "\n",
    "#         m_verbs=[]\n",
    "#         f_verbs=[]\n",
    "#         m_adjs=[]\n",
    "#         f_adjs=[]\n",
    "#         for i in range(len(doc1)):\n",
    "#             m_verb=[]\n",
    "#             f_verb=[]\n",
    "#             m_adj=[]\n",
    "#             f_adj=[]\n",
    "#             doc = nlp1(' '.join(doc1[i]))\n",
    "#             for token in doc:\n",
    "#                 if male in token.string:\n",
    "#                     if (token.dep == nsubj or agent)and token.head.pos == VERB:\n",
    "#                         m_verb.append(token.head)\n",
    "#                         a=[i for i in token.children if i.pos_== 'ADJ']\n",
    "#                         b=[i for i in token.head.children if i.pos_== 'ADJ']\n",
    "#                         m_adj.extend(a+b)\n",
    "#                 if female in token.string:\n",
    "#                     if (token.dep == nsubj or agent)and token.head.pos == VERB:\n",
    "#                         f_verb.append(token.head)\n",
    "#                         a=[i for i in token.children if i.pos_== 'ADJ']\n",
    "#                         b=[i for i in token.head.children if i.pos_== 'ADJ']\n",
    "#                         f_adj.extend(a+b)\n",
    "#             m_verbs.append(m_verb)\n",
    "#             f_verbs.append(f_verb)\n",
    "#             m_adjs.append(m_adj)\n",
    "#             f_adjs.append(f_adj)\n",
    "#         all_pos.append([n,m_verbs,f_verbs,m_adjs,f_adjs])\n",
    "#     except Exception as e:\n",
    "#         print(e)\n",
    "#         pass  "
   ]
  },
  {
   "cell_type": "code",
   "execution_count": 28,
   "metadata": {
    "collapsed": true
   },
   "outputs": [],
   "source": [
    "# file=[i[0] for i in all_pos]\n",
    "# m_verbs=[i[1] for i in all_pos]\n",
    "# f_verbs=[i[2] for i in all_pos]\n",
    "# m_adjs=[i[3] for i in all_pos]\n",
    "# f_adjs=[i[4] for i in all_pos]\n",
    "\n",
    "# diction1=dict(zip(file,m_verbs))\n",
    "# diction2=dict(zip(file,f_verbs))\n",
    "# diction3=dict(zip(file,m_adjs))\n",
    "# diction4=dict(zip(file,f_adjs))\n",
    "\n",
    "\n",
    "# IMDB['m_verbs']=IMDB['tconst'].apply(lambda x: diction1[x] if x in diction1 else np.nan)\n",
    "# IMDB['f_verbs']=IMDB['tconst'].apply(lambda x: diction2[x] if x in diction2 else np.nan)\n",
    "# IMDB['m_adjs']=IMDB['tconst'].apply(lambda x: diction3[x] if x in diction3 else np.nan)\n",
    "# IMDB['f_adjs']=IMDB['tconst'].apply(lambda x: diction4[x] if x in diction4 else np.nan)\n",
    "\n",
    "# IMDB.to_csv('./IMDB/IMDB_e2.csv',index=False)"
   ]
  },
  {
   "cell_type": "code",
   "execution_count": null,
   "metadata": {
    "collapsed": true
   },
   "outputs": [],
   "source": []
  },
  {
   "cell_type": "code",
   "execution_count": null,
   "metadata": {
    "collapsed": true
   },
   "outputs": [],
   "source": []
  },
  {
   "cell_type": "code",
   "execution_count": 8,
   "metadata": {
    "ExecuteTime": {
     "end_time": "2019-06-08T10:15:43.677017Z",
     "start_time": "2019-06-08T10:15:42.986528Z"
    }
   },
   "outputs": [],
   "source": [
    "IMDB=pd.read_csv('./IMDB/IMDB_e2.csv')"
   ]
  },
  {
   "cell_type": "code",
   "execution_count": 9,
   "metadata": {
    "ExecuteTime": {
     "end_time": "2019-06-08T10:15:44.532852Z",
     "start_time": "2019-06-08T10:15:44.527314Z"
    }
   },
   "outputs": [
    {
     "data": {
      "text/plain": [
       "6087"
      ]
     },
     "execution_count": 9,
     "metadata": {},
     "output_type": "execute_result"
    }
   ],
   "source": [
    "len(IMDB)"
   ]
  },
  {
   "cell_type": "code",
   "execution_count": 12,
   "metadata": {
    "ExecuteTime": {
     "end_time": "2019-06-08T10:16:13.725185Z",
     "start_time": "2019-06-08T10:16:03.951720Z"
    }
   },
   "outputs": [],
   "source": [
    "IMDB['tp']=IMDB['tp'].apply(lambda x: eval_(x))\n",
    "IMDB['emotion']=IMDB['emotion'].apply(lambda x: eval_(x))\n",
    "IMDB['character']=IMDB['character'].apply(lambda x: eval_(x))\n",
    "IMDB['female_adj']=IMDB['female_adj'].apply(lambda x: eval_(x))\n",
    "IMDB['female_verb']=IMDB['female_verb'].apply(lambda x: eval_(x))\n",
    "IMDB['male_adj']=IMDB['male_adj'].apply(lambda x: eval_(x))\n",
    "IMDB['male_verb']=IMDB['male_verb'].apply(lambda x: eval_(x))\n",
    "IMDB['female_all']=IMDB['female_all'].apply(lambda x: eval_(x))\n",
    "IMDB['male_all']=IMDB['male_all'].apply(lambda x: eval_(x))"
   ]
  },
  {
   "cell_type": "code",
   "execution_count": 19,
   "metadata": {
    "ExecuteTime": {
     "end_time": "2019-06-08T10:17:45.127119Z",
     "start_time": "2019-06-08T10:17:45.121102Z"
    }
   },
   "outputs": [],
   "source": [
    "def num(x):\n",
    "    a=[]\n",
    "    for i,j in enumerate(x):\n",
    "        if len(j)!=0:\n",
    "#             print(j)\n",
    "            a.append(i)\n",
    "    return a"
   ]
  },
  {
   "cell_type": "code",
   "execution_count": 20,
   "metadata": {
    "ExecuteTime": {
     "end_time": "2019-06-08T10:17:46.032813Z",
     "start_time": "2019-06-08T10:17:45.967129Z"
    }
   },
   "outputs": [],
   "source": [
    "IMDB['female_a']=IMDB['female_all'].apply(lambda x: num(x))"
   ]
  },
  {
   "cell_type": "code",
   "execution_count": 21,
   "metadata": {
    "ExecuteTime": {
     "end_time": "2019-06-08T10:17:50.443469Z",
     "start_time": "2019-06-08T10:17:50.375113Z"
    }
   },
   "outputs": [],
   "source": [
    "IMDB['male_a']=IMDB['male_all'].apply(lambda x: num(x))"
   ]
  },
  {
   "cell_type": "code",
   "execution_count": 22,
   "metadata": {
    "ExecuteTime": {
     "end_time": "2019-06-08T10:17:54.133793Z",
     "start_time": "2019-06-08T10:17:53.962206Z"
    },
    "scrolled": true
   },
   "outputs": [
    {
     "data": {
      "text/html": [
       "<div>\n",
       "<style scoped>\n",
       "    .dataframe tbody tr th:only-of-type {\n",
       "        vertical-align: middle;\n",
       "    }\n",
       "\n",
       "    .dataframe tbody tr th {\n",
       "        vertical-align: top;\n",
       "    }\n",
       "\n",
       "    .dataframe thead th {\n",
       "        text-align: right;\n",
       "    }\n",
       "</style>\n",
       "<table border=\"1\" class=\"dataframe\">\n",
       "  <thead>\n",
       "    <tr style=\"text-align: right;\">\n",
       "      <th></th>\n",
       "      <th>tconst</th>\n",
       "      <th>titleType</th>\n",
       "      <th>primaryTitle</th>\n",
       "      <th>originalTitle</th>\n",
       "      <th>isAdult</th>\n",
       "      <th>startYear</th>\n",
       "      <th>endYear</th>\n",
       "      <th>runtimeMinutes</th>\n",
       "      <th>genres</th>\n",
       "      <th>averageRating</th>\n",
       "      <th>numVotes</th>\n",
       "      <th>character</th>\n",
       "      <th>tp</th>\n",
       "      <th>emotion</th>\n",
       "      <th>len</th>\n",
       "      <th>lead_gender</th>\n",
       "      <th>count</th>\n",
       "      <th>female_adj</th>\n",
       "      <th>female_verb</th>\n",
       "      <th>male_adj</th>\n",
       "      <th>male_verb</th>\n",
       "      <th>m_verbs</th>\n",
       "      <th>f_verbs</th>\n",
       "      <th>m_adjs</th>\n",
       "      <th>f_adjs</th>\n",
       "      <th>co_n</th>\n",
       "      <th>prob</th>\n",
       "      <th>cum_e</th>\n",
       "      <th>smooth_cum_e</th>\n",
       "      <th>t_p</th>\n",
       "      <th>tp_e</th>\n",
       "      <th>tp_c</th>\n",
       "      <th>k</th>\n",
       "      <th>up</th>\n",
       "      <th>up1</th>\n",
       "      <th>female_all</th>\n",
       "      <th>male_all</th>\n",
       "      <th>female_a</th>\n",
       "      <th>male_a</th>\n",
       "    </tr>\n",
       "  </thead>\n",
       "  <tbody>\n",
       "    <tr>\n",
       "      <th>0</th>\n",
       "      <td>tt0002605</td>\n",
       "      <td>movie</td>\n",
       "      <td>The Adventures of Kathlyn</td>\n",
       "      <td>The Adventures of Kathlyn</td>\n",
       "      <td>0</td>\n",
       "      <td>1913.0</td>\n",
       "      <td>\\N</td>\n",
       "      <td>\\N</td>\n",
       "      <td>Adventure</td>\n",
       "      <td>5.9</td>\n",
       "      <td>16.0</td>\n",
       "      <td>[Umballah, Kathlyn, female]</td>\n",
       "      <td>[13, 20, 29, 119, 120, 122, 124, 125, 126, 129...</td>\n",
       "      <td>[0.6526839423322722, -1.4709012343085324, 3.41...</td>\n",
       "      <td>382.0</td>\n",
       "      <td>female</td>\n",
       "      <td>8477</td>\n",
       "      <td>[[], [pet], [], [large], [mysterious, sister],...</td>\n",
       "      <td>[[], [is, quieted], [], [gives, opened], [is, ...</td>\n",
       "      <td>[[], [], [], [], [], [], [], [], [], [], [], [...</td>\n",
       "      <td>[[], [], [], [], [], [], [], [], [], [], [], [...</td>\n",
       "      <td>[[], [], [], [], [], [], [], [], [], [], [], [...</td>\n",
       "      <td>[[], [], [], [gives], [showing, drops], [], [o...</td>\n",
       "      <td>[[], [], [], [], [], [], [], [], [], [], [], [...</td>\n",
       "      <td>[[], [], [], [], [], [], [], [], [], [], [], [...</td>\n",
       "      <td>49</td>\n",
       "      <td>0.128272</td>\n",
       "      <td>[-5.98034211e-02 -8.08891515e-01  2.94454310e-...</td>\n",
       "      <td>[ -0.62892341  -0.59875299  -0.57021448  -0.54...</td>\n",
       "      <td>[([0, -0.6289234076773932], [19, -0.3347436029...</td>\n",
       "      <td>[[13, -0.18139431754678803], [20, -2.681952860...</td>\n",
       "      <td>[[[13, -0.18139431754678803], [20, -2.68195286...</td>\n",
       "      <td>[[-0.3572226490338304, [13, 20]], [0, 1], [-0....</td>\n",
       "      <td>[148, 149, 150, 151, 152, 153, 270, 271, 272, ...</td>\n",
       "      <td>[[148, 153], [270, 272], [359, 361]]</td>\n",
       "      <td>[[[episode, unwelcome, throne, hare, daughter,...</td>\n",
       "      <td>[[], [], [], [], [], [], [], [], [], [], [], [...</td>\n",
       "      <td>[0, 1, 3, 4, 6, 7, 8, 9, 11, 12, 13, 14, 15, 1...</td>\n",
       "      <td>[13, 18, 20, 29, 44, 52, 119, 120, 122, 124, 1...</td>\n",
       "    </tr>\n",
       "  </tbody>\n",
       "</table>\n",
       "</div>"
      ],
      "text/plain": [
       "      tconst titleType               primaryTitle              originalTitle  \\\n",
       "0  tt0002605     movie  The Adventures of Kathlyn  The Adventures of Kathlyn   \n",
       "\n",
       "   isAdult  startYear endYear runtimeMinutes     genres  averageRating  \\\n",
       "0        0     1913.0      \\N             \\N  Adventure            5.9   \n",
       "\n",
       "   numVotes                    character  \\\n",
       "0      16.0  [Umballah, Kathlyn, female]   \n",
       "\n",
       "                                                  tp  \\\n",
       "0  [13, 20, 29, 119, 120, 122, 124, 125, 126, 129...   \n",
       "\n",
       "                                             emotion    len lead_gender  \\\n",
       "0  [0.6526839423322722, -1.4709012343085324, 3.41...  382.0      female   \n",
       "\n",
       "   count                                         female_adj  \\\n",
       "0   8477  [[], [pet], [], [large], [mysterious, sister],...   \n",
       "\n",
       "                                         female_verb  \\\n",
       "0  [[], [is, quieted], [], [gives, opened], [is, ...   \n",
       "\n",
       "                                            male_adj  \\\n",
       "0  [[], [], [], [], [], [], [], [], [], [], [], [...   \n",
       "\n",
       "                                           male_verb  \\\n",
       "0  [[], [], [], [], [], [], [], [], [], [], [], [...   \n",
       "\n",
       "                                             m_verbs  \\\n",
       "0  [[], [], [], [], [], [], [], [], [], [], [], [...   \n",
       "\n",
       "                                             f_verbs  \\\n",
       "0  [[], [], [], [gives], [showing, drops], [], [o...   \n",
       "\n",
       "                                              m_adjs  \\\n",
       "0  [[], [], [], [], [], [], [], [], [], [], [], [...   \n",
       "\n",
       "                                              f_adjs  co_n      prob  \\\n",
       "0  [[], [], [], [], [], [], [], [], [], [], [], [...    49  0.128272   \n",
       "\n",
       "                                               cum_e  \\\n",
       "0  [-5.98034211e-02 -8.08891515e-01  2.94454310e-...   \n",
       "\n",
       "                                        smooth_cum_e  \\\n",
       "0  [ -0.62892341  -0.59875299  -0.57021448  -0.54...   \n",
       "\n",
       "                                                 t_p  \\\n",
       "0  [([0, -0.6289234076773932], [19, -0.3347436029...   \n",
       "\n",
       "                                                tp_e  \\\n",
       "0  [[13, -0.18139431754678803], [20, -2.681952860...   \n",
       "\n",
       "                                                tp_c  \\\n",
       "0  [[[13, -0.18139431754678803], [20, -2.68195286...   \n",
       "\n",
       "                                                   k  \\\n",
       "0  [[-0.3572226490338304, [13, 20]], [0, 1], [-0....   \n",
       "\n",
       "                                                  up  \\\n",
       "0  [148, 149, 150, 151, 152, 153, 270, 271, 272, ...   \n",
       "\n",
       "                                    up1  \\\n",
       "0  [[148, 153], [270, 272], [359, 361]]   \n",
       "\n",
       "                                          female_all  \\\n",
       "0  [[[episode, unwelcome, throne, hare, daughter,...   \n",
       "\n",
       "                                            male_all  \\\n",
       "0  [[], [], [], [], [], [], [], [], [], [], [], [...   \n",
       "\n",
       "                                            female_a  \\\n",
       "0  [0, 1, 3, 4, 6, 7, 8, 9, 11, 12, 13, 14, 15, 1...   \n",
       "\n",
       "                                              male_a  \n",
       "0  [13, 18, 20, 29, 44, 52, 119, 120, 122, 124, 1...  "
      ]
     },
     "execution_count": 22,
     "metadata": {},
     "output_type": "execute_result"
    }
   ],
   "source": [
    "IMDB.head(1)"
   ]
  },
  {
   "cell_type": "code",
   "execution_count": 23,
   "metadata": {
    "ExecuteTime": {
     "end_time": "2019-06-08T10:24:08.396148Z",
     "start_time": "2019-06-08T10:24:05.312656Z"
    }
   },
   "outputs": [],
   "source": [
    "IMDB.to_csv('./IMDB/IMDB_e2.csv',index=False)"
   ]
  },
  {
   "cell_type": "code",
   "execution_count": 27,
   "metadata": {
    "ExecuteTime": {
     "end_time": "2019-06-14T04:15:41.047166Z",
     "start_time": "2019-06-14T04:15:36.748637Z"
    }
   },
   "outputs": [],
   "source": [
    "import json\n",
    "with open(\"diction.txt\",\"r\") as f:\n",
    "    ediction = json.loads(f.readline())"
   ]
  },
  {
   "cell_type": "markdown",
   "metadata": {},
   "source": [
    "### all"
   ]
  },
  {
   "cell_type": "code",
   "execution_count": 61,
   "metadata": {
    "collapsed": true
   },
   "outputs": [],
   "source": [
    "def extend(x):\n",
    "    c=[]\n",
    "    for i in IMDB[x].values:\n",
    "        a=[]\n",
    "        [a.extend(j) for j in i]\n",
    "        c.extend(a)\n",
    "    return c"
   ]
  },
  {
   "cell_type": "code",
   "execution_count": 65,
   "metadata": {
    "collapsed": true
   },
   "outputs": [],
   "source": [
    "female_adj=extend('female_adj')\n",
    "male_adj=extend('male_adj')\n",
    "female_verb=extend('female_verb')\n",
    "male_verb=extend('male_verb')"
   ]
  },
  {
   "cell_type": "code",
   "execution_count": 75,
   "metadata": {
    "collapsed": true
   },
   "outputs": [],
   "source": [
    "all_adj=pd.DataFrame(list(set(female_adj)&set(male_adj)),columns=['adj'])"
   ]
  },
  {
   "cell_type": "code",
   "execution_count": 78,
   "metadata": {
    "collapsed": true
   },
   "outputs": [],
   "source": [
    "all_adj['score']=all_adj['adj'].apply(lambda x: ediction[x] if x in ediction else np.nan)"
   ]
  },
  {
   "cell_type": "code",
   "execution_count": 83,
   "metadata": {
    "collapsed": true
   },
   "outputs": [],
   "source": [
    "def dic(x):\n",
    "    diction = {}\n",
    "    cnt = Counter(x)\n",
    "    for word, freq in cnt.items():\n",
    "        diction[word] = freq\n",
    "    return diction"
   ]
  },
  {
   "cell_type": "code",
   "execution_count": 91,
   "metadata": {
    "scrolled": true
   },
   "outputs": [
    {
     "data": {
      "text/html": [
       "<div>\n",
       "<style scoped>\n",
       "    .dataframe tbody tr th:only-of-type {\n",
       "        vertical-align: middle;\n",
       "    }\n",
       "\n",
       "    .dataframe tbody tr th {\n",
       "        vertical-align: top;\n",
       "    }\n",
       "\n",
       "    .dataframe thead th {\n",
       "        text-align: right;\n",
       "    }\n",
       "</style>\n",
       "<table border=\"1\" class=\"dataframe\">\n",
       "  <thead>\n",
       "    <tr style=\"text-align: right;\">\n",
       "      <th></th>\n",
       "      <th>adj</th>\n",
       "      <th>score</th>\n",
       "      <th>female_adj</th>\n",
       "      <th>male_adj</th>\n",
       "    </tr>\n",
       "  </thead>\n",
       "  <tbody>\n",
       "    <tr>\n",
       "      <th>0</th>\n",
       "      <td>pacifist</td>\n",
       "      <td>-2.524839</td>\n",
       "      <td>1</td>\n",
       "      <td>1</td>\n",
       "    </tr>\n",
       "    <tr>\n",
       "      <th>1</th>\n",
       "      <td>eighteen</td>\n",
       "      <td>0.511039</td>\n",
       "      <td>5</td>\n",
       "      <td>4</td>\n",
       "    </tr>\n",
       "    <tr>\n",
       "      <th>2</th>\n",
       "      <td>stop</td>\n",
       "      <td>0.529757</td>\n",
       "      <td>3</td>\n",
       "      <td>10</td>\n",
       "    </tr>\n",
       "    <tr>\n",
       "      <th>3</th>\n",
       "      <td>non</td>\n",
       "      <td>-2.839189</td>\n",
       "      <td>17</td>\n",
       "      <td>12</td>\n",
       "    </tr>\n",
       "    <tr>\n",
       "      <th>4</th>\n",
       "      <td>wasn</td>\n",
       "      <td>3.056921</td>\n",
       "      <td>1</td>\n",
       "      <td>1</td>\n",
       "    </tr>\n",
       "    <tr>\n",
       "      <th>5</th>\n",
       "      <td>minimal</td>\n",
       "      <td>1.134143</td>\n",
       "      <td>2</td>\n",
       "      <td>6</td>\n",
       "    </tr>\n",
       "    <tr>\n",
       "      <th>6</th>\n",
       "      <td>abandoned</td>\n",
       "      <td>-11.724227</td>\n",
       "      <td>1</td>\n",
       "      <td>10</td>\n",
       "    </tr>\n",
       "    <tr>\n",
       "      <th>7</th>\n",
       "      <td>treacherous</td>\n",
       "      <td>-7.529947</td>\n",
       "      <td>2</td>\n",
       "      <td>10</td>\n",
       "    </tr>\n",
       "    <tr>\n",
       "      <th>8</th>\n",
       "      <td>fre</td>\n",
       "      <td>1.180474</td>\n",
       "      <td>6</td>\n",
       "      <td>7</td>\n",
       "    </tr>\n",
       "    <tr>\n",
       "      <th>9</th>\n",
       "      <td>bitter</td>\n",
       "      <td>-7.646136</td>\n",
       "      <td>22</td>\n",
       "      <td>21</td>\n",
       "    </tr>\n",
       "  </tbody>\n",
       "</table>\n",
       "</div>"
      ],
      "text/plain": [
       "           adj      score  female_adj  male_adj\n",
       "0     pacifist  -2.524839           1         1\n",
       "1     eighteen   0.511039           5         4\n",
       "2         stop   0.529757           3        10\n",
       "3          non  -2.839189          17        12\n",
       "4         wasn   3.056921           1         1\n",
       "5      minimal   1.134143           2         6\n",
       "6    abandoned -11.724227           1        10\n",
       "7  treacherous  -7.529947           2        10\n",
       "8          fre   1.180474           6         7\n",
       "9       bitter  -7.646136          22        21"
      ]
     },
     "execution_count": 91,
     "metadata": {},
     "output_type": "execute_result"
    }
   ],
   "source": [
    "all_adj.head(10)"
   ]
  },
  {
   "cell_type": "code",
   "execution_count": 84,
   "metadata": {
    "collapsed": true
   },
   "outputs": [],
   "source": [
    "diction=dic(female_adj)\n",
    "all_adj['female_adj']=all_adj['adj'].apply(lambda x: diction[x] if x in diction else np.nan)\n",
    "\n",
    "diction=dic(male_adj)\n",
    "all_adj['male_adj']=all_adj['adj'].apply(lambda x: diction[x] if x in diction else np.nan)"
   ]
  },
  {
   "cell_type": "code",
   "execution_count": 92,
   "metadata": {
    "collapsed": true
   },
   "outputs": [],
   "source": [
    "all_adj_e=all_adj[(all_adj['score']<-3)|(all_adj['score']>3)]"
   ]
  },
  {
   "cell_type": "code",
   "execution_count": 96,
   "metadata": {
    "scrolled": true
   },
   "outputs": [
    {
     "data": {
      "text/html": [
       "<div>\n",
       "<style scoped>\n",
       "    .dataframe tbody tr th:only-of-type {\n",
       "        vertical-align: middle;\n",
       "    }\n",
       "\n",
       "    .dataframe tbody tr th {\n",
       "        vertical-align: top;\n",
       "    }\n",
       "\n",
       "    .dataframe thead th {\n",
       "        text-align: right;\n",
       "    }\n",
       "</style>\n",
       "<table border=\"1\" class=\"dataframe\">\n",
       "  <thead>\n",
       "    <tr style=\"text-align: right;\">\n",
       "      <th></th>\n",
       "      <th>adj</th>\n",
       "      <th>score</th>\n",
       "      <th>female_adj</th>\n",
       "      <th>male_adj</th>\n",
       "      <th>diatance</th>\n",
       "    </tr>\n",
       "  </thead>\n",
       "  <tbody>\n",
       "    <tr>\n",
       "      <th>4</th>\n",
       "      <td>wasn</td>\n",
       "      <td>3.056921</td>\n",
       "      <td>1</td>\n",
       "      <td>1</td>\n",
       "      <td>0</td>\n",
       "    </tr>\n",
       "    <tr>\n",
       "      <th>6</th>\n",
       "      <td>abandoned</td>\n",
       "      <td>-11.724227</td>\n",
       "      <td>1</td>\n",
       "      <td>10</td>\n",
       "      <td>-9</td>\n",
       "    </tr>\n",
       "    <tr>\n",
       "      <th>7</th>\n",
       "      <td>treacherous</td>\n",
       "      <td>-7.529947</td>\n",
       "      <td>2</td>\n",
       "      <td>10</td>\n",
       "      <td>-8</td>\n",
       "    </tr>\n",
       "    <tr>\n",
       "      <th>9</th>\n",
       "      <td>bitter</td>\n",
       "      <td>-7.646136</td>\n",
       "      <td>22</td>\n",
       "      <td>21</td>\n",
       "      <td>1</td>\n",
       "    </tr>\n",
       "    <tr>\n",
       "      <th>10</th>\n",
       "      <td>Zachary</td>\n",
       "      <td>4.608746</td>\n",
       "      <td>1</td>\n",
       "      <td>6</td>\n",
       "      <td>-5</td>\n",
       "    </tr>\n",
       "  </tbody>\n",
       "</table>\n",
       "</div>"
      ],
      "text/plain": [
       "            adj      score  female_adj  male_adj  diatance\n",
       "4          wasn   3.056921           1         1         0\n",
       "6     abandoned -11.724227           1        10        -9\n",
       "7   treacherous  -7.529947           2        10        -8\n",
       "9        bitter  -7.646136          22        21         1\n",
       "10      Zachary   4.608746           1         6        -5"
      ]
     },
     "execution_count": 96,
     "metadata": {},
     "output_type": "execute_result"
    }
   ],
   "source": [
    "all_adj_e.head()"
   ]
  },
  {
   "cell_type": "code",
   "execution_count": 98,
   "metadata": {
    "scrolled": true
   },
   "outputs": [
    {
     "name": "stderr",
     "output_type": "stream",
     "text": [
      "/home/sysadmin/anaconda3/lib/python3.6/site-packages/ipykernel_launcher.py:1: SettingWithCopyWarning: \n",
      "A value is trying to be set on a copy of a slice from a DataFrame.\n",
      "Try using .loc[row_indexer,col_indexer] = value instead\n",
      "\n",
      "See the caveats in the documentation: http://pandas.pydata.org/pandas-docs/stable/indexing.html#indexing-view-versus-copy\n",
      "  \"\"\"Entry point for launching an IPython kernel.\n"
     ]
    }
   ],
   "source": [
    "all_adj_e['distance']=all_adj_e['female_adj']-all_adj_e['male_adj']"
   ]
  },
  {
   "cell_type": "markdown",
   "metadata": {},
   "source": [
    "### interaction"
   ]
  },
  {
   "cell_type": "code",
   "execution_count": 187,
   "metadata": {
    "collapsed": true
   },
   "outputs": [],
   "source": [
    "def extend(x):\n",
    "    c=[]\n",
    "    for n,i in enumerate(IMDB[x].values):\n",
    "        tp=IMDB['tp'].values[n]\n",
    "        a=[]\n",
    "        [a.extend(j) for j in i if i.index(j) in tp]\n",
    "        c.extend(a)\n",
    "    return c"
   ]
  },
  {
   "cell_type": "code",
   "execution_count": 188,
   "metadata": {},
   "outputs": [
    {
     "data": {
      "text/plain": [
       "6657"
      ]
     },
     "execution_count": 188,
     "metadata": {},
     "output_type": "execute_result"
    }
   ],
   "source": [
    "len(IMDB['tp'].values)"
   ]
  },
  {
   "cell_type": "code",
   "execution_count": 189,
   "metadata": {},
   "outputs": [
    {
     "data": {
      "text/plain": [
       "6657"
      ]
     },
     "execution_count": 189,
     "metadata": {},
     "output_type": "execute_result"
    }
   ],
   "source": [
    "len(IMDB['female_adj'].values)"
   ]
  },
  {
   "cell_type": "code",
   "execution_count": 190,
   "metadata": {
    "collapsed": true
   },
   "outputs": [],
   "source": [
    "female_adj=extend('female_adj')\n",
    "male_adj=extend('male_adj')\n",
    "female_verb=extend('female_verb')\n",
    "male_verb=extend('male_verb')"
   ]
  },
  {
   "cell_type": "code",
   "execution_count": 191,
   "metadata": {},
   "outputs": [
    {
     "data": {
      "text/plain": [
       "3719"
      ]
     },
     "execution_count": 191,
     "metadata": {},
     "output_type": "execute_result"
    }
   ],
   "source": [
    "len(set(female_adj))"
   ]
  },
  {
   "cell_type": "code",
   "execution_count": 192,
   "metadata": {},
   "outputs": [
    {
     "data": {
      "text/plain": [
       "3793"
      ]
     },
     "execution_count": 192,
     "metadata": {},
     "output_type": "execute_result"
    }
   ],
   "source": [
    "len(set(male_adj))"
   ]
  },
  {
   "cell_type": "code",
   "execution_count": 195,
   "metadata": {},
   "outputs": [
    {
     "data": {
      "text/plain": [
       "7801"
      ]
     },
     "execution_count": 195,
     "metadata": {},
     "output_type": "execute_result"
    }
   ],
   "source": [
    "len(set(female_verb))"
   ]
  },
  {
   "cell_type": "code",
   "execution_count": 194,
   "metadata": {},
   "outputs": [
    {
     "data": {
      "text/plain": [
       "8008"
      ]
     },
     "execution_count": 194,
     "metadata": {},
     "output_type": "execute_result"
    }
   ],
   "source": [
    "len(set(male_verb))"
   ]
  },
  {
   "cell_type": "code",
   "execution_count": 114,
   "metadata": {
    "collapsed": true
   },
   "outputs": [],
   "source": [
    "all_adj=pd.DataFrame(list(set(female_adj)&set(male_adj)),columns=['adj'])"
   ]
  },
  {
   "cell_type": "code",
   "execution_count": 115,
   "metadata": {
    "collapsed": true
   },
   "outputs": [],
   "source": [
    "all_adj['score']=all_adj['adj'].apply(lambda x: ediction[x] if x in ediction else np.nan)"
   ]
  },
  {
   "cell_type": "code",
   "execution_count": 116,
   "metadata": {
    "collapsed": true
   },
   "outputs": [],
   "source": [
    "def dic(x):\n",
    "    diction = {}\n",
    "    cnt = Counter(x)\n",
    "    for word, freq in cnt.items():\n",
    "        diction[word] = freq\n",
    "    return diction"
   ]
  },
  {
   "cell_type": "code",
   "execution_count": 117,
   "metadata": {
    "collapsed": true
   },
   "outputs": [],
   "source": [
    "diction=dic(female_adj)\n",
    "all_adj['female_adj']=all_adj['adj'].apply(lambda x: diction[x] if x in diction else np.nan)\n",
    "\n",
    "diction=dic(male_adj)\n",
    "all_adj['male_adj']=all_adj['adj'].apply(lambda x: diction[x] if x in diction else np.nan)"
   ]
  },
  {
   "cell_type": "code",
   "execution_count": 118,
   "metadata": {
    "collapsed": true
   },
   "outputs": [],
   "source": [
    "all_adj_e=all_adj[(all_adj['score']<-3)|(all_adj['score']>3)]"
   ]
  },
  {
   "cell_type": "code",
   "execution_count": 133,
   "metadata": {},
   "outputs": [
    {
     "name": "stderr",
     "output_type": "stream",
     "text": [
      "/home/sysadmin/anaconda3/lib/python3.6/site-packages/ipykernel_launcher.py:1: SettingWithCopyWarning: \n",
      "A value is trying to be set on a copy of a slice from a DataFrame.\n",
      "Try using .loc[row_indexer,col_indexer] = value instead\n",
      "\n",
      "See the caveats in the documentation: http://pandas.pydata.org/pandas-docs/stable/indexing.html#indexing-view-versus-copy\n",
      "  \"\"\"Entry point for launching an IPython kernel.\n"
     ]
    }
   ],
   "source": [
    "all_adj_e['distance']=abs(all_adj_e['female_adj']-all_adj_e['male_adj'])"
   ]
  },
  {
   "cell_type": "code",
   "execution_count": 141,
   "metadata": {
    "collapsed": true,
    "scrolled": true
   },
   "outputs": [],
   "source": [
    "all_adj_e1=all_adj_e.sort_values(by='distance',ascending=False)[:21]"
   ]
  },
  {
   "cell_type": "code",
   "execution_count": 145,
   "metadata": {},
   "outputs": [
    {
     "data": {
      "image/png": "[encoded data removed]",
      "text/plain": [
       "<Figure size 1800x360 with 1 Axes>"
      ]
     },
     "metadata": {},
     "output_type": "display_data"
    }
   ],
   "source": [
    "fig = plt.figure(figsize=(25,5))\n",
    "# ax=fig.add_subplot(4,1,1)\n",
    "index=np.arange(len(all_adj_e1))\n",
    "m=all_adj_e1['male_adj'].values\n",
    "f=all_adj_e1['female_adj'].values\n",
    "bar_width=0.3\n",
    "plt.bar(index,m,bar_width,color='b',label='male')\n",
    "plt.bar(index+bar_width,f,bar_width,color='r',label='female')\n",
    "plt.ylabel('Frequency',fontsize=20)\n",
    "plt.xticks(rotation=45,fontsize=15)\n",
    "plt.xticks([i-0.15 for i in index],[i for i in all_adj_e1['adj'].values])\n",
    "plt.title('Adj',fontsize=20)\n",
    "plt.legend()\n",
    "plt.show()"
   ]
  },
  {
   "cell_type": "code",
   "execution_count": 135,
   "metadata": {},
   "outputs": [
    {
     "data": {
      "text/plain": [
       "11724"
      ]
     },
     "execution_count": 135,
     "metadata": {},
     "output_type": "execute_result"
    }
   ],
   "source": [
    "all_adj_e['female_adj'].sum()"
   ]
  },
  {
   "cell_type": "code",
   "execution_count": 136,
   "metadata": {},
   "outputs": [
    {
     "data": {
      "text/plain": [
       "11493"
      ]
     },
     "execution_count": 136,
     "metadata": {},
     "output_type": "execute_result"
    }
   ],
   "source": [
    "all_adj_e['male_adj'].sum()"
   ]
  },
  {
   "cell_type": "code",
   "execution_count": 123,
   "metadata": {},
   "outputs": [
    {
     "data": {
      "text/plain": [
       "1351"
      ]
     },
     "execution_count": 123,
     "metadata": {},
     "output_type": "execute_result"
    }
   ],
   "source": [
    "len(all_adj_e)"
   ]
  },
  {
   "cell_type": "code",
   "execution_count": 144,
   "metadata": {
    "collapsed": true
   },
   "outputs": [],
   "source": [
    "all_verb=pd.DataFrame(list(set(female_verb)&set(male_verb)),columns=['verb'])"
   ]
  },
  {
   "cell_type": "code",
   "execution_count": 146,
   "metadata": {
    "collapsed": true
   },
   "outputs": [],
   "source": [
    "all_verb['score']=all_verb['verb'].apply(lambda x: ediction[x] if x in ediction else np.nan)"
   ]
  },
  {
   "cell_type": "code",
   "execution_count": 147,
   "metadata": {
    "collapsed": true
   },
   "outputs": [],
   "source": [
    "def dic(x):\n",
    "    diction = {}\n",
    "    cnt = Counter(x)\n",
    "    for word, freq in cnt.items():\n",
    "        diction[word] = freq\n",
    "    return diction"
   ]
  },
  {
   "cell_type": "code",
   "execution_count": 149,
   "metadata": {
    "collapsed": true
   },
   "outputs": [],
   "source": [
    "diction=dic(female_verb)\n",
    "all_verb['female_verb']=all_verb['verb'].apply(lambda x: diction[x] if x in diction else np.nan)\n",
    "\n",
    "diction=dic(male_verb)\n",
    "all_verb['male_verb']=all_verb['verb'].apply(lambda x: diction[x] if x in diction else np.nan)"
   ]
  },
  {
   "cell_type": "code",
   "execution_count": 159,
   "metadata": {
    "collapsed": true
   },
   "outputs": [],
   "source": [
    "all_verb_e=all_verb[(all_verb['score']<-5)|(all_verb['score']>5)]"
   ]
  },
  {
   "cell_type": "code",
   "execution_count": 160,
   "metadata": {},
   "outputs": [
    {
     "name": "stderr",
     "output_type": "stream",
     "text": [
      "/home/sysadmin/anaconda3/lib/python3.6/site-packages/ipykernel_launcher.py:1: SettingWithCopyWarning: \n",
      "A value is trying to be set on a copy of a slice from a DataFrame.\n",
      "Try using .loc[row_indexer,col_indexer] = value instead\n",
      "\n",
      "See the caveats in the documentation: http://pandas.pydata.org/pandas-docs/stable/indexing.html#indexing-view-versus-copy\n",
      "  \"\"\"Entry point for launching an IPython kernel.\n"
     ]
    }
   ],
   "source": [
    "all_verb_e['distance']=abs(all_verb_e['female_verb']-all_verb_e['male_verb'])"
   ]
  },
  {
   "cell_type": "code",
   "execution_count": 167,
   "metadata": {
    "collapsed": true
   },
   "outputs": [],
   "source": [
    "all_verb_e1=all_verb_e.sort_values(by='distance',ascending=False)[:21]"
   ]
  },
  {
   "cell_type": "code",
   "execution_count": 171,
   "metadata": {},
   "outputs": [
    {
     "data": {
      "image/png": "[encoded data removed]",
      "text/plain": [
       "<Figure size 1800x360 with 1 Axes>"
      ]
     },
     "metadata": {},
     "output_type": "display_data"
    }
   ],
   "source": [
    "fig = plt.figure(figsize=(25,5))\n",
    "# ax=fig.add_subplot(4,1,1)\n",
    "index=np.arange(len(all_adj_e1))\n",
    "m=all_verb_e1['male_verb'].values\n",
    "f=all_verb_e1['female_verb'].values\n",
    "bar_width=0.3\n",
    "plt.bar(index,m,bar_width,color='b',label='male')\n",
    "plt.bar(index+bar_width,f,bar_width,color='r',label='female')\n",
    "plt.ylabel('Frequency',fontsize=20)\n",
    "plt.xticks(rotation=45,fontsize=15)\n",
    "plt.xticks([i-0.15 for i in index],[i for i in all_verb_e1['verb'].values])\n",
    "plt.title('Verb',fontsize=20)\n",
    "plt.legend()\n",
    "plt.show()"
   ]
  },
  {
   "cell_type": "code",
   "execution_count": 155,
   "metadata": {},
   "outputs": [
    {
     "data": {
      "text/plain": [
       "47562"
      ]
     },
     "execution_count": 155,
     "metadata": {},
     "output_type": "execute_result"
    }
   ],
   "source": [
    "all_verb_e1['female_verb'].sum()"
   ]
  },
  {
   "cell_type": "code",
   "execution_count": 156,
   "metadata": {},
   "outputs": [
    {
     "data": {
      "text/plain": [
       "47272"
      ]
     },
     "execution_count": 156,
     "metadata": {},
     "output_type": "execute_result"
    }
   ],
   "source": [
    "all_verb_e1['male_verb'].sum()"
   ]
  },
  {
   "cell_type": "markdown",
   "metadata": {
    "collapsed": true
   },
   "source": [
    "### accurate interaction"
   ]
  },
  {
   "cell_type": "code",
   "execution_count": 151,
   "metadata": {
    "collapsed": true
   },
   "outputs": [],
   "source": [
    "def extend(x):\n",
    "    c=[]\n",
    "    for n,i in enumerate(IMDB[x].values):\n",
    "        match = re.findall('\\[.*?\\]', i[1:-1])\n",
    "        match =[re.findall(r'[[](.*?)[]]', j)[0].split(', ') for j in match]\n",
    "        tp=IMDB['tp'].values[n]\n",
    "        a=[]\n",
    "        [a.extend(q) for k,q in enumerate(match) if k in tp]\n",
    "        a=[j for j in a if len(j)>0]\n",
    "        c.extend(a)\n",
    "    return c"
   ]
  },
  {
   "cell_type": "code",
   "execution_count": 26,
   "metadata": {},
   "outputs": [
    {
     "data": {
      "text/plain": [
       "6657"
      ]
     },
     "execution_count": 26,
     "metadata": {},
     "output_type": "execute_result"
    }
   ],
   "source": [
    "len(IMDB['tp'].values)"
   ]
  },
  {
   "cell_type": "code",
   "execution_count": 152,
   "metadata": {
    "collapsed": true
   },
   "outputs": [],
   "source": [
    "female_adj=extend('f_adjs')\n",
    "male_adj=extend('m_adjs')\n",
    "female_verb=extend('f_verbs')\n",
    "male_verb=extend('m_verbs')"
   ]
  },
  {
   "cell_type": "code",
   "execution_count": 184,
   "metadata": {},
   "outputs": [
    {
     "data": {
      "text/plain": [
       "3754"
      ]
     },
     "execution_count": 184,
     "metadata": {},
     "output_type": "execute_result"
    }
   ],
   "source": [
    "len(female_adj)"
   ]
  },
  {
   "cell_type": "code",
   "execution_count": 185,
   "metadata": {},
   "outputs": [
    {
     "data": {
      "text/plain": [
       "3810"
      ]
     },
     "execution_count": 185,
     "metadata": {},
     "output_type": "execute_result"
    }
   ],
   "source": [
    "len(male_adj)"
   ]
  },
  {
   "cell_type": "code",
   "execution_count": 186,
   "metadata": {},
   "outputs": [
    {
     "data": {
      "text/plain": [
       "50506"
      ]
     },
     "execution_count": 186,
     "metadata": {},
     "output_type": "execute_result"
    }
   ],
   "source": [
    "len(female_verb)"
   ]
  },
  {
   "cell_type": "code",
   "execution_count": 187,
   "metadata": {},
   "outputs": [
    {
     "data": {
      "text/plain": [
       "54595"
      ]
     },
     "execution_count": 187,
     "metadata": {},
     "output_type": "execute_result"
    }
   ],
   "source": [
    "len(male_verb)"
   ]
  },
  {
   "cell_type": "code",
   "execution_count": 158,
   "metadata": {
    "collapsed": true
   },
   "outputs": [],
   "source": [
    "all_adj=pd.DataFrame(list(set(female_adj)&set(male_adj)),columns=['adj'])"
   ]
  },
  {
   "cell_type": "code",
   "execution_count": 159,
   "metadata": {
    "collapsed": true
   },
   "outputs": [],
   "source": [
    "all_adj['score']=all_adj['adj'].apply(lambda x: ediction[x] if x in ediction else np.nan)"
   ]
  },
  {
   "cell_type": "code",
   "execution_count": 160,
   "metadata": {
    "collapsed": true
   },
   "outputs": [],
   "source": [
    "def dic(x):\n",
    "    diction = {}\n",
    "    cnt = Counter(x)\n",
    "    for word, freq in cnt.items():\n",
    "        diction[word] = freq\n",
    "    return diction"
   ]
  },
  {
   "cell_type": "code",
   "execution_count": 161,
   "metadata": {
    "collapsed": true
   },
   "outputs": [],
   "source": [
    "diction=dic(female_adj)\n",
    "all_adj['female_adj']=all_adj['adj'].apply(lambda x: diction[x] if x in diction else np.nan)\n",
    "\n",
    "diction=dic(male_adj)\n",
    "all_adj['male_adj']=all_adj['adj'].apply(lambda x: diction[x] if x in diction else np.nan)"
   ]
  },
  {
   "cell_type": "code",
   "execution_count": 226,
   "metadata": {
    "collapsed": true
   },
   "outputs": [],
   "source": [
    "all_adj_e=all_adj[(all_adj['score']<-5)|(all_adj['score']>5)]"
   ]
  },
  {
   "cell_type": "code",
   "execution_count": 227,
   "metadata": {},
   "outputs": [
    {
     "name": "stderr",
     "output_type": "stream",
     "text": [
      "/home/sysadmin/anaconda3/lib/python3.6/site-packages/ipykernel_launcher.py:1: SettingWithCopyWarning: \n",
      "A value is trying to be set on a copy of a slice from a DataFrame.\n",
      "Try using .loc[row_indexer,col_indexer] = value instead\n",
      "\n",
      "See the caveats in the documentation: http://pandas.pydata.org/pandas-docs/stable/indexing.html#indexing-view-versus-copy\n",
      "  \"\"\"Entry point for launching an IPython kernel.\n"
     ]
    }
   ],
   "source": [
    "all_adj_e['distance']=abs(all_adj_e['female_adj']-all_adj_e['male_adj'])"
   ]
  },
  {
   "cell_type": "code",
   "execution_count": 228,
   "metadata": {
    "collapsed": true
   },
   "outputs": [],
   "source": [
    "all_adj_e1=all_adj_e.sort_values(by='distance',ascending=False)"
   ]
  },
  {
   "cell_type": "code",
   "execution_count": 229,
   "metadata": {
    "collapsed": true
   },
   "outputs": [],
   "source": [
    "all_adj_e1['male_score']=abs(all_adj_e1['score']*all_adj_e1['male_adj'])"
   ]
  },
  {
   "cell_type": "code",
   "execution_count": 230,
   "metadata": {
    "collapsed": true
   },
   "outputs": [],
   "source": [
    "all_adj_e1['female_score']=abs(all_adj_e1['score']*all_adj_e1['female_adj'])"
   ]
  },
  {
   "cell_type": "code",
   "execution_count": 231,
   "metadata": {},
   "outputs": [
    {
     "data": {
      "text/plain": [
       "1419"
      ]
     },
     "execution_count": 231,
     "metadata": {},
     "output_type": "execute_result"
    }
   ],
   "source": [
    "all_adj_e1['female_adj'].sum()"
   ]
  },
  {
   "cell_type": "code",
   "execution_count": 232,
   "metadata": {},
   "outputs": [
    {
     "data": {
      "text/plain": [
       "1472"
      ]
     },
     "execution_count": 232,
     "metadata": {},
     "output_type": "execute_result"
    }
   ],
   "source": [
    "all_adj_e1['male_adj'].sum()"
   ]
  },
  {
   "cell_type": "code",
   "execution_count": 233,
   "metadata": {},
   "outputs": [
    {
     "data": {
      "text/plain": [
       "68.56137136676244"
      ]
     },
     "execution_count": 233,
     "metadata": {},
     "output_type": "execute_result"
    }
   ],
   "source": [
    "all_adj_e1['female_score'].mean()"
   ]
  },
  {
   "cell_type": "code",
   "execution_count": 234,
   "metadata": {},
   "outputs": [
    {
     "data": {
      "text/plain": [
       "69.47265660531333"
      ]
     },
     "execution_count": 234,
     "metadata": {},
     "output_type": "execute_result"
    }
   ],
   "source": [
    "all_adj_e1['male_score'].mean()"
   ]
  },
  {
   "cell_type": "code",
   "execution_count": 235,
   "metadata": {
    "collapsed": true
   },
   "outputs": [],
   "source": [
    "all_verb=pd.DataFrame(list(set(female_verb)&set(male_verb)),columns=['verb'])"
   ]
  },
  {
   "cell_type": "code",
   "execution_count": 236,
   "metadata": {
    "collapsed": true
   },
   "outputs": [],
   "source": [
    "all_verb['score']=all_verb['verb'].apply(lambda x: ediction[x] if x in ediction else np.nan)"
   ]
  },
  {
   "cell_type": "code",
   "execution_count": 237,
   "metadata": {
    "collapsed": true
   },
   "outputs": [],
   "source": [
    "def dic(x):\n",
    "    diction = {}\n",
    "    cnt = Counter(x)\n",
    "    for word, freq in cnt.items():\n",
    "        diction[word] = freq\n",
    "    return diction"
   ]
  },
  {
   "cell_type": "code",
   "execution_count": 238,
   "metadata": {
    "collapsed": true
   },
   "outputs": [],
   "source": [
    "diction=dic(female_verb)\n",
    "all_verb['female_verb']=all_verb['verb'].apply(lambda x: diction[x] if x in diction else np.nan)\n",
    "\n",
    "diction=dic(male_verb)\n",
    "all_verb['male_verb']=all_verb['verb'].apply(lambda x: diction[x] if x in diction else np.nan)"
   ]
  },
  {
   "cell_type": "code",
   "execution_count": 239,
   "metadata": {
    "collapsed": true
   },
   "outputs": [],
   "source": [
    "all_verb_e=all_verb[(all_verb['score']<-5)|(all_verb['score']>5)]"
   ]
  },
  {
   "cell_type": "code",
   "execution_count": 175,
   "metadata": {},
   "outputs": [
    {
     "name": "stderr",
     "output_type": "stream",
     "text": [
      "/home/sysadmin/anaconda3/lib/python3.6/site-packages/ipykernel_launcher.py:1: SettingWithCopyWarning: \n",
      "A value is trying to be set on a copy of a slice from a DataFrame.\n",
      "Try using .loc[row_indexer,col_indexer] = value instead\n",
      "\n",
      "See the caveats in the documentation: http://pandas.pydata.org/pandas-docs/stable/indexing.html#indexing-view-versus-copy\n",
      "  \"\"\"Entry point for launching an IPython kernel.\n"
     ]
    }
   ],
   "source": [
    "all_verb_e['distance']=abs(all_verb_e['female_verb']-all_verb_e['male_verb'])"
   ]
  },
  {
   "cell_type": "code",
   "execution_count": 221,
   "metadata": {
    "collapsed": true
   },
   "outputs": [],
   "source": [
    "all_verb_e1=all_verb_e.sort_values(by='male_verb',ascending=False)[:40]"
   ]
  },
  {
   "cell_type": "code",
   "execution_count": 209,
   "metadata": {
    "collapsed": true
   },
   "outputs": [],
   "source": [
    "all_verb_e1['male_score']=abs(all_verb_e1['score']*all_verb_e1['male_verb'])"
   ]
  },
  {
   "cell_type": "code",
   "execution_count": 210,
   "metadata": {
    "collapsed": true
   },
   "outputs": [],
   "source": [
    "all_verb_e1['female_score']=abs(all_verb_e1['score']*all_verb_e1['female_verb'])"
   ]
  },
  {
   "cell_type": "code",
   "execution_count": 211,
   "metadata": {},
   "outputs": [
    {
     "data": {
      "text/plain": [
       "1845.7731023072113"
      ]
     },
     "execution_count": 211,
     "metadata": {},
     "output_type": "execute_result"
    }
   ],
   "source": [
    "all_verb_e1['male_score'].mean()"
   ]
  },
  {
   "cell_type": "code",
   "execution_count": 212,
   "metadata": {},
   "outputs": [
    {
     "data": {
      "text/plain": [
       "1748.5155520631517"
      ]
     },
     "execution_count": 212,
     "metadata": {},
     "output_type": "execute_result"
    }
   ],
   "source": [
    "all_verb_e1['female_score'].mean()"
   ]
  },
  {
   "cell_type": "code",
   "execution_count": 213,
   "metadata": {},
   "outputs": [
    {
     "data": {
      "text/plain": [
       "204.99303301154467"
      ]
     },
     "execution_count": 213,
     "metadata": {},
     "output_type": "execute_result"
    }
   ],
   "source": [
    "all_verb_e1['female_score'].sem()"
   ]
  },
  {
   "cell_type": "code",
   "execution_count": 214,
   "metadata": {
    "scrolled": true
   },
   "outputs": [
    {
     "data": {
      "text/plain": [
       "5048"
      ]
     },
     "execution_count": 214,
     "metadata": {},
     "output_type": "execute_result"
    }
   ],
   "source": [
    "all_verb_e1['male_verb'].sum()"
   ]
  },
  {
   "cell_type": "code",
   "execution_count": 215,
   "metadata": {},
   "outputs": [
    {
     "data": {
      "text/plain": [
       "4711"
      ]
     },
     "execution_count": 215,
     "metadata": {},
     "output_type": "execute_result"
    }
   ],
   "source": [
    "all_verb_e1['female_verb'].sum()"
   ]
  },
  {
   "cell_type": "code",
   "execution_count": 223,
   "metadata": {},
   "outputs": [
    {
     "data": {
      "text/plain": [
       "20"
      ]
     },
     "execution_count": 223,
     "metadata": {},
     "output_type": "execute_result"
    }
   ],
   "source": [
    "len(m)"
   ]
  },
  {
   "cell_type": "code",
   "execution_count": 224,
   "metadata": {},
   "outputs": [
    {
     "data": {
      "text/plain": [
       "20"
      ]
     },
     "execution_count": 224,
     "metadata": {},
     "output_type": "execute_result"
    }
   ],
   "source": [
    "len(index)"
   ]
  },
  {
   "cell_type": "code",
   "execution_count": 225,
   "metadata": {
    "scrolled": true
   },
   "outputs": [
    {
     "data": {
      "image/png": "[encoded data removed]",
      "text/plain": [
       "<Figure size 1800x360 with 1 Axes>"
      ]
     },
     "metadata": {},
     "output_type": "display_data"
    }
   ],
   "source": [
    "fig = plt.figure(figsize=(25,5))\n",
    "# ax=fig.add_subplot(4,1,1)\n",
    "index=np.arange(len(all_verb_e1))\n",
    "m=all_verb_e1['male_verb'].values\n",
    "f=all_verb_e1['female_verb'].values\n",
    "bar_width=0.3\n",
    "plt.bar(index,m,bar_width,color='b',label='male')\n",
    "plt.bar(index+bar_width,f,bar_width,color='r',label='female')\n",
    "plt.ylabel('Frequency',fontsize=20)\n",
    "plt.xticks(rotation=45,fontsize=15)\n",
    "plt.xticks([i-0.15 for i in index],[i for i in all_verb_e1['verb'].values])\n",
    "plt.title('Verb',fontsize=20)\n",
    "plt.legend()\n",
    "plt.show()"
   ]
  },
  {
   "cell_type": "code",
   "execution_count": null,
   "metadata": {
    "collapsed": true
   },
   "outputs": [],
   "source": []
  },
  {
   "cell_type": "code",
   "execution_count": null,
   "metadata": {
    "collapsed": true
   },
   "outputs": [],
   "source": []
  },
  {
   "cell_type": "code",
   "execution_count": null,
   "metadata": {
    "collapsed": true
   },
   "outputs": [],
   "source": []
  },
  {
   "cell_type": "code",
   "execution_count": null,
   "metadata": {
    "collapsed": true
   },
   "outputs": [],
   "source": []
  },
  {
   "cell_type": "code",
   "execution_count": null,
   "metadata": {
    "collapsed": true
   },
   "outputs": [],
   "source": []
  },
  {
   "cell_type": "code",
   "execution_count": null,
   "metadata": {
    "collapsed": true
   },
   "outputs": [],
   "source": []
  },
  {
   "cell_type": "code",
   "execution_count": null,
   "metadata": {
    "collapsed": true
   },
   "outputs": [],
   "source": []
  },
  {
   "cell_type": "code",
   "execution_count": null,
   "metadata": {
    "collapsed": true
   },
   "outputs": [],
   "source": []
  },
  {
   "cell_type": "code",
   "execution_count": null,
   "metadata": {
    "collapsed": true
   },
   "outputs": [],
   "source": []
  },
  {
   "cell_type": "markdown",
   "metadata": {},
   "source": [
    "### all the data"
   ]
  },
  {
   "cell_type": "code",
   "execution_count": 8,
   "metadata": {
    "ExecuteTime": {
     "end_time": "2019-06-14T04:14:48.131704Z",
     "start_time": "2019-06-14T04:14:48.127649Z"
    }
   },
   "outputs": [],
   "source": [
    "def eval_(x):\n",
    "    try:\n",
    "        return eval(x)\n",
    "    except:\n",
    "        return np.nan\n",
    "        pass"
   ]
  },
  {
   "cell_type": "code",
   "execution_count": 9,
   "metadata": {
    "ExecuteTime": {
     "end_time": "2019-06-14T04:14:48.923544Z",
     "start_time": "2019-06-14T04:14:48.914831Z"
    }
   },
   "outputs": [],
   "source": [
    "def ev(x,y):\n",
    "    match = re.findall('\\[.*?\\]', x[1:-1])\n",
    "    match =[re.findall(r'[[](.*?)[]]', j)[0].split(', ') for j in match]\n",
    "    a=[]\n",
    "    [a.extend(q) for k,q in enumerate(match) if k in y]\n",
    "    a=[j for j in a if len(j)>1]\n",
    "    return a"
   ]
  },
  {
   "cell_type": "code",
   "execution_count": 10,
   "metadata": {
    "ExecuteTime": {
     "end_time": "2019-06-14T04:14:49.680924Z",
     "start_time": "2019-06-14T04:14:49.671534Z"
    }
   },
   "outputs": [],
   "source": [
    "def ev1(x):\n",
    "    match = re.findall('\\[.*?\\]', x[1:-1])\n",
    "    match =[re.findall(r'[[](.*?)[]]', j)[0].split(', ') for j in match]\n",
    "    a=[]\n",
    "    [a.extend(q) for k,q in enumerate(match)]\n",
    "    a=[j for j in a if len(j)>1]\n",
    "    return a"
   ]
  },
  {
   "cell_type": "code",
   "execution_count": 11,
   "metadata": {
    "ExecuteTime": {
     "end_time": "2019-06-14T04:14:51.622880Z",
     "start_time": "2019-06-14T04:14:50.464588Z"
    }
   },
   "outputs": [],
   "source": [
    "IMDB=pd.read_csv('./IMDB/IMDB_e2.csv')\n",
    "IMDB['tp']=IMDB['tp'].apply(lambda x: eval_(x))\n",
    "IMDB['up']=IMDB['up'].apply(lambda x: eval_(x))"
   ]
  },
  {
   "cell_type": "code",
   "execution_count": 12,
   "metadata": {
    "ExecuteTime": {
     "end_time": "2019-06-14T04:14:55.514262Z",
     "start_time": "2019-06-14T04:14:52.146421Z"
    }
   },
   "outputs": [],
   "source": [
    "IMDB['m_adjs1']=IMDB.apply(lambda row: ev(row.m_adjs,row.up), axis=1)\n",
    "IMDB['f_adjs1']=IMDB.apply(lambda row: ev(row.f_adjs,row.up), axis=1)\n",
    "IMDB['m_verbs1']=IMDB.apply(lambda row: ev(row.m_verbs,row.up), axis=1)\n",
    "IMDB['f_verbs1']=IMDB.apply(lambda row: ev(row.f_verbs,row.up), axis=1)"
   ]
  },
  {
   "cell_type": "code",
   "execution_count": 13,
   "metadata": {
    "ExecuteTime": {
     "end_time": "2019-06-14T04:14:55.519246Z",
     "start_time": "2019-06-14T04:14:55.516279Z"
    }
   },
   "outputs": [],
   "source": [
    "# IMDB['m_adjs2']=IMDB.apply(lambda row: ev1(row.m_adjs), axis=1)\n",
    "# IMDB['f_adjs2']=IMDB.apply(lambda row: ev1(row.f_adjs), axis=1)\n",
    "# IMDB['m_verbs2']=IMDB.apply(lambda row: ev1(row.m_verbs), axis=1)\n",
    "# IMDB['f_verbs2']=IMDB.apply(lambda row: ev1(row.f_verbs), axis=1)"
   ]
  },
  {
   "cell_type": "code",
   "execution_count": 14,
   "metadata": {
    "ExecuteTime": {
     "end_time": "2019-06-14T04:14:55.526318Z",
     "start_time": "2019-06-14T04:14:55.521234Z"
    }
   },
   "outputs": [],
   "source": [
    "# IMDB['m_adjs2_c']=IMDB['m_adjs2'].apply(lambda x: len(x))\n",
    "# IMDB['f_adjs2_c']=IMDB['f_adjs2'].apply(lambda x: len(x))\n",
    "# IMDB['m_verbs2_c']=IMDB['m_verbs2'].apply(lambda x: len(x))\n",
    "# IMDB['f_verbs2_c']=IMDB['f_verbs2'].apply(lambda x: len(x))"
   ]
  },
  {
   "cell_type": "code",
   "execution_count": 15,
   "metadata": {
    "ExecuteTime": {
     "end_time": "2019-06-14T04:14:55.800084Z",
     "start_time": "2019-06-14T04:14:55.777582Z"
    }
   },
   "outputs": [],
   "source": [
    "IMDB['m_adjs_c']=IMDB['m_adjs1'].apply(lambda x: len(x))\n",
    "IMDB['f_adjs_c']=IMDB['f_adjs1'].apply(lambda x: len(x))\n",
    "IMDB['m_verbs_c']=IMDB['m_verbs1'].apply(lambda x: len(x))\n",
    "IMDB['f_verbs_c']=IMDB['f_verbs1'].apply(lambda x: len(x))"
   ]
  },
  {
   "cell_type": "code",
   "execution_count": 16,
   "metadata": {
    "ExecuteTime": {
     "end_time": "2019-06-14T04:14:56.802389Z",
     "start_time": "2019-06-14T04:14:56.742096Z"
    }
   },
   "outputs": [
    {
     "data": {
      "text/plain": [
       "6087"
      ]
     },
     "execution_count": 16,
     "metadata": {},
     "output_type": "execute_result"
    }
   ],
   "source": [
    "len(IMDB.dropna(axis=0,how='any',subset=['up']))"
   ]
  },
  {
   "cell_type": "code",
   "execution_count": 17,
   "metadata": {
    "ExecuteTime": {
     "end_time": "2019-06-14T04:14:59.495491Z",
     "start_time": "2019-06-14T04:14:58.301563Z"
    },
    "scrolled": true
   },
   "outputs": [],
   "source": [
    "IMDB['m_adjs_p']=IMDB.apply(lambda row: len(row.m_adjs1)/len(row.up) if len(row.up)>0 else np.nan,axis=1)\n",
    "IMDB['f_adjs_p']=IMDB.apply(lambda row: len(row.f_adjs1)/len(row.up) if len(row.up)>0 else np.nan,axis=1)\n",
    "IMDB['m_verbs_p']=IMDB.apply(lambda row: len(row.m_verbs1)/len(row.up) if len(row.up)>0 else np.nan,axis=1)\n",
    "IMDB['f_verbs_p']=IMDB.apply(lambda row: len(row.f_verbs1)/len(row.up) if len(row.up)>0 else np.nan,axis=1)"
   ]
  },
  {
   "cell_type": "code",
   "execution_count": 18,
   "metadata": {
    "ExecuteTime": {
     "end_time": "2019-06-14T04:15:00.039497Z",
     "start_time": "2019-06-14T04:15:00.036608Z"
    }
   },
   "outputs": [],
   "source": [
    "# IMDB['m_adjs_t']=IMDB['m_adjs1'].apply(lambda x: np.mean([abs(ediction[i]) for i in x if i in ediction if (ediction[i]<-3) | (ediction[i]>3)]))\n",
    "# IMDB['f_adjs_t']=IMDB['f_adjs1'].apply(lambda x: np.mean([abs(ediction[i]) for i in x if i in ediction if (ediction[i]<-3) | (ediction[i]>3)]))\n",
    "# IMDB['m_verbs_t']=IMDB['m_verbs1'].apply(lambda x: np.mean([abs(ediction[i]) for i in x if i in ediction if (ediction[i]<-3) | (ediction[i]>3)]))\n",
    "# IMDB['f_verbs_t']=IMDB['f_verbs1'].apply(lambda x: np.mean([abs(ediction[i]) for i in x if i in ediction if (ediction[i]<-3) | (ediction[i]>3)]))"
   ]
  },
  {
   "cell_type": "code",
   "execution_count": 19,
   "metadata": {
    "ExecuteTime": {
     "end_time": "2019-06-14T04:15:00.820608Z",
     "start_time": "2019-06-14T04:15:00.797554Z"
    }
   },
   "outputs": [],
   "source": [
    "IMDB=IMDB.dropna(axis=0,how='any',subset=['m_verbs_p','f_verbs_p'])"
   ]
  },
  {
   "cell_type": "code",
   "execution_count": 20,
   "metadata": {
    "ExecuteTime": {
     "end_time": "2019-06-14T04:15:02.702213Z",
     "start_time": "2019-06-14T04:15:01.824845Z"
    }
   },
   "outputs": [],
   "source": [
    "movie_long=pd.read_csv('./movie_type_e2.csv')\n",
    "movie_long['tp']=movie_long['tp'].apply(lambda x: eval_(x))"
   ]
  },
  {
   "cell_type": "code",
   "execution_count": 21,
   "metadata": {
    "ExecuteTime": {
     "end_time": "2019-06-14T04:15:03.271083Z",
     "start_time": "2019-06-14T04:15:03.101074Z"
    }
   },
   "outputs": [],
   "source": [
    "movie_long['up']=movie_long['up'].apply(lambda x: eval_(x))"
   ]
  },
  {
   "cell_type": "code",
   "execution_count": 22,
   "metadata": {
    "ExecuteTime": {
     "end_time": "2019-06-14T04:15:07.510914Z",
     "start_time": "2019-06-14T04:15:03.974409Z"
    }
   },
   "outputs": [],
   "source": [
    "movie_long['m_adjs1']=movie_long.apply(lambda row: ev(row.m_adjs,row.up), axis=1)\n",
    "movie_long['f_adjs1']=movie_long.apply(lambda row: ev(row.f_adjs,row.up), axis=1)\n",
    "movie_long['m_verbs1']=movie_long.apply(lambda row: ev(row.m_verbs,row.up), axis=1)\n",
    "movie_long['f_verbs1']=movie_long.apply(lambda row: ev(row.f_verbs,row.up), axis=1)"
   ]
  },
  {
   "cell_type": "code",
   "execution_count": 23,
   "metadata": {
    "ExecuteTime": {
     "end_time": "2019-06-14T04:15:07.521467Z",
     "start_time": "2019-06-14T04:15:07.512644Z"
    }
   },
   "outputs": [],
   "source": [
    "movie_long['m_adjs_c']=movie_long['m_adjs1'].apply(lambda x: len(x))\n",
    "movie_long['f_adjs_c']=movie_long['f_adjs1'].apply(lambda x: len(x))\n",
    "movie_long['m_verbs_c']=movie_long['m_verbs1'].apply(lambda x: len(x))\n",
    "movie_long['f_verbs_c']=movie_long['f_verbs1'].apply(lambda x: len(x))"
   ]
  },
  {
   "cell_type": "code",
   "execution_count": 24,
   "metadata": {
    "ExecuteTime": {
     "end_time": "2019-06-14T04:15:07.839106Z",
     "start_time": "2019-06-14T04:15:07.523650Z"
    }
   },
   "outputs": [],
   "source": [
    "movie_long['m_adjs_p']=movie_long.apply(lambda row: len(row.m_adjs1)/len(row.up) if len(row.up)>0 else np.nan,axis=1)\n",
    "movie_long['f_adjs_p']=movie_long.apply(lambda row: len(row.f_adjs1)/len(row.up) if len(row.up)>0 else np.nan,axis=1)\n",
    "movie_long['m_verbs_p']=movie_long.apply(lambda row: len(row.m_verbs1)/len(row.up) if len(row.up)>0 else np.nan,axis=1)\n",
    "movie_long['f_verbs_p']=movie_long.apply(lambda row: len(row.f_verbs1)/len(row.up) if len(row.up)>0 else np.nan,axis=1)"
   ]
  },
  {
   "cell_type": "code",
   "execution_count": 25,
   "metadata": {
    "ExecuteTime": {
     "end_time": "2019-06-14T04:15:08.568630Z",
     "start_time": "2019-06-14T04:15:08.559986Z"
    }
   },
   "outputs": [],
   "source": [
    "movie_long=movie_long.dropna(axis=0,how='any',subset=['m_verbs_p','f_verbs_p'])"
   ]
  },
  {
   "cell_type": "code",
   "execution_count": 28,
   "metadata": {
    "ExecuteTime": {
     "end_time": "2019-06-14T04:15:56.703877Z",
     "start_time": "2019-06-14T04:15:56.545411Z"
    },
    "scrolled": true
   },
   "outputs": [
    {
     "name": "stderr",
     "output_type": "stream",
     "text": [
      "/Users/xuhuimin/anaconda3/lib/python3.6/site-packages/numpy/core/fromnumeric.py:2920: RuntimeWarning: Mean of empty slice.\n",
      "  out=out, **kwargs)\n"
     ]
    }
   ],
   "source": [
    "movie_long['m_adjs_t']=movie_long['m_adjs1'].apply(lambda x: np.mean([abs(ediction[i]) for i in x if i in ediction if (ediction[i]<-3) | (ediction[i]>3)]))\n",
    "movie_long['f_adjs_t']=movie_long['f_adjs1'].apply(lambda x: np.mean([abs(ediction[i]) for i in x if i in ediction if (ediction[i]<-3) | (ediction[i]>3)]))\n",
    "movie_long['m_verbs_t']=movie_long['m_verbs1'].apply(lambda x: np.mean([abs(ediction[i]) for i in x if i in ediction if (ediction[i]<-3) | (ediction[i]>3)]))\n",
    "movie_long['f_verbs_t']=movie_long['f_verbs1'].apply(lambda x: np.mean([abs(ediction[i]) for i in x if i in ediction if (ediction[i]<-3) | (ediction[i]>3)]))"
   ]
  },
  {
   "cell_type": "code",
   "execution_count": 29,
   "metadata": {
    "ExecuteTime": {
     "end_time": "2019-06-14T04:15:58.692952Z",
     "start_time": "2019-06-14T04:15:57.960536Z"
    }
   },
   "outputs": [],
   "source": [
    "book=pd.read_csv('./book.csv')\n",
    "book['tp']=book['tp'].apply(lambda x: eval_(x))\n",
    "book['up']=book['up'].apply(lambda x: eval_(x))"
   ]
  },
  {
   "cell_type": "code",
   "execution_count": 30,
   "metadata": {
    "ExecuteTime": {
     "end_time": "2019-06-14T04:16:02.760660Z",
     "start_time": "2019-06-14T04:15:59.355936Z"
    }
   },
   "outputs": [],
   "source": [
    "book['m_adjs1']=book.apply(lambda row: ev(row.m_adjs,row.up), axis=1)\n",
    "book['f_adjs1']=book.apply(lambda row: ev(row.f_adjs,row.up), axis=1)\n",
    "book['m_verbs1']=book.apply(lambda row: ev(row.m_verbs,row.up), axis=1)\n",
    "book['f_verbs1']=book.apply(lambda row: ev(row.f_verbs,row.up), axis=1)"
   ]
  },
  {
   "cell_type": "code",
   "execution_count": 31,
   "metadata": {
    "ExecuteTime": {
     "end_time": "2019-06-14T04:16:02.773034Z",
     "start_time": "2019-06-14T04:16:02.763245Z"
    }
   },
   "outputs": [],
   "source": [
    "book['m_adjs_c']=book['m_adjs1'].apply(lambda x: len(x))\n",
    "book['f_adjs_c']=book['f_adjs1'].apply(lambda x: len(x))\n",
    "book['m_verbs_c']=book['m_verbs1'].apply(lambda x: len(x))\n",
    "book['f_verbs_c']=book['f_verbs1'].apply(lambda x: len(x))"
   ]
  },
  {
   "cell_type": "code",
   "execution_count": 32,
   "metadata": {
    "ExecuteTime": {
     "end_time": "2019-06-14T04:16:05.499118Z",
     "start_time": "2019-06-14T04:16:05.296355Z"
    }
   },
   "outputs": [],
   "source": [
    "book['m_adjs_p']=book.apply(lambda row: len(row.m_adjs1)/len(row.up) if len(row.up)>0 else np.nan,axis=1)\n",
    "book['f_adjs_p']=book.apply(lambda row: len(row.f_adjs1)/len(row.up) if len(row.up)>0 else np.nan,axis=1)\n",
    "book['m_verbs_p']=book.apply(lambda row: len(row.m_verbs1)/len(row.up) if len(row.up)>0 else np.nan,axis=1)\n",
    "book['f_verbs_p']=book.apply(lambda row: len(row.f_verbs1)/len(row.up) if len(row.up)>0 else np.nan,axis=1)"
   ]
  },
  {
   "cell_type": "code",
   "execution_count": 47,
   "metadata": {
    "collapsed": true
   },
   "outputs": [],
   "source": [
    "# book['m_adjs_t']=book['m_adjs1'].apply(lambda x: np.mean([abs(ediction[i]) for i in x if i in ediction if (ediction[i]<-3) | (ediction[i]>3)]))\n",
    "# book['f_adjs_t']=book['f_adjs1'].apply(lambda x: np.mean([abs(ediction[i]) for i in x if i in ediction if (ediction[i]<-3) | (ediction[i]>3)]))\n",
    "# book['m_verbs_t']=book['m_verbs1'].apply(lambda x: np.mean([abs(ediction[i]) for i in x if i in ediction if (ediction[i]<-3) | (ediction[i]>3)]))\n",
    "# book['f_verbs_t']=book['f_verbs1'].apply(lambda x: np.mean([abs(ediction[i]) for i in x if i in ediction if (ediction[i]<-3) | (ediction[i]>3)]))"
   ]
  },
  {
   "cell_type": "code",
   "execution_count": 33,
   "metadata": {
    "ExecuteTime": {
     "end_time": "2019-06-14T04:16:20.598418Z",
     "start_time": "2019-06-14T04:16:20.589942Z"
    }
   },
   "outputs": [],
   "source": [
    "book=book.dropna(axis=0,how='any',subset=['m_verbs_p','f_verbs_p'])"
   ]
  },
  {
   "cell_type": "code",
   "execution_count": 34,
   "metadata": {
    "ExecuteTime": {
     "end_time": "2019-06-14T04:16:21.308250Z",
     "start_time": "2019-06-14T04:16:21.300429Z"
    }
   },
   "outputs": [
    {
     "data": {
      "text/plain": [
       "0.03260435587840301"
      ]
     },
     "execution_count": 34,
     "metadata": {},
     "output_type": "execute_result"
    }
   ],
   "source": [
    "v,p=stats.ttest_ind([i for i in book['m_verbs_p'].values], [i for i in book['f_verbs_p'].values])\n",
    "p"
   ]
  },
  {
   "cell_type": "code",
   "execution_count": 35,
   "metadata": {
    "ExecuteTime": {
     "end_time": "2019-06-14T04:16:24.353461Z",
     "start_time": "2019-06-14T04:16:24.346587Z"
    }
   },
   "outputs": [],
   "source": [
    "def gender (x,y):\n",
    "    a=pd.DataFrame()\n",
    "    a['verbs_c']=x\n",
    "    a['gender']='male'\n",
    "    b=pd.DataFrame()\n",
    "    b['verbs_c']=y\n",
    "    b['gender']='female'\n",
    "    a=a.append(b)\n",
    "    return a"
   ]
  },
  {
   "cell_type": "code",
   "execution_count": 45,
   "metadata": {
    "ExecuteTime": {
     "end_time": "2019-06-14T04:22:08.977098Z",
     "start_time": "2019-06-14T04:22:07.987231Z"
    }
   },
   "outputs": [
    {
     "name": "stderr",
     "output_type": "stream",
     "text": [
      "/Users/xuhuimin/anaconda3/lib/python3.6/site-packages/scipy/stats/stats.py:1713: FutureWarning: Using a non-tuple sequence for multidimensional indexing is deprecated; use `arr[tuple(seq)]` instead of `arr[seq]`. In the future this will be interpreted as an array index, `arr[np.array(seq)]`, which will result either in an error or a different result.\n",
      "  return np.add.reduce(sorted[indexer] * weights, axis=axis) / sumval\n"
     ]
    },
    {
     "data": {
      "image/png": "[encoded data removed]",
      "text/plain": [
       "<Figure size 864x360 with 3 Axes>"
      ]
     },
     "metadata": {},
     "output_type": "display_data"
    }
   ],
   "source": [
    "fig = plt.figure(figsize=(12,5))\n",
    "ax=fig.add_subplot(1,3,1)\n",
    "a=gender(IMDB['m_verbs_p'].values,IMDB['f_verbs_p'].values)\n",
    "sns.barplot(x='gender',y='verbs_c',data = a)\n",
    "ax.set_xlabel('Gender',fontsize=15)\n",
    "ax.set_ylabel('P(verb)',fontsize=15)\n",
    "plt.text(-0.7,0.9,'a',fontsize=15)\n",
    "plt.title('Movie synopsis',fontsize=20)\n",
    "ax=fig.add_subplot(1,3,2)\n",
    "a=gender(movie_long['m_verbs_p'].values,movie_long['f_verbs_p'].values)\n",
    "sns.barplot(x='gender',y='verbs_c',data = a)\n",
    "ax.set_xlabel('Gender',fontsize=15)\n",
    "ax.set_ylabel(None,fontsize=15)\n",
    "plt.text(-0.7,0.135,'b',fontsize=15)\n",
    "plt.title('Movie script',fontsize=20)\n",
    "ax=fig.add_subplot(1,3,3)\n",
    "a=gender(book['m_verbs_p'].values,book['f_verbs_p'].values)\n",
    "sns.barplot(x='gender',y='verbs_c',data = a)\n",
    "ax.set_xlabel('Gender',fontsize=15)\n",
    "ax.set_ylabel(None,fontsize=15)\n",
    "plt.title('Book',fontsize=20)\n",
    "plt.text(-0.7,0.255,'c',fontsize=15)\n",
    "plt.tight_layout()\n",
    "plt.savefig('./picture/figure7.tiff',dpi=300)\n",
    "plt.show()"
   ]
  },
  {
   "cell_type": "code",
   "execution_count": 74,
   "metadata": {},
   "outputs": [
    {
     "name": "stderr",
     "output_type": "stream",
     "text": [
      "/home/sysadmin/anaconda3/lib/python3.6/site-packages/scipy/stats/stats.py:1713: FutureWarning: Using a non-tuple sequence for multidimensional indexing is deprecated; use `arr[tuple(seq)]` instead of `arr[seq]`. In the future this will be interpreted as an array index, `arr[np.array(seq)]`, which will result either in an error or a different result.\n",
      "  return np.add.reduce(sorted[indexer] * weights, axis=axis) / sumval\n"
     ]
    },
    {
     "data": {
      "image/png": "[encoded data removed]",
      "text/plain": [
       "<Figure size 864x360 with 3 Axes>"
      ]
     },
     "metadata": {},
     "output_type": "display_data"
    }
   ],
   "source": [
    "fig = plt.figure(figsize=(12,5))\n",
    "ax=fig.add_subplot(1,3,1)\n",
    "a=gender(IMDB['m_verbs_p'].values,IMDB['f_verbs_p'].values)\n",
    "sns.barplot(x='gender',y='verbs_c',data = a)\n",
    "ax.set_xlabel('Gender',fontsize=15)\n",
    "ax.set_ylabel('P(Verb)',fontsize=15)\n",
    "plt.title('Movie (short)',fontsize=20)\n",
    "ax=fig.add_subplot(1,3,2)\n",
    "a=gender(movie_long['m_verbs_p'].values,movie_long['f_verbs_p'].values)\n",
    "sns.barplot(x='gender',y='verbs_c',data = a)\n",
    "ax.set_xlabel('Gender',fontsize=15)\n",
    "ax.set_ylabel(None,fontsize=15)\n",
    "plt.title('Movie (long)',fontsize=20)\n",
    "ax=fig.add_subplot(1,3,3)\n",
    "a=gender(book['m_verbs_p'].values,book['f_verbs_p'].values)\n",
    "sns.barplot(x='gender',y='verbs_c',data = a)\n",
    "ax.set_xlabel('Gender',fontsize=15)\n",
    "ax.set_ylabel(None,fontsize=15)\n",
    "plt.title('Book',fontsize=20)\n",
    "plt.tight_layout()\n",
    "plt.show()"
   ]
  },
  {
   "cell_type": "code",
   "execution_count": 52,
   "metadata": {},
   "outputs": [
    {
     "name": "stderr",
     "output_type": "stream",
     "text": [
      "/home/sysadmin/anaconda3/lib/python3.6/site-packages/scipy/stats/stats.py:1713: FutureWarning: Using a non-tuple sequence for multidimensional indexing is deprecated; use `arr[tuple(seq)]` instead of `arr[seq]`. In the future this will be interpreted as an array index, `arr[np.array(seq)]`, which will result either in an error or a different result.\n",
      "  return np.add.reduce(sorted[indexer] * weights, axis=axis) / sumval\n"
     ]
    },
    {
     "data": {
      "image/png": "[encoded data removed]",
      "text/plain": [
       "<Figure size 864x360 with 3 Axes>"
      ]
     },
     "metadata": {},
     "output_type": "display_data"
    }
   ],
   "source": [
    "fig = plt.figure(figsize=(12,5))\n",
    "ax=fig.add_subplot(1,3,1)\n",
    "a=gender(IMDB['m_verbs_c'].values,IMDB['f_verbs_c'].values)\n",
    "sns.barplot(x='gender',y='verbs_c',data = a)\n",
    "ax.set_xlabel('Verb',fontsize=15)\n",
    "ax.set_ylabel('N',fontsize=15)\n",
    "plt.title('Movie (short)',fontsize=20)\n",
    "ax=fig.add_subplot(1,3,2)\n",
    "a=gender(movie_long['m_verbs_c'].values,movie_long['f_verbs_c'].values)\n",
    "sns.barplot(x='gender',y='verbs_c',data = a)\n",
    "ax.set_xlabel('Verb',fontsize=15)\n",
    "ax.set_ylabel(None,fontsize=15)\n",
    "plt.title('Movie (long)',fontsize=20)\n",
    "ax=fig.add_subplot(1,3,3)\n",
    "a=gender(book['m_verbs_c'].values,book['f_verbs_c'].values)\n",
    "sns.barplot(x='gender',y='verbs_c',data = a)\n",
    "ax.set_xlabel('Verb',fontsize=15)\n",
    "ax.set_ylabel(None,fontsize=15)\n",
    "plt.title('Book',fontsize=20)\n",
    "plt.tight_layout()\n",
    "plt.show()"
   ]
  },
  {
   "cell_type": "code",
   "execution_count": 334,
   "metadata": {
    "scrolled": false
   },
   "outputs": [
    {
     "name": "stderr",
     "output_type": "stream",
     "text": [
      "/home/sysadmin/anaconda3/lib/python3.6/site-packages/scipy/stats/stats.py:1713: FutureWarning: Using a non-tuple sequence for multidimensional indexing is deprecated; use `arr[tuple(seq)]` instead of `arr[seq]`. In the future this will be interpreted as an array index, `arr[np.array(seq)]`, which will result either in an error or a different result.\n",
      "  return np.add.reduce(sorted[indexer] * weights, axis=axis) / sumval\n"
     ]
    },
    {
     "data": {
      "image/png": "[encoded data removed]",
      "text/plain": [
       "<Figure size 864x360 with 3 Axes>"
      ]
     },
     "metadata": {},
     "output_type": "display_data"
    }
   ],
   "source": [
    "fig = plt.figure(figsize=(12,5))\n",
    "ax=fig.add_subplot(1,3,1)\n",
    "a=gender(IMDB['m_verbs_c'].values,IMDB['f_verbs_c'].values)\n",
    "sns.barplot(x='gender',y='verbs_c',data = a)\n",
    "ax.set_xlabel('Verb',fontsize=15)\n",
    "ax.set_ylabel('N',fontsize=15)\n",
    "plt.title('Movie (short)',fontsize=20)\n",
    "ax=fig.add_subplot(1,3,2)\n",
    "a=gender(movie_long['m_verbs_c'].values,movie_long['f_verbs_c'].values)\n",
    "sns.barplot(x='gender',y='verbs_c',data = a)\n",
    "ax.set_xlabel('Verb',fontsize=15)\n",
    "ax.set_ylabel(None,fontsize=15)\n",
    "plt.title('Movie (long)',fontsize=20)\n",
    "ax=fig.add_subplot(1,3,3)\n",
    "a=gender(book['m_verbs_c'].values,book['f_verbs_c'].values)\n",
    "sns.barplot(x='gender',y='verbs_c',data = a)\n",
    "ax.set_xlabel('Verb',fontsize=15)\n",
    "ax.set_ylabel(None,fontsize=15)\n",
    "plt.title('Book',fontsize=20)\n",
    "plt.tight_layout()\n",
    "plt.show()"
   ]
  },
  {
   "cell_type": "code",
   "execution_count": 349,
   "metadata": {
    "scrolled": true
   },
   "outputs": [
    {
     "name": "stderr",
     "output_type": "stream",
     "text": [
      "/home/sysadmin/anaconda3/lib/python3.6/site-packages/scipy/stats/stats.py:1713: FutureWarning: Using a non-tuple sequence for multidimensional indexing is deprecated; use `arr[tuple(seq)]` instead of `arr[seq]`. In the future this will be interpreted as an array index, `arr[np.array(seq)]`, which will result either in an error or a different result.\n",
      "  return np.add.reduce(sorted[indexer] * weights, axis=axis) / sumval\n"
     ]
    },
    {
     "data": {
      "image/png": "[encoded data removed]",
      "text/plain": [
       "<Figure size 864x360 with 3 Axes>"
      ]
     },
     "metadata": {},
     "output_type": "display_data"
    }
   ],
   "source": [
    "fig = plt.figure(figsize=(12,5))\n",
    "ax=fig.add_subplot(1,3,1)\n",
    "a=gender(IMDB['m_adjs_c'].values,IMDB['f_adjs_c'].values)\n",
    "sns.barplot(x='gender',y='verbs_c',data = a)\n",
    "ax.set_xlabel('Adj',fontsize=15)\n",
    "ax.set_ylabel('N',fontsize=15)\n",
    "plt.title('Movie (short)',fontsize=20)\n",
    "ax=fig.add_subplot(1,3,2)\n",
    "a=gender(movie_long['m_adjs_c'].values,movie_long['f_adjs_c'].values)\n",
    "sns.barplot(x='gender',y='verbs_c',data = a)\n",
    "ax.set_xlabel('Adj',fontsize=15)\n",
    "ax.set_ylabel(None,fontsize=15)\n",
    "plt.title('Movie (long)',fontsize=20)\n",
    "ax=fig.add_subplot(1,3,3)\n",
    "a=gender(book['m_adjs_c'].values,book['f_adjs_c'].values)\n",
    "sns.barplot(x='gender',y='verbs_c',data = a)\n",
    "ax.set_xlabel('Adj',fontsize=15)\n",
    "ax.set_ylabel(None,fontsize=15)\n",
    "plt.title('Book',fontsize=20)\n",
    "plt.tight_layout()\n",
    "plt.show()"
   ]
  },
  {
   "cell_type": "code",
   "execution_count": 381,
   "metadata": {},
   "outputs": [
    {
     "name": "stderr",
     "output_type": "stream",
     "text": [
      "/home/sysadmin/anaconda3/lib/python3.6/site-packages/scipy/stats/stats.py:1713: FutureWarning: Using a non-tuple sequence for multidimensional indexing is deprecated; use `arr[tuple(seq)]` instead of `arr[seq]`. In the future this will be interpreted as an array index, `arr[np.array(seq)]`, which will result either in an error or a different result.\n",
      "  return np.add.reduce(sorted[indexer] * weights, axis=axis) / sumval\n"
     ]
    },
    {
     "data": {
      "image/png": "[encoded data removed]",
      "text/plain": [
       "<Figure size 864x360 with 3 Axes>"
      ]
     },
     "metadata": {},
     "output_type": "display_data"
    }
   ],
   "source": [
    "fig = plt.figure(figsize=(12,5))\n",
    "ax=fig.add_subplot(1,3,1)\n",
    "a=gender(IMDB['m_verbs_t'].values,IMDB['f_verbs_t'].values)\n",
    "sns.barplot(x='gender',y='verbs_c',data = a)\n",
    "ax.set_xlabel('Verb',fontsize=15)\n",
    "ax.set_ylabel('Emotion',fontsize=15)\n",
    "plt.title('Movie (short)',fontsize=20)\n",
    "ax=fig.add_subplot(1,3,2)\n",
    "a=gender(movie_long['m_verbs_t'].values,movie_long['f_verbs_t'].values)\n",
    "sns.barplot(x='gender',y='verbs_c',data = a)\n",
    "ax.set_xlabel('Verb',fontsize=15)\n",
    "ax.set_ylabel(None,fontsize=15)\n",
    "plt.title('Movie (long)',fontsize=20)\n",
    "ax=fig.add_subplot(1,3,3)\n",
    "a=gender(book['m_verbs_t'].values,book['f_verbs_t'].values)\n",
    "sns.barplot(x='gender',y='verbs_c',data = a)\n",
    "ax.set_xlabel('Verb',fontsize=15)\n",
    "ax.set_ylabel(None,fontsize=15)\n",
    "plt.title('Book',fontsize=20)\n",
    "plt.tight_layout()\n",
    "plt.show()"
   ]
  },
  {
   "cell_type": "code",
   "execution_count": 382,
   "metadata": {},
   "outputs": [
    {
     "name": "stderr",
     "output_type": "stream",
     "text": [
      "/home/sysadmin/anaconda3/lib/python3.6/site-packages/scipy/stats/stats.py:1713: FutureWarning: Using a non-tuple sequence for multidimensional indexing is deprecated; use `arr[tuple(seq)]` instead of `arr[seq]`. In the future this will be interpreted as an array index, `arr[np.array(seq)]`, which will result either in an error or a different result.\n",
      "  return np.add.reduce(sorted[indexer] * weights, axis=axis) / sumval\n"
     ]
    },
    {
     "data": {
      "image/png": "[encoded data removed]",
      "text/plain": [
       "<Figure size 864x360 with 3 Axes>"
      ]
     },
     "metadata": {},
     "output_type": "display_data"
    }
   ],
   "source": [
    "fig = plt.figure(figsize=(12,5))\n",
    "ax=fig.add_subplot(1,3,1)\n",
    "a=gender(IMDB['m_adjs_t'].values,IMDB['f_adjs_t'].values)\n",
    "sns.barplot(x='gender',y='verbs_c',data = a)\n",
    "ax.set_xlabel('Adj',fontsize=15)\n",
    "ax.set_ylabel('Emotion',fontsize=15)\n",
    "plt.title('Movie (short)',fontsize=20)\n",
    "ax=fig.add_subplot(1,3,2)\n",
    "a=gender(movie_long['m_adjs_t'].values,movie_long['f_adjs_t'].values)\n",
    "sns.barplot(x='gender',y='verbs_c',data = a)\n",
    "ax.set_xlabel('Adj',fontsize=15)\n",
    "ax.set_ylabel(None,fontsize=15)\n",
    "plt.title('Movie (long)',fontsize=20)\n",
    "ax=fig.add_subplot(1,3,3)\n",
    "a=gender(book['m_adjs_t'].values,book['f_adjs_t'].values)\n",
    "sns.barplot(x='gender',y='verbs_c',data = a)\n",
    "ax.set_xlabel('Adj',fontsize=15)\n",
    "ax.set_ylabel(None,fontsize=15)\n",
    "plt.title('Book',fontsize=20)\n",
    "plt.tight_layout()\n",
    "plt.show()"
   ]
  },
  {
   "cell_type": "code",
   "execution_count": null,
   "metadata": {
    "collapsed": true
   },
   "outputs": [],
   "source": []
  },
  {
   "cell_type": "code",
   "execution_count": null,
   "metadata": {
    "collapsed": true
   },
   "outputs": [],
   "source": []
  },
  {
   "cell_type": "markdown",
   "metadata": {
    "collapsed": true
   },
   "source": [
    "### correlation"
   ]
  },
  {
   "cell_type": "code",
   "execution_count": 21,
   "metadata": {
    "collapsed": true
   },
   "outputs": [],
   "source": [
    "IMDB=pd.read_csv('./IMDB/IMDB_e2.csv')\n",
    "IMDB['tp']=IMDB['tp'].apply(lambda x: eval_(x))\n",
    "IMDB['up']=IMDB['up'].apply(lambda x: eval_(x))\n",
    "IMDB['up1']=IMDB['up1'].apply(lambda x: eval_(x))\n",
    "IMDB['emotion']=IMDB['emotion'].apply(lambda x: eval_(x))"
   ]
  },
  {
   "cell_type": "code",
   "execution_count": 22,
   "metadata": {
    "collapsed": true
   },
   "outputs": [],
   "source": [
    "IMDB['n_e']=IMDB['emotion'].apply(lambda x: normalized(x))"
   ]
  },
  {
   "cell_type": "code",
   "execution_count": 23,
   "metadata": {
    "collapsed": true
   },
   "outputs": [],
   "source": [
    "def ev2(x):\n",
    "    match = re.findall('\\[.*?\\]', x[1:-1])\n",
    "    match =[re.findall(r'[[](.*?)[]]', j)[0].split(', ') for j in match]\n",
    "    a=[]\n",
    "    [a.append(q) for k,q in enumerate(match)]\n",
    "    b=[q for q,j in enumerate(a) if len(j)>1]\n",
    "    return b"
   ]
  },
  {
   "cell_type": "code",
   "execution_count": 24,
   "metadata": {
    "collapsed": true
   },
   "outputs": [],
   "source": [
    "IMDB['f_verbs1']=IMDB.apply(lambda row: ev2(row.f_verbs), axis=1) #identify the female location\n",
    "IMDB['m_verbs1']=IMDB.apply(lambda row: ev2(row.m_verbs), axis=1) #identify the male location"
   ]
  },
  {
   "cell_type": "code",
   "execution_count": 25,
   "metadata": {
    "collapsed": true
   },
   "outputs": [],
   "source": [
    "IMDB['up2']=IMDB['up1'].apply(lambda x: [i[0] for i in x]) # the beginning of encounter"
   ]
  },
  {
   "cell_type": "code",
   "execution_count": 26,
   "metadata": {
    "collapsed": true
   },
   "outputs": [],
   "source": [
    "IMDB['up3']=IMDB['up1'].apply(lambda x: [i[1] for i in x]) # the end of encounter"
   ]
  },
  {
   "cell_type": "code",
   "execution_count": 59,
   "metadata": {},
   "outputs": [
    {
     "data": {
      "text/plain": [
       "786"
      ]
     },
     "execution_count": 59,
     "metadata": {},
     "output_type": "execute_result"
    }
   ],
   "source": [
    "len(IMDB)"
   ]
  },
  {
   "cell_type": "code",
   "execution_count": 51,
   "metadata": {
    "collapsed": true
   },
   "outputs": [],
   "source": [
    "def f_e(x,y,z): \n",
    "    try:\n",
    "        a=[]\n",
    "        for i in x:\n",
    "            b=[]\n",
    "            for j in y:\n",
    "                b.append(i-j)\n",
    "            a.append(np.argmin([q for q in b if q>0]))\n",
    "        a=np.mean([z[y[i]] for i in a])\n",
    "        return a\n",
    "    except Exception as e:\n",
    "        return np.nan"
   ]
  },
  {
   "cell_type": "code",
   "execution_count": 52,
   "metadata": {},
   "outputs": [
    {
     "name": "stderr",
     "output_type": "stream",
     "text": [
      "/home/sysadmin/anaconda3/lib/python3.6/site-packages/numpy/core/fromnumeric.py:2920: RuntimeWarning: Mean of empty slice.\n",
      "  out=out, **kwargs)\n",
      "/home/sysadmin/anaconda3/lib/python3.6/site-packages/numpy/core/_methods.py:85: RuntimeWarning: invalid value encountered in double_scalars\n",
      "  ret = ret.dtype.type(ret / rcount)\n"
     ]
    }
   ],
   "source": [
    "IMDB['f_verbs2']=IMDB.apply(lambda row: f_e(row.up2,row.f_verbs1,row.n_e),axis=1) #identify the female emotion location before encounter\n",
    "IMDB['m_verbs2']=IMDB.apply(lambda row: f_e(row.up2,row.m_verbs1,row.n_e),axis=1) #identify the male emotion location before encounter"
   ]
  },
  {
   "cell_type": "code",
   "execution_count": 53,
   "metadata": {},
   "outputs": [
    {
     "data": {
      "text/plain": [
       "0.04734103129568158"
      ]
     },
     "execution_count": 53,
     "metadata": {},
     "output_type": "execute_result"
    }
   ],
   "source": [
    "IMDB[IMDB['tconst']=='tt1661199']['f_verbs2'].values[0]"
   ]
  },
  {
   "cell_type": "code",
   "execution_count": 49,
   "metadata": {},
   "outputs": [
    {
     "data": {
      "text/plain": [
       "nan"
      ]
     },
     "execution_count": 49,
     "metadata": {},
     "output_type": "execute_result"
    }
   ],
   "source": [
    "IMDB[IMDB['tconst']=='tt1661199']['m_verbs2'].values[0]"
   ]
  },
  {
   "cell_type": "code",
   "execution_count": 40,
   "metadata": {},
   "outputs": [
    {
     "data": {
      "text/plain": [
       "nan"
      ]
     },
     "execution_count": 40,
     "metadata": {},
     "output_type": "execute_result"
    }
   ],
   "source": [
    "IMDB[IMDB['tconst']=='tt1661199']['m_verbs2'].values[0]"
   ]
  },
  {
   "cell_type": "code",
   "execution_count": 190,
   "metadata": {},
   "outputs": [
    {
     "data": {
      "text/plain": [
       "[[28, 35], [52, 59], [75, 76], [89, 90], [95, 96]]"
      ]
     },
     "execution_count": 190,
     "metadata": {},
     "output_type": "execute_result"
    }
   ],
   "source": [
    "IMDB[IMDB['tconst']=='tt1661199']['up1'].values[0]"
   ]
  },
  {
   "cell_type": "code",
   "execution_count": 268,
   "metadata": {},
   "outputs": [
    {
     "data": {
      "text/plain": [
       "2.445998831350534"
      ]
     },
     "execution_count": 268,
     "metadata": {},
     "output_type": "execute_result"
    }
   ],
   "source": [
    "IMDB[IMDB['tconst']=='tt1661199']['f_e2'].values[0]"
   ]
  },
  {
   "cell_type": "code",
   "execution_count": 201,
   "metadata": {},
   "outputs": [
    {
     "name": "stderr",
     "output_type": "stream",
     "text": [
      "/home/sysadmin/anaconda3/lib/python3.6/site-packages/ipykernel_launcher.py:2: SettingWithCopyWarning: \n",
      "A value is trying to be set on a copy of a slice from a DataFrame.\n",
      "Try using .loc[row_indexer,col_indexer] = value instead\n",
      "\n",
      "See the caveats in the documentation: http://pandas.pydata.org/pandas-docs/stable/indexing.html#indexing-view-versus-copy\n",
      "  \n"
     ]
    }
   ],
   "source": [
    "# IMDB['f_e']=IMDB.apply(lambda row: np.mean([row.n_e[i] for i in row.f_verbs2]) if type(row.f_verbs2)==list else np.nan,axis=1)\n",
    "IMDB['f_e']=IMDB.apply(lambda row: [row.n_e[i] for i in row.f_verbs2] if type(row.f_verbs2)==list else np.nan,axis=1)"
   ]
  },
  {
   "cell_type": "code",
   "execution_count": 211,
   "metadata": {
    "collapsed": true
   },
   "outputs": [],
   "source": [
    "# IMDB['f_e1']=IMDB.apply(lambda row: np.mean([row.n_e[i] for i in row.up2]) if type(row.up2)==list else np.nan,axis=1)\n",
    "IMDB['f_e1']=IMDB.apply(lambda row: [row.n_e[i] for i in row.up2] if type(row.up2)==list else np.nan,axis=1)"
   ]
  },
  {
   "cell_type": "code",
   "execution_count": 258,
   "metadata": {
    "collapsed": true
   },
   "outputs": [],
   "source": [
    "IMDB['f_e2']=IMDB.apply(lambda row: np.sum([row.f_e1[i] - row.f_e[i] for i in range(len(row.f_e))]),axis=1) # the emotion diffrence between before and after "
   ]
  },
  {
   "cell_type": "code",
   "execution_count": 252,
   "metadata": {
    "collapsed": true
   },
   "outputs": [],
   "source": [
    "def ev(x,y):\n",
    "    match = re.findall('\\[.*?\\]', x[1:-1])\n",
    "    match =[re.findall(r'[[](.*?)[]]', j)[0].split(', ') for j in match]\n",
    "    a=[]\n",
    "    [a.extend(q) for k,q in enumerate(match) if k in y]\n",
    "    a=[j for j in a if len(j)>1]\n",
    "    return a"
   ]
  },
  {
   "cell_type": "code",
   "execution_count": 269,
   "metadata": {
    "collapsed": true
   },
   "outputs": [],
   "source": [
    "IMDB['m_verbs1']=IMDB.apply(lambda row: ev(row.m_verbs,row.up), axis=1)\n",
    "IMDB['f_verbs1']=IMDB.apply(lambda row: ev(row.f_verbs,row.up), axis=1)"
   ]
  },
  {
   "cell_type": "code",
   "execution_count": 270,
   "metadata": {
    "collapsed": true
   },
   "outputs": [],
   "source": [
    "IMDB['m_verbs_c']=IMDB['m_verbs1'].apply(lambda x: len(x))\n",
    "IMDB['f_verbs_c']=IMDB['f_verbs1'].apply(lambda x: len(x))"
   ]
  },
  {
   "cell_type": "code",
   "execution_count": 273,
   "metadata": {
    "collapsed": true
   },
   "outputs": [],
   "source": [
    "IMDB['m_f']=IMDB['m_verbs_c']/(IMDB['m_verbs_c']+IMDB['f_verbs_c'])"
   ]
  },
  {
   "cell_type": "code",
   "execution_count": 272,
   "metadata": {},
   "outputs": [
    {
     "data": {
      "text/plain": [
       "23"
      ]
     },
     "execution_count": 272,
     "metadata": {},
     "output_type": "execute_result"
    }
   ],
   "source": [
    "IMDB[IMDB['tconst']=='tt1661199']['m_verbs_c'].values[0]"
   ]
  },
  {
   "cell_type": "code",
   "execution_count": 271,
   "metadata": {
    "scrolled": true
   },
   "outputs": [
    {
     "data": {
      "text/plain": [
       "15"
      ]
     },
     "execution_count": 271,
     "metadata": {},
     "output_type": "execute_result"
    }
   ],
   "source": [
    "IMDB[IMDB['tconst']=='tt1661199']['f_verbs_c'].values[0]"
   ]
  },
  {
   "cell_type": "code",
   "execution_count": 54,
   "metadata": {
    "collapsed": true
   },
   "outputs": [],
   "source": [
    "IMDB=IMDB.dropna(axis=0,how='any',subset=['f_verbs2','m_verbs2'])"
   ]
  },
  {
   "cell_type": "code",
   "execution_count": 287,
   "metadata": {},
   "outputs": [
    {
     "name": "stdout",
     "output_type": "stream",
     "text": [
      "                            OLS Regression Results                            \n",
      "==============================================================================\n",
      "Dep. Variable:                      y   R-squared:                       0.002\n",
      "Model:                            OLS   Adj. R-squared:                  0.001\n",
      "Method:                 Least Squares   F-statistic:                     2.140\n",
      "Date:                Wed, 05 Jun 2019   Prob (F-statistic):              0.144\n",
      "Time:                        17:31:53   Log-Likelihood:                -2723.0\n",
      "No. Observations:                1268   AIC:                             5450.\n",
      "Df Residuals:                    1266   BIC:                             5460.\n",
      "Df Model:                           1                                         \n",
      "Covariance Type:            nonrobust                                         \n",
      "==============================================================================\n",
      "                 coef    std err          t      P>|t|      [0.025      0.975]\n",
      "------------------------------------------------------------------------------\n",
      "const         -0.2445      0.135     -1.805      0.071      -0.510       0.021\n",
      "x1             0.3680      0.252      1.463      0.144      -0.125       0.861\n",
      "==============================================================================\n",
      "Omnibus:                      211.063   Durbin-Watson:                   2.023\n",
      "Prob(Omnibus):                  0.000   Jarque-Bera (JB):              909.623\n",
      "Skew:                          -0.725   Prob(JB):                    3.00e-198\n",
      "Kurtosis:                       6.887   Cond. No.                         5.39\n",
      "==============================================================================\n",
      "\n",
      "Warnings:\n",
      "[1] Standard Errors assume that the covariance matrix of the errors is correctly specified.\n"
     ]
    }
   ],
   "source": [
    "import statsmodels.api as sm\n",
    "\n",
    "y = IMDB['f_e2'].values # target\n",
    "X = IMDB['m_f'].values  # features\n",
    "# add a column of 1's as the constant term\n",
    "X = sm.add_constant(X)  \n",
    "\n",
    "# OLS -- Ordinary Least Squares Fit\n",
    "linear = sm.OLS(y, X)\n",
    "# fit model\n",
    "linearfit = linear.fit()\n",
    "print(linearfit.summary())"
   ]
  },
  {
   "cell_type": "code",
   "execution_count": null,
   "metadata": {
    "collapsed": true
   },
   "outputs": [],
   "source": []
  },
  {
   "cell_type": "code",
   "execution_count": null,
   "metadata": {
    "collapsed": true
   },
   "outputs": [],
   "source": []
  },
  {
   "cell_type": "code",
   "execution_count": null,
   "metadata": {
    "collapsed": true
   },
   "outputs": [],
   "source": []
  },
  {
   "cell_type": "code",
   "execution_count": 57,
   "metadata": {},
   "outputs": [
    {
     "data": {
      "text/plain": [
       "count    786.000000\n",
       "mean       0.024923\n",
       "std        0.709889\n",
       "min       -3.262644\n",
       "25%       -0.445669\n",
       "50%        0.060982\n",
       "75%        0.478553\n",
       "max        2.464495\n",
       "Name: f_verbs2, dtype: float64"
      ]
     },
     "execution_count": 57,
     "metadata": {},
     "output_type": "execute_result"
    }
   ],
   "source": [
    "IMDB['f_verbs2'].describe()"
   ]
  },
  {
   "cell_type": "code",
   "execution_count": 58,
   "metadata": {},
   "outputs": [
    {
     "data": {
      "text/plain": [
       "count    786.000000\n",
       "mean      -0.029629\n",
       "std        0.696354\n",
       "min       -3.262644\n",
       "25%       -0.425531\n",
       "50%       -0.006549\n",
       "75%        0.429643\n",
       "max        2.385966\n",
       "Name: m_verbs2, dtype: float64"
      ]
     },
     "execution_count": 58,
     "metadata": {},
     "output_type": "execute_result"
    }
   ],
   "source": [
    "IMDB['m_verbs2'].describe()"
   ]
  },
  {
   "cell_type": "code",
   "execution_count": 197,
   "metadata": {
    "collapsed": true
   },
   "outputs": [],
   "source": [
    "IMDB=IMDB.dropna(axis=0,how='any',subset=['f_e','f_e1'])"
   ]
  },
  {
   "cell_type": "code",
   "execution_count": 55,
   "metadata": {
    "scrolled": false
   },
   "outputs": [
    {
     "data": {
      "text/plain": [
       "0.12425235992070598"
      ]
     },
     "execution_count": 55,
     "metadata": {},
     "output_type": "execute_result"
    }
   ],
   "source": [
    "v,p=stats.ttest_ind([i for i in IMDB['f_verbs2'].values], [i for i in IMDB['m_verbs2'].values])\n",
    "p"
   ]
  },
  {
   "cell_type": "code",
   "execution_count": 199,
   "metadata": {
    "collapsed": true
   },
   "outputs": [],
   "source": [
    "def b_a (x,y):\n",
    "    a=pd.DataFrame()\n",
    "    a['verbs_c']=x\n",
    "    a['gender']='before'\n",
    "    b=pd.DataFrame()\n",
    "    b['verbs_c']=y\n",
    "    b['gender']='after'\n",
    "    a=a.append(b)\n",
    "    return a"
   ]
  },
  {
   "cell_type": "code",
   "execution_count": 200,
   "metadata": {},
   "outputs": [
    {
     "name": "stderr",
     "output_type": "stream",
     "text": [
      "/home/sysadmin/anaconda3/lib/python3.6/site-packages/scipy/stats/stats.py:1713: FutureWarning: Using a non-tuple sequence for multidimensional indexing is deprecated; use `arr[tuple(seq)]` instead of `arr[seq]`. In the future this will be interpreted as an array index, `arr[np.array(seq)]`, which will result either in an error or a different result.\n",
      "  return np.add.reduce(sorted[indexer] * weights, axis=axis) / sumval\n"
     ]
    },
    {
     "data": {
      "image/png": "[encoded data removed]",
      "text/plain": [
       "<Figure size 864x360 with 1 Axes>"
      ]
     },
     "metadata": {},
     "output_type": "display_data"
    }
   ],
   "source": [
    "fig = plt.figure(figsize=(12,5))\n",
    "ax=fig.add_subplot(1,3,1)\n",
    "a=b_a(IMDB['f_e'].values,IMDB['f_e1'].values)\n",
    "sns.barplot(x='gender',y='verbs_c',data = a)\n",
    "ax.set_xlabel('Adj',fontsize=15)\n",
    "ax.set_ylabel('Emotion',fontsize=15)\n",
    "plt.title('Movie (short)',fontsize=20)\n",
    "plt.show()"
   ]
  },
  {
   "cell_type": "code",
   "execution_count": null,
   "metadata": {
    "collapsed": true
   },
   "outputs": [],
   "source": []
  },
  {
   "cell_type": "code",
   "execution_count": null,
   "metadata": {
    "collapsed": true
   },
   "outputs": [],
   "source": []
  },
  {
   "cell_type": "code",
   "execution_count": null,
   "metadata": {
    "collapsed": true
   },
   "outputs": [],
   "source": []
  },
  {
   "cell_type": "code",
   "execution_count": null,
   "metadata": {
    "collapsed": true
   },
   "outputs": [],
   "source": []
  },
  {
   "cell_type": "markdown",
   "metadata": {},
   "source": [
    "### all the neighbours"
   ]
  },
  {
   "cell_type": "code",
   "execution_count": 41,
   "metadata": {
    "ExecuteTime": {
     "end_time": "2019-06-10T11:28:35.334961Z",
     "start_time": "2019-06-10T11:28:34.584627Z"
    }
   },
   "outputs": [],
   "source": [
    "IMDB=pd.read_csv('./IMDB/IMDB_e2.csv')"
   ]
  },
  {
   "cell_type": "code",
   "execution_count": 42,
   "metadata": {
    "ExecuteTime": {
     "end_time": "2019-06-10T11:28:35.505592Z",
     "start_time": "2019-06-10T11:28:35.500570Z"
    }
   },
   "outputs": [],
   "source": [
    "def eval_(x):\n",
    "    try:\n",
    "        return eval(x)\n",
    "    except:\n",
    "        return np.nan\n",
    "        pass"
   ]
  },
  {
   "cell_type": "code",
   "execution_count": 43,
   "metadata": {
    "ExecuteTime": {
     "end_time": "2019-06-10T11:28:42.206518Z",
     "start_time": "2019-06-10T11:28:36.379951Z"
    }
   },
   "outputs": [],
   "source": [
    "IMDB['female_all']=IMDB['female_all'].apply(lambda x: eval_(x))\n",
    "IMDB['male_all']=IMDB['male_all'].apply(lambda x: eval_(x))"
   ]
  },
  {
   "cell_type": "code",
   "execution_count": 44,
   "metadata": {
    "ExecuteTime": {
     "end_time": "2019-06-10T11:28:42.213651Z",
     "start_time": "2019-06-10T11:28:42.208524Z"
    }
   },
   "outputs": [],
   "source": [
    "def extend(x):\n",
    "    c=[]\n",
    "    for i in IMDB[x].values:\n",
    "        a=[]\n",
    "        [a.extend(j) for j in i]\n",
    "        c.extend(a)\n",
    "    return c"
   ]
  },
  {
   "cell_type": "code",
   "execution_count": 45,
   "metadata": {
    "ExecuteTime": {
     "end_time": "2019-06-10T11:28:42.412828Z",
     "start_time": "2019-06-10T11:28:42.216076Z"
    }
   },
   "outputs": [],
   "source": [
    "female_all=extend('female_all')\n",
    "male_all=extend('male_all')"
   ]
  },
  {
   "cell_type": "code",
   "execution_count": 32,
   "metadata": {
    "ExecuteTime": {
     "end_time": "2019-06-10T11:27:51.052387Z",
     "start_time": "2019-06-10T11:27:51.050355Z"
    }
   },
   "outputs": [],
   "source": [
    "# all_=female_all+male_all"
   ]
  },
  {
   "cell_type": "code",
   "execution_count": 49,
   "metadata": {
    "ExecuteTime": {
     "end_time": "2019-06-10T11:29:11.693392Z",
     "start_time": "2019-06-10T11:29:08.659479Z"
    }
   },
   "outputs": [],
   "source": [
    "edge=[]\n",
    "# for i in female_all:\n",
    "for i in male_all:\n",
    "    a=[sorted(i) for i in list(combinations(i,2))]\n",
    "    b=[]\n",
    "    for j in a:\n",
    "        if (j[0] in ediction) & (j[1] in ediction):\n",
    "            if ((ediction[j[0]]>3) | (ediction[j[0]]<-3))& ((ediction[j[1]]>3) | (ediction[j[1]]<-3)):\n",
    "                b.append(j)\n",
    "    edge.extend(b)"
   ]
  },
  {
   "cell_type": "code",
   "execution_count": 50,
   "metadata": {
    "ExecuteTime": {
     "end_time": "2019-06-10T11:29:12.499962Z",
     "start_time": "2019-06-10T11:29:12.296402Z"
    }
   },
   "outputs": [],
   "source": [
    "d=pd.DataFrame()\n",
    "d['a']=[i[0] for i in edge]\n",
    "d['b']=[i[1] for i in edge]"
   ]
  },
  {
   "cell_type": "code",
   "execution_count": 51,
   "metadata": {
    "ExecuteTime": {
     "end_time": "2019-06-10T11:29:18.444535Z",
     "start_time": "2019-06-10T11:29:17.840024Z"
    }
   },
   "outputs": [],
   "source": [
    "# d.to_csv('edge_f.csv',index=False)\n",
    "d.to_csv('edge_m.csv',index=False)"
   ]
  },
  {
   "cell_type": "code",
   "execution_count": 26,
   "metadata": {
    "ExecuteTime": {
     "end_time": "2019-06-10T11:04:43.910783Z",
     "start_time": "2019-06-10T11:04:43.907229Z"
    }
   },
   "outputs": [
    {
     "data": {
      "text/plain": [
       "330948"
      ]
     },
     "execution_count": 26,
     "metadata": {},
     "output_type": "execute_result"
    }
   ],
   "source": [
    "len(d)"
   ]
  },
  {
   "cell_type": "code",
   "execution_count": 13,
   "metadata": {
    "ExecuteTime": {
     "end_time": "2019-06-11T06:55:03.250690Z",
     "start_time": "2019-06-11T06:55:03.229085Z"
    }
   },
   "outputs": [],
   "source": [
    "node=pd.read_csv('/Users/xuhuimin/Desktop/node_f.csv')"
   ]
  },
  {
   "cell_type": "code",
   "execution_count": 14,
   "metadata": {
    "ExecuteTime": {
     "end_time": "2019-06-11T06:55:08.446946Z",
     "start_time": "2019-06-11T06:55:04.725086Z"
    }
   },
   "outputs": [],
   "source": [
    "node['Phylum']=node['Id'].apply(lambda x: nltk.pos_tag([x])[0][1] if len(nltk.pos_tag([x])[0])==2 else 'Other')"
   ]
  },
  {
   "cell_type": "code",
   "execution_count": 15,
   "metadata": {
    "ExecuteTime": {
     "end_time": "2019-06-11T06:55:20.098680Z",
     "start_time": "2019-06-11T06:55:20.042463Z"
    }
   },
   "outputs": [],
   "source": [
    "node.to_csv('/Users/xuhuimin/Desktop/node_f.csv',index=False)"
   ]
  },
  {
   "cell_type": "code",
   "execution_count": null,
   "metadata": {
    "collapsed": true
   },
   "outputs": [],
   "source": []
  }
 ],
 "metadata": {
  "kernelspec": {
   "display_name": "Python 3",
   "language": "python",
   "name": "python3"
  },
  "language_info": {
   "codemirror_mode": {
    "name": "ipython",
    "version": 3
   },
   "file_extension": ".py",
   "mimetype": "text/x-python",
   "name": "python",
   "nbconvert_exporter": "python",
   "pygments_lexer": "ipython3",
   "version": "3.6.2"
  },
  "toc": {
   "nav_menu": {},
   "number_sections": true,
   "sideBar": true,
   "skip_h1_title": false,
   "title_cell": "Table of Contents",
   "title_sidebar": "Contents",
   "toc_cell": false,
   "toc_position": {},
   "toc_section_display": true,
   "toc_window_display": false
  }
 },
 "nbformat": 4,
 "nbformat_minor": 2
}
