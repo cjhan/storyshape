{
 "cells": [
  {
   "cell_type": "code",
   "execution_count": 2,
   "metadata": {
    "ExecuteTime": {
     "end_time": "2018-09-07T05:06:10.787122Z",
     "start_time": "2018-09-07T05:06:09.022979Z"
    },
    "scrolled": true
   },
   "outputs": [
    {
     "name": "stderr",
     "output_type": "stream",
     "text": [
      "/Users/xuhuimin/anaconda3/lib/python3.6/importlib/_bootstrap.py:205: RuntimeWarning: numpy.dtype size changed, may indicate binary incompatibility. Expected 96, got 88\n",
      "  return f(*args, **kwds)\n",
      "/Users/xuhuimin/anaconda3/lib/python3.6/importlib/_bootstrap.py:205: RuntimeWarning: numpy.dtype size changed, may indicate binary incompatibility. Expected 96, got 88\n",
      "  return f(*args, **kwds)\n",
      "/Users/xuhuimin/anaconda3/lib/python3.6/importlib/_bootstrap.py:205: RuntimeWarning: numpy.dtype size changed, may indicate binary incompatibility. Expected 96, got 88\n",
      "  return f(*args, **kwds)\n",
      "/Users/xuhuimin/anaconda3/lib/python3.6/importlib/_bootstrap.py:205: RuntimeWarning: numpy.dtype size changed, may indicate binary incompatibility. Expected 96, got 88\n",
      "  return f(*args, **kwds)\n",
      "/Users/xuhuimin/anaconda3/lib/python3.6/importlib/_bootstrap.py:205: RuntimeWarning: numpy.dtype size changed, may indicate binary incompatibility. Expected 96, got 88\n",
      "  return f(*args, **kwds)\n",
      "/Users/xuhuimin/anaconda3/lib/python3.6/importlib/_bootstrap.py:205: RuntimeWarning: numpy.dtype size changed, may indicate binary incompatibility. Expected 96, got 88\n",
      "  return f(*args, **kwds)\n"
     ]
    }
   ],
   "source": [
    "import os\n",
    "import csv\n",
    "import numpy as np\n",
    "from glob import glob\n",
    "import pandas as pd\n",
    "from tqdm import tqdm\n",
    "import json\n",
    "from sklearn.utils import shuffle\n",
    "from sklearn.model_selection import train_test_split\n",
    "import argparse\n",
    "import os\n",
    "import random\n",
    "\n",
    "import numpy as np\n",
    "import torch\n",
    "import torch.nn as nn\n",
    "from sklearn.metrics import accuracy_score\n",
    "from sklearn.utils import shuffle\n"
   ]
  },
  {
   "cell_type": "markdown",
   "metadata": {
    "heading_collapsed": true
   },
   "source": [
    "### datasets"
   ]
  },
  {
   "cell_type": "code",
   "execution_count": 2,
   "metadata": {
    "ExecuteTime": {
     "end_time": "2018-09-02T06:38:38.388716Z",
     "start_time": "2018-09-02T06:38:38.379019Z"
    },
    "hidden": true
   },
   "outputs": [],
   "source": [
    "seed = 3535999445\n",
    "\n",
    "def _rocstories(path):\n",
    "    with open(path, encoding='utf_8') as f:\n",
    "        f = csv.reader(f)\n",
    "        st = []\n",
    "        y = []\n",
    "        for i, line in enumerate(tqdm(list(f), ncols=80, leave=False)):\n",
    "            if i > 0:\n",
    "                s = ' '.join(line[1:5])\n",
    "                st.append(s)\n",
    "                y.append(line[4+int(line[-1])])\n",
    "        return st, y"
   ]
  },
  {
   "cell_type": "code",
   "execution_count": 3,
   "metadata": {
    "ExecuteTime": {
     "end_time": "2018-09-02T06:38:40.784563Z",
     "start_time": "2018-09-02T06:38:40.766373Z"
    },
    "hidden": true
   },
   "outputs": [],
   "source": [
    "def rocstories(data_dir, n_train=1497, n_valid=374):\n",
    "    storys, ys = _rocstories(os.path.join(data_dir, 'cloze_test_val__spring2016 - cloze_test_ALL_val.csv'))\n",
    "    teX1,  _ = _rocstories(os.path.join(data_dir, 'cloze_test_test__spring2016 - cloze_test_ALL_test.csv'))\n",
    "    tr_storys, va_storys, tr_ys, va_ys = train_test_split(storys, ys, test_size=n_valid, random_state=seed)\n",
    "    trX1 = []\n",
    "    trY = []\n",
    "    for s, y in zip(tr_storys, tr_ys):\n",
    "        trX1.append(s)\n",
    "        trY.append(y)\n",
    "\n",
    "    vaX1 = []\n",
    "    vaY = []\n",
    "    for s, y in zip(va_storys, va_ys):\n",
    "        vaX1.append(s)\n",
    "        vaY.append(y)\n",
    "    trY = np.asarray(trY)\n",
    "    vaY = np.asarray(vaY)\n",
    "    return (trX1, trY), (vaX1, vaY), (teX1)"
   ]
  },
  {
   "cell_type": "code",
   "execution_count": 4,
   "metadata": {
    "ExecuteTime": {
     "end_time": "2018-09-02T06:38:42.579608Z",
     "start_time": "2018-09-02T06:38:42.399735Z"
    },
    "hidden": true
   },
   "outputs": [
    {
     "ename": "FileNotFoundError",
     "evalue": "[Errno 2] No such file or directory: './ROCStory/cloze_test_val__spring2016 - cloze_test_ALL_val.csv'",
     "output_type": "error",
     "traceback": [
      "\u001b[0;31m---------------------------------------------------------------------------\u001b[0m",
      "\u001b[0;31mFileNotFoundError\u001b[0m                         Traceback (most recent call last)",
      "\u001b[0;32m<ipython-input-4-8d162f1d3010>\u001b[0m in \u001b[0;36m<module>\u001b[0;34m()\u001b[0m\n\u001b[0;32m----> 1\u001b[0;31m \u001b[0;34m(\u001b[0m\u001b[0mtrX1\u001b[0m\u001b[0;34m,\u001b[0m \u001b[0mtrY\u001b[0m\u001b[0;34m)\u001b[0m\u001b[0;34m,\u001b[0m \u001b[0;34m(\u001b[0m\u001b[0mvaX1\u001b[0m\u001b[0;34m,\u001b[0m \u001b[0mvaY\u001b[0m\u001b[0;34m)\u001b[0m\u001b[0;34m,\u001b[0m \u001b[0;34m(\u001b[0m\u001b[0mteX1\u001b[0m\u001b[0;34m)\u001b[0m\u001b[0;34m=\u001b[0m\u001b[0mrocstories\u001b[0m\u001b[0;34m(\u001b[0m\u001b[0;34m'./ROCStory/'\u001b[0m\u001b[0;34m,\u001b[0m \u001b[0mn_train\u001b[0m\u001b[0;34m=\u001b[0m\u001b[0;36m1497\u001b[0m\u001b[0;34m,\u001b[0m \u001b[0mn_valid\u001b[0m\u001b[0;34m=\u001b[0m\u001b[0;36m374\u001b[0m\u001b[0;34m)\u001b[0m\u001b[0;34m\u001b[0m\u001b[0m\n\u001b[0m",
      "\u001b[0;32m<ipython-input-3-52c7bd6d8a08>\u001b[0m in \u001b[0;36mrocstories\u001b[0;34m(data_dir, n_train, n_valid)\u001b[0m\n\u001b[1;32m      1\u001b[0m \u001b[0;32mdef\u001b[0m \u001b[0mrocstories\u001b[0m\u001b[0;34m(\u001b[0m\u001b[0mdata_dir\u001b[0m\u001b[0;34m,\u001b[0m \u001b[0mn_train\u001b[0m\u001b[0;34m=\u001b[0m\u001b[0;36m1497\u001b[0m\u001b[0;34m,\u001b[0m \u001b[0mn_valid\u001b[0m\u001b[0;34m=\u001b[0m\u001b[0;36m374\u001b[0m\u001b[0;34m)\u001b[0m\u001b[0;34m:\u001b[0m\u001b[0;34m\u001b[0m\u001b[0m\n\u001b[0;32m----> 2\u001b[0;31m     \u001b[0mstorys\u001b[0m\u001b[0;34m,\u001b[0m \u001b[0mys\u001b[0m \u001b[0;34m=\u001b[0m \u001b[0m_rocstories\u001b[0m\u001b[0;34m(\u001b[0m\u001b[0mos\u001b[0m\u001b[0;34m.\u001b[0m\u001b[0mpath\u001b[0m\u001b[0;34m.\u001b[0m\u001b[0mjoin\u001b[0m\u001b[0;34m(\u001b[0m\u001b[0mdata_dir\u001b[0m\u001b[0;34m,\u001b[0m \u001b[0;34m'cloze_test_val__spring2016 - cloze_test_ALL_val.csv'\u001b[0m\u001b[0;34m)\u001b[0m\u001b[0;34m)\u001b[0m\u001b[0;34m\u001b[0m\u001b[0m\n\u001b[0m\u001b[1;32m      3\u001b[0m     \u001b[0mteX1\u001b[0m\u001b[0;34m,\u001b[0m  \u001b[0m_\u001b[0m \u001b[0;34m=\u001b[0m \u001b[0m_rocstories\u001b[0m\u001b[0;34m(\u001b[0m\u001b[0mos\u001b[0m\u001b[0;34m.\u001b[0m\u001b[0mpath\u001b[0m\u001b[0;34m.\u001b[0m\u001b[0mjoin\u001b[0m\u001b[0;34m(\u001b[0m\u001b[0mdata_dir\u001b[0m\u001b[0;34m,\u001b[0m \u001b[0;34m'cloze_test_test__spring2016 - cloze_test_ALL_test.csv'\u001b[0m\u001b[0;34m)\u001b[0m\u001b[0;34m)\u001b[0m\u001b[0;34m\u001b[0m\u001b[0m\n\u001b[1;32m      4\u001b[0m     \u001b[0mtr_storys\u001b[0m\u001b[0;34m,\u001b[0m \u001b[0mva_storys\u001b[0m\u001b[0;34m,\u001b[0m \u001b[0mtr_ys\u001b[0m\u001b[0;34m,\u001b[0m \u001b[0mva_ys\u001b[0m \u001b[0;34m=\u001b[0m \u001b[0mtrain_test_split\u001b[0m\u001b[0;34m(\u001b[0m\u001b[0mstorys\u001b[0m\u001b[0;34m,\u001b[0m \u001b[0mys\u001b[0m\u001b[0;34m,\u001b[0m \u001b[0mtest_size\u001b[0m\u001b[0;34m=\u001b[0m\u001b[0mn_valid\u001b[0m\u001b[0;34m,\u001b[0m \u001b[0mrandom_state\u001b[0m\u001b[0;34m=\u001b[0m\u001b[0mseed\u001b[0m\u001b[0;34m)\u001b[0m\u001b[0;34m\u001b[0m\u001b[0m\n\u001b[1;32m      5\u001b[0m     \u001b[0mtrX1\u001b[0m \u001b[0;34m=\u001b[0m \u001b[0;34m[\u001b[0m\u001b[0;34m]\u001b[0m\u001b[0;34m\u001b[0m\u001b[0m\n",
      "\u001b[0;32m<ipython-input-2-b8c698b183aa>\u001b[0m in \u001b[0;36m_rocstories\u001b[0;34m(path)\u001b[0m\n\u001b[1;32m      2\u001b[0m \u001b[0;34m\u001b[0m\u001b[0m\n\u001b[1;32m      3\u001b[0m \u001b[0;32mdef\u001b[0m \u001b[0m_rocstories\u001b[0m\u001b[0;34m(\u001b[0m\u001b[0mpath\u001b[0m\u001b[0;34m)\u001b[0m\u001b[0;34m:\u001b[0m\u001b[0;34m\u001b[0m\u001b[0m\n\u001b[0;32m----> 4\u001b[0;31m     \u001b[0;32mwith\u001b[0m \u001b[0mopen\u001b[0m\u001b[0;34m(\u001b[0m\u001b[0mpath\u001b[0m\u001b[0;34m,\u001b[0m \u001b[0mencoding\u001b[0m\u001b[0;34m=\u001b[0m\u001b[0;34m'utf_8'\u001b[0m\u001b[0;34m)\u001b[0m \u001b[0;32mas\u001b[0m \u001b[0mf\u001b[0m\u001b[0;34m:\u001b[0m\u001b[0;34m\u001b[0m\u001b[0m\n\u001b[0m\u001b[1;32m      5\u001b[0m         \u001b[0mf\u001b[0m \u001b[0;34m=\u001b[0m \u001b[0mcsv\u001b[0m\u001b[0;34m.\u001b[0m\u001b[0mreader\u001b[0m\u001b[0;34m(\u001b[0m\u001b[0mf\u001b[0m\u001b[0;34m)\u001b[0m\u001b[0;34m\u001b[0m\u001b[0m\n\u001b[1;32m      6\u001b[0m         \u001b[0mst\u001b[0m \u001b[0;34m=\u001b[0m \u001b[0;34m[\u001b[0m\u001b[0;34m]\u001b[0m\u001b[0;34m\u001b[0m\u001b[0m\n",
      "\u001b[0;31mFileNotFoundError\u001b[0m: [Errno 2] No such file or directory: './ROCStory/cloze_test_val__spring2016 - cloze_test_ALL_val.csv'"
     ]
    }
   ],
   "source": [
    "(trX1, trY), (vaX1, vaY), (teX1)=rocstories('./ROCStory/', n_train=1497, n_valid=374)"
   ]
  },
  {
   "cell_type": "code",
   "execution_count": null,
   "metadata": {
    "hidden": true
   },
   "outputs": [],
   "source": []
  },
  {
   "cell_type": "code",
   "execution_count": 5,
   "metadata": {
    "ExecuteTime": {
     "end_time": "2018-08-20T10:26:17.480029Z",
     "start_time": "2018-08-20T10:26:17.464469Z"
    },
    "hidden": true
   },
   "outputs": [],
   "source": [
    "seed = 3535999445\n",
    "\n",
    "def _rocstories(path):\n",
    "    with open(path, encoding='utf_8') as f:\n",
    "        f = csv.reader(f)\n",
    "        st = []\n",
    "        ct1 = []\n",
    "        ct2 = []\n",
    "        y = []\n",
    "        for i, line in enumerate(tqdm(list(f), ncols=80, leave=False)):\n",
    "            if i > 0:\n",
    "                s = ' '.join(line[1:5])\n",
    "                c1 = line[5]\n",
    "                c2 = line[6]\n",
    "                st.append(s)\n",
    "                ct1.append(c1)\n",
    "                ct2.append(c2)\n",
    "                y.append(int(line[-1])-1)\n",
    "        return st, ct1, ct2, y\n"
   ]
  },
  {
   "cell_type": "code",
   "execution_count": 6,
   "metadata": {
    "ExecuteTime": {
     "end_time": "2018-08-20T10:26:18.346389Z",
     "start_time": "2018-08-20T10:26:18.315506Z"
    },
    "code_folding": [],
    "hidden": true
   },
   "outputs": [],
   "source": [
    "def rocstories(data_dir, n_train=1497, n_valid=374):\n",
    "    storys, comps1, comps2, ys = _rocstories(os.path.join(data_dir, 'cloze_test_val__spring2016 - cloze_test_ALL_val.csv'))\n",
    "    teX1, teX2, teX3, _ = _rocstories(os.path.join(data_dir, 'cloze_test_test__spring2016 - cloze_test_ALL_test.csv'))\n",
    "    tr_storys, va_storys, tr_comps1, va_comps1, tr_comps2, va_comps2, tr_ys, va_ys = train_test_split(storys, comps1, comps2, ys, test_size=n_valid, random_state=seed)\n",
    "    trX1, trX2, trX3 = [], [], []\n",
    "    trY = []\n",
    "    for s, c1, c2, y in zip(tr_storys, tr_comps1, tr_comps2, tr_ys):\n",
    "        trX1.append(s)\n",
    "        trX2.append(c1)\n",
    "        trX3.append(c2)\n",
    "        trY.append(y)\n",
    "\n",
    "    vaX1, vaX2, vaX3 = [], [], []\n",
    "    vaY = []\n",
    "    for s, c1, c2, y in zip(va_storys, va_comps1, va_comps2, va_ys):\n",
    "        vaX1.append(s)\n",
    "        vaX2.append(c1)\n",
    "        vaX3.append(c2)\n",
    "        vaY.append(y)\n",
    "    trY = np.asarray(trY, dtype=np.int32)\n",
    "    vaY = np.asarray(vaY, dtype=np.int32)\n",
    "    return (trX1, trX2, trX3, trY), (vaX1, vaX2, vaX3, vaY), (teX1, teX2, teX3)"
   ]
  },
  {
   "cell_type": "code",
   "execution_count": null,
   "metadata": {
    "hidden": true
   },
   "outputs": [],
   "source": []
  },
  {
   "cell_type": "code",
   "execution_count": null,
   "metadata": {
    "hidden": true
   },
   "outputs": [],
   "source": []
  },
  {
   "cell_type": "code",
   "execution_count": null,
   "metadata": {
    "hidden": true
   },
   "outputs": [],
   "source": []
  },
  {
   "cell_type": "code",
   "execution_count": 49,
   "metadata": {
    "ExecuteTime": {
     "end_time": "2018-08-20T10:36:46.369269Z",
     "start_time": "2018-08-20T10:36:46.335314Z"
    },
    "hidden": true
   },
   "outputs": [],
   "source": [
    "def children_book(data_dir):\n",
    "    with open(data_dir) as f:\n",
    "        data=f.readlines()\n",
    "\n",
    "    data=[data[22*i:22*(i+1)] for i in range(int(len(data)/22))]\n",
    "\n",
    "    X,Y=[],[]\n",
    "    for d in range(len(data)):\n",
    "        x=[]\n",
    "        for i in data[d][:20]:\n",
    "            x.append(' '.join(i.split(' ')[1:]).split('\\n')[0])\n",
    "        X.append(x)\n",
    "        y=' '.join(data[d][20].split(' ')[1:])\n",
    "        y=y.replace('XXXXX',y.split('\\t')[1]).split('\\t')[0]\n",
    "        Y.append(y)\n",
    "    return X,Y"
   ]
  },
  {
   "cell_type": "code",
   "execution_count": 50,
   "metadata": {
    "ExecuteTime": {
     "end_time": "2018-08-20T10:36:47.441756Z",
     "start_time": "2018-08-20T10:36:47.254222Z"
    },
    "hidden": true
   },
   "outputs": [],
   "source": [
    "teX1,teY1=children_book('./CBTest/data/cbtest_CN_test_2500ex.txt')"
   ]
  },
  {
   "cell_type": "code",
   "execution_count": 51,
   "metadata": {
    "ExecuteTime": {
     "end_time": "2018-08-20T10:36:48.076004Z",
     "start_time": "2018-08-20T10:36:47.919869Z"
    },
    "hidden": true
   },
   "outputs": [],
   "source": [
    "teX2,teY2=children_book('./CBTest/data/cbtest_NE_test_2500ex.txt')"
   ]
  },
  {
   "cell_type": "code",
   "execution_count": 52,
   "metadata": {
    "ExecuteTime": {
     "end_time": "2018-08-20T10:36:48.676165Z",
     "start_time": "2018-08-20T10:36:48.672563Z"
    },
    "hidden": true
   },
   "outputs": [],
   "source": [
    "teX=teX1+teX2\n",
    "teY=teY1+teY2"
   ]
  },
  {
   "cell_type": "code",
   "execution_count": 53,
   "metadata": {
    "ExecuteTime": {
     "end_time": "2018-08-20T10:36:49.746144Z",
     "start_time": "2018-08-20T10:36:49.726907Z"
    },
    "hidden": true
   },
   "outputs": [],
   "source": [
    "df=pd.DataFrame()\n",
    "df['InputStoryid']=0\n",
    "df['InputSentence1']=teX\n",
    "df['InputSentence2']=0\n",
    "df['InputSentence3']=0\n",
    "df['InputSentence4']=0\n",
    "df['RandomFifthSentenceQuiz1']=teY\n",
    "df['RandomFifthSentenceQuiz2']=0\n",
    "df['AnswerRightEnding']=0"
   ]
  },
  {
   "cell_type": "code",
   "execution_count": 68,
   "metadata": {
    "ExecuteTime": {
     "end_time": "2018-08-20T10:47:04.489288Z",
     "start_time": "2018-08-20T10:47:04.471202Z"
    },
    "hidden": true,
    "scrolled": true
   },
   "outputs": [],
   "source": [
    "df['InputSentence1']=df['InputSentence1'].apply(lambda x: \"\".join(x))"
   ]
  },
  {
   "cell_type": "code",
   "execution_count": 69,
   "metadata": {
    "ExecuteTime": {
     "end_time": "2018-08-20T10:47:08.396788Z",
     "start_time": "2018-08-20T10:47:08.392275Z"
    },
    "hidden": true,
    "scrolled": true
   },
   "outputs": [
    {
     "data": {
      "text/plain": [
       "5000"
      ]
     },
     "execution_count": 69,
     "metadata": {},
     "output_type": "execute_result"
    }
   ],
   "source": [
    "len(df)"
   ]
  },
  {
   "cell_type": "code",
   "execution_count": 75,
   "metadata": {
    "ExecuteTime": {
     "end_time": "2018-08-20T10:47:48.807410Z",
     "start_time": "2018-08-20T10:47:48.568663Z"
    },
    "hidden": true,
    "scrolled": true
   },
   "outputs": [],
   "source": [
    "df.to_csv('./CBTest/CBTest_5000.csv',index=False)"
   ]
  },
  {
   "cell_type": "code",
   "execution_count": null,
   "metadata": {
    "hidden": true
   },
   "outputs": [],
   "source": []
  },
  {
   "cell_type": "code",
   "execution_count": 76,
   "metadata": {
    "ExecuteTime": {
     "end_time": "2018-08-20T10:48:06.794815Z",
     "start_time": "2018-08-20T10:47:51.821621Z"
    },
    "hidden": true
   },
   "outputs": [],
   "source": [
    "trX1,trY1=children_book('./CBTest/data/cbtest_CN_train.txt')\n",
    "trX2,trY2=children_book('./CBTest/data/cbtest_NE_train.txt')"
   ]
  },
  {
   "cell_type": "code",
   "execution_count": 77,
   "metadata": {
    "ExecuteTime": {
     "end_time": "2018-08-20T10:48:09.001467Z",
     "start_time": "2018-08-20T10:48:08.759498Z"
    },
    "hidden": true
   },
   "outputs": [],
   "source": [
    "vaX1,vaY1=children_book('./CBTest/data/cbtest_CN_valid_2000ex.txt')\n",
    "vaX2,vaY2=children_book('./CBTest/data/cbtest_NE_valid_2000ex.txt')"
   ]
  },
  {
   "cell_type": "code",
   "execution_count": 78,
   "metadata": {
    "ExecuteTime": {
     "end_time": "2018-08-20T10:48:11.041690Z",
     "start_time": "2018-08-20T10:48:10.679198Z"
    },
    "hidden": true
   },
   "outputs": [],
   "source": [
    "X=trX1+trX2+vaX1+vaX2\n",
    "Y=trY1+trY2+vaY1+vaY2"
   ]
  },
  {
   "cell_type": "code",
   "execution_count": 79,
   "metadata": {
    "ExecuteTime": {
     "end_time": "2018-08-20T10:48:11.730559Z",
     "start_time": "2018-08-20T10:48:11.659723Z"
    },
    "hidden": true
   },
   "outputs": [],
   "source": [
    "df=pd.DataFrame()\n",
    "df['InputStoryid']=0\n",
    "df['InputSentence1']=X\n",
    "df['InputSentence2']=0\n",
    "df['InputSentence3']=0\n",
    "df['InputSentence4']=0\n",
    "df['RandomFifthSentenceQuiz1']=Y\n",
    "df['RandomFifthSentenceQuiz2']=0\n",
    "df['AnswerRightEnding']=0"
   ]
  },
  {
   "cell_type": "code",
   "execution_count": 80,
   "metadata": {
    "ExecuteTime": {
     "end_time": "2018-08-20T10:48:14.370598Z",
     "start_time": "2018-08-20T10:48:13.818494Z"
    },
    "hidden": true
   },
   "outputs": [],
   "source": [
    "df['InputSentence1']=df['InputSentence1'].apply(lambda x: \"\".join(x))"
   ]
  },
  {
   "cell_type": "code",
   "execution_count": 81,
   "metadata": {
    "ExecuteTime": {
     "end_time": "2018-08-20T10:48:25.530575Z",
     "start_time": "2018-08-20T10:48:15.389704Z"
    },
    "hidden": true
   },
   "outputs": [],
   "source": [
    "df.to_csv('./CBTest/CBTest_233488.csv',index=False)"
   ]
  },
  {
   "cell_type": "code",
   "execution_count": null,
   "metadata": {
    "hidden": true
   },
   "outputs": [],
   "source": []
  },
  {
   "cell_type": "code",
   "execution_count": 361,
   "metadata": {
    "ExecuteTime": {
     "end_time": "2018-08-17T06:31:58.483728Z",
     "start_time": "2018-08-17T06:31:58.293053Z"
    },
    "hidden": true
   },
   "outputs": [],
   "source": [
    "df['InputSentence1']=df['InputSentence1'].apply(lambda x: x[0])"
   ]
  },
  {
   "cell_type": "code",
   "execution_count": null,
   "metadata": {
    "hidden": true
   },
   "outputs": [],
   "source": []
  },
  {
   "cell_type": "code",
   "execution_count": 364,
   "metadata": {
    "ExecuteTime": {
     "end_time": "2018-08-17T06:36:32.934761Z",
     "start_time": "2018-08-17T06:36:32.927071Z"
    },
    "hidden": true
   },
   "outputs": [],
   "source": []
  },
  {
   "cell_type": "code",
   "execution_count": 444,
   "metadata": {
    "ExecuteTime": {
     "end_time": "2018-08-17T07:40:45.270712Z",
     "start_time": "2018-08-17T07:40:45.241130Z"
    },
    "hidden": true
   },
   "outputs": [],
   "source": [
    "def race(data_dir):\n",
    "    ide=[]\n",
    "    article=[]\n",
    "    questions=[]\n",
    "    answers=[]\n",
    "    files=glob(data_dir)\n",
    "    for file in files:      \n",
    "        with open(file) as f:\n",
    "            data=f.read()\n",
    "\n",
    "        data = json.loads(data)\n",
    "        a=data[\"answers\"]\n",
    "        b=data['options']\n",
    "        c=data['questions']\n",
    "        d=data['article']\n",
    "        e=data['id']\n",
    "        diction={'A':0,'B':1,'C':2,'D':3,'E':4,'F':5}\n",
    "        a=[diction[x] if x in diction else x for x in a]\n",
    "\n",
    "        answer=[]\n",
    "        for i in range(len(a)):\n",
    "            answer.append(b[i][a[i]])\n",
    "        ide.append(e)\n",
    "        article.append(d)\n",
    "        questions.append(c)\n",
    "        answers.append(answer)\n",
    "        \n",
    "    return ide,article,questions,answers"
   ]
  },
  {
   "cell_type": "code",
   "execution_count": 445,
   "metadata": {
    "ExecuteTime": {
     "end_time": "2018-08-17T07:40:47.142167Z",
     "start_time": "2018-08-17T07:40:46.870661Z"
    },
    "hidden": true
   },
   "outputs": [],
   "source": [
    "teX1,teX2,teX3,teY1=race('./RACE/test/high/*.txt')\n",
    "tex1,tex2,tex3,tey1=race('./RACE/test/middle/*.txt')"
   ]
  },
  {
   "cell_type": "code",
   "execution_count": 446,
   "metadata": {
    "ExecuteTime": {
     "end_time": "2018-08-17T07:40:54.720899Z",
     "start_time": "2018-08-17T07:40:54.717003Z"
    },
    "hidden": true
   },
   "outputs": [],
   "source": [
    "X1=teX1+tex1\n",
    "X2=teX2+tex2\n",
    "X3=teX3+tex3\n",
    "Y1=teY1+tey1"
   ]
  },
  {
   "cell_type": "code",
   "execution_count": 447,
   "metadata": {
    "ExecuteTime": {
     "end_time": "2018-08-17T07:41:01.950997Z",
     "start_time": "2018-08-17T07:41:01.940225Z"
    },
    "hidden": true
   },
   "outputs": [],
   "source": [
    "df=pd.DataFrame()\n",
    "df['InputStoryid']=X1\n",
    "df['InputSentence1']=X2\n",
    "df['InputSentence2']=X3\n",
    "df['InputSentence3']=0\n",
    "df['InputSentence4']=0\n",
    "df['RandomFifthSentenceQuiz1']=Y1\n",
    "df['RandomFifthSentenceQuiz2']=0\n",
    "df['AnswerRightEnding']=0"
   ]
  },
  {
   "cell_type": "code",
   "execution_count": 452,
   "metadata": {
    "ExecuteTime": {
     "end_time": "2018-08-17T07:42:22.755894Z",
     "start_time": "2018-08-17T07:42:22.681593Z"
    },
    "hidden": true,
    "scrolled": true
   },
   "outputs": [],
   "source": [
    "df.to_csv('./RACE/RACE_1047.csv',index=False)"
   ]
  },
  {
   "cell_type": "code",
   "execution_count": 458,
   "metadata": {
    "ExecuteTime": {
     "end_time": "2018-08-17T07:45:21.754848Z",
     "start_time": "2018-08-17T07:45:11.429522Z"
    },
    "hidden": true
   },
   "outputs": [],
   "source": [
    "teX1,teX2,teX3,teY1=race('./RACE/dev/high/*.txt')\n",
    "tex1,tex2,tex3,tey1=race('./RACE/dev/middle/*.txt')\n",
    "teX10,teX20,teX30,teY10=race('./RACE/train/high/*.txt')\n",
    "tex10,tex20,tex30,tey10=race('./RACE/train/middle/*.txt')"
   ]
  },
  {
   "cell_type": "code",
   "execution_count": 459,
   "metadata": {
    "ExecuteTime": {
     "end_time": "2018-08-17T07:46:25.571084Z",
     "start_time": "2018-08-17T07:46:25.563342Z"
    },
    "hidden": true
   },
   "outputs": [],
   "source": [
    "X1=teX1+tex1+teX10+tex10\n",
    "X2=teX2+tex2+teX20+tex20\n",
    "X3=teX3+tex3+teX30+tex30\n",
    "Y1=teY1+tey1+teY10+tey10"
   ]
  },
  {
   "cell_type": "code",
   "execution_count": 460,
   "metadata": {
    "ExecuteTime": {
     "end_time": "2018-08-17T07:46:33.429212Z",
     "start_time": "2018-08-17T07:46:33.409841Z"
    },
    "hidden": true
   },
   "outputs": [],
   "source": [
    "df=pd.DataFrame()\n",
    "df['InputStoryid']=X1\n",
    "df['InputSentence1']=X2\n",
    "df['InputSentence2']=X3\n",
    "df['InputSentence3']=0\n",
    "df['InputSentence4']=0\n",
    "df['RandomFifthSentenceQuiz1']=Y1\n",
    "df['RandomFifthSentenceQuiz2']=0\n",
    "df['AnswerRightEnding']=0"
   ]
  },
  {
   "cell_type": "code",
   "execution_count": 461,
   "metadata": {
    "ExecuteTime": {
     "end_time": "2018-08-17T07:46:44.425236Z",
     "start_time": "2018-08-17T07:46:44.421111Z"
    },
    "hidden": true
   },
   "outputs": [
    {
     "data": {
      "text/plain": [
       "26526"
      ]
     },
     "execution_count": 461,
     "metadata": {},
     "output_type": "execute_result"
    }
   ],
   "source": [
    "len(df)"
   ]
  },
  {
   "cell_type": "code",
   "execution_count": 462,
   "metadata": {
    "ExecuteTime": {
     "end_time": "2018-08-17T07:46:53.099638Z",
     "start_time": "2018-08-17T07:46:51.920180Z"
    },
    "hidden": true
   },
   "outputs": [],
   "source": [
    "df.to_csv('./RACE/RACE_26526.csv',index=False)"
   ]
  },
  {
   "cell_type": "code",
   "execution_count": 463,
   "metadata": {
    "ExecuteTime": {
     "end_time": "2018-08-17T07:46:56.962964Z",
     "start_time": "2018-08-17T07:46:56.948883Z"
    },
    "hidden": true
   },
   "outputs": [
    {
     "data": {
      "text/html": [
       "<div>\n",
       "<style>\n",
       "    .dataframe thead tr:only-child th {\n",
       "        text-align: right;\n",
       "    }\n",
       "\n",
       "    .dataframe thead th {\n",
       "        text-align: left;\n",
       "    }\n",
       "\n",
       "    .dataframe tbody tr th {\n",
       "        vertical-align: top;\n",
       "    }\n",
       "</style>\n",
       "<table border=\"1\" class=\"dataframe\">\n",
       "  <thead>\n",
       "    <tr style=\"text-align: right;\">\n",
       "      <th></th>\n",
       "      <th>InputStoryid</th>\n",
       "      <th>InputSentence1</th>\n",
       "      <th>InputSentence2</th>\n",
       "      <th>InputSentence3</th>\n",
       "      <th>InputSentence4</th>\n",
       "      <th>RandomFifthSentenceQuiz1</th>\n",
       "      <th>RandomFifthSentenceQuiz2</th>\n",
       "      <th>AnswerRightEnding</th>\n",
       "    </tr>\n",
       "  </thead>\n",
       "  <tbody>\n",
       "    <tr>\n",
       "      <th>0</th>\n",
       "      <td>high1735.txt</td>\n",
       "      <td>It's cool, and it's hot, and everyone is doing...</td>\n",
       "      <td>[A blogger is a person   _  ., According to th...</td>\n",
       "      <td>0</td>\n",
       "      <td>0</td>\n",
       "      <td>[who writes diaries online, write down what th...</td>\n",
       "      <td>0</td>\n",
       "      <td>0</td>\n",
       "    </tr>\n",
       "    <tr>\n",
       "      <th>1</th>\n",
       "      <td>high12636.txt</td>\n",
       "      <td>A  At a recent visit to the beautiful Keukenho...</td>\n",
       "      <td>[By using metaphor , the author means that the...</td>\n",
       "      <td>0</td>\n",
       "      <td>0</td>\n",
       "      <td>[the first results we produce in a certain are...</td>\n",
       "      <td>0</td>\n",
       "      <td>0</td>\n",
       "    </tr>\n",
       "    <tr>\n",
       "      <th>2</th>\n",
       "      <td>high19763.txt</td>\n",
       "      <td>If you win the $1.5 billion Powerball jackpot ...</td>\n",
       "      <td>[What does Don McNay think of winning a lotter...</td>\n",
       "      <td>0</td>\n",
       "      <td>0</td>\n",
       "      <td>[It doesn't necessarily bring fortune., Suppor...</td>\n",
       "      <td>0</td>\n",
       "      <td>0</td>\n",
       "    </tr>\n",
       "    <tr>\n",
       "      <th>3</th>\n",
       "      <td>high1090.txt</td>\n",
       "      <td>Summer in Europe is very nice for us to visit ...</td>\n",
       "      <td>[Which of the following statements is NOT ment...</td>\n",
       "      <td>0</td>\n",
       "      <td>0</td>\n",
       "      <td>[Berlin has many parks and bridges., all the a...</td>\n",
       "      <td>0</td>\n",
       "      <td>0</td>\n",
       "    </tr>\n",
       "    <tr>\n",
       "      <th>4</th>\n",
       "      <td>high20135.txt</td>\n",
       "      <td>As teachers, most of us have been taught that ...</td>\n",
       "      <td>[According to what Guskey said, the culture of...</td>\n",
       "      <td>0</td>\n",
       "      <td>0</td>\n",
       "      <td>[students not take tests seriously at all, tes...</td>\n",
       "      <td>0</td>\n",
       "      <td>0</td>\n",
       "    </tr>\n",
       "  </tbody>\n",
       "</table>\n",
       "</div>"
      ],
      "text/plain": [
       "    InputStoryid                                     InputSentence1  \\\n",
       "0   high1735.txt  It's cool, and it's hot, and everyone is doing...   \n",
       "1  high12636.txt  A  At a recent visit to the beautiful Keukenho...   \n",
       "2  high19763.txt  If you win the $1.5 billion Powerball jackpot ...   \n",
       "3   high1090.txt  Summer in Europe is very nice for us to visit ...   \n",
       "4  high20135.txt  As teachers, most of us have been taught that ...   \n",
       "\n",
       "                                      InputSentence2  InputSentence3  \\\n",
       "0  [A blogger is a person   _  ., According to th...               0   \n",
       "1  [By using metaphor , the author means that the...               0   \n",
       "2  [What does Don McNay think of winning a lotter...               0   \n",
       "3  [Which of the following statements is NOT ment...               0   \n",
       "4  [According to what Guskey said, the culture of...               0   \n",
       "\n",
       "   InputSentence4                           RandomFifthSentenceQuiz1  \\\n",
       "0               0  [who writes diaries online, write down what th...   \n",
       "1               0  [the first results we produce in a certain are...   \n",
       "2               0  [It doesn't necessarily bring fortune., Suppor...   \n",
       "3               0  [Berlin has many parks and bridges., all the a...   \n",
       "4               0  [students not take tests seriously at all, tes...   \n",
       "\n",
       "   RandomFifthSentenceQuiz2  AnswerRightEnding  \n",
       "0                         0                  0  \n",
       "1                         0                  0  \n",
       "2                         0                  0  \n",
       "3                         0                  0  \n",
       "4                         0                  0  "
      ]
     },
     "execution_count": 463,
     "metadata": {},
     "output_type": "execute_result"
    }
   ],
   "source": [
    "df.head()"
   ]
  },
  {
   "cell_type": "markdown",
   "metadata": {},
   "source": [
    "### train"
   ]
  },
  {
   "cell_type": "code",
   "execution_count": 5,
   "metadata": {
    "ExecuteTime": {
     "end_time": "2018-09-02T06:39:06.937106Z",
     "start_time": "2018-09-02T06:39:06.862604Z"
    }
   },
   "outputs": [],
   "source": [
    "seed = 3535999445\n",
    "\n",
    "def _rocstories(path):\n",
    "    with open(path, encoding='utf_8') as f:\n",
    "        f = csv.reader(f)\n",
    "        st = []\n",
    "        ct1 = []\n",
    "        ct2 = []\n",
    "        y = []\n",
    "        for i, line in enumerate(tqdm(list(f), ncols=80, leave=False)):\n",
    "            if i > 0:\n",
    "                s = ' '.join(line[1:5])\n",
    "                c1 = line[5]\n",
    "                c2 = line[6]\n",
    "                st.append(s)\n",
    "                ct1.append(c1)\n",
    "                ct2.append(c2)\n",
    "                y.append(int(line[-1])-1)\n",
    "        return st, ct1, ct2, y\n",
    "\n",
    "def rocstories(data_dir, n_train=1497, n_valid=374):\n",
    "    storys, comps1, comps2, ys = _rocstories(os.path.join(data_dir, 'cloze_test_val__spring2016 - cloze_test_ALL_val.csv'))\n",
    "    teX1, teX2, teX3, _ = _rocstories(os.path.join(data_dir, 'cloze_test_test__spring2016 - cloze_test_ALL_test.csv'))\n",
    "    tr_storys, va_storys, tr_comps1, va_comps1, tr_comps2, va_comps2, tr_ys, va_ys = train_test_split(storys, comps1, comps2, ys, test_size=n_valid, random_state=seed)\n",
    "    trX1, trX2, trX3 = [], [], []\n",
    "    trY = []\n",
    "    for s, c1, c2, y in zip(tr_storys, tr_comps1, tr_comps2, tr_ys):\n",
    "        trX1.append(s)\n",
    "        trX2.append(c1)\n",
    "        trX3.append(c2)\n",
    "        trY.append(y)\n",
    "\n",
    "    vaX1, vaX2, vaX3 = [], [], []\n",
    "    vaY = []\n",
    "    for s, c1, c2, y in zip(va_storys, va_comps1, va_comps2, va_ys):\n",
    "        vaX1.append(s)\n",
    "        vaX2.append(c1)\n",
    "        vaX3.append(c2)\n",
    "        vaY.append(y)\n",
    "    trY = np.asarray(trY, dtype=np.int32)\n",
    "    vaY = np.asarray(vaY, dtype=np.int32)\n",
    "    return (trX1, trX2, trX3, trY), (vaX1, vaX2, vaX3, vaY), (teX1, teX2, teX3)\n"
   ]
  },
  {
   "cell_type": "code",
   "execution_count": 7,
   "metadata": {
    "ExecuteTime": {
     "end_time": "2018-09-02T06:39:59.753647Z",
     "start_time": "2018-09-02T06:39:59.698964Z"
    },
    "scrolled": true
   },
   "outputs": [
    {
     "name": "stderr",
     "output_type": "stream",
     "text": [
      "                                                                                \r"
     ]
    }
   ],
   "source": [
    "(trX1, trX2, trX3, trY), (vaX1, vaX2, vaX3, vaY), (teX1, teX2, teX3)=rocstories('./generative_corpus/ROCStory/', n_train=1497, n_valid=374)"
   ]
  },
  {
   "cell_type": "code",
   "execution_count": 15,
   "metadata": {
    "ExecuteTime": {
     "end_time": "2018-09-02T07:14:34.798321Z",
     "start_time": "2018-09-02T07:14:34.793249Z"
    },
    "scrolled": true
   },
   "outputs": [
    {
     "data": {
      "text/plain": [
       "array([0, 1, 1, ..., 1, 0, 1], dtype=int32)"
      ]
     },
     "execution_count": 15,
     "metadata": {},
     "output_type": "execute_result"
    }
   ],
   "source": [
    "trY"
   ]
  },
  {
   "cell_type": "code",
   "execution_count": 16,
   "metadata": {
    "ExecuteTime": {
     "end_time": "2018-08-19T04:00:04.951240Z",
     "start_time": "2018-08-19T04:00:04.778386Z"
    }
   },
   "outputs": [],
   "source": [
    "class TextEncoder(object):\n",
    "    \"\"\"\n",
    "    mostly a wrapper for a public python bpe tokenizer\n",
    "    \"\"\"\n",
    "\n",
    "    def __init__(self, encoder_path, bpe_path):\n",
    "        self.nlp = spacy.load('en', disable=['parser', 'tagger', 'ner', 'textcat'])\n",
    "        self.encoder = json.load(open(encoder_path))\n",
    "        self.decoder = {v:k for k,v in self.encoder.items()}\n",
    "        merges = open(bpe_path, encoding='utf-8').read().split('\\n')[1:-1]\n",
    "        merges = [tuple(merge.split()) for merge in merges]\n",
    "        self.bpe_ranks = dict(zip(merges, range(len(merges))))\n",
    "        self.cache = {}\n",
    "\n",
    "    def bpe(self, token):\n",
    "        word = tuple(token[:-1]) + ( token[-1] + '</w>',)\n",
    "        if token in self.cache:\n",
    "            return self.cache[token]\n",
    "        pairs = get_pairs(word)\n",
    "\n",
    "        if not pairs:\n",
    "            return token+'</w>'\n",
    "\n",
    "        while True:\n",
    "            bigram = min(pairs, key = lambda pair: self.bpe_ranks.get(pair, float('inf')))\n",
    "            if bigram not in self.bpe_ranks:\n",
    "                break\n",
    "            first, second = bigram\n",
    "            new_word = []\n",
    "            i = 0\n",
    "            while i < len(word):\n",
    "                try:\n",
    "                    j = word.index(first, i)\n",
    "                    new_word.extend(word[i:j])\n",
    "                    i = j\n",
    "                except:\n",
    "                    new_word.extend(word[i:])\n",
    "                    break\n",
    "\n",
    "                if word[i] == first and i < len(word)-1 and word[i+1] == second:\n",
    "                    new_word.append(first+second)\n",
    "                    i += 2\n",
    "                else:\n",
    "                    new_word.append(word[i])\n",
    "                    i += 1\n",
    "            new_word = tuple(new_word)\n",
    "            word = new_word\n",
    "            if len(word) == 1:\n",
    "                break\n",
    "            else:\n",
    "                pairs = get_pairs(word)\n",
    "        word = ' '.join(word)\n",
    "        if word == '\\n  </w>':\n",
    "            word = '\\n</w>'\n",
    "        self.cache[token] = word\n",
    "        return word\n",
    "\n",
    "    def encode(self, texts, verbose=True):\n",
    "        texts_tokens = []\n",
    "        if verbose:\n",
    "            for text in tqdm(texts, ncols=80, leave=False):\n",
    "                text = self.nlp(text_standardize(ftfy.fix_text(text)))\n",
    "                text_tokens = []\n",
    "                for token in text:\n",
    "                    text_tokens.extend([self.encoder.get(t, 0) for t in self.bpe(token.text.lower()).split(' ')])\n",
    "                texts_tokens.append(text_tokens)\n",
    "        else:\n",
    "            for text in texts:\n",
    "                text = self.nlp(text_standardize(ftfy.fix_text(text)))\n",
    "                text_tokens = []\n",
    "                for token in text:\n",
    "                    text_tokens.extend([self.encoder.get(t, 0) for t in self.bpe(token.text.lower()).split(' ')])\n",
    "                texts_tokens.append(text_tokens)\n",
    "        return texts_tokens"
   ]
  },
  {
   "cell_type": "code",
   "execution_count": 8,
   "metadata": {
    "ExecuteTime": {
     "end_time": "2018-08-19T03:54:19.277790Z",
     "start_time": "2018-08-19T03:54:19.253312Z"
    }
   },
   "outputs": [],
   "source": [
    "def transform_roc(X1, X2, X3):\n",
    "    n_batch = len(X1)\n",
    "    xmb = np.zeros((n_batch, 2, n_ctx, 2), dtype=np.int32)\n",
    "    mmb = np.zeros((n_batch, 2, n_ctx), dtype=np.float32)\n",
    "    start = encoder['_start_']\n",
    "    delimiter = encoder['_delimiter_']\n",
    "    for i, (x1, x2, x3), in enumerate(zip(X1, X2, X3)):\n",
    "        x12 = [start] + x1[:max_len] + [delimiter] + x2[:max_len] + [clf_token]\n",
    "        x13 = [start] + x1[:max_len] + [delimiter] + x3[:max_len] + [clf_token]\n",
    "        l12 = len(x12)\n",
    "        l13 = len(x13)\n",
    "        xmb[i, 0, :l12, 0] = x12\n",
    "        xmb[i, 1, :l13, 0] = x13\n",
    "        mmb[i, 0, :l12] = 1\n",
    "        mmb[i, 1, :l13] = 1\n",
    "    # Position information that is added to the input embeddings in the TransformerModel\n",
    "    xmb[:, :, :, 1] = np.arange(n_vocab + n_special, n_vocab + n_special + n_ctx)\n",
    "    return xmb, mmb"
   ]
  },
  {
   "cell_type": "code",
   "execution_count": null,
   "metadata": {},
   "outputs": [],
   "source": []
  },
  {
   "cell_type": "code",
   "execution_count": null,
   "metadata": {},
   "outputs": [],
   "source": []
  },
  {
   "cell_type": "code",
   "execution_count": 15,
   "metadata": {
    "ExecuteTime": {
     "end_time": "2018-09-07T05:11:40.348224Z",
     "start_time": "2018-09-07T05:11:39.761079Z"
    }
   },
   "outputs": [],
   "source": [
    "summary=pd.read_csv('/Users/xuhuimin/Desktop/summary.csv')"
   ]
  },
  {
   "cell_type": "code",
   "execution_count": 16,
   "metadata": {
    "ExecuteTime": {
     "end_time": "2018-09-07T05:13:05.261093Z",
     "start_time": "2018-09-07T05:13:05.246274Z"
    }
   },
   "outputs": [],
   "source": [
    "No=summary[summary['shuffle']=='[1 2 3 4]'][['shuffle','story1','story2','0','1','max','pred']]"
   ]
  },
  {
   "cell_type": "code",
   "execution_count": 19,
   "metadata": {
    "ExecuteTime": {
     "end_time": "2018-09-07T05:14:16.331762Z",
     "start_time": "2018-09-07T05:14:16.305078Z"
    }
   },
   "outputs": [
    {
     "data": {
      "text/html": [
       "<div>\n",
       "<style>\n",
       "    .dataframe thead tr:only-child th {\n",
       "        text-align: right;\n",
       "    }\n",
       "\n",
       "    .dataframe thead th {\n",
       "        text-align: left;\n",
       "    }\n",
       "\n",
       "    .dataframe tbody tr th {\n",
       "        vertical-align: top;\n",
       "    }\n",
       "</style>\n",
       "<table border=\"1\" class=\"dataframe\">\n",
       "  <thead>\n",
       "    <tr style=\"text-align: right;\">\n",
       "      <th></th>\n",
       "      <th>shuffle</th>\n",
       "      <th>story1</th>\n",
       "      <th>story2</th>\n",
       "      <th>0</th>\n",
       "      <th>1</th>\n",
       "      <th>max</th>\n",
       "      <th>pred</th>\n",
       "    </tr>\n",
       "  </thead>\n",
       "  <tbody>\n",
       "    <tr>\n",
       "      <th>151</th>\n",
       "      <td>[1 2 3 4]</td>\n",
       "      <td>We had dinner in Brooklyn tonight. The include...</td>\n",
       "      <td>We had dinner in Brooklyn tonight. The include...</td>\n",
       "      <td>0.516358</td>\n",
       "      <td>0.483642</td>\n",
       "      <td>0.516358</td>\n",
       "      <td>0</td>\n",
       "    </tr>\n",
       "    <tr>\n",
       "      <th>343</th>\n",
       "      <td>[1 2 3 4]</td>\n",
       "      <td>Late last night I awoke to a strange sound of ...</td>\n",
       "      <td>Late last night I awoke to a strange sound of ...</td>\n",
       "      <td>0.457357</td>\n",
       "      <td>0.542643</td>\n",
       "      <td>0.542643</td>\n",
       "      <td>1</td>\n",
       "    </tr>\n",
       "    <tr>\n",
       "      <th>474</th>\n",
       "      <td>[1 2 3 4]</td>\n",
       "      <td>Neil went to a celebration with his Vietnamese...</td>\n",
       "      <td>Neil went to a celebration with his Vietnamese...</td>\n",
       "      <td>0.542947</td>\n",
       "      <td>0.457053</td>\n",
       "      <td>0.542947</td>\n",
       "      <td>0</td>\n",
       "    </tr>\n",
       "    <tr>\n",
       "      <th>754</th>\n",
       "      <td>[1 2 3 4]</td>\n",
       "      <td>Jim was using a selfie stick. He was sticking ...</td>\n",
       "      <td>Jim was using a selfie stick. He was sticking ...</td>\n",
       "      <td>0.500000</td>\n",
       "      <td>0.500000</td>\n",
       "      <td>0.500000</td>\n",
       "      <td>0</td>\n",
       "    </tr>\n",
       "    <tr>\n",
       "      <th>831</th>\n",
       "      <td>[1 2 3 4]</td>\n",
       "      <td>My sister in law lost her husband in 1984. The...</td>\n",
       "      <td>My sister in law lost her husband in 1984. The...</td>\n",
       "      <td>0.536753</td>\n",
       "      <td>0.463247</td>\n",
       "      <td>0.536753</td>\n",
       "      <td>0</td>\n",
       "    </tr>\n",
       "    <tr>\n",
       "      <th>2356</th>\n",
       "      <td>[1 2 3 4]</td>\n",
       "      <td>It had been raining for days. The sky had stay...</td>\n",
       "      <td>It had been raining for days. The sky had stay...</td>\n",
       "      <td>0.500000</td>\n",
       "      <td>0.500000</td>\n",
       "      <td>0.500000</td>\n",
       "      <td>0</td>\n",
       "    </tr>\n",
       "    <tr>\n",
       "      <th>2516</th>\n",
       "      <td>[1 2 3 4]</td>\n",
       "      <td>It was a busy Saturday night at the airport as...</td>\n",
       "      <td>It was a busy Saturday night at the airport as...</td>\n",
       "      <td>0.410673</td>\n",
       "      <td>0.589327</td>\n",
       "      <td>0.589327</td>\n",
       "      <td>1</td>\n",
       "    </tr>\n",
       "    <tr>\n",
       "      <th>2684</th>\n",
       "      <td>[1 2 3 4]</td>\n",
       "      <td>Maurice is preparing to celebrate Thanksgiving...</td>\n",
       "      <td>Maurice is preparing to celebrate Thanksgiving...</td>\n",
       "      <td>0.500000</td>\n",
       "      <td>0.500000</td>\n",
       "      <td>0.500000</td>\n",
       "      <td>0</td>\n",
       "    </tr>\n",
       "    <tr>\n",
       "      <th>2741</th>\n",
       "      <td>[1 2 3 4]</td>\n",
       "      <td>Bridget as always sleepy. Bridget tried going ...</td>\n",
       "      <td>Bridget as always sleepy. Bridget tried going ...</td>\n",
       "      <td>0.500000</td>\n",
       "      <td>0.500000</td>\n",
       "      <td>0.500000</td>\n",
       "      <td>0</td>\n",
       "    </tr>\n",
       "    <tr>\n",
       "      <th>3004</th>\n",
       "      <td>[1 2 3 4]</td>\n",
       "      <td>Our building lost the Internet yesterday. I ca...</td>\n",
       "      <td>Our building lost the Internet yesterday. I ca...</td>\n",
       "      <td>0.500000</td>\n",
       "      <td>0.500000</td>\n",
       "      <td>0.500000</td>\n",
       "      <td>0</td>\n",
       "    </tr>\n",
       "    <tr>\n",
       "      <th>3719</th>\n",
       "      <td>[1 2 3 4]</td>\n",
       "      <td>Kelsey left for work for work one morning and ...</td>\n",
       "      <td>Kelsey left for work for work one morning and ...</td>\n",
       "      <td>0.583924</td>\n",
       "      <td>0.416076</td>\n",
       "      <td>0.583924</td>\n",
       "      <td>0</td>\n",
       "    </tr>\n",
       "    <tr>\n",
       "      <th>3844</th>\n",
       "      <td>[1 2 3 4]</td>\n",
       "      <td>Jessie woke up and saw that it had snowed over...</td>\n",
       "      <td>Jessie woke up and saw that it had snowed over...</td>\n",
       "      <td>0.578518</td>\n",
       "      <td>0.421482</td>\n",
       "      <td>0.578518</td>\n",
       "      <td>0</td>\n",
       "    </tr>\n",
       "    <tr>\n",
       "      <th>4046</th>\n",
       "      <td>[1 2 3 4]</td>\n",
       "      <td>Jeff is the boss at his company and oversees t...</td>\n",
       "      <td>Jeff is the boss at his company and oversees t...</td>\n",
       "      <td>0.421565</td>\n",
       "      <td>0.578435</td>\n",
       "      <td>0.578435</td>\n",
       "      <td>1</td>\n",
       "    </tr>\n",
       "    <tr>\n",
       "      <th>4122</th>\n",
       "      <td>[1 2 3 4]</td>\n",
       "      <td>Jack was tired of always getting bullied. He w...</td>\n",
       "      <td>Jack was tired of always getting bullied. He w...</td>\n",
       "      <td>0.567034</td>\n",
       "      <td>0.432966</td>\n",
       "      <td>0.567034</td>\n",
       "      <td>0</td>\n",
       "    </tr>\n",
       "    <tr>\n",
       "      <th>4738</th>\n",
       "      <td>[1 2 3 4]</td>\n",
       "      <td>The boy liked to daydream about her. He did no...</td>\n",
       "      <td>The boy liked to daydream about her. He did no...</td>\n",
       "      <td>0.432080</td>\n",
       "      <td>0.567920</td>\n",
       "      <td>0.567920</td>\n",
       "      <td>1</td>\n",
       "    </tr>\n",
       "    <tr>\n",
       "      <th>4765</th>\n",
       "      <td>[1 2 3 4]</td>\n",
       "      <td>Two best friends from Boston write a movie tog...</td>\n",
       "      <td>Two best friends from Boston write a movie tog...</td>\n",
       "      <td>0.411567</td>\n",
       "      <td>0.588433</td>\n",
       "      <td>0.588433</td>\n",
       "      <td>1</td>\n",
       "    </tr>\n",
       "    <tr>\n",
       "      <th>4852</th>\n",
       "      <td>[1 2 3 4]</td>\n",
       "      <td>Greg was at work and was eating lunch in the b...</td>\n",
       "      <td>Greg was at work and was eating lunch in the b...</td>\n",
       "      <td>0.500000</td>\n",
       "      <td>0.500000</td>\n",
       "      <td>0.500000</td>\n",
       "      <td>0</td>\n",
       "    </tr>\n",
       "    <tr>\n",
       "      <th>4945</th>\n",
       "      <td>[1 2 3 4]</td>\n",
       "      <td>Anne was learning to play the piano. She was s...</td>\n",
       "      <td>Anne was learning to play the piano. She was s...</td>\n",
       "      <td>0.500000</td>\n",
       "      <td>0.500000</td>\n",
       "      <td>0.500000</td>\n",
       "      <td>0</td>\n",
       "    </tr>\n",
       "    <tr>\n",
       "      <th>5036</th>\n",
       "      <td>[1 2 3 4]</td>\n",
       "      <td>Suzy was paying her grandmother a visit. Grand...</td>\n",
       "      <td>Suzy was paying her grandmother a visit. Grand...</td>\n",
       "      <td>0.529267</td>\n",
       "      <td>0.470733</td>\n",
       "      <td>0.529267</td>\n",
       "      <td>0</td>\n",
       "    </tr>\n",
       "    <tr>\n",
       "      <th>5048</th>\n",
       "      <td>[1 2 3 4]</td>\n",
       "      <td>Sam was arguing with Tim. They argued all day....</td>\n",
       "      <td>Sam was arguing with Tim. They argued all day....</td>\n",
       "      <td>0.458283</td>\n",
       "      <td>0.541717</td>\n",
       "      <td>0.541717</td>\n",
       "      <td>1</td>\n",
       "    </tr>\n",
       "    <tr>\n",
       "      <th>5096</th>\n",
       "      <td>[1 2 3 4]</td>\n",
       "      <td>My Dad was driving my friend and I to school. ...</td>\n",
       "      <td>My Dad was driving my friend and I to school. ...</td>\n",
       "      <td>0.500000</td>\n",
       "      <td>0.500000</td>\n",
       "      <td>0.500000</td>\n",
       "      <td>0</td>\n",
       "    </tr>\n",
       "    <tr>\n",
       "      <th>5137</th>\n",
       "      <td>[1 2 3 4]</td>\n",
       "      <td>Deep in Louisiana swamps, there was a legend o...</td>\n",
       "      <td>Deep in Louisiana swamps, there was a legend o...</td>\n",
       "      <td>0.500000</td>\n",
       "      <td>0.500000</td>\n",
       "      <td>0.500000</td>\n",
       "      <td>0</td>\n",
       "    </tr>\n",
       "    <tr>\n",
       "      <th>5646</th>\n",
       "      <td>[1 2 3 4]</td>\n",
       "      <td>Irene was in the school choir. They were perfo...</td>\n",
       "      <td>Irene was in the school choir. They were perfo...</td>\n",
       "      <td>0.409873</td>\n",
       "      <td>0.590127</td>\n",
       "      <td>0.590127</td>\n",
       "      <td>1</td>\n",
       "    </tr>\n",
       "    <tr>\n",
       "      <th>5880</th>\n",
       "      <td>[1 2 3 4]</td>\n",
       "      <td>Jimmy and his father went fishing. They went t...</td>\n",
       "      <td>Jimmy and his father went fishing. They went t...</td>\n",
       "      <td>0.500000</td>\n",
       "      <td>0.500000</td>\n",
       "      <td>0.500000</td>\n",
       "      <td>0</td>\n",
       "    </tr>\n",
       "    <tr>\n",
       "      <th>6116</th>\n",
       "      <td>[1 2 3 4]</td>\n",
       "      <td>My sister is going to have a baby. She went to...</td>\n",
       "      <td>My sister is going to have a baby. She went to...</td>\n",
       "      <td>0.562646</td>\n",
       "      <td>0.437354</td>\n",
       "      <td>0.562646</td>\n",
       "      <td>0</td>\n",
       "    </tr>\n",
       "    <tr>\n",
       "      <th>6464</th>\n",
       "      <td>[1 2 3 4]</td>\n",
       "      <td>Val saw Ali go to the bathroom. Val and her fr...</td>\n",
       "      <td>Val saw Ali go to the bathroom. Val and her fr...</td>\n",
       "      <td>0.466363</td>\n",
       "      <td>0.533637</td>\n",
       "      <td>0.533637</td>\n",
       "      <td>1</td>\n",
       "    </tr>\n",
       "    <tr>\n",
       "      <th>6788</th>\n",
       "      <td>[1 2 3 4]</td>\n",
       "      <td>Jim's cat would not stop meowing. His cat was ...</td>\n",
       "      <td>Jim's cat would not stop meowing. His cat was ...</td>\n",
       "      <td>0.509658</td>\n",
       "      <td>0.490342</td>\n",
       "      <td>0.509658</td>\n",
       "      <td>0</td>\n",
       "    </tr>\n",
       "    <tr>\n",
       "      <th>6790</th>\n",
       "      <td>[1 2 3 4]</td>\n",
       "      <td>The hikers suddenly stopped in their tracks. O...</td>\n",
       "      <td>The hikers suddenly stopped in their tracks. O...</td>\n",
       "      <td>0.500000</td>\n",
       "      <td>0.500000</td>\n",
       "      <td>0.500000</td>\n",
       "      <td>0</td>\n",
       "    </tr>\n",
       "    <tr>\n",
       "      <th>6886</th>\n",
       "      <td>[1 2 3 4]</td>\n",
       "      <td>May wanted to burn more calories during her ru...</td>\n",
       "      <td>May wanted to burn more calories during her ru...</td>\n",
       "      <td>0.500000</td>\n",
       "      <td>0.500000</td>\n",
       "      <td>0.500000</td>\n",
       "      <td>0</td>\n",
       "    </tr>\n",
       "    <tr>\n",
       "      <th>6915</th>\n",
       "      <td>[1 2 3 4]</td>\n",
       "      <td>The nurse took Jared's vital signs first. Then...</td>\n",
       "      <td>The nurse took Jared's vital signs first. Then...</td>\n",
       "      <td>0.500000</td>\n",
       "      <td>0.500000</td>\n",
       "      <td>0.500000</td>\n",
       "      <td>0</td>\n",
       "    </tr>\n",
       "    <tr>\n",
       "      <th>...</th>\n",
       "      <td>...</td>\n",
       "      <td>...</td>\n",
       "      <td>...</td>\n",
       "      <td>...</td>\n",
       "      <td>...</td>\n",
       "      <td>...</td>\n",
       "      <td>...</td>\n",
       "    </tr>\n",
       "    <tr>\n",
       "      <th>38813</th>\n",
       "      <td>[1 2 3 4]</td>\n",
       "      <td>Brandon was nervous for a job interview tomorr...</td>\n",
       "      <td>Brandon was nervous for a job interview tomorr...</td>\n",
       "      <td>0.567263</td>\n",
       "      <td>0.432737</td>\n",
       "      <td>0.567263</td>\n",
       "      <td>0</td>\n",
       "    </tr>\n",
       "    <tr>\n",
       "      <th>38866</th>\n",
       "      <td>[1 2 3 4]</td>\n",
       "      <td>My goldfish barnacles was getting old. I took ...</td>\n",
       "      <td>My goldfish barnacles was getting old. I took ...</td>\n",
       "      <td>0.464761</td>\n",
       "      <td>0.535239</td>\n",
       "      <td>0.535239</td>\n",
       "      <td>1</td>\n",
       "    </tr>\n",
       "    <tr>\n",
       "      <th>38955</th>\n",
       "      <td>[1 2 3 4]</td>\n",
       "      <td>Esther needed money to buy a down jacket. She ...</td>\n",
       "      <td>Esther needed money to buy a down jacket. She ...</td>\n",
       "      <td>0.523475</td>\n",
       "      <td>0.476525</td>\n",
       "      <td>0.523475</td>\n",
       "      <td>0</td>\n",
       "    </tr>\n",
       "    <tr>\n",
       "      <th>39201</th>\n",
       "      <td>[1 2 3 4]</td>\n",
       "      <td>My friend was Jewish. He didn't celebrate Chri...</td>\n",
       "      <td>My friend was Jewish. He didn't celebrate Chri...</td>\n",
       "      <td>0.500000</td>\n",
       "      <td>0.500000</td>\n",
       "      <td>0.500000</td>\n",
       "      <td>0</td>\n",
       "    </tr>\n",
       "    <tr>\n",
       "      <th>39475</th>\n",
       "      <td>[1 2 3 4]</td>\n",
       "      <td>My new car is amazing. It has all the bells an...</td>\n",
       "      <td>My new car is amazing. It has all the bells an...</td>\n",
       "      <td>0.496198</td>\n",
       "      <td>0.503802</td>\n",
       "      <td>0.503802</td>\n",
       "      <td>1</td>\n",
       "    </tr>\n",
       "    <tr>\n",
       "      <th>39482</th>\n",
       "      <td>[1 2 3 4]</td>\n",
       "      <td>I had finally made it to 18 and would need to ...</td>\n",
       "      <td>I had finally made it to 18 and would need to ...</td>\n",
       "      <td>0.545503</td>\n",
       "      <td>0.454497</td>\n",
       "      <td>0.545503</td>\n",
       "      <td>0</td>\n",
       "    </tr>\n",
       "    <tr>\n",
       "      <th>39604</th>\n",
       "      <td>[1 2 3 4]</td>\n",
       "      <td>Neil wanted to see an old city in India. He he...</td>\n",
       "      <td>Neil wanted to see an old city in India. He he...</td>\n",
       "      <td>0.406019</td>\n",
       "      <td>0.593981</td>\n",
       "      <td>0.593981</td>\n",
       "      <td>1</td>\n",
       "    </tr>\n",
       "    <tr>\n",
       "      <th>39703</th>\n",
       "      <td>[1 2 3 4]</td>\n",
       "      <td>Jay wondered what her boyfriend had bought her...</td>\n",
       "      <td>Jay wondered what her boyfriend had bought her...</td>\n",
       "      <td>0.439408</td>\n",
       "      <td>0.560592</td>\n",
       "      <td>0.560592</td>\n",
       "      <td>1</td>\n",
       "    </tr>\n",
       "    <tr>\n",
       "      <th>40140</th>\n",
       "      <td>[1 2 3 4]</td>\n",
       "      <td>John was playing piano. Everytime he hit a par...</td>\n",
       "      <td>John was playing piano. Everytime he hit a par...</td>\n",
       "      <td>0.532258</td>\n",
       "      <td>0.467742</td>\n",
       "      <td>0.532258</td>\n",
       "      <td>0</td>\n",
       "    </tr>\n",
       "    <tr>\n",
       "      <th>40203</th>\n",
       "      <td>[1 2 3 4]</td>\n",
       "      <td>Erin drives the big green trash collection tru...</td>\n",
       "      <td>Erin drives the big green trash collection tru...</td>\n",
       "      <td>0.439659</td>\n",
       "      <td>0.560341</td>\n",
       "      <td>0.560341</td>\n",
       "      <td>1</td>\n",
       "    </tr>\n",
       "    <tr>\n",
       "      <th>40526</th>\n",
       "      <td>[1 2 3 4]</td>\n",
       "      <td>Daniel was walking around a plaza. He noticed ...</td>\n",
       "      <td>Daniel was walking around a plaza. He noticed ...</td>\n",
       "      <td>0.407660</td>\n",
       "      <td>0.592340</td>\n",
       "      <td>0.592340</td>\n",
       "      <td>1</td>\n",
       "    </tr>\n",
       "    <tr>\n",
       "      <th>40683</th>\n",
       "      <td>[1 2 3 4]</td>\n",
       "      <td>My friend Jim seemed happily married. He and h...</td>\n",
       "      <td>My friend Jim seemed happily married. He and h...</td>\n",
       "      <td>0.543399</td>\n",
       "      <td>0.456601</td>\n",
       "      <td>0.543399</td>\n",
       "      <td>0</td>\n",
       "    </tr>\n",
       "    <tr>\n",
       "      <th>40693</th>\n",
       "      <td>[1 2 3 4]</td>\n",
       "      <td>Jill got a balloon for her birthday. It was bl...</td>\n",
       "      <td>Jill got a balloon for her birthday. It was bl...</td>\n",
       "      <td>0.500000</td>\n",
       "      <td>0.500000</td>\n",
       "      <td>0.500000</td>\n",
       "      <td>0</td>\n",
       "    </tr>\n",
       "    <tr>\n",
       "      <th>41002</th>\n",
       "      <td>[1 2 3 4]</td>\n",
       "      <td>One day, I was low on gas and needed to get to...</td>\n",
       "      <td>One day, I was low on gas and needed to get to...</td>\n",
       "      <td>0.500000</td>\n",
       "      <td>0.500000</td>\n",
       "      <td>0.500000</td>\n",
       "      <td>0</td>\n",
       "    </tr>\n",
       "    <tr>\n",
       "      <th>41092</th>\n",
       "      <td>[1 2 3 4]</td>\n",
       "      <td>Richard saved his money from his job for years...</td>\n",
       "      <td>Richard saved his money from his job for years...</td>\n",
       "      <td>0.500000</td>\n",
       "      <td>0.500000</td>\n",
       "      <td>0.500000</td>\n",
       "      <td>0</td>\n",
       "    </tr>\n",
       "    <tr>\n",
       "      <th>41811</th>\n",
       "      <td>[1 2 3 4]</td>\n",
       "      <td>Yesterday I visited my transit authority for p...</td>\n",
       "      <td>Yesterday I visited my transit authority for p...</td>\n",
       "      <td>0.417190</td>\n",
       "      <td>0.582810</td>\n",
       "      <td>0.582810</td>\n",
       "      <td>1</td>\n",
       "    </tr>\n",
       "    <tr>\n",
       "      <th>41826</th>\n",
       "      <td>[1 2 3 4]</td>\n",
       "      <td>Nancy loved spending her Saturdays going to ga...</td>\n",
       "      <td>Nancy loved spending her Saturdays going to ga...</td>\n",
       "      <td>0.452344</td>\n",
       "      <td>0.547656</td>\n",
       "      <td>0.547656</td>\n",
       "      <td>1</td>\n",
       "    </tr>\n",
       "    <tr>\n",
       "      <th>42001</th>\n",
       "      <td>[1 2 3 4]</td>\n",
       "      <td>Bobby was excited to go fishing with his grand...</td>\n",
       "      <td>Bobby was excited to go fishing with his grand...</td>\n",
       "      <td>0.442739</td>\n",
       "      <td>0.557261</td>\n",
       "      <td>0.557261</td>\n",
       "      <td>1</td>\n",
       "    </tr>\n",
       "    <tr>\n",
       "      <th>42619</th>\n",
       "      <td>[1 2 3 4]</td>\n",
       "      <td>Gabby had a lizard and her name was Lulu. Lulu...</td>\n",
       "      <td>Gabby had a lizard and her name was Lulu. Lulu...</td>\n",
       "      <td>0.500000</td>\n",
       "      <td>0.500000</td>\n",
       "      <td>0.500000</td>\n",
       "      <td>0</td>\n",
       "    </tr>\n",
       "    <tr>\n",
       "      <th>42713</th>\n",
       "      <td>[1 2 3 4]</td>\n",
       "      <td>Niam was asleep for a couple of minutes. The b...</td>\n",
       "      <td>Niam was asleep for a couple of minutes. The b...</td>\n",
       "      <td>0.500000</td>\n",
       "      <td>0.500000</td>\n",
       "      <td>0.500000</td>\n",
       "      <td>0</td>\n",
       "    </tr>\n",
       "    <tr>\n",
       "      <th>43089</th>\n",
       "      <td>[1 2 3 4]</td>\n",
       "      <td>Clint's dad was a cowboy who rode horses. Thou...</td>\n",
       "      <td>Clint's dad was a cowboy who rode horses. Thou...</td>\n",
       "      <td>0.544617</td>\n",
       "      <td>0.455383</td>\n",
       "      <td>0.544617</td>\n",
       "      <td>0</td>\n",
       "    </tr>\n",
       "    <tr>\n",
       "      <th>44039</th>\n",
       "      <td>[1 2 3 4]</td>\n",
       "      <td>A few years ago a deer ran into my friend's ca...</td>\n",
       "      <td>A few years ago a deer ran into my friend's ca...</td>\n",
       "      <td>0.414781</td>\n",
       "      <td>0.585219</td>\n",
       "      <td>0.585219</td>\n",
       "      <td>1</td>\n",
       "    </tr>\n",
       "    <tr>\n",
       "      <th>44226</th>\n",
       "      <td>[1 2 3 4]</td>\n",
       "      <td>Lilly got married four times. She was never ha...</td>\n",
       "      <td>Lilly got married four times. She was never ha...</td>\n",
       "      <td>0.501121</td>\n",
       "      <td>0.498879</td>\n",
       "      <td>0.501121</td>\n",
       "      <td>0</td>\n",
       "    </tr>\n",
       "    <tr>\n",
       "      <th>44413</th>\n",
       "      <td>[1 2 3 4]</td>\n",
       "      <td>Candice was a high school senior. She thought ...</td>\n",
       "      <td>Candice was a high school senior. She thought ...</td>\n",
       "      <td>0.443117</td>\n",
       "      <td>0.556883</td>\n",
       "      <td>0.556883</td>\n",
       "      <td>1</td>\n",
       "    </tr>\n",
       "    <tr>\n",
       "      <th>44568</th>\n",
       "      <td>[1 2 3 4]</td>\n",
       "      <td>Mike was wandering throughout the museum. As a...</td>\n",
       "      <td>Mike was wandering throughout the museum. As a...</td>\n",
       "      <td>0.500000</td>\n",
       "      <td>0.500000</td>\n",
       "      <td>0.500000</td>\n",
       "      <td>0</td>\n",
       "    </tr>\n",
       "    <tr>\n",
       "      <th>44739</th>\n",
       "      <td>[1 2 3 4]</td>\n",
       "      <td>There once was a girl named Allison. She loved...</td>\n",
       "      <td>There once was a girl named Allison. She loved...</td>\n",
       "      <td>0.500000</td>\n",
       "      <td>0.500000</td>\n",
       "      <td>0.500000</td>\n",
       "      <td>0</td>\n",
       "    </tr>\n",
       "    <tr>\n",
       "      <th>44859</th>\n",
       "      <td>[1 2 3 4]</td>\n",
       "      <td>We have a draft every year to pick our players...</td>\n",
       "      <td>We have a draft every year to pick our players...</td>\n",
       "      <td>0.431098</td>\n",
       "      <td>0.568902</td>\n",
       "      <td>0.568902</td>\n",
       "      <td>1</td>\n",
       "    </tr>\n",
       "    <tr>\n",
       "      <th>45072</th>\n",
       "      <td>[1 2 3 4]</td>\n",
       "      <td>Tina went to a fancy French restaurant with he...</td>\n",
       "      <td>Tina went to a fancy French restaurant with he...</td>\n",
       "      <td>0.413299</td>\n",
       "      <td>0.586701</td>\n",
       "      <td>0.586701</td>\n",
       "      <td>1</td>\n",
       "    </tr>\n",
       "    <tr>\n",
       "      <th>45147</th>\n",
       "      <td>[1 2 3 4]</td>\n",
       "      <td>The test was so hard. Everyone started crying....</td>\n",
       "      <td>The test was so hard. Everyone started crying....</td>\n",
       "      <td>0.581872</td>\n",
       "      <td>0.418128</td>\n",
       "      <td>0.581872</td>\n",
       "      <td>0</td>\n",
       "    </tr>\n",
       "    <tr>\n",
       "      <th>45332</th>\n",
       "      <td>[1 2 3 4]</td>\n",
       "      <td>Beverly and her cheer squad needed to raise mo...</td>\n",
       "      <td>Beverly and her cheer squad needed to raise mo...</td>\n",
       "      <td>0.500000</td>\n",
       "      <td>0.500000</td>\n",
       "      <td>0.500000</td>\n",
       "      <td>0</td>\n",
       "    </tr>\n",
       "  </tbody>\n",
       "</table>\n",
       "<p>227 rows × 7 columns</p>\n",
       "</div>"
      ],
      "text/plain": [
       "         shuffle                                             story1  \\\n",
       "151    [1 2 3 4]  We had dinner in Brooklyn tonight. The include...   \n",
       "343    [1 2 3 4]  Late last night I awoke to a strange sound of ...   \n",
       "474    [1 2 3 4]  Neil went to a celebration with his Vietnamese...   \n",
       "754    [1 2 3 4]  Jim was using a selfie stick. He was sticking ...   \n",
       "831    [1 2 3 4]  My sister in law lost her husband in 1984. The...   \n",
       "2356   [1 2 3 4]  It had been raining for days. The sky had stay...   \n",
       "2516   [1 2 3 4]  It was a busy Saturday night at the airport as...   \n",
       "2684   [1 2 3 4]  Maurice is preparing to celebrate Thanksgiving...   \n",
       "2741   [1 2 3 4]  Bridget as always sleepy. Bridget tried going ...   \n",
       "3004   [1 2 3 4]  Our building lost the Internet yesterday. I ca...   \n",
       "3719   [1 2 3 4]  Kelsey left for work for work one morning and ...   \n",
       "3844   [1 2 3 4]  Jessie woke up and saw that it had snowed over...   \n",
       "4046   [1 2 3 4]  Jeff is the boss at his company and oversees t...   \n",
       "4122   [1 2 3 4]  Jack was tired of always getting bullied. He w...   \n",
       "4738   [1 2 3 4]  The boy liked to daydream about her. He did no...   \n",
       "4765   [1 2 3 4]  Two best friends from Boston write a movie tog...   \n",
       "4852   [1 2 3 4]  Greg was at work and was eating lunch in the b...   \n",
       "4945   [1 2 3 4]  Anne was learning to play the piano. She was s...   \n",
       "5036   [1 2 3 4]  Suzy was paying her grandmother a visit. Grand...   \n",
       "5048   [1 2 3 4]  Sam was arguing with Tim. They argued all day....   \n",
       "5096   [1 2 3 4]  My Dad was driving my friend and I to school. ...   \n",
       "5137   [1 2 3 4]  Deep in Louisiana swamps, there was a legend o...   \n",
       "5646   [1 2 3 4]  Irene was in the school choir. They were perfo...   \n",
       "5880   [1 2 3 4]  Jimmy and his father went fishing. They went t...   \n",
       "6116   [1 2 3 4]  My sister is going to have a baby. She went to...   \n",
       "6464   [1 2 3 4]  Val saw Ali go to the bathroom. Val and her fr...   \n",
       "6788   [1 2 3 4]  Jim's cat would not stop meowing. His cat was ...   \n",
       "6790   [1 2 3 4]  The hikers suddenly stopped in their tracks. O...   \n",
       "6886   [1 2 3 4]  May wanted to burn more calories during her ru...   \n",
       "6915   [1 2 3 4]  The nurse took Jared's vital signs first. Then...   \n",
       "...          ...                                                ...   \n",
       "38813  [1 2 3 4]  Brandon was nervous for a job interview tomorr...   \n",
       "38866  [1 2 3 4]  My goldfish barnacles was getting old. I took ...   \n",
       "38955  [1 2 3 4]  Esther needed money to buy a down jacket. She ...   \n",
       "39201  [1 2 3 4]  My friend was Jewish. He didn't celebrate Chri...   \n",
       "39475  [1 2 3 4]  My new car is amazing. It has all the bells an...   \n",
       "39482  [1 2 3 4]  I had finally made it to 18 and would need to ...   \n",
       "39604  [1 2 3 4]  Neil wanted to see an old city in India. He he...   \n",
       "39703  [1 2 3 4]  Jay wondered what her boyfriend had bought her...   \n",
       "40140  [1 2 3 4]  John was playing piano. Everytime he hit a par...   \n",
       "40203  [1 2 3 4]  Erin drives the big green trash collection tru...   \n",
       "40526  [1 2 3 4]  Daniel was walking around a plaza. He noticed ...   \n",
       "40683  [1 2 3 4]  My friend Jim seemed happily married. He and h...   \n",
       "40693  [1 2 3 4]  Jill got a balloon for her birthday. It was bl...   \n",
       "41002  [1 2 3 4]  One day, I was low on gas and needed to get to...   \n",
       "41092  [1 2 3 4]  Richard saved his money from his job for years...   \n",
       "41811  [1 2 3 4]  Yesterday I visited my transit authority for p...   \n",
       "41826  [1 2 3 4]  Nancy loved spending her Saturdays going to ga...   \n",
       "42001  [1 2 3 4]  Bobby was excited to go fishing with his grand...   \n",
       "42619  [1 2 3 4]  Gabby had a lizard and her name was Lulu. Lulu...   \n",
       "42713  [1 2 3 4]  Niam was asleep for a couple of minutes. The b...   \n",
       "43089  [1 2 3 4]  Clint's dad was a cowboy who rode horses. Thou...   \n",
       "44039  [1 2 3 4]  A few years ago a deer ran into my friend's ca...   \n",
       "44226  [1 2 3 4]  Lilly got married four times. She was never ha...   \n",
       "44413  [1 2 3 4]  Candice was a high school senior. She thought ...   \n",
       "44568  [1 2 3 4]  Mike was wandering throughout the museum. As a...   \n",
       "44739  [1 2 3 4]  There once was a girl named Allison. She loved...   \n",
       "44859  [1 2 3 4]  We have a draft every year to pick our players...   \n",
       "45072  [1 2 3 4]  Tina went to a fancy French restaurant with he...   \n",
       "45147  [1 2 3 4]  The test was so hard. Everyone started crying....   \n",
       "45332  [1 2 3 4]  Beverly and her cheer squad needed to raise mo...   \n",
       "\n",
       "                                                  story2         0         1  \\\n",
       "151    We had dinner in Brooklyn tonight. The include...  0.516358  0.483642   \n",
       "343    Late last night I awoke to a strange sound of ...  0.457357  0.542643   \n",
       "474    Neil went to a celebration with his Vietnamese...  0.542947  0.457053   \n",
       "754    Jim was using a selfie stick. He was sticking ...  0.500000  0.500000   \n",
       "831    My sister in law lost her husband in 1984. The...  0.536753  0.463247   \n",
       "2356   It had been raining for days. The sky had stay...  0.500000  0.500000   \n",
       "2516   It was a busy Saturday night at the airport as...  0.410673  0.589327   \n",
       "2684   Maurice is preparing to celebrate Thanksgiving...  0.500000  0.500000   \n",
       "2741   Bridget as always sleepy. Bridget tried going ...  0.500000  0.500000   \n",
       "3004   Our building lost the Internet yesterday. I ca...  0.500000  0.500000   \n",
       "3719   Kelsey left for work for work one morning and ...  0.583924  0.416076   \n",
       "3844   Jessie woke up and saw that it had snowed over...  0.578518  0.421482   \n",
       "4046   Jeff is the boss at his company and oversees t...  0.421565  0.578435   \n",
       "4122   Jack was tired of always getting bullied. He w...  0.567034  0.432966   \n",
       "4738   The boy liked to daydream about her. He did no...  0.432080  0.567920   \n",
       "4765   Two best friends from Boston write a movie tog...  0.411567  0.588433   \n",
       "4852   Greg was at work and was eating lunch in the b...  0.500000  0.500000   \n",
       "4945   Anne was learning to play the piano. She was s...  0.500000  0.500000   \n",
       "5036   Suzy was paying her grandmother a visit. Grand...  0.529267  0.470733   \n",
       "5048   Sam was arguing with Tim. They argued all day....  0.458283  0.541717   \n",
       "5096   My Dad was driving my friend and I to school. ...  0.500000  0.500000   \n",
       "5137   Deep in Louisiana swamps, there was a legend o...  0.500000  0.500000   \n",
       "5646   Irene was in the school choir. They were perfo...  0.409873  0.590127   \n",
       "5880   Jimmy and his father went fishing. They went t...  0.500000  0.500000   \n",
       "6116   My sister is going to have a baby. She went to...  0.562646  0.437354   \n",
       "6464   Val saw Ali go to the bathroom. Val and her fr...  0.466363  0.533637   \n",
       "6788   Jim's cat would not stop meowing. His cat was ...  0.509658  0.490342   \n",
       "6790   The hikers suddenly stopped in their tracks. O...  0.500000  0.500000   \n",
       "6886   May wanted to burn more calories during her ru...  0.500000  0.500000   \n",
       "6915   The nurse took Jared's vital signs first. Then...  0.500000  0.500000   \n",
       "...                                                  ...       ...       ...   \n",
       "38813  Brandon was nervous for a job interview tomorr...  0.567263  0.432737   \n",
       "38866  My goldfish barnacles was getting old. I took ...  0.464761  0.535239   \n",
       "38955  Esther needed money to buy a down jacket. She ...  0.523475  0.476525   \n",
       "39201  My friend was Jewish. He didn't celebrate Chri...  0.500000  0.500000   \n",
       "39475  My new car is amazing. It has all the bells an...  0.496198  0.503802   \n",
       "39482  I had finally made it to 18 and would need to ...  0.545503  0.454497   \n",
       "39604  Neil wanted to see an old city in India. He he...  0.406019  0.593981   \n",
       "39703  Jay wondered what her boyfriend had bought her...  0.439408  0.560592   \n",
       "40140  John was playing piano. Everytime he hit a par...  0.532258  0.467742   \n",
       "40203  Erin drives the big green trash collection tru...  0.439659  0.560341   \n",
       "40526  Daniel was walking around a plaza. He noticed ...  0.407660  0.592340   \n",
       "40683  My friend Jim seemed happily married. He and h...  0.543399  0.456601   \n",
       "40693  Jill got a balloon for her birthday. It was bl...  0.500000  0.500000   \n",
       "41002  One day, I was low on gas and needed to get to...  0.500000  0.500000   \n",
       "41092  Richard saved his money from his job for years...  0.500000  0.500000   \n",
       "41811  Yesterday I visited my transit authority for p...  0.417190  0.582810   \n",
       "41826  Nancy loved spending her Saturdays going to ga...  0.452344  0.547656   \n",
       "42001  Bobby was excited to go fishing with his grand...  0.442739  0.557261   \n",
       "42619  Gabby had a lizard and her name was Lulu. Lulu...  0.500000  0.500000   \n",
       "42713  Niam was asleep for a couple of minutes. The b...  0.500000  0.500000   \n",
       "43089  Clint's dad was a cowboy who rode horses. Thou...  0.544617  0.455383   \n",
       "44039  A few years ago a deer ran into my friend's ca...  0.414781  0.585219   \n",
       "44226  Lilly got married four times. She was never ha...  0.501121  0.498879   \n",
       "44413  Candice was a high school senior. She thought ...  0.443117  0.556883   \n",
       "44568  Mike was wandering throughout the museum. As a...  0.500000  0.500000   \n",
       "44739  There once was a girl named Allison. She loved...  0.500000  0.500000   \n",
       "44859  We have a draft every year to pick our players...  0.431098  0.568902   \n",
       "45072  Tina went to a fancy French restaurant with he...  0.413299  0.586701   \n",
       "45147  The test was so hard. Everyone started crying....  0.581872  0.418128   \n",
       "45332  Beverly and her cheer squad needed to raise mo...  0.500000  0.500000   \n",
       "\n",
       "            max  pred  \n",
       "151    0.516358     0  \n",
       "343    0.542643     1  \n",
       "474    0.542947     0  \n",
       "754    0.500000     0  \n",
       "831    0.536753     0  \n",
       "2356   0.500000     0  \n",
       "2516   0.589327     1  \n",
       "2684   0.500000     0  \n",
       "2741   0.500000     0  \n",
       "3004   0.500000     0  \n",
       "3719   0.583924     0  \n",
       "3844   0.578518     0  \n",
       "4046   0.578435     1  \n",
       "4122   0.567034     0  \n",
       "4738   0.567920     1  \n",
       "4765   0.588433     1  \n",
       "4852   0.500000     0  \n",
       "4945   0.500000     0  \n",
       "5036   0.529267     0  \n",
       "5048   0.541717     1  \n",
       "5096   0.500000     0  \n",
       "5137   0.500000     0  \n",
       "5646   0.590127     1  \n",
       "5880   0.500000     0  \n",
       "6116   0.562646     0  \n",
       "6464   0.533637     1  \n",
       "6788   0.509658     0  \n",
       "6790   0.500000     0  \n",
       "6886   0.500000     0  \n",
       "6915   0.500000     0  \n",
       "...         ...   ...  \n",
       "38813  0.567263     0  \n",
       "38866  0.535239     1  \n",
       "38955  0.523475     0  \n",
       "39201  0.500000     0  \n",
       "39475  0.503802     1  \n",
       "39482  0.545503     0  \n",
       "39604  0.593981     1  \n",
       "39703  0.560592     1  \n",
       "40140  0.532258     0  \n",
       "40203  0.560341     1  \n",
       "40526  0.592340     1  \n",
       "40683  0.543399     0  \n",
       "40693  0.500000     0  \n",
       "41002  0.500000     0  \n",
       "41092  0.500000     0  \n",
       "41811  0.582810     1  \n",
       "41826  0.547656     1  \n",
       "42001  0.557261     1  \n",
       "42619  0.500000     0  \n",
       "42713  0.500000     0  \n",
       "43089  0.544617     0  \n",
       "44039  0.585219     1  \n",
       "44226  0.501121     0  \n",
       "44413  0.556883     1  \n",
       "44568  0.500000     0  \n",
       "44739  0.500000     0  \n",
       "44859  0.568902     1  \n",
       "45072  0.586701     1  \n",
       "45147  0.581872     0  \n",
       "45332  0.500000     0  \n",
       "\n",
       "[227 rows x 7 columns]"
      ]
     },
     "execution_count": 19,
     "metadata": {},
     "output_type": "execute_result"
    }
   ],
   "source": [
    "No[No['max']<=0.6]"
   ]
  },
  {
   "cell_type": "code",
   "execution_count": 18,
   "metadata": {
    "ExecuteTime": {
     "end_time": "2018-09-07T05:13:55.716595Z",
     "start_time": "2018-09-07T05:13:55.687755Z"
    }
   },
   "outputs": [
    {
     "data": {
      "text/html": [
       "<div>\n",
       "<style>\n",
       "    .dataframe thead tr:only-child th {\n",
       "        text-align: right;\n",
       "    }\n",
       "\n",
       "    .dataframe thead th {\n",
       "        text-align: left;\n",
       "    }\n",
       "\n",
       "    .dataframe tbody tr th {\n",
       "        vertical-align: top;\n",
       "    }\n",
       "</style>\n",
       "<table border=\"1\" class=\"dataframe\">\n",
       "  <thead>\n",
       "    <tr style=\"text-align: right;\">\n",
       "      <th></th>\n",
       "      <th>shuffle</th>\n",
       "      <th>story1</th>\n",
       "      <th>story2</th>\n",
       "      <th>0</th>\n",
       "      <th>1</th>\n",
       "      <th>max</th>\n",
       "      <th>pred</th>\n",
       "    </tr>\n",
       "  </thead>\n",
       "  <tbody>\n",
       "    <tr>\n",
       "      <th>41</th>\n",
       "      <td>[1 2 3 4]</td>\n",
       "      <td>Susan was excited to plan her first egg hunt i...</td>\n",
       "      <td>Susan was excited to plan her first egg hunt i...</td>\n",
       "      <td>0.989628</td>\n",
       "      <td>0.010372</td>\n",
       "      <td>0.989628</td>\n",
       "      <td>0</td>\n",
       "    </tr>\n",
       "    <tr>\n",
       "      <th>228</th>\n",
       "      <td>[1 2 3 4]</td>\n",
       "      <td>Josh wanted nothing more than world peace. He ...</td>\n",
       "      <td>Josh wanted nothing more than world peace. He ...</td>\n",
       "      <td>0.000278</td>\n",
       "      <td>0.999722</td>\n",
       "      <td>0.999722</td>\n",
       "      <td>1</td>\n",
       "    </tr>\n",
       "    <tr>\n",
       "      <th>243</th>\n",
       "      <td>[1 2 3 4]</td>\n",
       "      <td>Fred had a basketball game tonight. He was rat...</td>\n",
       "      <td>Fred had a basketball game tonight. He was rat...</td>\n",
       "      <td>0.999998</td>\n",
       "      <td>0.000002</td>\n",
       "      <td>0.999998</td>\n",
       "      <td>0</td>\n",
       "    </tr>\n",
       "    <tr>\n",
       "      <th>253</th>\n",
       "      <td>[1 2 3 4]</td>\n",
       "      <td>Maurice watched the clown bump his way through...</td>\n",
       "      <td>Maurice watched the clown bump his way through...</td>\n",
       "      <td>0.240530</td>\n",
       "      <td>0.759470</td>\n",
       "      <td>0.759470</td>\n",
       "      <td>1</td>\n",
       "    </tr>\n",
       "    <tr>\n",
       "      <th>255</th>\n",
       "      <td>[1 2 3 4]</td>\n",
       "      <td>Lindsay was very interested in guitar lessons....</td>\n",
       "      <td>Lindsay was very interested in guitar lessons....</td>\n",
       "      <td>0.167398</td>\n",
       "      <td>0.832602</td>\n",
       "      <td>0.832602</td>\n",
       "      <td>1</td>\n",
       "    </tr>\n",
       "    <tr>\n",
       "      <th>260</th>\n",
       "      <td>[1 2 3 4]</td>\n",
       "      <td>I was walking to my office complex. I noticed ...</td>\n",
       "      <td>I was walking to my office complex. I noticed ...</td>\n",
       "      <td>0.364761</td>\n",
       "      <td>0.635239</td>\n",
       "      <td>0.635239</td>\n",
       "      <td>1</td>\n",
       "    </tr>\n",
       "    <tr>\n",
       "      <th>285</th>\n",
       "      <td>[1 2 3 4]</td>\n",
       "      <td>My cousin decided to pick me up, and take me t...</td>\n",
       "      <td>My cousin decided to pick me up, and take me t...</td>\n",
       "      <td>0.004362</td>\n",
       "      <td>0.995638</td>\n",
       "      <td>0.995638</td>\n",
       "      <td>1</td>\n",
       "    </tr>\n",
       "    <tr>\n",
       "      <th>372</th>\n",
       "      <td>[1 2 3 4]</td>\n",
       "      <td>Jennifer needed to travel for work. She bought...</td>\n",
       "      <td>Jennifer needed to travel for work. She bought...</td>\n",
       "      <td>0.029068</td>\n",
       "      <td>0.970932</td>\n",
       "      <td>0.970932</td>\n",
       "      <td>1</td>\n",
       "    </tr>\n",
       "    <tr>\n",
       "      <th>410</th>\n",
       "      <td>[1 2 3 4]</td>\n",
       "      <td>Tim has never cooked for his family. He was ne...</td>\n",
       "      <td>Tim has never cooked for his family. He was ne...</td>\n",
       "      <td>0.624466</td>\n",
       "      <td>0.375534</td>\n",
       "      <td>0.624466</td>\n",
       "      <td>0</td>\n",
       "    </tr>\n",
       "    <tr>\n",
       "      <th>428</th>\n",
       "      <td>[1 2 3 4]</td>\n",
       "      <td>Roger wanted to play tennis as well as Roger F...</td>\n",
       "      <td>Roger wanted to play tennis as well as Roger F...</td>\n",
       "      <td>0.688027</td>\n",
       "      <td>0.311973</td>\n",
       "      <td>0.688027</td>\n",
       "      <td>0</td>\n",
       "    </tr>\n",
       "    <tr>\n",
       "      <th>432</th>\n",
       "      <td>[1 2 3 4]</td>\n",
       "      <td>Little Timmy wanted to grow up to be a race ca...</td>\n",
       "      <td>Little Timmy wanted to grow up to be a race ca...</td>\n",
       "      <td>0.999984</td>\n",
       "      <td>0.000016</td>\n",
       "      <td>0.999984</td>\n",
       "      <td>0</td>\n",
       "    </tr>\n",
       "    <tr>\n",
       "      <th>469</th>\n",
       "      <td>[1 2 3 4]</td>\n",
       "      <td>My teacher announced an important test. I went...</td>\n",
       "      <td>My teacher announced an important test. I went...</td>\n",
       "      <td>0.378743</td>\n",
       "      <td>0.621257</td>\n",
       "      <td>0.621257</td>\n",
       "      <td>1</td>\n",
       "    </tr>\n",
       "    <tr>\n",
       "      <th>501</th>\n",
       "      <td>[1 2 3 4]</td>\n",
       "      <td>I went into the voting booth on election day. ...</td>\n",
       "      <td>I went into the voting booth on election day. ...</td>\n",
       "      <td>0.986364</td>\n",
       "      <td>0.013636</td>\n",
       "      <td>0.986364</td>\n",
       "      <td>0</td>\n",
       "    </tr>\n",
       "    <tr>\n",
       "      <th>529</th>\n",
       "      <td>[1 2 3 4]</td>\n",
       "      <td>Yuko is very hungry in her apartment. She deci...</td>\n",
       "      <td>Yuko is very hungry in her apartment. She deci...</td>\n",
       "      <td>0.399291</td>\n",
       "      <td>0.600709</td>\n",
       "      <td>0.600709</td>\n",
       "      <td>1</td>\n",
       "    </tr>\n",
       "    <tr>\n",
       "      <th>541</th>\n",
       "      <td>[1 2 3 4]</td>\n",
       "      <td>I had ten thousand dollars. I decided to start...</td>\n",
       "      <td>I had ten thousand dollars. I decided to start...</td>\n",
       "      <td>0.659015</td>\n",
       "      <td>0.340985</td>\n",
       "      <td>0.659015</td>\n",
       "      <td>0</td>\n",
       "    </tr>\n",
       "    <tr>\n",
       "      <th>544</th>\n",
       "      <td>[1 2 3 4]</td>\n",
       "      <td>Terri was always the best math student in her ...</td>\n",
       "      <td>Terri was always the best math student in her ...</td>\n",
       "      <td>0.018968</td>\n",
       "      <td>0.981032</td>\n",
       "      <td>0.981032</td>\n",
       "      <td>1</td>\n",
       "    </tr>\n",
       "    <tr>\n",
       "      <th>548</th>\n",
       "      <td>[1 2 3 4]</td>\n",
       "      <td>A little girl wanted to eat cookies. It was la...</td>\n",
       "      <td>A little girl wanted to eat cookies. It was la...</td>\n",
       "      <td>0.745697</td>\n",
       "      <td>0.254303</td>\n",
       "      <td>0.745697</td>\n",
       "      <td>0</td>\n",
       "    </tr>\n",
       "    <tr>\n",
       "      <th>568</th>\n",
       "      <td>[1 2 3 4]</td>\n",
       "      <td>Samantha wanted to buy a gift for her boyfrien...</td>\n",
       "      <td>Samantha wanted to buy a gift for her boyfrien...</td>\n",
       "      <td>0.000561</td>\n",
       "      <td>0.999439</td>\n",
       "      <td>0.999439</td>\n",
       "      <td>1</td>\n",
       "    </tr>\n",
       "    <tr>\n",
       "      <th>609</th>\n",
       "      <td>[1 2 3 4]</td>\n",
       "      <td>Matthew was saving money to buy a new video ga...</td>\n",
       "      <td>Matthew was saving money to buy a new video ga...</td>\n",
       "      <td>0.002420</td>\n",
       "      <td>0.997580</td>\n",
       "      <td>0.997580</td>\n",
       "      <td>1</td>\n",
       "    </tr>\n",
       "    <tr>\n",
       "      <th>650</th>\n",
       "      <td>[1 2 3 4]</td>\n",
       "      <td>Casey was dying her hair. She followed all of ...</td>\n",
       "      <td>Casey was dying her hair. She followed all of ...</td>\n",
       "      <td>0.223094</td>\n",
       "      <td>0.776906</td>\n",
       "      <td>0.776906</td>\n",
       "      <td>1</td>\n",
       "    </tr>\n",
       "    <tr>\n",
       "      <th>687</th>\n",
       "      <td>[1 2 3 4]</td>\n",
       "      <td>Kelly's friend was a famous fashion designer. ...</td>\n",
       "      <td>Kelly's friend was a famous fashion designer. ...</td>\n",
       "      <td>0.737696</td>\n",
       "      <td>0.262304</td>\n",
       "      <td>0.737696</td>\n",
       "      <td>0</td>\n",
       "    </tr>\n",
       "    <tr>\n",
       "      <th>697</th>\n",
       "      <td>[1 2 3 4]</td>\n",
       "      <td>Barry was a clown at a child's birthday party....</td>\n",
       "      <td>Barry was a clown at a child's birthday party....</td>\n",
       "      <td>0.119686</td>\n",
       "      <td>0.880314</td>\n",
       "      <td>0.880314</td>\n",
       "      <td>1</td>\n",
       "    </tr>\n",
       "    <tr>\n",
       "      <th>713</th>\n",
       "      <td>[1 2 3 4]</td>\n",
       "      <td>Bob wanted to become a sculptor. He decided to...</td>\n",
       "      <td>Bob wanted to become a sculptor. He decided to...</td>\n",
       "      <td>0.117584</td>\n",
       "      <td>0.882416</td>\n",
       "      <td>0.882416</td>\n",
       "      <td>1</td>\n",
       "    </tr>\n",
       "    <tr>\n",
       "      <th>720</th>\n",
       "      <td>[1 2 3 4]</td>\n",
       "      <td>Mike has an English final the next morning. Du...</td>\n",
       "      <td>Mike has an English final the next morning. Du...</td>\n",
       "      <td>0.845044</td>\n",
       "      <td>0.154956</td>\n",
       "      <td>0.845044</td>\n",
       "      <td>0</td>\n",
       "    </tr>\n",
       "    <tr>\n",
       "      <th>815</th>\n",
       "      <td>[1 2 3 4]</td>\n",
       "      <td>Emily was afraid to learn to ride a bike. Her ...</td>\n",
       "      <td>Emily was afraid to learn to ride a bike. Her ...</td>\n",
       "      <td>0.999980</td>\n",
       "      <td>0.000020</td>\n",
       "      <td>0.999980</td>\n",
       "      <td>0</td>\n",
       "    </tr>\n",
       "    <tr>\n",
       "      <th>828</th>\n",
       "      <td>[1 2 3 4]</td>\n",
       "      <td>There was a guy named Carl. He wanted a new ph...</td>\n",
       "      <td>There was a guy named Carl. He wanted a new ph...</td>\n",
       "      <td>0.999837</td>\n",
       "      <td>0.000163</td>\n",
       "      <td>0.999837</td>\n",
       "      <td>0</td>\n",
       "    </tr>\n",
       "    <tr>\n",
       "      <th>859</th>\n",
       "      <td>[1 2 3 4]</td>\n",
       "      <td>Ron and his friends were hanging out late at n...</td>\n",
       "      <td>Ron and his friends were hanging out late at n...</td>\n",
       "      <td>0.020554</td>\n",
       "      <td>0.979446</td>\n",
       "      <td>0.979446</td>\n",
       "      <td>1</td>\n",
       "    </tr>\n",
       "    <tr>\n",
       "      <th>910</th>\n",
       "      <td>[1 2 3 4]</td>\n",
       "      <td>Alexa Raye used to get mistaken for being a ma...</td>\n",
       "      <td>Alexa Raye used to get mistaken for being a ma...</td>\n",
       "      <td>0.000785</td>\n",
       "      <td>0.999215</td>\n",
       "      <td>0.999215</td>\n",
       "      <td>1</td>\n",
       "    </tr>\n",
       "    <tr>\n",
       "      <th>917</th>\n",
       "      <td>[1 2 3 4]</td>\n",
       "      <td>I wanted some money. Alas, I was too young to ...</td>\n",
       "      <td>I wanted some money. Alas, I was too young to ...</td>\n",
       "      <td>0.269009</td>\n",
       "      <td>0.730991</td>\n",
       "      <td>0.730991</td>\n",
       "      <td>1</td>\n",
       "    </tr>\n",
       "    <tr>\n",
       "      <th>935</th>\n",
       "      <td>[1 2 3 4]</td>\n",
       "      <td>Greg was addicted to online games. It's all he...</td>\n",
       "      <td>Greg was addicted to online games. It's all he...</td>\n",
       "      <td>0.776979</td>\n",
       "      <td>0.223021</td>\n",
       "      <td>0.776979</td>\n",
       "      <td>0</td>\n",
       "    </tr>\n",
       "    <tr>\n",
       "      <th>...</th>\n",
       "      <td>...</td>\n",
       "      <td>...</td>\n",
       "      <td>...</td>\n",
       "      <td>...</td>\n",
       "      <td>...</td>\n",
       "      <td>...</td>\n",
       "      <td>...</td>\n",
       "    </tr>\n",
       "    <tr>\n",
       "      <th>44835</th>\n",
       "      <td>[1 2 3 4]</td>\n",
       "      <td>Blake was ready to move from his home state. H...</td>\n",
       "      <td>Blake was ready to move from his home state. H...</td>\n",
       "      <td>0.277163</td>\n",
       "      <td>0.722837</td>\n",
       "      <td>0.722837</td>\n",
       "      <td>1</td>\n",
       "    </tr>\n",
       "    <tr>\n",
       "      <th>44868</th>\n",
       "      <td>[1 2 3 4]</td>\n",
       "      <td>Candy got hired to work as a cook. The restaur...</td>\n",
       "      <td>Candy got hired to work as a cook. The restaur...</td>\n",
       "      <td>0.991315</td>\n",
       "      <td>0.008685</td>\n",
       "      <td>0.991315</td>\n",
       "      <td>0</td>\n",
       "    </tr>\n",
       "    <tr>\n",
       "      <th>44871</th>\n",
       "      <td>[1 2 3 4]</td>\n",
       "      <td>Megan had a crush on a boy. She was very nervo...</td>\n",
       "      <td>Megan had a crush on a boy. She was very nervo...</td>\n",
       "      <td>0.966001</td>\n",
       "      <td>0.033999</td>\n",
       "      <td>0.966001</td>\n",
       "      <td>0</td>\n",
       "    </tr>\n",
       "    <tr>\n",
       "      <th>44884</th>\n",
       "      <td>[1 2 3 4]</td>\n",
       "      <td>Gina's librarian handed her the books they ord...</td>\n",
       "      <td>Gina's librarian handed her the books they ord...</td>\n",
       "      <td>0.232450</td>\n",
       "      <td>0.767549</td>\n",
       "      <td>0.767549</td>\n",
       "      <td>1</td>\n",
       "    </tr>\n",
       "    <tr>\n",
       "      <th>44934</th>\n",
       "      <td>[1 2 3 4]</td>\n",
       "      <td>Dee was stirring the bubbling fudge mixture. S...</td>\n",
       "      <td>Dee was stirring the bubbling fudge mixture. S...</td>\n",
       "      <td>0.166841</td>\n",
       "      <td>0.833159</td>\n",
       "      <td>0.833159</td>\n",
       "      <td>1</td>\n",
       "    </tr>\n",
       "    <tr>\n",
       "      <th>44949</th>\n",
       "      <td>[1 2 3 4]</td>\n",
       "      <td>A man came to the hospital for open heart surg...</td>\n",
       "      <td>A man came to the hospital for open heart surg...</td>\n",
       "      <td>0.631146</td>\n",
       "      <td>0.368854</td>\n",
       "      <td>0.631146</td>\n",
       "      <td>0</td>\n",
       "    </tr>\n",
       "    <tr>\n",
       "      <th>44961</th>\n",
       "      <td>[1 2 3 4]</td>\n",
       "      <td>Yesterday I was hungry. I decided to make pota...</td>\n",
       "      <td>Yesterday I was hungry. I decided to make pota...</td>\n",
       "      <td>0.773031</td>\n",
       "      <td>0.226969</td>\n",
       "      <td>0.773031</td>\n",
       "      <td>0</td>\n",
       "    </tr>\n",
       "    <tr>\n",
       "      <th>44966</th>\n",
       "      <td>[1 2 3 4]</td>\n",
       "      <td>Vera's husband loved to watch TV and enjoyed a...</td>\n",
       "      <td>Vera's husband loved to watch TV and enjoyed a...</td>\n",
       "      <td>0.987166</td>\n",
       "      <td>0.012834</td>\n",
       "      <td>0.987166</td>\n",
       "      <td>0</td>\n",
       "    </tr>\n",
       "    <tr>\n",
       "      <th>45027</th>\n",
       "      <td>[1 2 3 4]</td>\n",
       "      <td>Bo wanted to add bulk to his slight frame. He ...</td>\n",
       "      <td>Bo wanted to add bulk to his slight frame. He ...</td>\n",
       "      <td>0.793153</td>\n",
       "      <td>0.206847</td>\n",
       "      <td>0.793153</td>\n",
       "      <td>0</td>\n",
       "    </tr>\n",
       "    <tr>\n",
       "      <th>45044</th>\n",
       "      <td>[1 2 3 4]</td>\n",
       "      <td>Last week was my girlfriend's birthday. I deci...</td>\n",
       "      <td>Last week was my girlfriend's birthday. I deci...</td>\n",
       "      <td>0.274244</td>\n",
       "      <td>0.725756</td>\n",
       "      <td>0.725756</td>\n",
       "      <td>1</td>\n",
       "    </tr>\n",
       "    <tr>\n",
       "      <th>45049</th>\n",
       "      <td>[1 2 3 4]</td>\n",
       "      <td>It was the end of the soccer season and we dec...</td>\n",
       "      <td>It was the end of the soccer season and we dec...</td>\n",
       "      <td>0.962483</td>\n",
       "      <td>0.037517</td>\n",
       "      <td>0.962483</td>\n",
       "      <td>0</td>\n",
       "    </tr>\n",
       "    <tr>\n",
       "      <th>45104</th>\n",
       "      <td>[1 2 3 4]</td>\n",
       "      <td>Byron's doctor said he needed to lose weight f...</td>\n",
       "      <td>Byron's doctor said he needed to lose weight f...</td>\n",
       "      <td>0.000315</td>\n",
       "      <td>0.999685</td>\n",
       "      <td>0.999685</td>\n",
       "      <td>1</td>\n",
       "    </tr>\n",
       "    <tr>\n",
       "      <th>45108</th>\n",
       "      <td>[1 2 3 4]</td>\n",
       "      <td>Lucy rented The Predator from Blockbuster. Her...</td>\n",
       "      <td>Lucy rented The Predator from Blockbuster. Her...</td>\n",
       "      <td>0.669466</td>\n",
       "      <td>0.330534</td>\n",
       "      <td>0.669466</td>\n",
       "      <td>0</td>\n",
       "    </tr>\n",
       "    <tr>\n",
       "      <th>45122</th>\n",
       "      <td>[1 2 3 4]</td>\n",
       "      <td>Paul decided to throw a costume party. Paul se...</td>\n",
       "      <td>Paul decided to throw a costume party. Paul se...</td>\n",
       "      <td>0.018310</td>\n",
       "      <td>0.981690</td>\n",
       "      <td>0.981690</td>\n",
       "      <td>1</td>\n",
       "    </tr>\n",
       "    <tr>\n",
       "      <th>45134</th>\n",
       "      <td>[1 2 3 4]</td>\n",
       "      <td>Selena has always done well in school. She had...</td>\n",
       "      <td>Selena has always done well in school. She had...</td>\n",
       "      <td>0.875533</td>\n",
       "      <td>0.124467</td>\n",
       "      <td>0.875533</td>\n",
       "      <td>0</td>\n",
       "    </tr>\n",
       "    <tr>\n",
       "      <th>45152</th>\n",
       "      <td>[1 2 3 4]</td>\n",
       "      <td>Tim was at a magic show. He loved it so much. ...</td>\n",
       "      <td>Tim was at a magic show. He loved it so much. ...</td>\n",
       "      <td>0.991797</td>\n",
       "      <td>0.008203</td>\n",
       "      <td>0.991797</td>\n",
       "      <td>0</td>\n",
       "    </tr>\n",
       "    <tr>\n",
       "      <th>45191</th>\n",
       "      <td>[1 2 3 4]</td>\n",
       "      <td>Jake trained hard to make his little league ba...</td>\n",
       "      <td>Jake trained hard to make his little league ba...</td>\n",
       "      <td>0.016767</td>\n",
       "      <td>0.983233</td>\n",
       "      <td>0.983233</td>\n",
       "      <td>1</td>\n",
       "    </tr>\n",
       "    <tr>\n",
       "      <th>45209</th>\n",
       "      <td>[1 2 3 4]</td>\n",
       "      <td>A man was doing laundry one fine day. He went ...</td>\n",
       "      <td>A man was doing laundry one fine day. He went ...</td>\n",
       "      <td>0.773967</td>\n",
       "      <td>0.226033</td>\n",
       "      <td>0.773967</td>\n",
       "      <td>0</td>\n",
       "    </tr>\n",
       "    <tr>\n",
       "      <th>45253</th>\n",
       "      <td>[1 2 3 4]</td>\n",
       "      <td>John was drunk and walking home one night. He ...</td>\n",
       "      <td>John was drunk and walking home one night. He ...</td>\n",
       "      <td>0.009874</td>\n",
       "      <td>0.990126</td>\n",
       "      <td>0.990126</td>\n",
       "      <td>1</td>\n",
       "    </tr>\n",
       "    <tr>\n",
       "      <th>45257</th>\n",
       "      <td>[1 2 3 4]</td>\n",
       "      <td>I was hungry, but had no food. I drove to a di...</td>\n",
       "      <td>I was hungry, but had no food. I drove to a di...</td>\n",
       "      <td>0.989698</td>\n",
       "      <td>0.010302</td>\n",
       "      <td>0.989698</td>\n",
       "      <td>0</td>\n",
       "    </tr>\n",
       "    <tr>\n",
       "      <th>45260</th>\n",
       "      <td>[1 2 3 4]</td>\n",
       "      <td>Sam decided to get healthier. He resolved to e...</td>\n",
       "      <td>Sam decided to get healthier. He resolved to e...</td>\n",
       "      <td>0.990435</td>\n",
       "      <td>0.009565</td>\n",
       "      <td>0.990435</td>\n",
       "      <td>0</td>\n",
       "    </tr>\n",
       "    <tr>\n",
       "      <th>45331</th>\n",
       "      <td>[1 2 3 4]</td>\n",
       "      <td>Diana was on a family trip. Her children neede...</td>\n",
       "      <td>Diana was on a family trip. Her children neede...</td>\n",
       "      <td>0.996426</td>\n",
       "      <td>0.003574</td>\n",
       "      <td>0.996426</td>\n",
       "      <td>0</td>\n",
       "    </tr>\n",
       "    <tr>\n",
       "      <th>45345</th>\n",
       "      <td>[1 2 3 4]</td>\n",
       "      <td>Tammy wanted to run for student council. She g...</td>\n",
       "      <td>Tammy wanted to run for student council. She g...</td>\n",
       "      <td>0.698536</td>\n",
       "      <td>0.301464</td>\n",
       "      <td>0.698536</td>\n",
       "      <td>0</td>\n",
       "    </tr>\n",
       "    <tr>\n",
       "      <th>45373</th>\n",
       "      <td>[1 2 3 4]</td>\n",
       "      <td>A photographer was in the city. He wanted to f...</td>\n",
       "      <td>A photographer was in the city. He wanted to f...</td>\n",
       "      <td>0.998400</td>\n",
       "      <td>0.001600</td>\n",
       "      <td>0.998400</td>\n",
       "      <td>0</td>\n",
       "    </tr>\n",
       "    <tr>\n",
       "      <th>45383</th>\n",
       "      <td>[1 2 3 4]</td>\n",
       "      <td>Gina was in the room in her house. The door kn...</td>\n",
       "      <td>Gina was in the room in her house. The door kn...</td>\n",
       "      <td>0.793065</td>\n",
       "      <td>0.206935</td>\n",
       "      <td>0.793065</td>\n",
       "      <td>0</td>\n",
       "    </tr>\n",
       "    <tr>\n",
       "      <th>45404</th>\n",
       "      <td>[1 2 3 4]</td>\n",
       "      <td>Bob wanted to become a vegetarian. His doctor ...</td>\n",
       "      <td>Bob wanted to become a vegetarian. His doctor ...</td>\n",
       "      <td>0.128384</td>\n",
       "      <td>0.871616</td>\n",
       "      <td>0.871616</td>\n",
       "      <td>1</td>\n",
       "    </tr>\n",
       "    <tr>\n",
       "      <th>45408</th>\n",
       "      <td>[1 2 3 4]</td>\n",
       "      <td>Oliver wanted to find a comfortable pair of sh...</td>\n",
       "      <td>Oliver wanted to find a comfortable pair of sh...</td>\n",
       "      <td>0.000011</td>\n",
       "      <td>0.999989</td>\n",
       "      <td>0.999989</td>\n",
       "      <td>1</td>\n",
       "    </tr>\n",
       "    <tr>\n",
       "      <th>45448</th>\n",
       "      <td>[1 2 3 4]</td>\n",
       "      <td>Rob needed new boots, but he couldn't afford t...</td>\n",
       "      <td>Rob needed new boots, but he couldn't afford t...</td>\n",
       "      <td>0.239637</td>\n",
       "      <td>0.760363</td>\n",
       "      <td>0.760363</td>\n",
       "      <td>1</td>\n",
       "    </tr>\n",
       "    <tr>\n",
       "      <th>45449</th>\n",
       "      <td>[1 2 3 4]</td>\n",
       "      <td>Stephen had a cold. He tried every medicine th...</td>\n",
       "      <td>Stephen had a cold. He tried every medicine th...</td>\n",
       "      <td>0.864739</td>\n",
       "      <td>0.135261</td>\n",
       "      <td>0.864739</td>\n",
       "      <td>0</td>\n",
       "    </tr>\n",
       "    <tr>\n",
       "      <th>45471</th>\n",
       "      <td>[1 2 3 4]</td>\n",
       "      <td>Neil was on a trip through Europe. He had just...</td>\n",
       "      <td>Neil was on a trip through Europe. He had just...</td>\n",
       "      <td>0.999952</td>\n",
       "      <td>0.000048</td>\n",
       "      <td>0.999952</td>\n",
       "      <td>0</td>\n",
       "    </tr>\n",
       "  </tbody>\n",
       "</table>\n",
       "<p>1659 rows × 7 columns</p>\n",
       "</div>"
      ],
      "text/plain": [
       "         shuffle                                             story1  \\\n",
       "41     [1 2 3 4]  Susan was excited to plan her first egg hunt i...   \n",
       "228    [1 2 3 4]  Josh wanted nothing more than world peace. He ...   \n",
       "243    [1 2 3 4]  Fred had a basketball game tonight. He was rat...   \n",
       "253    [1 2 3 4]  Maurice watched the clown bump his way through...   \n",
       "255    [1 2 3 4]  Lindsay was very interested in guitar lessons....   \n",
       "260    [1 2 3 4]  I was walking to my office complex. I noticed ...   \n",
       "285    [1 2 3 4]  My cousin decided to pick me up, and take me t...   \n",
       "372    [1 2 3 4]  Jennifer needed to travel for work. She bought...   \n",
       "410    [1 2 3 4]  Tim has never cooked for his family. He was ne...   \n",
       "428    [1 2 3 4]  Roger wanted to play tennis as well as Roger F...   \n",
       "432    [1 2 3 4]  Little Timmy wanted to grow up to be a race ca...   \n",
       "469    [1 2 3 4]  My teacher announced an important test. I went...   \n",
       "501    [1 2 3 4]  I went into the voting booth on election day. ...   \n",
       "529    [1 2 3 4]  Yuko is very hungry in her apartment. She deci...   \n",
       "541    [1 2 3 4]  I had ten thousand dollars. I decided to start...   \n",
       "544    [1 2 3 4]  Terri was always the best math student in her ...   \n",
       "548    [1 2 3 4]  A little girl wanted to eat cookies. It was la...   \n",
       "568    [1 2 3 4]  Samantha wanted to buy a gift for her boyfrien...   \n",
       "609    [1 2 3 4]  Matthew was saving money to buy a new video ga...   \n",
       "650    [1 2 3 4]  Casey was dying her hair. She followed all of ...   \n",
       "687    [1 2 3 4]  Kelly's friend was a famous fashion designer. ...   \n",
       "697    [1 2 3 4]  Barry was a clown at a child's birthday party....   \n",
       "713    [1 2 3 4]  Bob wanted to become a sculptor. He decided to...   \n",
       "720    [1 2 3 4]  Mike has an English final the next morning. Du...   \n",
       "815    [1 2 3 4]  Emily was afraid to learn to ride a bike. Her ...   \n",
       "828    [1 2 3 4]  There was a guy named Carl. He wanted a new ph...   \n",
       "859    [1 2 3 4]  Ron and his friends were hanging out late at n...   \n",
       "910    [1 2 3 4]  Alexa Raye used to get mistaken for being a ma...   \n",
       "917    [1 2 3 4]  I wanted some money. Alas, I was too young to ...   \n",
       "935    [1 2 3 4]  Greg was addicted to online games. It's all he...   \n",
       "...          ...                                                ...   \n",
       "44835  [1 2 3 4]  Blake was ready to move from his home state. H...   \n",
       "44868  [1 2 3 4]  Candy got hired to work as a cook. The restaur...   \n",
       "44871  [1 2 3 4]  Megan had a crush on a boy. She was very nervo...   \n",
       "44884  [1 2 3 4]  Gina's librarian handed her the books they ord...   \n",
       "44934  [1 2 3 4]  Dee was stirring the bubbling fudge mixture. S...   \n",
       "44949  [1 2 3 4]  A man came to the hospital for open heart surg...   \n",
       "44961  [1 2 3 4]  Yesterday I was hungry. I decided to make pota...   \n",
       "44966  [1 2 3 4]  Vera's husband loved to watch TV and enjoyed a...   \n",
       "45027  [1 2 3 4]  Bo wanted to add bulk to his slight frame. He ...   \n",
       "45044  [1 2 3 4]  Last week was my girlfriend's birthday. I deci...   \n",
       "45049  [1 2 3 4]  It was the end of the soccer season and we dec...   \n",
       "45104  [1 2 3 4]  Byron's doctor said he needed to lose weight f...   \n",
       "45108  [1 2 3 4]  Lucy rented The Predator from Blockbuster. Her...   \n",
       "45122  [1 2 3 4]  Paul decided to throw a costume party. Paul se...   \n",
       "45134  [1 2 3 4]  Selena has always done well in school. She had...   \n",
       "45152  [1 2 3 4]  Tim was at a magic show. He loved it so much. ...   \n",
       "45191  [1 2 3 4]  Jake trained hard to make his little league ba...   \n",
       "45209  [1 2 3 4]  A man was doing laundry one fine day. He went ...   \n",
       "45253  [1 2 3 4]  John was drunk and walking home one night. He ...   \n",
       "45257  [1 2 3 4]  I was hungry, but had no food. I drove to a di...   \n",
       "45260  [1 2 3 4]  Sam decided to get healthier. He resolved to e...   \n",
       "45331  [1 2 3 4]  Diana was on a family trip. Her children neede...   \n",
       "45345  [1 2 3 4]  Tammy wanted to run for student council. She g...   \n",
       "45373  [1 2 3 4]  A photographer was in the city. He wanted to f...   \n",
       "45383  [1 2 3 4]  Gina was in the room in her house. The door kn...   \n",
       "45404  [1 2 3 4]  Bob wanted to become a vegetarian. His doctor ...   \n",
       "45408  [1 2 3 4]  Oliver wanted to find a comfortable pair of sh...   \n",
       "45448  [1 2 3 4]  Rob needed new boots, but he couldn't afford t...   \n",
       "45449  [1 2 3 4]  Stephen had a cold. He tried every medicine th...   \n",
       "45471  [1 2 3 4]  Neil was on a trip through Europe. He had just...   \n",
       "\n",
       "                                                  story2         0         1  \\\n",
       "41     Susan was excited to plan her first egg hunt i...  0.989628  0.010372   \n",
       "228    Josh wanted nothing more than world peace. He ...  0.000278  0.999722   \n",
       "243    Fred had a basketball game tonight. He was rat...  0.999998  0.000002   \n",
       "253    Maurice watched the clown bump his way through...  0.240530  0.759470   \n",
       "255    Lindsay was very interested in guitar lessons....  0.167398  0.832602   \n",
       "260    I was walking to my office complex. I noticed ...  0.364761  0.635239   \n",
       "285    My cousin decided to pick me up, and take me t...  0.004362  0.995638   \n",
       "372    Jennifer needed to travel for work. She bought...  0.029068  0.970932   \n",
       "410    Tim has never cooked for his family. He was ne...  0.624466  0.375534   \n",
       "428    Roger wanted to play tennis as well as Roger F...  0.688027  0.311973   \n",
       "432    Little Timmy wanted to grow up to be a race ca...  0.999984  0.000016   \n",
       "469    My teacher announced an important test. I went...  0.378743  0.621257   \n",
       "501    I went into the voting booth on election day. ...  0.986364  0.013636   \n",
       "529    Yuko is very hungry in her apartment. She deci...  0.399291  0.600709   \n",
       "541    I had ten thousand dollars. I decided to start...  0.659015  0.340985   \n",
       "544    Terri was always the best math student in her ...  0.018968  0.981032   \n",
       "548    A little girl wanted to eat cookies. It was la...  0.745697  0.254303   \n",
       "568    Samantha wanted to buy a gift for her boyfrien...  0.000561  0.999439   \n",
       "609    Matthew was saving money to buy a new video ga...  0.002420  0.997580   \n",
       "650    Casey was dying her hair. She followed all of ...  0.223094  0.776906   \n",
       "687    Kelly's friend was a famous fashion designer. ...  0.737696  0.262304   \n",
       "697    Barry was a clown at a child's birthday party....  0.119686  0.880314   \n",
       "713    Bob wanted to become a sculptor. He decided to...  0.117584  0.882416   \n",
       "720    Mike has an English final the next morning. Du...  0.845044  0.154956   \n",
       "815    Emily was afraid to learn to ride a bike. Her ...  0.999980  0.000020   \n",
       "828    There was a guy named Carl. He wanted a new ph...  0.999837  0.000163   \n",
       "859    Ron and his friends were hanging out late at n...  0.020554  0.979446   \n",
       "910    Alexa Raye used to get mistaken for being a ma...  0.000785  0.999215   \n",
       "917    I wanted some money. Alas, I was too young to ...  0.269009  0.730991   \n",
       "935    Greg was addicted to online games. It's all he...  0.776979  0.223021   \n",
       "...                                                  ...       ...       ...   \n",
       "44835  Blake was ready to move from his home state. H...  0.277163  0.722837   \n",
       "44868  Candy got hired to work as a cook. The restaur...  0.991315  0.008685   \n",
       "44871  Megan had a crush on a boy. She was very nervo...  0.966001  0.033999   \n",
       "44884  Gina's librarian handed her the books they ord...  0.232450  0.767549   \n",
       "44934  Dee was stirring the bubbling fudge mixture. S...  0.166841  0.833159   \n",
       "44949  A man came to the hospital for open heart surg...  0.631146  0.368854   \n",
       "44961  Yesterday I was hungry. I decided to make pota...  0.773031  0.226969   \n",
       "44966  Vera's husband loved to watch TV and enjoyed a...  0.987166  0.012834   \n",
       "45027  Bo wanted to add bulk to his slight frame. He ...  0.793153  0.206847   \n",
       "45044  Last week was my girlfriend's birthday. I deci...  0.274244  0.725756   \n",
       "45049  It was the end of the soccer season and we dec...  0.962483  0.037517   \n",
       "45104  Byron's doctor said he needed to lose weight f...  0.000315  0.999685   \n",
       "45108  Lucy rented The Predator from Blockbuster. Her...  0.669466  0.330534   \n",
       "45122  Paul decided to throw a costume party. Paul se...  0.018310  0.981690   \n",
       "45134  Selena has always done well in school. She had...  0.875533  0.124467   \n",
       "45152  Tim was at a magic show. He loved it so much. ...  0.991797  0.008203   \n",
       "45191  Jake trained hard to make his little league ba...  0.016767  0.983233   \n",
       "45209  A man was doing laundry one fine day. He went ...  0.773967  0.226033   \n",
       "45253  John was drunk and walking home one night. He ...  0.009874  0.990126   \n",
       "45257  I was hungry, but had no food. I drove to a di...  0.989698  0.010302   \n",
       "45260  Sam decided to get healthier. He resolved to e...  0.990435  0.009565   \n",
       "45331  Diana was on a family trip. Her children neede...  0.996426  0.003574   \n",
       "45345  Tammy wanted to run for student council. She g...  0.698536  0.301464   \n",
       "45373  A photographer was in the city. He wanted to f...  0.998400  0.001600   \n",
       "45383  Gina was in the room in her house. The door kn...  0.793065  0.206935   \n",
       "45404  Bob wanted to become a vegetarian. His doctor ...  0.128384  0.871616   \n",
       "45408  Oliver wanted to find a comfortable pair of sh...  0.000011  0.999989   \n",
       "45448  Rob needed new boots, but he couldn't afford t...  0.239637  0.760363   \n",
       "45449  Stephen had a cold. He tried every medicine th...  0.864739  0.135261   \n",
       "45471  Neil was on a trip through Europe. He had just...  0.999952  0.000048   \n",
       "\n",
       "            max  pred  \n",
       "41     0.989628     0  \n",
       "228    0.999722     1  \n",
       "243    0.999998     0  \n",
       "253    0.759470     1  \n",
       "255    0.832602     1  \n",
       "260    0.635239     1  \n",
       "285    0.995638     1  \n",
       "372    0.970932     1  \n",
       "410    0.624466     0  \n",
       "428    0.688027     0  \n",
       "432    0.999984     0  \n",
       "469    0.621257     1  \n",
       "501    0.986364     0  \n",
       "529    0.600709     1  \n",
       "541    0.659015     0  \n",
       "544    0.981032     1  \n",
       "548    0.745697     0  \n",
       "568    0.999439     1  \n",
       "609    0.997580     1  \n",
       "650    0.776906     1  \n",
       "687    0.737696     0  \n",
       "697    0.880314     1  \n",
       "713    0.882416     1  \n",
       "720    0.845044     0  \n",
       "815    0.999980     0  \n",
       "828    0.999837     0  \n",
       "859    0.979446     1  \n",
       "910    0.999215     1  \n",
       "917    0.730991     1  \n",
       "935    0.776979     0  \n",
       "...         ...   ...  \n",
       "44835  0.722837     1  \n",
       "44868  0.991315     0  \n",
       "44871  0.966001     0  \n",
       "44884  0.767549     1  \n",
       "44934  0.833159     1  \n",
       "44949  0.631146     0  \n",
       "44961  0.773031     0  \n",
       "44966  0.987166     0  \n",
       "45027  0.793153     0  \n",
       "45044  0.725756     1  \n",
       "45049  0.962483     0  \n",
       "45104  0.999685     1  \n",
       "45108  0.669466     0  \n",
       "45122  0.981690     1  \n",
       "45134  0.875533     0  \n",
       "45152  0.991797     0  \n",
       "45191  0.983233     1  \n",
       "45209  0.773967     0  \n",
       "45253  0.990126     1  \n",
       "45257  0.989698     0  \n",
       "45260  0.990435     0  \n",
       "45331  0.996426     0  \n",
       "45345  0.698536     0  \n",
       "45373  0.998400     0  \n",
       "45383  0.793065     0  \n",
       "45404  0.871616     1  \n",
       "45408  0.999989     1  \n",
       "45448  0.760363     1  \n",
       "45449  0.864739     0  \n",
       "45471  0.999952     0  \n",
       "\n",
       "[1659 rows x 7 columns]"
      ]
     },
     "execution_count": 18,
     "metadata": {},
     "output_type": "execute_result"
    }
   ],
   "source": [
    "No[No['max']>0.6]"
   ]
  },
  {
   "cell_type": "markdown",
   "metadata": {
    "heading_collapsed": true
   },
   "source": [
    "### spacy"
   ]
  },
  {
   "cell_type": "code",
   "execution_count": 1,
   "metadata": {
    "ExecuteTime": {
     "end_time": "2018-08-23T03:11:44.149886Z",
     "start_time": "2018-08-23T03:11:43.542277Z"
    },
    "hidden": true
   },
   "outputs": [
    {
     "name": "stderr",
     "output_type": "stream",
     "text": [
      "/Users/xuhuimin/anaconda3/lib/python3.6/importlib/_bootstrap.py:205: RuntimeWarning: numpy.dtype size changed, may indicate binary incompatibility. Expected 96, got 88\n",
      "  return f(*args, **kwds)\n",
      "/Users/xuhuimin/anaconda3/lib/python3.6/importlib/_bootstrap.py:205: RuntimeWarning: numpy.ufunc size changed, may indicate binary incompatibility. Expected 192, got 176\n",
      "  return f(*args, **kwds)\n"
     ]
    }
   ],
   "source": [
    "import spacy"
   ]
  },
  {
   "cell_type": "code",
   "execution_count": 2,
   "metadata": {
    "ExecuteTime": {
     "end_time": "2018-08-23T03:11:45.622972Z",
     "start_time": "2018-08-23T03:11:44.945484Z"
    },
    "hidden": true
   },
   "outputs": [
    {
     "name": "stderr",
     "output_type": "stream",
     "text": [
      "/Users/xuhuimin/anaconda3/lib/python3.6/importlib/_bootstrap.py:205: RuntimeWarning: numpy.dtype size changed, may indicate binary incompatibility. Expected 96, got 88\n",
      "  return f(*args, **kwds)\n",
      "/Users/xuhuimin/anaconda3/lib/python3.6/importlib/_bootstrap.py:205: RuntimeWarning: numpy.ufunc size changed, may indicate binary incompatibility. Expected 192, got 176\n",
      "  return f(*args, **kwds)\n"
     ]
    }
   ],
   "source": [
    "nlp=spacy.load('en')"
   ]
  },
  {
   "cell_type": "code",
   "execution_count": 72,
   "metadata": {
    "ExecuteTime": {
     "end_time": "2018-08-23T03:54:39.807414Z",
     "start_time": "2018-08-23T03:54:39.800482Z"
    },
    "hidden": true
   },
   "outputs": [],
   "source": [
    "document=[\"Cinderella was a lovely girl. \",\n",
    "\"Her old mother died. \",\n",
    "\"Her father married a wife, \", \n",
    "\"and the stepmother has brought two elder sisters, \",\n",
    "\"She does a lot of housework everyday. \",\n",
    "\"So the girl's clothes were very dirty. \",\n",
    "\"Everybody called her Cinderella. \",\n",
    "\"The prince gave all the females an invitation, \", \n",
    "\"asked them to come in the palace to join the dance party. \", \n",
    "\"But Cinderella’s stepmother didn’t let her go. \",\n",
    "\"The day of the party arrived. Cinderella met a fairy godmother. \",\n",
    "\"She gave Cinderella a coach, two shoots, two horses and a beautiful dress. \",\n",
    "\"But magic will stop working at midnight. \",\n",
    "\"Cinderella arrived at the palace and walked into the dance hall. \", \n",
    "\"The Prince saw her. He danced only with Cinderella, and he fell in love with her. \",\n",
    "\"A clock chiming reminded Cinderella of her fairy godmother's warning. \",\n",
    "\"She ran out of the palace. The Prince only found Cinderella’s one glass shoot. \",\n",
    "\"The next morning, The Prince proclaimed: Whoever the shoot fits, shall be wife to him. \",\n",
    "\"He arrived at the stepmother's house. \",\n",
    "\"And Cinderella’s sisters can’t fit the shoot. But she can. \",\n",
    "\"Then Cinderella took the other shoot from her pocket and put it on. \",\n",
    "\"Finally, the Prince and Cinderella were married. They lived happily ever after. \"]"
   ]
  },
  {
   "cell_type": "code",
   "execution_count": 73,
   "metadata": {
    "ExecuteTime": {
     "end_time": "2018-08-23T03:54:40.895203Z",
     "start_time": "2018-08-23T03:54:40.891558Z"
    },
    "hidden": true
   },
   "outputs": [],
   "source": [
    "document=''.join(document)"
   ]
  },
  {
   "cell_type": "code",
   "execution_count": 74,
   "metadata": {
    "ExecuteTime": {
     "end_time": "2018-08-23T03:54:42.120184Z",
     "start_time": "2018-08-23T03:54:42.068191Z"
    },
    "hidden": true
   },
   "outputs": [],
   "source": [
    "document=nlp(document)"
   ]
  },
  {
   "cell_type": "code",
   "execution_count": 75,
   "metadata": {
    "ExecuteTime": {
     "end_time": "2018-08-23T03:54:42.942195Z",
     "start_time": "2018-08-23T03:54:42.937431Z"
    },
    "hidden": true
   },
   "outputs": [
    {
     "data": {
      "text/plain": [
       "spacy.tokens.doc.Doc"
      ]
     },
     "execution_count": 75,
     "metadata": {},
     "output_type": "execute_result"
    }
   ],
   "source": [
    "type(document)"
   ]
  },
  {
   "cell_type": "code",
   "execution_count": 76,
   "metadata": {
    "ExecuteTime": {
     "end_time": "2018-08-23T03:54:43.514460Z",
     "start_time": "2018-08-23T03:54:43.509336Z"
    },
    "hidden": true,
    "scrolled": true
   },
   "outputs": [
    {
     "data": {
      "text/plain": [
       "247"
      ]
     },
     "execution_count": 76,
     "metadata": {},
     "output_type": "execute_result"
    }
   ],
   "source": [
    "len(document)"
   ]
  },
  {
   "cell_type": "code",
   "execution_count": 77,
   "metadata": {
    "ExecuteTime": {
     "end_time": "2018-08-23T03:54:44.420054Z",
     "start_time": "2018-08-23T03:54:44.414731Z"
    },
    "hidden": true
   },
   "outputs": [
    {
     "data": {
      "text/plain": [
       "'VERB'"
      ]
     },
     "execution_count": 77,
     "metadata": {},
     "output_type": "execute_result"
    }
   ],
   "source": [
    "document[1].pos_"
   ]
  },
  {
   "cell_type": "code",
   "execution_count": 78,
   "metadata": {
    "ExecuteTime": {
     "end_time": "2018-08-23T03:54:45.690468Z",
     "start_time": "2018-08-23T03:54:45.686975Z"
    },
    "hidden": true
   },
   "outputs": [],
   "source": [
    "all_tags={w.pos:w.pos_ for w in document}"
   ]
  },
  {
   "cell_type": "code",
   "execution_count": 79,
   "metadata": {
    "ExecuteTime": {
     "end_time": "2018-08-23T03:54:46.670372Z",
     "start_time": "2018-08-23T03:54:46.665429Z"
    },
    "hidden": true,
    "scrolled": true
   },
   "outputs": [
    {
     "data": {
      "text/plain": [
       "{83: 'ADJ',\n",
       " 84: 'ADP',\n",
       " 85: 'ADV',\n",
       " 88: 'CCONJ',\n",
       " 89: 'DET',\n",
       " 91: 'NOUN',\n",
       " 92: 'NUM',\n",
       " 93: 'PART',\n",
       " 94: 'PRON',\n",
       " 95: 'PROPN',\n",
       " 96: 'PUNCT',\n",
       " 99: 'VERB'}"
      ]
     },
     "execution_count": 79,
     "metadata": {},
     "output_type": "execute_result"
    }
   ],
   "source": [
    "all_tags"
   ]
  },
  {
   "cell_type": "code",
   "execution_count": 80,
   "metadata": {
    "ExecuteTime": {
     "end_time": "2018-08-23T03:54:47.816542Z",
     "start_time": "2018-08-23T03:54:47.807446Z"
    },
    "hidden": true
   },
   "outputs": [
    {
     "name": "stdout",
     "output_type": "stream",
     "text": [
      "Everybody NN\n",
      "called VBD\n",
      "her PRP$\n",
      "Cinderella NNP\n",
      ". .\n"
     ]
    }
   ],
   "source": [
    "for word in list(document.sents)[4]:\n",
    "    print(word,word.tag_)"
   ]
  },
  {
   "cell_type": "code",
   "execution_count": 81,
   "metadata": {
    "ExecuteTime": {
     "end_time": "2018-08-23T03:55:11.925425Z",
     "start_time": "2018-08-23T03:55:11.909804Z"
    },
    "hidden": true
   },
   "outputs": [],
   "source": [
    "#define some parameters  \n",
    "noisy_pos_tags = [\"SPACE\"]\n",
    "min_token_length = 2\n",
    " \n",
    "#Function to check if the token is a noise or not  \n",
    "def isNoise(token):     \n",
    "    is_noise = False\n",
    "    if token.pos_ in noisy_pos_tags:\n",
    "        is_noise = True \n",
    "    elif token.is_stop == True:\n",
    "        is_noise = True\n",
    "    elif len(token.string) <= min_token_length:\n",
    "        is_noise = True\n",
    "    return is_noise \n",
    "def cleanup(token, lower = True):\n",
    "    if lower:\n",
    "        token = token.lower() \n",
    "    return token.strip()\n",
    "from collections import Counter\n",
    "cleaned_list = [cleanup(word.string) for word in document if not isNoise(word)]\n"
   ]
  },
  {
   "cell_type": "code",
   "execution_count": 82,
   "metadata": {
    "ExecuteTime": {
     "end_time": "2018-08-23T03:55:13.129141Z",
     "start_time": "2018-08-23T03:55:13.124060Z"
    },
    "hidden": true,
    "scrolled": true
   },
   "outputs": [
    {
     "data": {
      "text/plain": [
       "[('cinderella', 12), ('the', 6)]"
      ]
     },
     "execution_count": 82,
     "metadata": {},
     "output_type": "execute_result"
    }
   ],
   "source": [
    "Counter(cleaned_list).most_common(2)"
   ]
  },
  {
   "cell_type": "code",
   "execution_count": 83,
   "metadata": {
    "ExecuteTime": {
     "end_time": "2018-08-23T03:55:17.572993Z",
     "start_time": "2018-08-23T03:55:17.569192Z"
    },
    "hidden": true
   },
   "outputs": [],
   "source": [
    "labels = set([w.label_ for w in document.ents]) "
   ]
  },
  {
   "cell_type": "code",
   "execution_count": 84,
   "metadata": {
    "ExecuteTime": {
     "end_time": "2018-08-23T03:55:18.266463Z",
     "start_time": "2018-08-23T03:55:18.262036Z"
    },
    "hidden": true
   },
   "outputs": [
    {
     "data": {
      "text/plain": [
       "{'CARDINAL', 'DATE', 'FAC', 'PERSON', 'TIME'}"
      ]
     },
     "execution_count": 84,
     "metadata": {},
     "output_type": "execute_result"
    }
   ],
   "source": [
    "labels"
   ]
  },
  {
   "cell_type": "code",
   "execution_count": 85,
   "metadata": {
    "ExecuteTime": {
     "end_time": "2018-08-23T03:55:21.129787Z",
     "start_time": "2018-08-23T03:55:21.117763Z"
    },
    "hidden": true,
    "scrolled": true
   },
   "outputs": [
    {
     "name": "stdout",
     "output_type": "stream",
     "text": [
      "DATE ['The day']\n",
      "TIME ['midnight', 'The next morning']\n",
      "PERSON ['Cinderella']\n",
      "FAC ['Cinderella']\n",
      "CARDINAL ['two', 'one']\n"
     ]
    }
   ],
   "source": [
    "for label in labels: \n",
    "    entities = [cleanup(e.string, lower=False) for e in document.ents if label==e.label_] \n",
    "    entities = list(set(entities)) \n",
    "    print (label,entities)"
   ]
  },
  {
   "cell_type": "code",
   "execution_count": 102,
   "metadata": {
    "ExecuteTime": {
     "end_time": "2018-08-23T04:03:11.973942Z",
     "start_time": "2018-08-23T04:03:11.961280Z"
    },
    "hidden": true
   },
   "outputs": [
    {
     "data": {
      "text/plain": [
       "[]"
      ]
     },
     "execution_count": 102,
     "metadata": {},
     "output_type": "execute_result"
    }
   ],
   "source": [
    "def pos_words (document, token, pos_tag):\n",
    "    sentences = [sent for sent in document.sents if token in sent.string]     \n",
    "    pwrds = []\n",
    "    for sent in sentences:\n",
    "        for word in sent:\n",
    "            if token in word.string: \n",
    "                   pwrds.extend([child.string.strip() for child in word.children\n",
    "                                                      if child.pos_ == pos_tag] )\n",
    "    return Counter(pwrds).most_common(10)\n",
    "\n",
    "pos_words(document, 'Cinderella', \"VERB\")"
   ]
  },
  {
   "cell_type": "code",
   "execution_count": null,
   "metadata": {
    "hidden": true
   },
   "outputs": [],
   "source": []
  },
  {
   "cell_type": "code",
   "execution_count": null,
   "metadata": {
    "hidden": true
   },
   "outputs": [],
   "source": []
  }
 ],
 "metadata": {
  "kernelspec": {
   "display_name": "Python 3",
   "language": "python",
   "name": "python3"
  },
  "language_info": {
   "codemirror_mode": {
    "name": "ipython",
    "version": 3
   },
   "file_extension": ".py",
   "mimetype": "text/x-python",
   "name": "python",
   "nbconvert_exporter": "python",
   "pygments_lexer": "ipython3",
   "version": "3.6.2"
  },
  "toc": {
   "nav_menu": {},
   "number_sections": true,
   "sideBar": true,
   "skip_h1_title": false,
   "title_cell": "Table of Contents",
   "title_sidebar": "Contents",
   "toc_cell": false,
   "toc_position": {},
   "toc_section_display": true,
   "toc_window_display": false
  }
 },
 "nbformat": 4,
 "nbformat_minor": 2
}
