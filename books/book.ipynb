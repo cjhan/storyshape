{
 "cells": [
  {
   "cell_type": "code",
   "execution_count": 1,
   "metadata": {},
   "outputs": [
    {
     "name": "stderr",
     "output_type": "stream",
     "text": [
      "/home/sysadmin/anaconda3/lib/python3.6/site-packages/statsmodels/compat/pandas.py:56: FutureWarning: The pandas.core.datetools module is deprecated and will be removed in a future version. Please use the pandas.tseries module instead.\n",
      "  from pandas.core import datetools\n"
     ]
    }
   ],
   "source": [
    "from scipy.stats import chisquare\n",
    "from scipy import stats\n",
    "import urllib.request\n",
    "import string\n",
    "import requests\n",
    "from bs4 import BeautifulSoup\n",
    "import pandas as pd\n",
    "import multiprocessing\n",
    "import gensim\n",
    "import sys\n",
    "import spacy\n",
    "nlp=spacy.load('en')\n",
    "import seaborn as sns\n",
    "from nltk.tokenize import WordPunctTokenizer\n",
    "tknzr = WordPunctTokenizer()\n",
    "from gensim.models import Word2Vec\n",
    "from gensim.models import KeyedVectors\n",
    "from scipy import spatial\n",
    "from collections import Counter\n",
    "import numpy as np\n",
    "from collections import defaultdict\n",
    "from pprint import pprint\n",
    "from gensim import corpora\n",
    "import re\n",
    "import logging\n",
    "import requests\n",
    "import urllib \n",
    "import re\n",
    "import sys\n",
    "import zipfile\n",
    "from glob import glob\n",
    "import statsmodels.api as sm\n",
    "import scipy\n",
    "import scipy.stats as ss\n",
    "from scipy.signal import savgol_filter\n",
    "import random\n",
    "# np.set_printoptions(precision=4)\n",
    "logging.basicConfig(format='%(asctime)s : %(levelname)s : %(message)s', level=logging.INFO)\n",
    "\n",
    "import matplotlib.pyplot as plt\n",
    "%matplotlib inline\n",
    "\n",
    "\n",
    "from sklearn import metrics\n",
    "from sklearn.cluster import KMeans\n",
    "# from the demo\n",
    "from sklearn.datasets import load_digits\n",
    "from sklearn.decomposition import PCA\n",
    "from sklearn.decomposition import TruncatedSVD\n",
    "from sklearn.decomposition import NMF\n",
    "from sklearn.preprocessing import scale\n",
    "from sklearn.linear_model import LogisticRegression\n",
    "from sklearn.model_selection import train_test_split\n",
    "from sklearn.metrics import accuracy_score\n",
    "from nltk.corpus import stopwords\n",
    "from nltk.corpus import names\n",
    "pd.set_option('display.max_columns',None)\n",
    "pd.set_option('display.max_rows',None)"
   ]
  },
  {
   "cell_type": "code",
   "execution_count": 2,
   "metadata": {
    "collapsed": true
   },
   "outputs": [],
   "source": [
    "def flushPrint(s):\n",
    "    sys.stdout.write('\\r')\n",
    "    sys.stdout.write('%s' % s)\n",
    "    sys.stdout.flush()\n",
    "    \n",
    "def normalize(v):\n",
    "    norm = np.linalg.norm(v)\n",
    "    if norm == 0:\n",
    "        return v\n",
    "    return v / norm\n",
    "\n",
    "def cultureD2(model, words):\n",
    "    cultures = []\n",
    "    for word in words:\n",
    "        if (word[0] in model.wv.vocab) & (word[1] in model.wv.vocab):\n",
    "            cultures.append(normalize(normalize(model[word[0]]) - normalize(model[word[1]])))\n",
    "        else:\n",
    "            print(word)\n",
    "    culturev = normalize(np.mean(cultures, axis=0))\n",
    "    return culturev\n",
    "\n",
    "def storyv(model,words):\n",
    "    veclist=[]\n",
    "    for w in words:\n",
    "        if w in model.wv.vocab:\n",
    "            veclist.append(normalize(model[w]))\n",
    "    storyv=normalize(np.mean(veclist,axis=0))\n",
    "    return storyv\n",
    "\n",
    "def projection(storyv, culturev):\n",
    "    # cosine similarity\n",
    "    return (1 - spatial.distance.cosine(storyv, culturev))\n",
    "           \n",
    "def cosine2angle(i):\n",
    "    return np.arccos(i) / np.pi * 180 #长度换角度\n",
    "\n",
    "def normalized(x):\n",
    "    x= np.array(x)\n",
    "    return (x-np.mean(x))/np.std(x)\n",
    "\n",
    "def normalization(x):\n",
    "    x=np.array(x)\n",
    "    return (x-np.min(x))/(np.max(x)-np.min(x))"
   ]
  },
  {
   "cell_type": "code",
   "execution_count": 3,
   "metadata": {
    "collapsed": true
   },
   "outputs": [],
   "source": [
    "swords = [\n",
    "    ['success','failure'],\n",
    "    ['succeed','fail'],\n",
    "    ['lucky', 'unlucky'],\n",
    "    ['fortunate', 'unfortunate'],\n",
    "    ['happy', 'unhappy'],\n",
    "    ['glad', 'sad'],\n",
    "    ['joy', 'sorrow'],\n",
    "    ['smile', 'tear']\n",
    "] # success words"
   ]
  },
  {
   "cell_type": "code",
   "execution_count": 4,
   "metadata": {},
   "outputs": [],
   "source": [
    "# Load Google's pre-trained Word2Vec model.\n",
    "# model = gensim.models.KeyedVectors.load_word2vec_format('GoogleNews-vectors-negative300.bin',binary=True)"
   ]
  },
  {
   "cell_type": "code",
   "execution_count": 6,
   "metadata": {},
   "outputs": [],
   "source": [
    "# success_vector = cultureD2(model, swords)\n",
    "# success_word = [i[0] for i in model.similar_by_vector(success_vector, 1)]"
   ]
  },
  {
   "cell_type": "code",
   "execution_count": 7,
   "metadata": {
    "collapsed": true
   },
   "outputs": [],
   "source": [
    "def flushPrint(s):\n",
    "    sys.stdout.write('\\r')\n",
    "    sys.stdout.write('%s' % s)\n",
    "    sys.stdout.flush()"
   ]
  },
  {
   "cell_type": "code",
   "execution_count": 8,
   "metadata": {
    "collapsed": true
   },
   "outputs": [],
   "source": [
    "def main_character(lead):\n",
    "    lead=[i.title() for i in lead]\n",
    "    film_name_list = (set(lead) & set(male_names)) |\\\n",
    "                    (set(lead) & set(female_names))\n",
    "    film_script_wordlist_counter = Counter(lead)\n",
    "    df = pd.DataFrame([[i, film_script_wordlist_counter[i]] for i in film_name_list]\\\n",
    "                                      , columns=['name', 'count'])\n",
    "    df['gender']=df['name'].apply(lambda x:'male' if x in male_names else 'female')\n",
    "    df=df.sort_values(by='count', ascending=False)\n",
    "    lead = df['name'].values[0]\n",
    "    lead_gender=df['gender'].values[0]\n",
    "    if lead_gender=='female':\n",
    "        lead1=df[df['gender']=='male']['name'].values[0]\n",
    "    else:\n",
    "        lead1=df[df['gender']=='female']['name'].values[0]\n",
    "    return lead,lead_gender,lead1"
   ]
  },
  {
   "cell_type": "code",
   "execution_count": 8,
   "metadata": {
    "collapsed": true
   },
   "outputs": [],
   "source": [
    "# data=pd.read_csv('./gender.txt',sep=',',names=['name','gender'])\n",
    "# data=data.dropna(axis=0,how='any')\n",
    "# data['name']=data['name'].apply(lambda x:x.title() if type(x)==str else print(x))\n",
    "# male_names=data[data['gender']=='male']['name'].values\n",
    "# female_names=data[data['gender']=='female']['name'].values\n",
    "# all_names=data['name'].values"
   ]
  },
  {
   "cell_type": "code",
   "execution_count": 2,
   "metadata": {
    "collapsed": true
   },
   "outputs": [],
   "source": [
    "# data=pd.read_csv('./gutenberg/metadata.csv')\n",
    "# data=data[data['lang']=='English']\n",
    "# data['class']=data['loc_class'].apply(lambda x: [i[0] for i in x.split('|') if i[0] in [str(chr(i)) for i in range(65,91)]])\n",
    "# data['judge']=data['class'].apply(lambda x:True if 'P' in x else False)\n",
    "# data=data[data['judge']==True]"
   ]
  },
  {
   "cell_type": "code",
   "execution_count": 9,
   "metadata": {
    "collapsed": true
   },
   "outputs": [],
   "source": [
    "# 获取名字，性别数据列表\n",
    "from nltk.corpus import names\n",
    "male_names = [name for name in names.words('male.txt')]\n",
    "female_names = [name for name in names.words('female.txt')]\n",
    "names = male_names+female_names"
   ]
  },
  {
   "cell_type": "code",
   "execution_count": 10,
   "metadata": {
    "collapsed": true
   },
   "outputs": [],
   "source": [
    "with open('./stopword.txt','r') as f:\n",
    "    stopword=f.readlines()\n",
    "stopword=[i.split('\\n')[0] for i in stopword]"
   ]
  },
  {
   "cell_type": "code",
   "execution_count": 11,
   "metadata": {
    "collapsed": true
   },
   "outputs": [],
   "source": [
    "def get_maintext_lines_gutenberg(raw_text):\n",
    "    lines = raw_text.split(\"\\n\")\n",
    "    start_book_i = 0\n",
    "    end_book_i = len(lines)-1\n",
    "    # pass 1, this format is easy and gets 78.9% of books\n",
    "    start1=\"START OF THIS PROJECT GUTENBERG EBOOK\"\n",
    "    start2=\"START OF THE PROJECT GUTENBERG EBOOK\"\n",
    "    end1=\"END OF THIS PROJECT GUTENBERG EBOOK\"\n",
    "    end2=\"END OF THE PROJECT GUTENBERG EBOOK\"\n",
    "    end3=\"END OF PROJECT GUTENBERG\"\n",
    "    for j,line in enumerate(lines):\n",
    "        if (start1 in line) or (start2 in line):\n",
    "            # and \"***\" in line and start_book[i] == 0 and j<.25*len(lines):\n",
    "            start_book_i = j\n",
    "        end_in_line = end1 in line or end2 in line or end3 in line.upper()\n",
    "        if end_in_line and (end_book_i == (len(lines)-1)):\n",
    "            #  and \"***\" in line and j>.75*len(lines)\n",
    "            end_book_i = j\n",
    "    # pass 2, this will bring us to 99%\n",
    "    if (start_book_i == 0) and (end_book_i == len(lines)-1):\n",
    "        for j,line in enumerate(lines):\n",
    "            if (\"end\" in line.lower() or \"****\" in line) and  \"small print\" in line.lower() and j<.5*len(lines):\n",
    "                start_book_i = j\n",
    "            if \"end\" in line.lower() and \"project gutenberg\" in line.lower() and j>.75*len(lines):\n",
    "                end_book_i = j\n",
    "        # pass three, caught them all (check)\n",
    "        if end_book_i == len(lines)-1:\n",
    "            for j,line in enumerate(lines):\n",
    "                if \"THE END\" in line and j>.9*len(lines):\n",
    "                    end_book_i = j\n",
    "    return lines[(start_book_i+1):(end_book_i)]"
   ]
  },
  {
   "cell_type": "code",
   "execution_count": null,
   "metadata": {
    "collapsed": true
   },
   "outputs": [],
   "source": []
  },
  {
   "cell_type": "code",
   "execution_count": 12,
   "metadata": {
    "collapsed": true
   },
   "outputs": [],
   "source": [
    "def chunkify(lines):\n",
    "    # put them back together...\n",
    "    raw_text = \"\\n\".join(lines)\n",
    "    # remove extra whitespace\n",
    "    raw_text_1 = re.sub(\"\\n[\\\\s]+?\\n\",\"\\n\\n\",raw_text)\n",
    "    # remove singleton newlines\n",
    "    raw_text_2 = re.sub(r\"([^\\n])\\n([^\\n])\",r\"\\1 \\2\",raw_text_1)\n",
    "    raw_text_3 = raw_text_2.rstrip().lstrip()\n",
    "\n",
    "    # three levels of significance\n",
    "    # single newlines were already discarded (insignificant)\n",
    "    # double newlines are real line breaks\n",
    "    # triple newlines (or more) separate content\n",
    "\n",
    "    # split on those triples (or more)\n",
    "    big_chunks = re.split(\"\\n\\n\\n+\",raw_text_3)\n",
    "\n",
    "    # now break them into the paragraphs\n",
    "    small_chunks = list(map(lambda x: re.split(\"\\n\\n\",x),big_chunks))\n",
    "    combined_chunks = []\n",
    "    [combined_chunks.extend(el) for el in small_chunks]\n",
    "#     combined_chunks = []\n",
    "\n",
    "#     for i in range(len(small_chunks)):\n",
    "#         for j in range(len(small_chunks[i])):\n",
    "#             combined_chunks.append((i,j,small_chunks[i][j]))\n",
    "    return combined_chunks\n",
    "#     return small_chunks"
   ]
  },
  {
   "cell_type": "code",
   "execution_count": 22,
   "metadata": {
    "collapsed": true
   },
   "outputs": [],
   "source": [
    "# import os,shutil\n",
    "# for filename in nos:\n",
    "#     filename=os.path.join('./book/',str(filename)+'.txt')\n",
    "#     if os.path.exists(filename):\n",
    "#         shutil.copy(filename,'./books/')"
   ]
  },
  {
   "cell_type": "code",
   "execution_count": 15,
   "metadata": {},
   "outputs": [],
   "source": [
    "# names=[]\n",
    "# for i in range(len(nos)):\n",
    "#     flushPrint(i)\n",
    "#     try:\n",
    "#         f = open('./gutenberg/'+str(nos[i])+'.txt',\"r\",encoding='ISO-8859-1')\n",
    "#         rawtext = f.read()\n",
    "#         f.close()\n",
    "#         lines = get_maintext_lines_gutenberg(rawtext)\n",
    "#         chunked = chunkify(lines)\n",
    "#         chunks_nlp = list(map(lambda x: [x[0],x[1],nlp(x[2]),x[2]],chunked))\n",
    "#         all_word_list = []\n",
    "#         w=[]\n",
    "#         for da in chunks_nlp:\n",
    "#             d=[]\n",
    "#             for word in da[2]:\n",
    "#                 try:\n",
    "#                     word=str(word)\n",
    "#                     all_word_list.append(word)\n",
    "#                     if (word.lower() not in stopword)&(word not in all_names):\n",
    "#                         sim = 90-cosine2angle(projection(model[str(word)],success_vector))\n",
    "#                         if (sim<-5)|(sim>5):\n",
    "#                             d.append(sim)\n",
    "#                 except Exception as e:\n",
    "#                     pass\n",
    "#             w.append(np.mean(d))\n",
    "#         w=[0 if np.isnan(i)==True else i for i in w]\n",
    "#         lead,lead_gender,lead1=main_character(all_word_list)\n",
    "#         tp=[i for i,j in enumerate(chunks_nlp) if (lead in [str(a) for a in j[2]]) & (lead1 in [str(a) for a in j[2]])]\n",
    "#         names.append([nos[i],w,tp])\n",
    "#     except Exception as e:\n",
    "#         print(e)\n",
    "#         pass"
   ]
  },
  {
   "cell_type": "code",
   "execution_count": 16,
   "metadata": {
    "collapsed": true
   },
   "outputs": [],
   "source": [
    "# file=[i[0] for i in names]\n",
    "# emotion=[i[1] for i in names]\n",
    "# tp=[i[2] for i in names]\n",
    "\n",
    "# diction1=dict(zip(file,tp))\n",
    "# diction2=dict(zip(file,emotion))\n",
    "\n",
    "# book_list['tp']=book_list['id'].apply(lambda x: diction1[x] if x in diction1 else np.nan)\n",
    "# book_list['emotion']=book_list['id'].apply(lambda x: diction2[x] if x in diction2 else np.nan)\n",
    "\n",
    "# book_list.to_csv('./book_list1.csv',index=False)"
   ]
  },
  {
   "cell_type": "code",
   "execution_count": null,
   "metadata": {
    "collapsed": true
   },
   "outputs": [],
   "source": []
  },
  {
   "cell_type": "code",
   "execution_count": 17,
   "metadata": {},
   "outputs": [],
   "source": [
    "# f = open('./gutenberg/'+str(1260)+'.txt',\"r\",encoding='ISO-8859-1')\n",
    "# rawtext = f.read()\n",
    "# f.close()\n",
    "# lines = get_maintext_lines_gutenberg(rawtext)\n",
    "# chunked = chunkify(lines)\n",
    "# chunks_nlp = list(map(lambda x: [x[0],x[1],nlp(x[2]),x[2]],chunked))\n",
    "# all_word_list = []\n",
    "# w=[]\n",
    "# for da in chunks_nlp:\n",
    "#     d=[]\n",
    "#     for word in da[2]:\n",
    "#         try:\n",
    "#             word=str(word)\n",
    "#             all_word_list.append(word)\n",
    "#             if (word.lower() not in stopword)&(word not in all_names):\n",
    "#                 sim = 90-cosine2angle(projection(model[str(word)],success_vector))\n",
    "#                 if (sim<-5)|(sim>5):\n",
    "#                     d.append(sim)\n",
    "#         except Exception as e:\n",
    "#             pass\n",
    "#     w.append(np.mean(d))\n",
    "# w=[0 if np.isnan(i)==True else i for i in w]"
   ]
  },
  {
   "cell_type": "code",
   "execution_count": 20,
   "metadata": {
    "collapsed": true
   },
   "outputs": [],
   "source": [
    "# cum_e=np.cumsum(normalized(w))"
   ]
  },
  {
   "cell_type": "code",
   "execution_count": 33,
   "metadata": {
    "collapsed": true
   },
   "outputs": [],
   "source": [
    "# lead,lead_gender,lead1=main_character(all_word_list)\n",
    "# tp=[i for i,j in enumerate(chunks_nlp) if ('Rochester' in j[-1]) & ('Jane' in j[-1])]"
   ]
  },
  {
   "cell_type": "code",
   "execution_count": 36,
   "metadata": {},
   "outputs": [
    {
     "data": {
      "image/png": "[encoded data removed]",
      "text/plain": [
       "<Figure size 1080x288 with 1 Axes>"
      ]
     },
     "metadata": {},
     "output_type": "display_data"
    }
   ],
   "source": [
    "# fig = plt.figure(figsize=(15,4))\n",
    "# plt.plot(range(len(w)),np.cumsum(normalized(w)))\n",
    "# # plt.plot([0,len(w)],[0,0])\n",
    "# for i in tp:\n",
    "#     plt.plot([i,i],[cum_e[i]-10,cum_e[i]+10],color='r')\n",
    "# # for i in b:\n",
    "# #     if len(i)>1:\n",
    "# #         x=[j[0] for j in i]\n",
    "# #         y=[j[1] for j in i]\n",
    "# #         poly = np.polyfit(x,y,deg=1)\n",
    "# #         z = np.polyval(poly, x)\n",
    "# #         plt.annotate(\"%s\" % poly, xy=(x[-1]-1,y[-1]-1))\n",
    "# #         plt.plot(x, z,color='black')\n",
    "# plt.ylabel('Cumulative fortunate arc',fontsize=15)\n",
    "# plt.xlabel('Time',fontsize=15)\n",
    "# plt.title('Jane Eyre',fontsize=20)\n",
    "# plt.show()"
   ]
  },
  {
   "cell_type": "code",
   "execution_count": null,
   "metadata": {
    "collapsed": true
   },
   "outputs": [],
   "source": []
  },
  {
   "cell_type": "code",
   "execution_count": 57,
   "metadata": {
    "collapsed": true
   },
   "outputs": [],
   "source": [
    "# def word_to_emotion(data):\n",
    "#     da=tknzr.tokenize(data)\n",
    "#     d=[]\n",
    "#     for word in da:\n",
    "#         try:\n",
    "#             if (word.lower() not in stopword) & (word.title() not in all_names):\n",
    "#                 sim = diction[word]\n",
    "#                 if (sim<-3)|(sim>3):\n",
    "#                     d.append(sim)\n",
    "#         except:\n",
    "#             pass\n",
    "#     return np.mean(d)"
   ]
  },
  {
   "cell_type": "code",
   "execution_count": 42,
   "metadata": {},
   "outputs": [
    {
     "name": "stderr",
     "output_type": "stream",
     "text": [
      "/home/sysadmin/anaconda3/lib/python3.6/site-packages/numpy/core/fromnumeric.py:2920: RuntimeWarning: Mean of empty slice.\n",
      "  out=out, **kwargs)\n",
      "/home/sysadmin/anaconda3/lib/python3.6/site-packages/numpy/core/_methods.py:85: RuntimeWarning: invalid value encountered in double_scalars\n",
      "  ret = ret.dtype.type(ret / rcount)\n"
     ]
    }
   ],
   "source": [
    "# f = open('./gutenberg/'+str(222)+'.txt',\"r\",encoding='ISO-8859-1')\n",
    "# rawtext = f.read()\n",
    "# f.close()\n",
    "# lines = get_maintext_lines_gutenberg(rawtext)\n",
    "# chunked = chunkify(lines)\n",
    "# chunks_nlp = list(map(lambda x: [x[0],x[1],nlp(x[2]),x[2]],chunked))\n",
    "# all_word_list = []\n",
    "# w=[]\n",
    "# for da in chunks_nlp:\n",
    "#     d=[]\n",
    "#     for word in da[2]:\n",
    "#         try:\n",
    "#             word=str(word)\n",
    "#             all_word_list.append(word)\n",
    "#             if (word.lower() not in stopword)&(word not in all_names):\n",
    "#                 sim = 90-cosine2angle(projection(model[str(word)],success_vector))\n",
    "#                 if (sim<-5)|(sim>5):\n",
    "#                     d.append(sim)\n",
    "#         except Exception as e:\n",
    "#             pass\n",
    "#     w.append(np.mean(d))\n",
    "# w=[0 if np.isnan(i)==True else i for i in w]"
   ]
  },
  {
   "cell_type": "code",
   "execution_count": 43,
   "metadata": {
    "collapsed": true
   },
   "outputs": [],
   "source": [
    "# cum_e=np.cumsum(normalized(w))"
   ]
  },
  {
   "cell_type": "code",
   "execution_count": 51,
   "metadata": {
    "collapsed": true
   },
   "outputs": [],
   "source": [
    "# lead,lead_gender,lead1=main_character(all_word_list)\n",
    "# tp=[i for i,j in enumerate(chunks_nlp) if ('Strickland' in j[-1]) & ('Ata' in j[-1])]"
   ]
  },
  {
   "cell_type": "code",
   "execution_count": 53,
   "metadata": {},
   "outputs": [
    {
     "data": {
      "image/png": "[encoded data removed]",
      "text/plain": [
       "<Figure size 1080x288 with 1 Axes>"
      ]
     },
     "metadata": {},
     "output_type": "display_data"
    }
   ],
   "source": [
    "# fig = plt.figure(figsize=(15,4))\n",
    "# plt.plot(range(len(w)),np.cumsum(normalized(w)))\n",
    "# # plt.plot([0,len(w)],[0,0])\n",
    "# for i in tp:\n",
    "#     plt.plot([i,i],[cum_e[i]-10,cum_e[i]+10],color='r')\n",
    "# # for i in b:\n",
    "# #     if len(i)>1:\n",
    "# #         x=[j[0] for j in i]\n",
    "# #         y=[j[1] for j in i]\n",
    "# #         poly = np.polyfit(x,y,deg=1)\n",
    "# #         z = np.polyval(poly, x)\n",
    "# #         plt.annotate(\"%s\" % poly, xy=(x[-1]-1,y[-1]-1))\n",
    "# #         plt.plot(x, z,color='black')\n",
    "# plt.ylabel('Cumulative fortunate arc',fontsize=15)\n",
    "# plt.xlabel('Time',fontsize=15)\n",
    "# plt.title('The Moon and Sixpence',fontsize=20)\n",
    "# plt.show()"
   ]
  },
  {
   "cell_type": "code",
   "execution_count": 19,
   "metadata": {
    "collapsed": true
   },
   "outputs": [],
   "source": [
    "import json\n",
    "with open(\"diction.txt\",\"r\") as f:\n",
    "    ediction = json.loads(f.readline())"
   ]
  },
  {
   "cell_type": "code",
   "execution_count": 81,
   "metadata": {
    "collapsed": true
   },
   "outputs": [],
   "source": [
    "book=book[book['no'].isin(nos)]"
   ]
  },
  {
   "cell_type": "code",
   "execution_count": 83,
   "metadata": {},
   "outputs": [
    {
     "data": {
      "text/plain": [
       "1326"
      ]
     },
     "execution_count": 83,
     "metadata": {},
     "output_type": "execute_result"
    }
   ],
   "source": [
    "len(book)"
   ]
  },
  {
   "cell_type": "code",
   "execution_count": 106,
   "metadata": {
    "collapsed": true
   },
   "outputs": [],
   "source": [
    "# with open('./book/'+str(nos[0])+'.txt',\"r\") as f:\n",
    "#     a=f.readlines()\n",
    "# w=[]\n",
    "# for j in a:\n",
    "#     j=j.replace('\\n','')\n",
    "#     c=[i for i in j.split('\\t') if (i.split('_')[0].lower() not in stopword)&\\\n",
    "#        (i.split('_')[0].title() not in all_names)]\n",
    "#     c=[i.split('_')[1] for i in c]\n",
    "#     c=[int(re.sub(\"\\D\", \"\", i)) for i in c]\n",
    "#     c=[i for i in c if (i<-3)|(i>3)]\n",
    "#     w.append(np.mean(c))"
   ]
  },
  {
   "cell_type": "code",
   "execution_count": 119,
   "metadata": {
    "scrolled": true
   },
   "outputs": [
    {
     "name": "stdout",
     "output_type": "stream",
     "text": [
      "1[Errno 2] No such file or directory: './gutenberg/84.txt' 84\n",
      "2[Errno 2] No such file or directory: './gutenberg/74.txt' 74\n",
      "7index 0 is out of bounds for axis 0 with size 0 42\n",
      "18[Errno 2] No such file or directory: './gutenberg/863.txt' 863\n",
      "30[Errno 2] No such file or directory: './gutenberg/1524.txt' 1524\n",
      "34[Errno 2] No such file or directory: './gutenberg/4217.txt' 4217\n",
      "37[Errno 2] No such file or directory: './gutenberg/1155.txt' 1155\n",
      "39[Errno 2] No such file or directory: './gutenberg/696.txt' 696\n",
      "81[Errno 2] No such file or directory: './gutenberg/269.txt' 269\n",
      "84[Errno 2] No such file or directory: './gutenberg/1695.txt' 1695\n",
      "93[Errno 2] No such file or directory: './gutenberg/854.txt' 854\n",
      "99[Errno 2] No such file or directory: './gutenberg/19994.txt' 19994\n",
      "110[Errno 2] No such file or directory: './gutenberg/43.txt' 43\n",
      "128[Errno 2] No such file or directory: './gutenberg/501.txt' 501\n",
      "129[Errno 2] No such file or directory: './gutenberg/3188.txt' 3188\n",
      "132[Errno 2] No such file or directory: './gutenberg/790.txt' 790\n",
      "136[Errno 2] No such file or directory: './gutenberg/325.txt' 325\n",
      "163[Errno 2] No such file or directory: './gutenberg/1292.txt' 1292\n",
      "178[Errno 2] No such file or directory: './gutenberg/1026.txt' 1026\n",
      "195[Errno 2] No such file or directory: './gutenberg/225.txt' 225\n",
      "199[Errno 2] No such file or directory: './gutenberg/394.txt' 394\n",
      "200[Errno 2] No such file or directory: './gutenberg/2870.txt' 2870\n",
      "209[Errno 2] No such file or directory: './gutenberg/4737.txt' 4737\n",
      "219[Errno 2] No such file or directory: './gutenberg/804.txt' 804\n",
      "243[Errno 2] No such file or directory: './gutenberg/652.txt' 652\n",
      "253[Errno 2] No such file or directory: './gutenberg/8446.txt' 8446\n",
      "267[Errno 2] No such file or directory: './gutenberg/1329.txt' 1329\n",
      "274[Errno 2] No such file or directory: './gutenberg/2225.txt' 2225\n",
      "333[Errno 2] No such file or directory: './gutenberg/1154.txt' 1154\n",
      "337[Errno 2] No such file or directory: './gutenberg/654.txt' 654\n",
      "341[Errno 2] No such file or directory: './gutenberg/4099.txt' 4099\n",
      "346[Errno 2] No such file or directory: './gutenberg/873.txt' 873\n",
      "462[Errno 2] No such file or directory: './gutenberg/393.txt' 393\n",
      "496[Errno 2] No such file or directory: './gutenberg/1696.txt' 1696\n",
      "500[Errno 2] No such file or directory: './gutenberg/91.txt' 91\n",
      "520[Errno 2] No such file or directory: './gutenberg/93.txt' 93\n",
      "550[Errno 2] No such file or directory: './gutenberg/1058.txt' 1058\n",
      "551[Errno 2] No such file or directory: './gutenberg/1145.txt' 1145\n",
      "556[Errno 2] No such file or directory: './gutenberg/2512.txt' 2512\n",
      "564[Errno 2] No such file or directory: './gutenberg/47529.txt' 47529\n",
      "582[Errno 2] No such file or directory: './gutenberg/4087.txt' 4087\n",
      "586[Errno 2] No such file or directory: './gutenberg/788.txt' 788\n",
      "604[Errno 2] No such file or directory: './gutenberg/644.txt' 644\n",
      "618index 0 is out of bounds for axis 0 with size 0 310\n",
      "625[Errno 2] No such file or directory: './gutenberg/864.txt' 864\n",
      "645[Errno 2] No such file or directory: './gutenberg/4090.txt' 4090\n",
      "664[Errno 2] No such file or directory: './gutenberg/555.txt' 555\n",
      "677[Errno 2] No such file or directory: './gutenberg/2548.txt' 2548\n",
      "691[Errno 2] No such file or directory: './gutenberg/21927.txt' 21927\n",
      "701[Errno 2] No such file or directory: './gutenberg/37660.txt' 37660\n",
      "704[Errno 2] No such file or directory: './gutenberg/5758.txt' 5758\n",
      "729[Errno 2] No such file or directory: './gutenberg/40852.txt' 40852\n",
      "738[Errno 2] No such file or directory: './gutenberg/678.txt' 678\n",
      "774[Errno 2] No such file or directory: './gutenberg/5148.txt' 5148\n",
      "779[Errno 2] No such file or directory: './gutenberg/1244.txt' 1244\n",
      "811[Errno 2] No such file or directory: './gutenberg/329.txt' 329\n",
      "813[Errno 2] No such file or directory: './gutenberg/1537.txt' 1537\n",
      "838[Errno 2] No such file or directory: './gutenberg/6995.txt' 6995\n",
      "893[Errno 2] No such file or directory: './gutenberg/21665.txt' 21665\n",
      "920[Errno 2] No such file or directory: './gutenberg/5083.txt' 5083\n",
      "936[Errno 2] No such file or directory: './gutenberg/1882.txt' 1882\n",
      "1018[Errno 2] No such file or directory: './gutenberg/16721.txt' 16721\n",
      "1066[Errno 2] No such file or directory: './gutenberg/794.txt' 794\n",
      "1086[Errno 2] No such file or directory: './gutenberg/872.txt' 872\n",
      "1088[Errno 2] No such file or directory: './gutenberg/1508.txt' 1508\n",
      "1131[Errno 2] No such file or directory: './gutenberg/888.txt' 888\n",
      "1151[Errno 2] No such file or directory: './gutenberg/4272.txt' 4272\n",
      "1170[Errno 2] No such file or directory: './gutenberg/875.txt' 875\n",
      "1177[Errno 2] No such file or directory: './gutenberg/3179.txt' 3179\n",
      "1198[Errno 2] No such file or directory: './gutenberg/9380.txt' 9380\n",
      "1220[Errno 2] No such file or directory: './gutenberg/534.txt' 534\n",
      "1230[Errno 2] No such file or directory: './gutenberg/11583.txt' 11583\n",
      "1247[Errno 2] No such file or directory: './gutenberg/3185.txt' 3185\n",
      "1278[Errno 2] No such file or directory: './gutenberg/12215.txt' 12215\n",
      "1319[Errno 2] No such file or directory: './gutenberg/21932.txt' 21932\n",
      "1326[Errno 2] No such file or directory: './gutenberg/47530.txt' 47530\n"
     ]
    }
   ],
   "source": [
    "characters=[]\n",
    "for m,n in enumerate(nos):\n",
    "    flushPrint(m)\n",
    "    try:\n",
    "        f = open('./gutenberg/'+str(n)+'.txt',\"r\",encoding='ISO-8859-1')\n",
    "        rawtext = f.read()\n",
    "        f.close()\n",
    "        lines = get_maintext_lines_gutenberg(rawtext)\n",
    "        chunked = chunkify(lines)\n",
    "#         chunks_nlp = list(map(lambda x: [x[0],x[1],nlp(x[2]),x[2]],chunked))\n",
    "#         all_word_list = []\n",
    "#         w=[]\n",
    "#         for da in chunks_nlp:\n",
    "#             w.append(np.mean(word_to_emotion(da[2])))\n",
    "#         w=[0 if np.isnan(i)==True else i for i in w]\n",
    "        article=nlp(rawtext)\n",
    "        items = [x.text for x in article.ents if x.label_=='PERSON']\n",
    "        lead,lead_gender,lead1=main_character(items)\n",
    "        tp=[i for i,j in enumerate(chunked) if (lead in tknzr.tokenize(j)) & (lead1 in tknzr.tokenize(j))]\n",
    "        characters.append([n,lead,lead_gender,lead1,tp])\n",
    "    except Exception as e:\n",
    "        print(e,n)\n",
    "        pass"
   ]
  },
  {
   "cell_type": "code",
   "execution_count": 121,
   "metadata": {},
   "outputs": [
    {
     "data": {
      "text/plain": [
       "1251"
      ]
     },
     "execution_count": 121,
     "metadata": {},
     "output_type": "execute_result"
    }
   ],
   "source": [
    "len(characters)"
   ]
  },
  {
   "cell_type": "code",
   "execution_count": 126,
   "metadata": {
    "collapsed": true
   },
   "outputs": [],
   "source": [
    "file=[i[0] for i in characters]\n",
    "tp=[i[-1] for i in characters]\n",
    "character=[i[1:4] for i in characters]\n",
    "\n",
    "diction1=dict(zip(file,tp))\n",
    "diction3=dict(zip(file,character))\n",
    "\n",
    "book['tp']=book['no'].apply(lambda x: diction1[x] if x in diction1 else np.nan)\n",
    "book['character']=book['no'].apply(lambda x: diction3[x] if x in diction3 else np.nan)"
   ]
  },
  {
   "cell_type": "code",
   "execution_count": 127,
   "metadata": {
    "collapsed": true
   },
   "outputs": [],
   "source": [
    "book_list1=pd.read_csv('./book_list1.csv')"
   ]
  },
  {
   "cell_type": "code",
   "execution_count": 128,
   "metadata": {},
   "outputs": [
    {
     "data": {
      "text/plain": [
       "1327"
      ]
     },
     "execution_count": 128,
     "metadata": {},
     "output_type": "execute_result"
    }
   ],
   "source": [
    "len(book_list1)"
   ]
  },
  {
   "cell_type": "code",
   "execution_count": 131,
   "metadata": {
    "collapsed": true
   },
   "outputs": [],
   "source": [
    "diction=dict(book_list1[['id','emotion']].values)"
   ]
  },
  {
   "cell_type": "code",
   "execution_count": 135,
   "metadata": {
    "collapsed": true
   },
   "outputs": [],
   "source": [
    "book['emotion']=book['no'].apply(lambda x: diction[x] if x in diction else np.nan)"
   ]
  },
  {
   "cell_type": "code",
   "execution_count": 137,
   "metadata": {
    "collapsed": true
   },
   "outputs": [],
   "source": [
    "book.to_csv('./book.csv',index=False)"
   ]
  },
  {
   "cell_type": "code",
   "execution_count": null,
   "metadata": {
    "collapsed": true
   },
   "outputs": [],
   "source": []
  },
  {
   "cell_type": "code",
   "execution_count": null,
   "metadata": {
    "collapsed": true
   },
   "outputs": [],
   "source": []
  },
  {
   "cell_type": "code",
   "execution_count": 27,
   "metadata": {
    "collapsed": true
   },
   "outputs": [],
   "source": [
    "book=pd.read_csv('./book.csv')"
   ]
  },
  {
   "cell_type": "code",
   "execution_count": 28,
   "metadata": {
    "collapsed": true
   },
   "outputs": [],
   "source": [
    "def eval_(x):\n",
    "    try:\n",
    "        return eval(x)\n",
    "    except:\n",
    "        return np.nan\n",
    "        pass"
   ]
  },
  {
   "cell_type": "code",
   "execution_count": 29,
   "metadata": {
    "collapsed": true
   },
   "outputs": [],
   "source": [
    "book['tp']=book['tp'].apply(lambda x: eval_(x))\n",
    "book['emotion']=book['emotion'].apply(lambda x: eval_(x))\n",
    "book['character']=book['character'].apply(lambda x: eval_(x))"
   ]
  },
  {
   "cell_type": "code",
   "execution_count": 30,
   "metadata": {
    "collapsed": true
   },
   "outputs": [],
   "source": [
    "book=book.dropna(axis=0,how='any',subset=['character','tp','emotion'])"
   ]
  },
  {
   "cell_type": "code",
   "execution_count": 31,
   "metadata": {
    "collapsed": true
   },
   "outputs": [],
   "source": [
    "book['cum_e']=book['emotion'].apply(lambda x: np.cumsum(normalized(x)))"
   ]
  },
  {
   "cell_type": "code",
   "execution_count": 32,
   "metadata": {
    "collapsed": true
   },
   "outputs": [],
   "source": [
    "def is_arithmetic(l): \n",
    "    if len(l)==1:\n",
    "        return True\n",
    "    else:\n",
    "        delta = l[1] - l[0]  \n",
    "        for index in range(len(l) - 1):  \n",
    "            if not (np.sign(l[index + 1] - l[index]) == np.sign(delta)):  \n",
    "                 return False  \n",
    "    return True  "
   ]
  },
  {
   "cell_type": "code",
   "execution_count": 33,
   "metadata": {
    "collapsed": true
   },
   "outputs": [],
   "source": [
    "def extreme_v(nums):\n",
    "    peaks = []\n",
    "    troughs = []\n",
    "    t=0\n",
    "    num1=[i[0] for i in nums]\n",
    "    num2=[i[1] for i in nums]\n",
    "    for idx in range(1, len(num1)-1):\n",
    "        if num2[idx-1]+t < num2[idx] > num2[idx+1]+t:\n",
    "            peaks.append([num1[idx],num2[idx]])\n",
    "        if num2[idx-1] > num2[idx]+t < num2[idx+1]:\n",
    "            troughs.append([num1[idx],num2[idx]])\n",
    "    a=sorted(peaks+troughs,key=lambda x: x[0])\n",
    "    a=[nums[0]]+a+[nums[-1]]\n",
    "    b=[a[i+1] for i in range(1,len(a)-1) if (a[i+1][0]-a[i][0]==1)&(abs(a[i+1][1]-a[i][1])<t)]\n",
    "    a=[i for i in a if i not in b]\n",
    "#     print(a)\n",
    "    return a"
   ]
  },
  {
   "cell_type": "code",
   "execution_count": 34,
   "metadata": {
    "collapsed": true
   },
   "outputs": [],
   "source": [
    "def t_p(nums):\n",
    "    try:\n",
    "        peaks = []\n",
    "        troughs = []\n",
    "        for idx in range(1, len(nums)-1):\n",
    "            if nums[idx-1] < nums[idx] > nums[idx+1]:\n",
    "                peaks.append(idx)\n",
    "            if nums[idx-1] > nums[idx] < nums[idx+1]:\n",
    "                troughs.append(idx)\n",
    "        if len(peaks)<len(troughs):\n",
    "            peaks=peaks+[len(nums)-1]\n",
    "        elif len(peaks)>len(troughs):\n",
    "            troughs=[0]+troughs\n",
    "        else:\n",
    "            if peaks[0]<troughs[0]:\n",
    "                peaks=peaks+[len(nums)-1]\n",
    "                troughs=[0]+troughs\n",
    "        a=[[i,nums[i]] for i in troughs]\n",
    "        b=[[i,nums[i]] for i in peaks]\n",
    "        c=[i for i in list(zip(a,b))]\n",
    "        return c\n",
    "    except  Exception as e:\n",
    "        return np.nan\n",
    "        pass"
   ]
  },
  {
   "cell_type": "code",
   "execution_count": 35,
   "metadata": {
    "collapsed": true
   },
   "outputs": [],
   "source": [
    "def tp_e(cum_e,tp):\n",
    "    tp_e=[[i,cum_e[i]] for i in tp]\n",
    "    return tp_e"
   ]
  },
  {
   "cell_type": "code",
   "execution_count": 36,
   "metadata": {
    "collapsed": true
   },
   "outputs": [],
   "source": [
    "book['tp_e']=book.apply(lambda row: tp_e(row.cum_e,row.tp),axis=1)"
   ]
  },
  {
   "cell_type": "code",
   "execution_count": 37,
   "metadata": {
    "collapsed": true
   },
   "outputs": [],
   "source": [
    "def tp_c(tp_e,w): #non-normalize\n",
    "    try:\n",
    "        a=[]\n",
    "        for i in range(len(tp_e)-1):\n",
    "            if (tp_e[i+1][0]-tp_e[i][0])>len(w)/15:\n",
    "                a.append(i+1)\n",
    "\n",
    "        a=[0]+a+[len(tp_e)]\n",
    "\n",
    "        b=[]\n",
    "        for i in range(len(a)-1):\n",
    "            if is_arithmetic([i[1] for i in tp_e[a[i]:a[i+1]]])==True:\n",
    "                b.append(tp_e[a[i]:a[i+1]])\n",
    "            else:\n",
    "                extreme=extreme_v(tp_e[a[i]:a[i+1]])\n",
    "                index=[tp_e.index(i) for i in extreme]\n",
    "        #         print([i[0] for i in extreme])\n",
    "                q=index[0]\n",
    "                for j in range(1,len(index)-1):\n",
    "                    if (tp_e[index[j]][0]-tp_e[index[j]-1][0])>=(tp_e[index[j]+1][0]-tp_e[index[j]][0]):\n",
    "                        b.append(tp_e[q:index[j]])\n",
    "                        q=index[j]\n",
    "                    else:\n",
    "                        b.append(tp_e[q:index[j]+1])\n",
    "                        q=index[j]+1\n",
    "                b.append(tp_e[q:index[-1]+1])\n",
    "\n",
    "        b=[i for i in b if len(i)!=0]\n",
    "\n",
    "        for i in range(len(b)-1):\n",
    "            if (len(b[i])==1)&(b[i+1][0][0]-b[i][0][0]==1):\n",
    "                b[i+1]=b[i]+b[i+1]\n",
    "                b[i]=[]\n",
    "        b=[i for i in b if len(i)!=0]\n",
    "        if len(b)>1:\n",
    "            if (len(b[-1])==1)&(b[-1][0][0]-b[-2][-1][0]==1):\n",
    "                b[-2]=b[-2]+b[-1]\n",
    "                b[-1]=[]\n",
    "            b=[i for i in b if len(i)!=0]\n",
    "        return b\n",
    "        \n",
    "    except Exception as e:\n",
    "        return np.nan\n",
    "        pass"
   ]
  },
  {
   "cell_type": "code",
   "execution_count": 38,
   "metadata": {
    "collapsed": true
   },
   "outputs": [],
   "source": [
    "book['tp_c']=book.apply(lambda row: tp_c(row.tp_e,row.emotion),axis=1)"
   ]
  },
  {
   "cell_type": "code",
   "execution_count": 39,
   "metadata": {
    "collapsed": true
   },
   "outputs": [],
   "source": [
    "def k(b):\n",
    "    try:\n",
    "        a=[]\n",
    "        for i in b:\n",
    "            if len(i)==0:\n",
    "                continue\n",
    "            if len(i)==1:\n",
    "                a.append([0,1])\n",
    "            if len(i)>1:\n",
    "                x=[j[0] for j in i] #non_normalize\n",
    "                y=[j[1] for j in i] #non_normalize\n",
    "                poly = np.polyfit(x,y,deg=1)\n",
    "                a.append([poly[0],[x[0],x[-1]]])\n",
    "#                 a.append([poly[0],len(x)]) #number\n",
    "#                 a.append([poly[0],x[-1]-x[0]]) #length\n",
    "#                 a.append(poly[0])\n",
    "        return a\n",
    "    except Exception as e:\n",
    "        return np.nan\n",
    "        pass\n",
    "book['k']=book['tp_c'].apply(lambda x: k(x))"
   ]
  },
  {
   "cell_type": "code",
   "execution_count": 40,
   "metadata": {
    "collapsed": true
   },
   "outputs": [],
   "source": [
    "def up(x):\n",
    "    b=[]\n",
    "    for i in x:\n",
    "        b.extend(range(i[0],i[1]+1))\n",
    "    return b"
   ]
  },
  {
   "cell_type": "code",
   "execution_count": 41,
   "metadata": {
    "collapsed": true
   },
   "outputs": [],
   "source": [
    "book=book.dropna(axis=0,how='any',subset=['k'])"
   ]
  },
  {
   "cell_type": "code",
   "execution_count": 42,
   "metadata": {},
   "outputs": [
    {
     "data": {
      "text/plain": [
       "935"
      ]
     },
     "execution_count": 42,
     "metadata": {},
     "output_type": "execute_result"
    }
   ],
   "source": [
    "len(book)"
   ]
  },
  {
   "cell_type": "code",
   "execution_count": 43,
   "metadata": {
    "collapsed": true
   },
   "outputs": [],
   "source": [
    "book['up']=book['k'].apply(lambda x: [i[1] for i in x if i[0]>0])\n",
    "book['up']=book['up'].apply(lambda x: up(x))"
   ]
  },
  {
   "cell_type": "code",
   "execution_count": 45,
   "metadata": {
    "collapsed": true
   },
   "outputs": [],
   "source": [
    "book.to_csv('./book.csv',index=False)"
   ]
  },
  {
   "cell_type": "code",
   "execution_count": null,
   "metadata": {
    "collapsed": true
   },
   "outputs": [],
   "source": []
  }
 ],
 "metadata": {
  "kernelspec": {
   "display_name": "Python 3",
   "language": "python",
   "name": "python3"
  },
  "language_info": {
   "codemirror_mode": {
    "name": "ipython",
    "version": 3
   },
   "file_extension": ".py",
   "mimetype": "text/x-python",
   "name": "python",
   "nbconvert_exporter": "python",
   "pygments_lexer": "ipython3",
   "version": "3.6.2"
  },
  "toc": {
   "nav_menu": {},
   "number_sections": true,
   "sideBar": true,
   "skip_h1_title": false,
   "title_cell": "Table of Contents",
   "title_sidebar": "Contents",
   "toc_cell": false,
   "toc_position": {},
   "toc_section_display": true,
   "toc_window_display": false
  }
 },
 "nbformat": 4,
 "nbformat_minor": 2
}
