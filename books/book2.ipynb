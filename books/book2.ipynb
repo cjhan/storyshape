{
 "cells": [
  {
   "cell_type": "code",
   "execution_count": 1,
   "metadata": {
    "ExecuteTime": {
     "end_time": "2019-06-14T02:57:44.405691Z",
     "start_time": "2019-06-14T02:57:42.507410Z"
    }
   },
   "outputs": [],
   "source": [
    "from scipy.stats import chisquare\n",
    "from scipy import stats\n",
    "import urllib.request\n",
    "import string\n",
    "import requests\n",
    "from bs4 import BeautifulSoup\n",
    "import pandas as pd\n",
    "import multiprocessing\n",
    "import gensim\n",
    "import sys\n",
    "import spacy\n",
    "nlp=spacy.load('en')\n",
    "import seaborn as sns\n",
    "from nltk.tokenize import WordPunctTokenizer\n",
    "from gensim.models import Word2Vec\n",
    "from gensim.models import KeyedVectors\n",
    "from scipy import spatial\n",
    "from collections import Counter\n",
    "import numpy as np\n",
    "from collections import defaultdict\n",
    "from pprint import pprint\n",
    "from gensim import corpora\n",
    "import re\n",
    "import logging\n",
    "import requests\n",
    "import urllib \n",
    "import re\n",
    "import sys\n",
    "import zipfile\n",
    "from glob import glob\n",
    "import statsmodels.api as sm\n",
    "import scipy\n",
    "import scipy.stats as ss\n",
    "from scipy.signal import savgol_filter\n",
    "import random\n",
    "np.set_printoptions(precision=2)\n",
    "logging.basicConfig(format='%(asctime)s : %(levelname)s : %(message)s', level=logging.INFO)\n",
    "\n",
    "import matplotlib.pyplot as plt\n",
    "%matplotlib inline\n",
    "\n",
    "\n",
    "from sklearn import metrics\n",
    "from sklearn.cluster import KMeans\n",
    "# from the demo\n",
    "from sklearn.datasets import load_digits\n",
    "from sklearn.decomposition import PCA\n",
    "from sklearn.decomposition import TruncatedSVD\n",
    "from sklearn.decomposition import NMF\n",
    "from sklearn.preprocessing import scale\n",
    "from sklearn.linear_model import LogisticRegression\n",
    "from sklearn.model_selection import train_test_split\n",
    "from sklearn.metrics import accuracy_score\n",
    "from nltk.corpus import stopwords\n",
    "from nltk.corpus import names\n",
    "pd.set_option('display.max_columns',None)\n",
    "pd.set_option('display.max_rows',None)"
   ]
  },
  {
   "cell_type": "code",
   "execution_count": 2,
   "metadata": {
    "ExecuteTime": {
     "end_time": "2019-06-14T02:57:48.903136Z",
     "start_time": "2019-06-14T02:57:48.472515Z"
    }
   },
   "outputs": [
    {
     "name": "stderr",
     "output_type": "stream",
     "text": [
      "2019-06-14 10:57:48,768 : INFO : Loading model from /Users/xuhuimin/.neuralcoref_cache/neuralcoref\n"
     ]
    }
   ],
   "source": [
    "# Load your usual SpaCy model (one of SpaCy English models)\n",
    "import spacy\n",
    "nlp = spacy.load('en')\n",
    "\n",
    "# load NeuralCoref and add it to the pipe of SpaCy's model\n",
    "import neuralcoref\n",
    "coref = neuralcoref.NeuralCoref(nlp.vocab)\n",
    "nlp.add_pipe(coref, name='neuralcoref')"
   ]
  },
  {
   "cell_type": "code",
   "execution_count": 3,
   "metadata": {
    "ExecuteTime": {
     "end_time": "2019-06-14T02:57:49.196707Z",
     "start_time": "2019-06-14T02:57:49.125899Z"
    }
   },
   "outputs": [],
   "source": [
    "def flushPrint(s):\n",
    "    sys.stdout.write('\\r')\n",
    "    sys.stdout.write('%s' % s)\n",
    "    sys.stdout.flush()\n",
    "    \n",
    "def normalize(v):\n",
    "    norm = np.linalg.norm(v)\n",
    "    if norm == 0:\n",
    "        return v\n",
    "    return v / norm\n",
    "\n",
    "def cultureD2(model, words):\n",
    "    cultures = []\n",
    "    for word in words:\n",
    "        if (word[0] in model.wv.vocab) & (word[1] in model.wv.vocab):\n",
    "            cultures.append(normalize(normalize(model[word[0]]) - normalize(model[word[1]])))\n",
    "        else:\n",
    "            print(word)\n",
    "    culturev = normalize(np.mean(cultures, axis=0))\n",
    "    return culturev\n",
    "\n",
    "def storyv(model,words):\n",
    "    veclist=[]\n",
    "    for w in words:\n",
    "        if w in model.wv.vocab:\n",
    "            veclist.append(normalize(model[w]))\n",
    "    storyv=normalize(np.mean(veclist,axis=0))\n",
    "    return storyv\n",
    "\n",
    "def projection(storyv, culturev):\n",
    "    # cosine similarity\n",
    "    return (1 - spatial.distance.cosine(storyv, culturev))\n",
    "           \n",
    "def cosine2angle(i):\n",
    "    return np.arccos(i) / np.pi * 180 #长度换角度\n",
    "\n",
    "def normalized(x):\n",
    "    x= np.array(x)\n",
    "    return (x-np.mean(x))/np.std(x)\n",
    "\n",
    "def normalization(x):\n",
    "    x=np.array(x)\n",
    "    return (x-np.min(x))/(np.max(x)-np.min(x))"
   ]
  },
  {
   "cell_type": "code",
   "execution_count": 4,
   "metadata": {
    "ExecuteTime": {
     "end_time": "2019-06-14T02:57:50.949321Z",
     "start_time": "2019-06-14T02:57:50.944669Z"
    }
   },
   "outputs": [],
   "source": [
    "swords = [\n",
    "    ['success','failure'],\n",
    "    ['succeed','fail'],\n",
    "    ['lucky', 'unlucky'],\n",
    "    ['fortunate', 'unfortunate'],\n",
    "    ['happy', 'unhappy'],\n",
    "    ['glad', 'sad'],\n",
    "    ['joy', 'sorrow'],\n",
    "    ['smile', 'tear']\n",
    "] # success words"
   ]
  },
  {
   "cell_type": "code",
   "execution_count": 5,
   "metadata": {
    "ExecuteTime": {
     "end_time": "2019-06-14T02:57:52.947735Z",
     "start_time": "2019-06-14T02:57:52.943759Z"
    }
   },
   "outputs": [],
   "source": [
    "def flushPrint(s):\n",
    "    sys.stdout.write('\\r')\n",
    "    sys.stdout.write('%s' % s)\n",
    "    sys.stdout.flush()"
   ]
  },
  {
   "cell_type": "code",
   "execution_count": 6,
   "metadata": {
    "ExecuteTime": {
     "end_time": "2019-06-14T02:57:53.695834Z",
     "start_time": "2019-06-14T02:57:53.573601Z"
    }
   },
   "outputs": [],
   "source": [
    "import re, sys, getopt\n",
    "\n",
    "PUNCTUATION = [ch for ch in \"\"\"(){}[]<>!?.:;,`'\"@#$%^&*+-|=~/\\\\_\"\"\"]\n",
    "LETTERS     = [ch for ch in \"abcdefghijklmnopqrstuvwxyz\"]\n",
    "CONSONANTS  = [ch for ch in \"bcdfghjklmnpqrstvwxz\"] # Need this for Mr. Mss. abbreviations.\n",
    "WHITESPACE  = [ch for ch in \" \\t\\n\\r\\f\\v\"]          # Need this to split words.\n",
    "DASHES      = [ch for ch in u\"鈥撯€�\"]                  # Not to be confused with hyphen.\n",
    "\n",
    "is_uppercase   = lambda s: len(s)>0 and s==s.upper()                          # Goodbye => True\n",
    "is_capitalized = lambda s: len(s)>0 and s[0].isalpha() and s[0]==s[0].upper() # GOODBYE => True\n",
    "\n",
    "digits = re.compile(\"^[0-9]+$\")\n",
    "is_int = lambda s: digits.search(s) != None\n",
    "\n",
    "# regex pattern for entities: &amp; &#164;\n",
    "entity = \"&[a-z]+;|&#[0-9]+;\"\n",
    "\n",
    "class Range(dict):\n",
    "    \n",
    "    def __init__(self, items=[]):\n",
    "        dict.__init__(self, items)\n",
    "        self.patterns = []\n",
    "        \n",
    "    def __contains__(self, str):\n",
    "        if dict.__contains__(self, str): \n",
    "            return True\n",
    "        for p in self.patterns:\n",
    "            if p.search(str) != None: \n",
    "                return True\n",
    "        return False\n",
    "\n",
    "def in_any(word, ranges=[]):\n",
    "    for rng in ranges:\n",
    "        if word in rng: return True\n",
    "        \n",
    "abbreviations = [\n",
    "    \"Adm.\", \"Ala.\", \"Ariz.\", \"Ark.\", \"Aug.\", \"B.C.\", \"Bancorp.\", \"Bhd.\", \"Brig.\", \"Bros.\", \"CO.\", \n",
    "    \"CORP.\", \"COS.\", \"ca.\", \"Calif.\", \"Capt.\", \"Cie.\", \"Cmdr.\", \"Co.\", \"Col.\", \"Colo.\", \"Conn.\", \"Corp.\", \n",
    "    \"Cos.\", \"Cpl.\", \"D-Mass.\", \"D.C.\", \"Dec.\", \"Del.\", \"Dept.\", \"Dr.\", \"E.g.\", \"Etc.\", \"Ex.\", \"Exch.\", \n",
    "    \"Feb.\", \"Fla.\", \"Fri.\", \"Ga.\", \"Gen.\", \"Gov.\", \"INC.\", \"Ill.\", \"Inc.\", \"Ind.\", \"Jan.\", \"Jansz.\", \n",
    "    \"Jos.\", \"Jr.\", \"Kan.\", \"Ky.\", \"L.A.\", \"La.\", \"Lt.\", \"Ltd.\", \"Maj.\", \"Mass.\", \"Md.\", \"Messrs.\", \n",
    "    \"Mfg.\", \"Mich.\", \"Minn.\", \"Miss.\", \"Mo.\", \"Mon.\", \"Mr.\", \"Mrs.\", \"Ms.\", \"Mt.\", \"N.C.\", \"N.J.\", \n",
    "    \"N.Y.\", \"NFATc.\", \"Neb.\", \"Nev.\", \"No.\", \"Nos.\", \"Nov.\", \"O.J.\", \"Oct.\", \"Okla.\", \"Ont.\", \"Ore.\", \n",
    "    \"P.T.\", \"Pa.\", \"Ph.\", \"Prof.\", \"Prop.\", \"Pty.\", \"R.I.\", \"R.J.\", \"Rep.\", \"Reps.\", \"Rev.\", \"S.C.\", \n",
    "    \"Sat.\", \"Sen.\", \"Sens.\", \"Sep.\", \"Sept.\", \"Sgt.\", \"Sol.\", \"Sr.\", \"St.\", \"Sun.\", \"Tenn.\", \"Tex.\", \n",
    "    \"Thu.\", \"Tue.\", \"U.K.\", \"U.N.\", \"U.S.\", \"Va.\", \"Vt.\", \"W.J.\", \"W.Va.\", \"Wash.\", \"Wed.\", \"Wis.\", \n",
    "    \"Wyo.\", \"a.m.\", \"cit.\", \"def.\", \"ed.\", \"eds.\", \"e.g.\", \"etc.\", \"ft.\", \"i.e.\", \"op.\", \"p.m.\", \"pp.\", \n",
    "    \"sc.\", \"v.\", \"vs.\", \"Biol.\", \"Chem.\", \"beta4.\", \"Struct.\", \"Funct.\", \"Natl.\", \"Acad.\", \"Sci.\",\n",
    "    \"Biochem.\", \"Cell.\", \"Proc.\", \"Res.\", \"Lond.\", \"Nat.\", \"Dev.\", \"Camb.\", \"Profilin.\", \"Thymosin-beta4.\"\n",
    "]\n",
    "\n",
    "class Abbreviations(Range):\n",
    "    \n",
    "    def __init__(self, known=[]):\n",
    "        \"\"\" A dictionary of known abbreviations, extended with patterns of likely abbreviations.\n",
    "            word in Abbreviations() == True if word is a known or likely abbreviation.\n",
    "            Periods in English are ambiguous,\n",
    "            marking end of sentence, abbreviation, decimal point or ellipsis.\n",
    "            - Simple rule: \"every point is a sentence break\" is 93.20% correct for Brown corpus.\n",
    "            - Fix decimal points: 93,64% correct.\n",
    "            - Fix single letter abbreviations (T. De Smedt), alternating letters (i.e. U.S.),\n",
    "              and capital letter followed by consonants (Mr. Assn.): 97.7% correct.\n",
    "            - Fix with dictionary of known abbreviations: up to 99,07 accuracy.\n",
    "            http://bulba.sdsu.edu/~malouf/ling571/13-token-bw.pdf\n",
    "        \"\"\"\n",
    "        Range.__init__(self, [(x,True) for x in known])\n",
    "        self.patterns = [\n",
    "            re.compile(\"^[A-Za-z]\\.$\"),                       # single letter, \"T. De Smedt\"\n",
    "            re.compile(\"^([A-Za-z]\\.)+$\"),                    # alternating letters, \"U.S.\"\n",
    "            #re.compile(\".+\\.[,;]$\"),                         # followed by punctuation, \"dept.,\"\n",
    "            re.compile(\"^[A-Z][\"+\"|\".join(CONSONANTS)+\"]+.$\") # capital followed by consonants, \"Mr.\"\n",
    "        ]\n",
    "        \n",
    "    def __contains__(self, word):\n",
    "        return word.endswith(\".\") and Range.__contains__(self, word)\n",
    "\n",
    "abbreviations = Abbreviations(abbreviations)\n",
    "# # from https://www.clips.uantwerpen.be/BiographTA/tokenizer.py"
   ]
  },
  {
   "cell_type": "code",
   "execution_count": 7,
   "metadata": {
    "ExecuteTime": {
     "end_time": "2019-06-14T02:57:54.248439Z",
     "start_time": "2019-06-14T02:57:54.239793Z"
    }
   },
   "outputs": [],
   "source": [
    "def pre_process(data):\n",
    "    for w in abbreviations:\n",
    "        data = data.replace(w,' ')\n",
    "    data = data.replace('\\r',' ').replace('\\n',' ').replace('\\t',' ')\n",
    "    data = re.split('[.?!]',data) # cut the sentence\n",
    "    tknzr = WordPunctTokenizer()\n",
    "    data = [tknzr.tokenize(i) for i in data]\n",
    "    data=[i for i in data if len(i)>1]\n",
    "    return data"
   ]
  },
  {
   "cell_type": "code",
   "execution_count": 8,
   "metadata": {
    "ExecuteTime": {
     "end_time": "2019-06-14T02:57:56.932184Z",
     "start_time": "2019-06-14T02:57:56.927960Z"
    }
   },
   "outputs": [],
   "source": [
    "with open('./stopword.txt','r') as f:\n",
    "    stopword=f.readlines()\n",
    "stopword=[i.split('\\n')[0] for i in stopword]"
   ]
  },
  {
   "cell_type": "code",
   "execution_count": 9,
   "metadata": {
    "ExecuteTime": {
     "end_time": "2019-06-14T02:57:59.255219Z",
     "start_time": "2019-06-14T02:57:58.616898Z"
    }
   },
   "outputs": [],
   "source": [
    "book=pd.read_csv('./book.csv')"
   ]
  },
  {
   "cell_type": "code",
   "execution_count": 10,
   "metadata": {
    "ExecuteTime": {
     "end_time": "2019-06-14T02:58:01.270141Z",
     "start_time": "2019-06-14T02:58:01.266232Z"
    }
   },
   "outputs": [],
   "source": [
    "def eval_(x):\n",
    "    try:\n",
    "        return eval(x)\n",
    "    except:\n",
    "        return np.nan\n",
    "        pass"
   ]
  },
  {
   "cell_type": "code",
   "execution_count": 11,
   "metadata": {
    "ExecuteTime": {
     "end_time": "2019-06-14T02:58:01.800994Z",
     "start_time": "2019-06-14T02:58:01.793779Z"
    }
   },
   "outputs": [],
   "source": [
    "def tp_eval(x):\n",
    "    try:\n",
    "        if type(x)==str:\n",
    "            return [eval(i) for i in x.replace('\\n','').replace('[','').replace(']','').split(' ') if i!='']\n",
    "        else:\n",
    "            return [i for i in x.replace('\\n','').replace('[','').replace(']','').split(' ') if i!='']\n",
    "    except:\n",
    "        return x"
   ]
  },
  {
   "cell_type": "code",
   "execution_count": 12,
   "metadata": {
    "ExecuteTime": {
     "end_time": "2019-06-14T02:58:04.088536Z",
     "start_time": "2019-06-14T02:58:02.438840Z"
    }
   },
   "outputs": [],
   "source": [
    "book['tp']=book['tp'].apply(lambda x: eval_(x))\n",
    "book['emotion']=book['emotion'].apply(lambda x: eval_(x))\n",
    "book['character']=book['character'].apply(lambda x: eval_(x))"
   ]
  },
  {
   "cell_type": "code",
   "execution_count": 13,
   "metadata": {
    "ExecuteTime": {
     "end_time": "2019-06-14T02:58:06.078558Z",
     "start_time": "2019-06-14T02:58:04.938674Z"
    }
   },
   "outputs": [],
   "source": [
    "book['male_a']=book['tp_m'].apply(lambda x: tp_eval(x))\n",
    "book['female_a']=book['tp_f'].apply(lambda x: tp_eval(x))"
   ]
  },
  {
   "cell_type": "code",
   "execution_count": 48,
   "metadata": {
    "ExecuteTime": {
     "end_time": "2019-06-11T10:17:43.713157Z",
     "start_time": "2019-06-11T10:17:43.699314Z"
    }
   },
   "outputs": [],
   "source": [
    "def slope(cum_e,tp,l,threshold):\n",
    "    threshold=threshold\n",
    "    tp_e=[[i,cum_e[i]] for i in tp]\n",
    "    a=[]\n",
    "    for i in range(len(tp_e)-1):\n",
    "        if (tp_e[i+1][0]-tp_e[i][0])>threshold:\n",
    "            a.append(i+1)\n",
    "\n",
    "    a=[0]+a+[len(tp_e)]\n",
    "\n",
    "    b=[]\n",
    "    for i in range(len(a)-1):\n",
    "        b.append(tp_e[a[i]:a[i+1]])\n",
    "        b=[i for i in b if len(i)!=0]\n",
    "    return b"
   ]
  },
  {
   "cell_type": "code",
   "execution_count": 49,
   "metadata": {
    "ExecuteTime": {
     "end_time": "2019-06-11T10:17:44.527410Z",
     "start_time": "2019-06-11T10:17:44.517885Z"
    }
   },
   "outputs": [],
   "source": [
    "def cn(x,y):\n",
    "    try:\n",
    "        m_cn=[x[i] for i in y]\n",
    "        m_cn=normalized(m_cn)\n",
    "    #     print(m_cn)\n",
    "    #     m_cn=normalization(m_cn)\n",
    "        diction_m=dict(list(zip(y,m_cn)))\n",
    "        m_cn=np.cumsum([diction_m[i] if i in diction_m else 0 for i in range(len(x))])\n",
    "        m_cn=normalization(m_cn)\n",
    "        return m_cn\n",
    "    except:\n",
    "        pass"
   ]
  },
  {
   "cell_type": "code",
   "execution_count": 50,
   "metadata": {
    "ExecuteTime": {
     "end_time": "2019-06-11T10:17:45.166070Z",
     "start_time": "2019-06-11T10:17:45.105236Z"
    }
   },
   "outputs": [],
   "source": [
    "def k(b,w):\n",
    "    try:\n",
    "        a=[]\n",
    "        for i in b:\n",
    "            if len(i)==0:\n",
    "                continue\n",
    "            if len(i)==1:\n",
    "#                 a.append([0,1])\n",
    "                x=i[0][0]\n",
    "                if (len(w)-1)>x>0:\n",
    "                    k=(w[x]-w[x-1])/1\n",
    "                    a.append([k,1])\n",
    "#                     a.append([k,[x,x+1]])\n",
    "                elif x==0:\n",
    "                    k=(w[x+1]-w[x])/1\n",
    "                    a.append([k,1])\n",
    "#                     a.append([0,[0,1]])\n",
    "                else:\n",
    "                    k=(w[x]-w[x-1])/1\n",
    "                    a.append([k,1])\n",
    "#                     a.append([k,[x,x+1]])\n",
    "#             if len(i)<4:\n",
    "#                 continue\n",
    "            if len(i)>1:\n",
    "                x=[j[0] for j in i] #non_normalize\n",
    "                y=[j[1] for j in i] #non_normalize\n",
    "                poly = np.polyfit(x,y,deg=1)\n",
    "#                 a.append([poly[0],[x[0],x[-1]+1]])\n",
    "                a.append([poly[0],len(x)]) #number\n",
    "#                 a.append([poly[0],x[-1]-x[0]]) #length\n",
    "#                 a.append(poly[0])\n",
    "        return a\n",
    "    except Exception as e:\n",
    "        return np.nan\n",
    "        pass"
   ]
  },
  {
   "cell_type": "code",
   "execution_count": 53,
   "metadata": {
    "ExecuteTime": {
     "end_time": "2019-06-11T10:19:52.205014Z",
     "start_time": "2019-06-11T10:19:32.629571Z"
    }
   },
   "outputs": [
    {
     "name": "stdout",
     "output_type": "stream",
     "text": [
      "\r",
      "1"
     ]
    },
    {
     "name": "stderr",
     "output_type": "stream",
     "text": [
      "/Users/xuhuimin/anaconda3/lib/python3.6/site-packages/ipykernel_launcher.py:39: RuntimeWarning: invalid value encountered in true_divide\n",
      "/Users/xuhuimin/anaconda3/lib/python3.6/site-packages/numpy/core/fromnumeric.py:83: RuntimeWarning: invalid value encountered in reduce\n",
      "  return ufunc.reduce(obj, axis, dtype, out, **passkwargs)\n",
      "/Users/xuhuimin/anaconda3/lib/python3.6/site-packages/ipykernel_launcher.py:8: SettingWithCopyWarning: \n",
      "A value is trying to be set on a copy of a slice from a DataFrame.\n",
      "Try using .loc[row_indexer,col_indexer] = value instead\n",
      "\n",
      "See the caveats in the documentation: http://pandas.pydata.org/pandas-docs/stable/indexing.html#indexing-view-versus-copy\n",
      "  \n",
      "/Users/xuhuimin/anaconda3/lib/python3.6/site-packages/ipykernel_launcher.py:9: SettingWithCopyWarning: \n",
      "A value is trying to be set on a copy of a slice from a DataFrame.\n",
      "Try using .loc[row_indexer,col_indexer] = value instead\n",
      "\n",
      "See the caveats in the documentation: http://pandas.pydata.org/pandas-docs/stable/indexing.html#indexing-view-versus-copy\n",
      "  if __name__ == '__main__':\n",
      "/Users/xuhuimin/anaconda3/lib/python3.6/site-packages/ipykernel_launcher.py:10: SettingWithCopyWarning: \n",
      "A value is trying to be set on a copy of a slice from a DataFrame.\n",
      "Try using .loc[row_indexer,col_indexer] = value instead\n",
      "\n",
      "See the caveats in the documentation: http://pandas.pydata.org/pandas-docs/stable/indexing.html#indexing-view-versus-copy\n",
      "  # Remove the CWD from sys.path while we load stuff.\n"
     ]
    },
    {
     "name": "stdout",
     "output_type": "stream",
     "text": [
      "\r",
      "2"
     ]
    },
    {
     "name": "stderr",
     "output_type": "stream",
     "text": [
      "/Users/xuhuimin/anaconda3/lib/python3.6/site-packages/ipykernel_launcher.py:11: SettingWithCopyWarning: \n",
      "A value is trying to be set on a copy of a slice from a DataFrame.\n",
      "Try using .loc[row_indexer,col_indexer] = value instead\n",
      "\n",
      "See the caveats in the documentation: http://pandas.pydata.org/pandas-docs/stable/indexing.html#indexing-view-versus-copy\n",
      "  # This is added back by InteractiveShellApp.init_path()\n",
      "/Users/xuhuimin/anaconda3/lib/python3.6/site-packages/ipykernel_launcher.py:3: SettingWithCopyWarning: \n",
      "A value is trying to be set on a copy of a slice from a DataFrame.\n",
      "Try using .loc[row_indexer,col_indexer] = value instead\n",
      "\n",
      "See the caveats in the documentation: http://pandas.pydata.org/pandas-docs/stable/indexing.html#indexing-view-versus-copy\n",
      "  This is separate from the ipykernel package so we can avoid doing imports until\n",
      "/Users/xuhuimin/anaconda3/lib/python3.6/site-packages/ipykernel_launcher.py:4: SettingWithCopyWarning: \n",
      "A value is trying to be set on a copy of a slice from a DataFrame.\n",
      "Try using .loc[row_indexer,col_indexer] = value instead\n",
      "\n",
      "See the caveats in the documentation: http://pandas.pydata.org/pandas-docs/stable/indexing.html#indexing-view-versus-copy\n",
      "  after removing the cwd from sys.path.\n"
     ]
    },
    {
     "name": "stdout",
     "output_type": "stream",
     "text": [
      "9"
     ]
    }
   ],
   "source": [
    "for i in np.arange(1,10,1):\n",
    "    flushPrint(i)\n",
    "    book['m_cn']=book.apply(lambda row: cn(row.emotion,row.male_a),axis=1)\n",
    "    book['f_cn']=book.apply(lambda row: cn(row.emotion,row.female_a),axis=1)\n",
    "    global threshold\n",
    "    threshold=i\n",
    "    book=book.dropna(axis=0,how='any',subset=['m_cn','f_cn'])\n",
    "    book['m_b']=book.apply(lambda row: slope(row.m_cn,row.tp,row.len,threshold),axis=1)\n",
    "    book['f_b']=book.apply(lambda row: slope(row.f_cn,row.tp,row.len,threshold),axis=1)\n",
    "    book['m_k_'+str(i)]=book.apply(lambda row: k(row.m_b,row.m_cn),axis=1)\n",
    "    book['f_k_'+str(i)]=book.apply(lambda row: k(row.f_b,row.f_cn),axis=1)"
   ]
  },
  {
   "cell_type": "code",
   "execution_count": 54,
   "metadata": {
    "ExecuteTime": {
     "end_time": "2019-06-11T10:19:55.569982Z",
     "start_time": "2019-06-11T10:19:55.090015Z"
    }
   },
   "outputs": [
    {
     "name": "stdout",
     "output_type": "stream",
     "text": [
      "1274\n",
      "256\n"
     ]
    },
    {
     "name": "stderr",
     "output_type": "stream",
     "text": [
      "/Users/xuhuimin/anaconda3/lib/python3.6/site-packages/statsmodels/nonparametric/kde.py:448: RuntimeWarning: invalid value encountered in greater\n",
      "  X = X[np.logical_and(X > clip[0], X < clip[1])] # won't work for two columns.\n",
      "/Users/xuhuimin/anaconda3/lib/python3.6/site-packages/statsmodels/nonparametric/kde.py:448: RuntimeWarning: invalid value encountered in less\n",
      "  X = X[np.logical_and(X > clip[0], X < clip[1])] # won't work for two columns.\n",
      "/Users/xuhuimin/anaconda3/lib/python3.6/site-packages/scipy/stats/stats.py:1713: FutureWarning: Using a non-tuple sequence for multidimensional indexing is deprecated; use `arr[tuple(seq)]` instead of `arr[seq]`. In the future this will be interpreted as an array index, `arr[np.array(seq)]`, which will result either in an error or a different result.\n",
      "  return np.add.reduce(sorted[indexer] * weights, axis=axis) / sumval\n"
     ]
    },
    {
     "data": {
      "image/png": "[encoded data removed]",
      "text/plain": [
       "<Figure size 432x288 with 1 Axes>"
      ]
     },
     "metadata": {},
     "output_type": "display_data"
    },
    {
     "name": "stdout",
     "output_type": "stream",
     "text": [
      "2283\n",
      "258\n"
     ]
    },
    {
     "data": {
      "image/png": "[encoded data removed]",
      "text/plain": [
       "<Figure size 432x288 with 1 Axes>"
      ]
     },
     "metadata": {},
     "output_type": "display_data"
    }
   ],
   "source": [
    "for i in np.arange(1,3,1):\n",
    "    flushPrint(i)\n",
    "    book=book.dropna(axis=0,how='any',subset=['m_k_'+str(i),'f_k_'+str(i)])\n",
    "#     IMDB1['trend_f']=IMDB1['f_k_'+str(i)].apply(lambda x:np.median([i[0] for i in x]))\n",
    "#     IMDB1['trend_m']=IMDB1['m_k_'+str(i)].apply(lambda x:np.median([i[0] for i in x]))\n",
    "    book['trend_f']=book['f_k_'+str(i)].apply(lambda x:np.sum([i[0]*i[1] for i in x if i[0]>0])/np.sum([i[1] for i in x if i[0]>0]))\n",
    "    book['trend_m']=book['m_k_'+str(i)].apply(lambda x:np.sum([i[0]*i[1] for i in x if i[0]>0])/np.sum([i[1] for i in x if i[0]>0]))\n",
    "    book['distance']=book['trend_f']-book['trend_m']\n",
    "    book['tp_l']=book['tp'].apply(lambda x: len(x))\n",
    "    print(len(book[book['distance']>0]))\n",
    "    print(len(book[book['distance']<0]))\n",
    "    sns.distplot(list([i for i in book['trend_m'].values]), hist=False, kde=True,color='blue',label='male')\n",
    "    sns.distplot(list([i for i in book['trend_f'].values]), hist=False, kde=True,color='red',label='female')\n",
    "    # plt.plot([1,1],[0,1],'--')\n",
    "    # plt.xlim(-1,2)\n",
    "    plt.legend()\n",
    "    plt.ylabel('probability')\n",
    "    plt.xlabel('K')\n",
    "    plt.show()"
   ]
  },
  {
   "cell_type": "code",
   "execution_count": 55,
   "metadata": {
    "ExecuteTime": {
     "end_time": "2019-06-11T10:20:00.294551Z",
     "start_time": "2019-06-11T10:20:00.286111Z"
    }
   },
   "outputs": [
    {
     "data": {
      "text/plain": [
       "count    6.120000e+02\n",
       "mean     3.468171e-02\n",
       "std      6.400002e-02\n",
       "min      4.848743e-33\n",
       "25%      7.347591e-03\n",
       "50%      1.661477e-02\n",
       "75%      3.715730e-02\n",
       "max      1.000000e+00\n",
       "Name: trend_f, dtype: float64"
      ]
     },
     "execution_count": 55,
     "metadata": {},
     "output_type": "execute_result"
    }
   ],
   "source": [
    "book['trend_f'].describe()"
   ]
  },
  {
   "cell_type": "code",
   "execution_count": 56,
   "metadata": {
    "ExecuteTime": {
     "end_time": "2019-06-11T10:20:01.801097Z",
     "start_time": "2019-06-11T10:20:01.792912Z"
    }
   },
   "outputs": [
    {
     "data": {
      "text/plain": [
       "count    6.280000e+02\n",
       "mean     2.800067e-02\n",
       "std      3.372294e-02\n",
       "min      5.289652e-18\n",
       "25%      8.587080e-03\n",
       "50%      1.712804e-02\n",
       "75%      3.210385e-02\n",
       "max      2.651172e-01\n",
       "Name: trend_m, dtype: float64"
      ]
     },
     "execution_count": 56,
     "metadata": {},
     "output_type": "execute_result"
    }
   ],
   "source": [
    "book['trend_m'].describe()"
   ]
  },
  {
   "cell_type": "code",
   "execution_count": 59,
   "metadata": {
    "ExecuteTime": {
     "end_time": "2019-06-11T10:21:00.576338Z",
     "start_time": "2019-06-11T10:21:00.573782Z"
    }
   },
   "outputs": [],
   "source": [
    "import math"
   ]
  },
  {
   "cell_type": "code",
   "execution_count": 60,
   "metadata": {
    "ExecuteTime": {
     "end_time": "2019-06-11T10:21:26.918546Z",
     "start_time": "2019-06-11T10:21:26.911415Z"
    }
   },
   "outputs": [
    {
     "data": {
      "text/plain": [
       "0.02117055426490919"
      ]
     },
     "execution_count": 60,
     "metadata": {},
     "output_type": "execute_result"
    }
   ],
   "source": [
    "v,p=stats.ttest_ind([i for i in book['trend_m'].values if math.isnan(i)==False], [i for i in book['trend_f'].values if math.isnan(i)==False])\n",
    "p"
   ]
  },
  {
   "cell_type": "code",
   "execution_count": 61,
   "metadata": {
    "ExecuteTime": {
     "end_time": "2019-06-11T11:01:48.921101Z",
     "start_time": "2019-06-11T11:01:43.321951Z"
    }
   },
   "outputs": [],
   "source": [
    "book.to_csv('./book.csv',index=False)"
   ]
  },
  {
   "cell_type": "code",
   "execution_count": 62,
   "metadata": {
    "ExecuteTime": {
     "end_time": "2019-06-11T12:17:54.892350Z",
     "start_time": "2019-06-11T12:17:54.888496Z"
    }
   },
   "outputs": [
    {
     "data": {
      "text/plain": [
       "927"
      ]
     },
     "execution_count": 62,
     "metadata": {},
     "output_type": "execute_result"
    }
   ],
   "source": [
    "len(book)"
   ]
  },
  {
   "cell_type": "code",
   "execution_count": 63,
   "metadata": {
    "ExecuteTime": {
     "end_time": "2019-06-11T15:13:09.994348Z",
     "start_time": "2019-06-11T15:13:09.990109Z"
    }
   },
   "outputs": [
    {
     "data": {
      "text/plain": [
       "927"
      ]
     },
     "execution_count": 63,
     "metadata": {},
     "output_type": "execute_result"
    }
   ],
   "source": [
    "len(book)"
   ]
  },
  {
   "cell_type": "code",
   "execution_count": 64,
   "metadata": {
    "ExecuteTime": {
     "end_time": "2019-06-11T15:13:27.716472Z",
     "start_time": "2019-06-11T15:13:27.709430Z"
    }
   },
   "outputs": [],
   "source": [
    "book=book.dropna(axis=0,how='any',subset=['trend_m','trend_f'])"
   ]
  },
  {
   "cell_type": "code",
   "execution_count": 65,
   "metadata": {
    "ExecuteTime": {
     "end_time": "2019-06-11T15:13:31.685576Z",
     "start_time": "2019-06-11T15:13:31.681228Z"
    }
   },
   "outputs": [
    {
     "data": {
      "text/plain": [
       "541"
      ]
     },
     "execution_count": 65,
     "metadata": {},
     "output_type": "execute_result"
    }
   ],
   "source": [
    "len(book)"
   ]
  },
  {
   "cell_type": "code",
   "execution_count": null,
   "metadata": {},
   "outputs": [],
   "source": []
  }
 ],
 "metadata": {
  "kernelspec": {
   "display_name": "Python 3",
   "language": "python",
   "name": "python3"
  },
  "language_info": {
   "codemirror_mode": {
    "name": "ipython",
    "version": 3
   },
   "file_extension": ".py",
   "mimetype": "text/x-python",
   "name": "python",
   "nbconvert_exporter": "python",
   "pygments_lexer": "ipython3",
   "version": "3.6.2"
  },
  "toc": {
   "nav_menu": {},
   "number_sections": true,
   "sideBar": true,
   "skip_h1_title": false,
   "title_cell": "Table of Contents",
   "title_sidebar": "Contents",
   "toc_cell": false,
   "toc_position": {},
   "toc_section_display": true,
   "toc_window_display": false
  }
 },
 "nbformat": 4,
 "nbformat_minor": 2
}
