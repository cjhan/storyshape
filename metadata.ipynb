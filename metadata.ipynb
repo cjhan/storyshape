{
 "cells": [
  {
   "cell_type": "code",
   "execution_count": 5,
   "metadata": {
    "ExecuteTime": {
     "end_time": "2019-06-14T04:31:29.421143Z",
     "start_time": "2019-06-14T04:31:27.860403Z"
    }
   },
   "outputs": [],
   "source": [
    "from scipy.stats import chisquare\n",
    "from scipy import stats\n",
    "import urllib.request\n",
    "import string\n",
    "import requests\n",
    "from bs4 import BeautifulSoup\n",
    "import pandas as pd\n",
    "import multiprocessing\n",
    "import gensim\n",
    "import sys\n",
    "import spacy\n",
    "nlp=spacy.load('en')\n",
    "import seaborn as sns\n",
    "from nltk.tokenize import WordPunctTokenizer\n",
    "from gensim.models import Word2Vec\n",
    "from gensim.models import KeyedVectors\n",
    "from scipy import spatial\n",
    "from collections import Counter\n",
    "import numpy as np\n",
    "from collections import defaultdict\n",
    "from pprint import pprint\n",
    "from gensim import corpora\n",
    "import re\n",
    "import logging\n",
    "import requests\n",
    "import urllib \n",
    "import re\n",
    "import sys\n",
    "import zipfile\n",
    "from glob import glob\n",
    "import statsmodels.api as sm\n",
    "import scipy\n",
    "import scipy.stats as ss\n",
    "from scipy.signal import savgol_filter\n",
    "import random\n",
    "np.set_printoptions(precision=2)\n",
    "logging.basicConfig(format='%(asctime)s : %(levelname)s : %(message)s', level=logging.INFO)\n",
    "\n",
    "import matplotlib.pyplot as plt\n",
    "%matplotlib inline\n",
    "\n",
    "\n",
    "from sklearn import metrics\n",
    "from sklearn.cluster import KMeans\n",
    "# from the demo\n",
    "from sklearn.datasets import load_digits\n",
    "from sklearn.decomposition import PCA\n",
    "from sklearn.decomposition import TruncatedSVD\n",
    "from sklearn.decomposition import NMF\n",
    "from sklearn.preprocessing import scale\n",
    "from sklearn.linear_model import LogisticRegression\n",
    "from sklearn.model_selection import train_test_split\n",
    "from sklearn.metrics import accuracy_score\n",
    "from nltk.corpus import stopwords\n",
    "from nltk.corpus import names\n",
    "pd.set_option('display.max_columns',None)\n",
    "pd.set_option('display.max_rows',None)"
   ]
  },
  {
   "cell_type": "code",
   "execution_count": 1,
   "metadata": {
    "ExecuteTime": {
     "end_time": "2019-06-14T04:26:59.404103Z",
     "start_time": "2019-06-14T04:26:58.314836Z"
    }
   },
   "outputs": [],
   "source": [
    "# Load your usual SpaCy model (one of SpaCy English models)\n",
    "import spacy\n",
    "nlp = spacy.load('en')\n",
    "\n",
    "# load NeuralCoref and add it to the pipe of SpaCy's model\n",
    "import neuralcoref\n",
    "coref = neuralcoref.NeuralCoref(nlp.vocab)\n",
    "nlp.add_pipe(coref, name='neuralcoref')"
   ]
  },
  {
   "cell_type": "code",
   "execution_count": 2,
   "metadata": {
    "ExecuteTime": {
     "end_time": "2019-06-14T04:26:59.473792Z",
     "start_time": "2019-06-14T04:26:59.406034Z"
    }
   },
   "outputs": [],
   "source": [
    "def flushPrint(s):\n",
    "    sys.stdout.write('\\r')\n",
    "    sys.stdout.write('%s' % s)\n",
    "    sys.stdout.flush()\n",
    "    \n",
    "def normalize(v):\n",
    "    norm = np.linalg.norm(v)\n",
    "    if norm == 0:\n",
    "        return v\n",
    "    return v / norm\n",
    "\n",
    "def cultureD2(model, words):\n",
    "    cultures = []\n",
    "    for word in words:\n",
    "        if (word[0] in model.wv.vocab) & (word[1] in model.wv.vocab):\n",
    "            cultures.append(normalize(normalize(model[word[0]]) - normalize(model[word[1]])))\n",
    "        else:\n",
    "            print(word)\n",
    "    culturev = normalize(np.mean(cultures, axis=0))\n",
    "    return culturev\n",
    "\n",
    "def storyv(model,words):\n",
    "    veclist=[]\n",
    "    for w in words:\n",
    "        if w in model.wv.vocab:\n",
    "            veclist.append(normalize(model[w]))\n",
    "    storyv=normalize(np.mean(veclist,axis=0))\n",
    "    return storyv\n",
    "\n",
    "def projection(storyv, culturev):\n",
    "    # cosine similarity\n",
    "    return (1 - spatial.distance.cosine(storyv, culturev))\n",
    "           \n",
    "def cosine2angle(i):\n",
    "    return np.arccos(i) / np.pi * 180 #长度换角度\n",
    "\n",
    "def normalized(x):\n",
    "    x= np.array(x)\n",
    "    return (x-np.mean(x))/np.std(x)\n",
    "\n",
    "def normalization(x):\n",
    "    x=np.array(x)\n",
    "    return (x-np.min(x))/(np.max(x)-np.min(x))"
   ]
  },
  {
   "cell_type": "code",
   "execution_count": 3,
   "metadata": {
    "ExecuteTime": {
     "end_time": "2019-06-14T04:26:59.746413Z",
     "start_time": "2019-06-14T04:26:59.741922Z"
    }
   },
   "outputs": [],
   "source": [
    "swords = [\n",
    "    ['success','failure'],\n",
    "    ['succeed','fail'],\n",
    "    ['lucky', 'unlucky'],\n",
    "    ['fortunate', 'unfortunate'],\n",
    "    ['happy', 'unhappy'],\n",
    "    ['glad', 'sad'],\n",
    "    ['joy', 'sorrow'],\n",
    "    ['smile', 'tear']\n",
    "] # success words"
   ]
  },
  {
   "cell_type": "code",
   "execution_count": 5,
   "metadata": {},
   "outputs": [
    {
     "name": "stderr",
     "output_type": "stream",
     "text": [
      "2019-05-27 10:24:22,614 : INFO : loading projection weights from GoogleNews-vectors-negative300.bin\n",
      "2019-05-27 10:26:20,420 : INFO : loaded (3000000, 300) matrix from GoogleNews-vectors-negative300.bin\n"
     ]
    }
   ],
   "source": [
    "# Load Google's pre-trained Word2Vec model.\n",
    "model = gensim.models.KeyedVectors.load_word2vec_format('GoogleNews-vectors-negative300.bin',binary=True)\n",
    "\n",
    "# model = gensim.models.KeyedVectors.load_word2vec_format('english_fiction_sgns_gensim_1990.txt')"
   ]
  },
  {
   "cell_type": "code",
   "execution_count": 6,
   "metadata": {},
   "outputs": [
    {
     "name": "stderr",
     "output_type": "stream",
     "text": [
      "2019-05-24 18:10:35,910 : INFO : precomputing L2-norms of word weight vectors\n"
     ]
    }
   ],
   "source": [
    "success_vector = cultureD2(model, swords)\n",
    "success_word = [i[0] for i in model.similar_by_vector(success_vector, 1)]"
   ]
  },
  {
   "cell_type": "code",
   "execution_count": 7,
   "metadata": {
    "collapsed": true
   },
   "outputs": [],
   "source": [
    "def flushPrint(s):\n",
    "    sys.stdout.write('\\r')\n",
    "    sys.stdout.write('%s' % s)\n",
    "    sys.stdout.flush()"
   ]
  },
  {
   "cell_type": "code",
   "execution_count": 8,
   "metadata": {
    "collapsed": true
   },
   "outputs": [],
   "source": [
    "import re, sys, getopt\n",
    "\n",
    "PUNCTUATION = [ch for ch in \"\"\"(){}[]<>!?.:;,`'\"@#$%^&*+-|=~/\\\\_\"\"\"]\n",
    "LETTERS     = [ch for ch in \"abcdefghijklmnopqrstuvwxyz\"]\n",
    "CONSONANTS  = [ch for ch in \"bcdfghjklmnpqrstvwxz\"] # Need this for Mr. Mss. abbreviations.\n",
    "WHITESPACE  = [ch for ch in \" \\t\\n\\r\\f\\v\"]          # Need this to split words.\n",
    "DASHES      = [ch for ch in u\"鈥撯€�\"]                  # Not to be confused with hyphen.\n",
    "\n",
    "is_uppercase   = lambda s: len(s)>0 and s==s.upper()                          # Goodbye => True\n",
    "is_capitalized = lambda s: len(s)>0 and s[0].isalpha() and s[0]==s[0].upper() # GOODBYE => True\n",
    "\n",
    "digits = re.compile(\"^[0-9]+$\")\n",
    "is_int = lambda s: digits.search(s) != None\n",
    "\n",
    "# regex pattern for entities: &amp; &#164;\n",
    "entity = \"&[a-z]+;|&#[0-9]+;\"\n",
    "\n",
    "class Range(dict):\n",
    "    \n",
    "    def __init__(self, items=[]):\n",
    "        dict.__init__(self, items)\n",
    "        self.patterns = []\n",
    "        \n",
    "    def __contains__(self, str):\n",
    "        if dict.__contains__(self, str): \n",
    "            return True\n",
    "        for p in self.patterns:\n",
    "            if p.search(str) != None: \n",
    "                return True\n",
    "        return False\n",
    "\n",
    "def in_any(word, ranges=[]):\n",
    "    for rng in ranges:\n",
    "        if word in rng: return True\n",
    "        \n",
    "abbreviations = [\n",
    "    \"Adm.\", \"Ala.\", \"Ariz.\", \"Ark.\", \"Aug.\", \"B.C.\", \"Bancorp.\", \"Bhd.\", \"Brig.\", \"Bros.\", \"CO.\", \n",
    "    \"CORP.\", \"COS.\", \"ca.\", \"Calif.\", \"Capt.\", \"Cie.\", \"Cmdr.\", \"Co.\", \"Col.\", \"Colo.\", \"Conn.\", \"Corp.\", \n",
    "    \"Cos.\", \"Cpl.\", \"D-Mass.\", \"D.C.\", \"Dec.\", \"Del.\", \"Dept.\", \"Dr.\", \"E.g.\", \"Etc.\", \"Ex.\", \"Exch.\", \n",
    "    \"Feb.\", \"Fla.\", \"Fri.\", \"Ga.\", \"Gen.\", \"Gov.\", \"INC.\", \"Ill.\", \"Inc.\", \"Ind.\", \"Jan.\", \"Jansz.\", \n",
    "    \"Jos.\", \"Jr.\", \"Kan.\", \"Ky.\", \"L.A.\", \"La.\", \"Lt.\", \"Ltd.\", \"Maj.\", \"Mass.\", \"Md.\", \"Messrs.\", \n",
    "    \"Mfg.\", \"Mich.\", \"Minn.\", \"Miss.\", \"Mo.\", \"Mon.\", \"Mr.\", \"Mrs.\", \"Ms.\", \"Mt.\", \"N.C.\", \"N.J.\", \n",
    "    \"N.Y.\", \"NFATc.\", \"Neb.\", \"Nev.\", \"No.\", \"Nos.\", \"Nov.\", \"O.J.\", \"Oct.\", \"Okla.\", \"Ont.\", \"Ore.\", \n",
    "    \"P.T.\", \"Pa.\", \"Ph.\", \"Prof.\", \"Prop.\", \"Pty.\", \"R.I.\", \"R.J.\", \"Rep.\", \"Reps.\", \"Rev.\", \"S.C.\", \n",
    "    \"Sat.\", \"Sen.\", \"Sens.\", \"Sep.\", \"Sept.\", \"Sgt.\", \"Sol.\", \"Sr.\", \"St.\", \"Sun.\", \"Tenn.\", \"Tex.\", \n",
    "    \"Thu.\", \"Tue.\", \"U.K.\", \"U.N.\", \"U.S.\", \"Va.\", \"Vt.\", \"W.J.\", \"W.Va.\", \"Wash.\", \"Wed.\", \"Wis.\", \n",
    "    \"Wyo.\", \"a.m.\", \"cit.\", \"def.\", \"ed.\", \"eds.\", \"e.g.\", \"etc.\", \"ft.\", \"i.e.\", \"op.\", \"p.m.\", \"pp.\", \n",
    "    \"sc.\", \"v.\", \"vs.\", \"Biol.\", \"Chem.\", \"beta4.\", \"Struct.\", \"Funct.\", \"Natl.\", \"Acad.\", \"Sci.\",\n",
    "    \"Biochem.\", \"Cell.\", \"Proc.\", \"Res.\", \"Lond.\", \"Nat.\", \"Dev.\", \"Camb.\", \"Profilin.\", \"Thymosin-beta4.\"\n",
    "]\n",
    "\n",
    "class Abbreviations(Range):\n",
    "    \n",
    "    def __init__(self, known=[]):\n",
    "        \"\"\" A dictionary of known abbreviations, extended with patterns of likely abbreviations.\n",
    "            word in Abbreviations() == True if word is a known or likely abbreviation.\n",
    "            Periods in English are ambiguous,\n",
    "            marking end of sentence, abbreviation, decimal point or ellipsis.\n",
    "            - Simple rule: \"every point is a sentence break\" is 93.20% correct for Brown corpus.\n",
    "            - Fix decimal points: 93,64% correct.\n",
    "            - Fix single letter abbreviations (T. De Smedt), alternating letters (i.e. U.S.),\n",
    "              and capital letter followed by consonants (Mr. Assn.): 97.7% correct.\n",
    "            - Fix with dictionary of known abbreviations: up to 99,07 accuracy.\n",
    "            http://bulba.sdsu.edu/~malouf/ling571/13-token-bw.pdf\n",
    "        \"\"\"\n",
    "        Range.__init__(self, [(x,True) for x in known])\n",
    "        self.patterns = [\n",
    "            re.compile(\"^[A-Za-z]\\.$\"),                       # single letter, \"T. De Smedt\"\n",
    "            re.compile(\"^([A-Za-z]\\.)+$\"),                    # alternating letters, \"U.S.\"\n",
    "            #re.compile(\".+\\.[,;]$\"),                         # followed by punctuation, \"dept.,\"\n",
    "            re.compile(\"^[A-Z][\"+\"|\".join(CONSONANTS)+\"]+.$\") # capital followed by consonants, \"Mr.\"\n",
    "        ]\n",
    "        \n",
    "    def __contains__(self, word):\n",
    "        return word.endswith(\".\") and Range.__contains__(self, word)\n",
    "\n",
    "abbreviations = Abbreviations(abbreviations)\n",
    "# # from https://www.clips.uantwerpen.be/BiographTA/tokenizer.py"
   ]
  },
  {
   "cell_type": "code",
   "execution_count": 9,
   "metadata": {
    "collapsed": true
   },
   "outputs": [],
   "source": [
    "def pre_process(data):\n",
    "    for w in abbreviations:\n",
    "        data = data.replace(w,' ')\n",
    "    data = data.replace('\\r',' ').replace('\\n',' ').replace('\\t',' ')\n",
    "    data = re.split('[.?!]',data) # cut the sentence\n",
    "    tknzr = WordPunctTokenizer()\n",
    "    data = [tknzr.tokenize(i) for i in data]\n",
    "    data=[i for i in data if len(i)>1]\n",
    "    return data"
   ]
  },
  {
   "cell_type": "code",
   "execution_count": 10,
   "metadata": {
    "collapsed": true
   },
   "outputs": [],
   "source": [
    "with open('./stopword.txt','r') as f:\n",
    "    stopword=f.readlines()\n",
    "stopword=[i.split('\\n')[0] for i in stopword]"
   ]
  },
  {
   "cell_type": "code",
   "execution_count": null,
   "metadata": {
    "collapsed": true
   },
   "outputs": [],
   "source": []
  },
  {
   "cell_type": "markdown",
   "metadata": {},
   "source": [
    "### emotion diction"
   ]
  },
  {
   "cell_type": "code",
   "execution_count": 22,
   "metadata": {},
   "outputs": [
    {
     "data": {
      "text/plain": [
       "3000000"
      ]
     },
     "execution_count": 22,
     "metadata": {},
     "output_type": "execute_result"
    }
   ],
   "source": [
    "len(model.vocab)"
   ]
  },
  {
   "cell_type": "code",
   "execution_count": 33,
   "metadata": {},
   "outputs": [
    {
     "name": "stdout",
     "output_type": "stream",
     "text": [
      "2999999"
     ]
    }
   ],
   "source": [
    "# diction={}\n",
    "# for i,j in enumerate(model.vocab):\n",
    "#     flushPrint(i)\n",
    "#     sim = 90-cosine2angle(projection(model[j],success_vector))\n",
    "#     diction[j]= sim"
   ]
  },
  {
   "cell_type": "code",
   "execution_count": 1,
   "metadata": {
    "collapsed": true
   },
   "outputs": [],
   "source": [
    "import json\n",
    "with open(\"diction.txt\",\"r\") as f:\n",
    "    diction = json.loads(f.readline())"
   ]
  },
  {
   "cell_type": "code",
   "execution_count": 12,
   "metadata": {
    "collapsed": true
   },
   "outputs": [],
   "source": [
    "# with open(\"diction.txt\",\"w\") as f:\n",
    "#     f.write(json.dumps(diction))"
   ]
  },
  {
   "cell_type": "code",
   "execution_count": 2,
   "metadata": {
    "collapsed": true
   },
   "outputs": [],
   "source": [
    "with open(\"diction.txt\",\"r\") as f:\n",
    "    diction = json.loads(f.readline())"
   ]
  },
  {
   "cell_type": "code",
   "execution_count": 3,
   "metadata": {},
   "outputs": [
    {
     "data": {
      "text/plain": [
       "3000000"
      ]
     },
     "execution_count": 3,
     "metadata": {},
     "output_type": "execute_result"
    }
   ],
   "source": [
    "len(diction)"
   ]
  },
  {
   "cell_type": "markdown",
   "metadata": {},
   "source": [
    "### book"
   ]
  },
  {
   "cell_type": "code",
   "execution_count": 13,
   "metadata": {
    "collapsed": true
   },
   "outputs": [],
   "source": [
    "def get_maintext_lines_gutenberg(raw_text):\n",
    "    lines = raw_text.split(\"\\n\")\n",
    "    start_book_i = 0\n",
    "    end_book_i = len(lines)-1\n",
    "    # pass 1, this format is easy and gets 78.9% of books\n",
    "    start1=\"START OF THIS PROJECT GUTENBERG EBOOK\"\n",
    "    start2=\"START OF THE PROJECT GUTENBERG EBOOK\"\n",
    "    end1=\"END OF THIS PROJECT GUTENBERG EBOOK\"\n",
    "    end2=\"END OF THE PROJECT GUTENBERG EBOOK\"\n",
    "    end3=\"END OF PROJECT GUTENBERG\"\n",
    "    for j,line in enumerate(lines):\n",
    "        if (start1 in line) or (start2 in line):\n",
    "            # and \"***\" in line and start_book[i] == 0 and j<.25*len(lines):\n",
    "            start_book_i = j\n",
    "        end_in_line = end1 in line or end2 in line or end3 in line.upper()\n",
    "        if end_in_line and (end_book_i == (len(lines)-1)):\n",
    "            #  and \"***\" in line and j>.75*len(lines)\n",
    "            end_book_i = j\n",
    "    # pass 2, this will bring us to 99%\n",
    "    if (start_book_i == 0) and (end_book_i == len(lines)-1):\n",
    "        for j,line in enumerate(lines):\n",
    "            if (\"end\" in line.lower() or \"****\" in line) and  \"small print\" in line.lower() and j<.5*len(lines):\n",
    "                start_book_i = j\n",
    "            if \"end\" in line.lower() and \"project gutenberg\" in line.lower() and j>.75*len(lines):\n",
    "                end_book_i = j\n",
    "        # pass three, caught them all (check)\n",
    "        if end_book_i == len(lines)-1:\n",
    "            for j,line in enumerate(lines):\n",
    "                if \"THE END\" in line and j>.9*len(lines):\n",
    "                    end_book_i = j\n",
    "    return lines[(start_book_i+1):(end_book_i)]"
   ]
  },
  {
   "cell_type": "code",
   "execution_count": 14,
   "metadata": {
    "collapsed": true
   },
   "outputs": [],
   "source": [
    "def chunkify(lines):\n",
    "    # put them back together...\n",
    "    raw_text = \"\\n\".join(lines)\n",
    "    # remove extra whitespace\n",
    "    raw_text_1 = re.sub(\"\\n[\\\\s]+?\\n\",\"\\n\\n\",raw_text)\n",
    "    # remove singleton newlines\n",
    "    raw_text_2 = re.sub(r\"([^\\n])\\n([^\\n])\",r\"\\1 \\2\",raw_text_1)\n",
    "    raw_text_3 = raw_text_2.rstrip().lstrip()\n",
    "\n",
    "    # three levels of significance\n",
    "    # single newlines were already discarded (insignificant)\n",
    "    # double newlines are real line breaks\n",
    "    # triple newlines (or more) separate content\n",
    "\n",
    "    # split on those triples (or more)\n",
    "    big_chunks = re.split(\"\\n\\n\\n+\",raw_text_3)\n",
    "\n",
    "    # now break them into the paragraphs\n",
    "    small_chunks = list(map(lambda x: re.split(\"\\n\\n\",x),big_chunks))\n",
    "    combined_chunks = []\n",
    "    [combined_chunks.extend(el) for el in small_chunks]\n",
    "    combined_chunks = [i for i in combined_chunks if i[-1] in '!\"#$%&\\'()+,-./:;<=>?@[\\\\]^_`{|}~']\n",
    "#     combined_chunks = ' '.join(combined_chunks)\n",
    "#     combined_chunks = []\n",
    "\n",
    "#     for i in range(len(small_chunks)):\n",
    "#         for j in range(len(small_chunks[i])):\n",
    "#             combined_chunks.append((i,j,small_chunks[i][j]))\n",
    "    return combined_chunks\n",
    "#     return small_chunks"
   ]
  },
  {
   "cell_type": "code",
   "execution_count": 306,
   "metadata": {
    "collapsed": true
   },
   "outputs": [],
   "source": [
    "book=pd.read_csv('./gutenberg/metadata.csv')\n",
    "book=book[book['lang']=='English']\n",
    "# book['class']=book['loc_class'].apply(lambda x: [i[0] for i in x.split('|') if i[0] in [str(chr(i)) for i in range(65,91)]])\n",
    "# book['judge']=book['class'].apply(lambda x:True if 'P' in x else False)\n",
    "# book=book[book['judge']==True]"
   ]
  },
  {
   "cell_type": "code",
   "execution_count": null,
   "metadata": {
    "collapsed": true
   },
   "outputs": [],
   "source": []
  },
  {
   "cell_type": "code",
   "execution_count": 307,
   "metadata": {},
   "outputs": [
    {
     "data": {
      "text/plain": [
       "count     37501.000000\n",
       "mean       3161.890696\n",
       "std        6341.892102\n",
       "min           0.000000\n",
       "25%         879.000000\n",
       "50%        2373.000000\n",
       "75%        4255.000000\n",
       "max      945426.000000\n",
       "Name: len, dtype: float64"
      ]
     },
     "execution_count": 307,
     "metadata": {},
     "output_type": "execute_result"
    }
   ],
   "source": [
    "book['len'].describe()"
   ]
  },
  {
   "cell_type": "code",
   "execution_count": 308,
   "metadata": {},
   "outputs": [
    {
     "data": {
      "text/plain": [
       "count    3.750100e+04\n",
       "mean     5.405320e+04\n",
       "std      8.140605e+04\n",
       "min      0.000000e+00\n",
       "25%      1.557200e+04\n",
       "50%      4.191200e+04\n",
       "75%      7.386700e+04\n",
       "max      9.198577e+06\n",
       "Name: count, dtype: float64"
      ]
     },
     "execution_count": 308,
     "metadata": {},
     "output_type": "execute_result"
    }
   ],
   "source": [
    "book['count'].describe()"
   ]
  },
  {
   "cell_type": "code",
   "execution_count": 111,
   "metadata": {
    "collapsed": true
   },
   "outputs": [],
   "source": [
    "no=book['no'].values"
   ]
  },
  {
   "cell_type": "code",
   "execution_count": 112,
   "metadata": {},
   "outputs": [
    {
     "data": {
      "text/plain": [
       "25838"
      ]
     },
     "execution_count": 112,
     "metadata": {},
     "output_type": "execute_result"
    }
   ],
   "source": [
    "len(no)"
   ]
  },
  {
   "cell_type": "code",
   "execution_count": 201,
   "metadata": {
    "collapsed": true
   },
   "outputs": [
    {
     "name": "stdout",
     "output_type": "stream",
     "text": [
      "39[Errno 2] No such file or directory: './gutenberg/40.txt'\n",
      "42[Errno 2] No such file or directory: './gutenberg/43.txt'\n",
      "69[Errno 2] No such file or directory: './gutenberg/70.txt'\n",
      "73[Errno 2] No such file or directory: './gutenberg/74.txt'\n",
      "75[Errno 2] No such file or directory: './gutenberg/76.txt'\n",
      "83[Errno 2] No such file or directory: './gutenberg/84.txt'\n",
      "85[Errno 2] No such file or directory: './gutenberg/86.txt'\n",
      "88[Errno 2] No such file or directory: './gutenberg/89.txt'\n",
      "90[Errno 2] No such file or directory: './gutenberg/91.txt'\n",
      "92[Errno 2] No such file or directory: './gutenberg/93.txt'\n",
      "99[Errno 2] No such file or directory: './gutenberg/100.txt'\n",
      "115[Errno 2] No such file or directory: './gutenberg/116.txt'\n",
      "118[Errno 2] No such file or directory: './gutenberg/119.txt'\n",
      "134[Errno 2] No such file or directory: './gutenberg/135.txt'\n",
      "141[Errno 2] No such file or directory: './gutenberg/142.txt'\n",
      "146[Errno 2] No such file or directory: './gutenberg/147.txt'\n",
      "154"
     ]
    },
    {
     "ename": "KeyboardInterrupt",
     "evalue": "",
     "output_type": "error",
     "traceback": [
      "\u001b[0;31m---------------------------------------------------------------------------\u001b[0m",
      "\u001b[0;31mKeyboardInterrupt\u001b[0m                         Traceback (most recent call last)",
      "\u001b[0;32m<ipython-input-201-a19ce20432f8>\u001b[0m in \u001b[0;36m<module>\u001b[0;34m()\u001b[0m\n\u001b[1;32m      6\u001b[0m         \u001b[0mf\u001b[0m\u001b[0;34m.\u001b[0m\u001b[0mclose\u001b[0m\u001b[0;34m(\u001b[0m\u001b[0;34m)\u001b[0m\u001b[0;34m\u001b[0m\u001b[0m\n\u001b[1;32m      7\u001b[0m         \u001b[0mlines\u001b[0m \u001b[0;34m=\u001b[0m \u001b[0mget_maintext_lines_gutenberg\u001b[0m\u001b[0;34m(\u001b[0m\u001b[0mrawtext\u001b[0m\u001b[0;34m)\u001b[0m\u001b[0;34m\u001b[0m\u001b[0m\n\u001b[0;32m----> 8\u001b[0;31m         \u001b[0mchunked\u001b[0m \u001b[0;34m=\u001b[0m \u001b[0mchunkify\u001b[0m\u001b[0;34m(\u001b[0m\u001b[0mlines\u001b[0m\u001b[0;34m)\u001b[0m\u001b[0;34m\u001b[0m\u001b[0m\n\u001b[0m\u001b[1;32m      9\u001b[0m         \u001b[0mdata\u001b[0m\u001b[0;34m=\u001b[0m\u001b[0mpre_process\u001b[0m\u001b[0;34m(\u001b[0m\u001b[0;34m' '\u001b[0m\u001b[0;34m.\u001b[0m\u001b[0mjoin\u001b[0m\u001b[0;34m(\u001b[0m\u001b[0mchunked\u001b[0m\u001b[0;34m)\u001b[0m\u001b[0;34m)\u001b[0m \u001b[0;31m#break into sentences\u001b[0m\u001b[0;34m\u001b[0m\u001b[0m\n\u001b[1;32m     10\u001b[0m         \u001b[0mdata\u001b[0m\u001b[0;34m=\u001b[0m\u001b[0;34m[\u001b[0m\u001b[0;34m'\\t'\u001b[0m\u001b[0;34m.\u001b[0m\u001b[0mjoin\u001b[0m\u001b[0;34m(\u001b[0m\u001b[0;34m[\u001b[0m\u001b[0;34m'_'\u001b[0m\u001b[0;34m.\u001b[0m\u001b[0mjoin\u001b[0m\u001b[0;34m(\u001b[0m\u001b[0;34m[\u001b[0m\u001b[0mw\u001b[0m\u001b[0;34m,\u001b[0m \u001b[0mstr\u001b[0m\u001b[0;34m(\u001b[0m\u001b[0mdiction\u001b[0m\u001b[0;34m[\u001b[0m\u001b[0mw\u001b[0m\u001b[0;34m]\u001b[0m\u001b[0;34m)\u001b[0m\u001b[0;34m]\u001b[0m\u001b[0;34m)\u001b[0m \u001b[0;32mfor\u001b[0m \u001b[0mw\u001b[0m \u001b[0;32min\u001b[0m \u001b[0ms\u001b[0m \u001b[0;32mif\u001b[0m \u001b[0mw\u001b[0m \u001b[0;32min\u001b[0m \u001b[0mdiction\u001b[0m\u001b[0;34m]\u001b[0m\u001b[0;34m)\u001b[0m \u001b[0;32mfor\u001b[0m \u001b[0ms\u001b[0m \u001b[0;32min\u001b[0m \u001b[0mdata\u001b[0m\u001b[0;34m]\u001b[0m\u001b[0;34m\u001b[0m\u001b[0m\n",
      "\u001b[0;32m<ipython-input-155-cbe79b3fb6a0>\u001b[0m in \u001b[0;36mchunkify\u001b[0;34m(lines)\u001b[0m\n\u001b[1;32m      5\u001b[0m     \u001b[0mraw_text_1\u001b[0m \u001b[0;34m=\u001b[0m \u001b[0mre\u001b[0m\u001b[0;34m.\u001b[0m\u001b[0msub\u001b[0m\u001b[0;34m(\u001b[0m\u001b[0;34m\"\\n[\\\\s]+?\\n\"\u001b[0m\u001b[0;34m,\u001b[0m\u001b[0;34m\"\\n\\n\"\u001b[0m\u001b[0;34m,\u001b[0m\u001b[0mraw_text\u001b[0m\u001b[0;34m)\u001b[0m\u001b[0;34m\u001b[0m\u001b[0m\n\u001b[1;32m      6\u001b[0m     \u001b[0;31m# remove singleton newlines\u001b[0m\u001b[0;34m\u001b[0m\u001b[0;34m\u001b[0m\u001b[0m\n\u001b[0;32m----> 7\u001b[0;31m     \u001b[0mraw_text_2\u001b[0m \u001b[0;34m=\u001b[0m \u001b[0mre\u001b[0m\u001b[0;34m.\u001b[0m\u001b[0msub\u001b[0m\u001b[0;34m(\u001b[0m\u001b[0;34mr\"([^\\n])\\n([^\\n])\"\u001b[0m\u001b[0;34m,\u001b[0m\u001b[0;34mr\"\\1 \\2\"\u001b[0m\u001b[0;34m,\u001b[0m\u001b[0mraw_text_1\u001b[0m\u001b[0;34m)\u001b[0m\u001b[0;34m\u001b[0m\u001b[0m\n\u001b[0m\u001b[1;32m      8\u001b[0m     \u001b[0mraw_text_3\u001b[0m \u001b[0;34m=\u001b[0m \u001b[0mraw_text_2\u001b[0m\u001b[0;34m.\u001b[0m\u001b[0mrstrip\u001b[0m\u001b[0;34m(\u001b[0m\u001b[0;34m)\u001b[0m\u001b[0;34m.\u001b[0m\u001b[0mlstrip\u001b[0m\u001b[0;34m(\u001b[0m\u001b[0;34m)\u001b[0m\u001b[0;34m\u001b[0m\u001b[0m\n\u001b[1;32m      9\u001b[0m \u001b[0;34m\u001b[0m\u001b[0m\n",
      "\u001b[0;32m/home/sysadmin/anaconda3/lib/python3.6/re.py\u001b[0m in \u001b[0;36msub\u001b[0;34m(pattern, repl, string, count, flags)\u001b[0m\n\u001b[1;32m    189\u001b[0m     \u001b[0ma\u001b[0m \u001b[0mcallable\u001b[0m\u001b[0;34m,\u001b[0m \u001b[0mit\u001b[0m\u001b[0;31m'\u001b[0m\u001b[0ms\u001b[0m \u001b[0mpassed\u001b[0m \u001b[0mthe\u001b[0m \u001b[0mmatch\u001b[0m \u001b[0mobject\u001b[0m \u001b[0;32mand\u001b[0m \u001b[0mmust\u001b[0m \u001b[0;32mreturn\u001b[0m\u001b[0;34m\u001b[0m\u001b[0m\n\u001b[1;32m    190\u001b[0m     a replacement string to be used.\"\"\"\n\u001b[0;32m--> 191\u001b[0;31m     \u001b[0;32mreturn\u001b[0m \u001b[0m_compile\u001b[0m\u001b[0;34m(\u001b[0m\u001b[0mpattern\u001b[0m\u001b[0;34m,\u001b[0m \u001b[0mflags\u001b[0m\u001b[0;34m)\u001b[0m\u001b[0;34m.\u001b[0m\u001b[0msub\u001b[0m\u001b[0;34m(\u001b[0m\u001b[0mrepl\u001b[0m\u001b[0;34m,\u001b[0m \u001b[0mstring\u001b[0m\u001b[0;34m,\u001b[0m \u001b[0mcount\u001b[0m\u001b[0;34m)\u001b[0m\u001b[0;34m\u001b[0m\u001b[0m\n\u001b[0m\u001b[1;32m    192\u001b[0m \u001b[0;34m\u001b[0m\u001b[0m\n\u001b[1;32m    193\u001b[0m \u001b[0;32mdef\u001b[0m \u001b[0msubn\u001b[0m\u001b[0;34m(\u001b[0m\u001b[0mpattern\u001b[0m\u001b[0;34m,\u001b[0m \u001b[0mrepl\u001b[0m\u001b[0;34m,\u001b[0m \u001b[0mstring\u001b[0m\u001b[0;34m,\u001b[0m \u001b[0mcount\u001b[0m\u001b[0;34m=\u001b[0m\u001b[0;36m0\u001b[0m\u001b[0;34m,\u001b[0m \u001b[0mflags\u001b[0m\u001b[0;34m=\u001b[0m\u001b[0;36m0\u001b[0m\u001b[0;34m)\u001b[0m\u001b[0;34m:\u001b[0m\u001b[0;34m\u001b[0m\u001b[0m\n",
      "\u001b[0;32m/home/sysadmin/anaconda3/lib/python3.6/re.py\u001b[0m in \u001b[0;36mfilter\u001b[0;34m(match, template)\u001b[0m\n\u001b[1;32m    329\u001b[0m         \u001b[0;32mreturn\u001b[0m \u001b[0mtemplate\u001b[0m\u001b[0;34m[\u001b[0m\u001b[0;36m1\u001b[0m\u001b[0;34m]\u001b[0m\u001b[0;34m[\u001b[0m\u001b[0;36m0\u001b[0m\u001b[0;34m]\u001b[0m\u001b[0;34m\u001b[0m\u001b[0m\n\u001b[1;32m    330\u001b[0m     \u001b[0;32mdef\u001b[0m \u001b[0mfilter\u001b[0m\u001b[0;34m(\u001b[0m\u001b[0mmatch\u001b[0m\u001b[0;34m,\u001b[0m \u001b[0mtemplate\u001b[0m\u001b[0;34m=\u001b[0m\u001b[0mtemplate\u001b[0m\u001b[0;34m)\u001b[0m\u001b[0;34m:\u001b[0m\u001b[0;34m\u001b[0m\u001b[0m\n\u001b[0;32m--> 331\u001b[0;31m         \u001b[0;32mreturn\u001b[0m \u001b[0msre_parse\u001b[0m\u001b[0;34m.\u001b[0m\u001b[0mexpand_template\u001b[0m\u001b[0;34m(\u001b[0m\u001b[0mtemplate\u001b[0m\u001b[0;34m,\u001b[0m \u001b[0mmatch\u001b[0m\u001b[0;34m)\u001b[0m\u001b[0;34m\u001b[0m\u001b[0m\n\u001b[0m\u001b[1;32m    332\u001b[0m     \u001b[0;32mreturn\u001b[0m \u001b[0mfilter\u001b[0m\u001b[0;34m\u001b[0m\u001b[0m\n\u001b[1;32m    333\u001b[0m \u001b[0;34m\u001b[0m\u001b[0m\n",
      "\u001b[0;31mKeyboardInterrupt\u001b[0m: "
     ]
    }
   ],
   "source": [
    "for i,n in enumerate(no):\n",
    "    try:\n",
    "        flushPrint(i)\n",
    "        f = open('./gutenberg/'+n+'.txt',\"r\",encoding='ISO-8859-1')\n",
    "        rawtext = f.read()\n",
    "        f.close()\n",
    "        lines = get_maintext_lines_gutenberg(rawtext)\n",
    "        chunked = chunkify(lines)\n",
    "        data=pre_process(' '.join(chunked)) #break into sentences\n",
    "        data=['\\t'.join(['_'.join([w, str(diction[w])]) for w in s if w in diction]) for s in data]\n",
    "        with open('./book/'+n+'.txt',\"w\") as f:\n",
    "            for d in data:\n",
    "                f.write(d+\"\\n\")\n",
    "    except Exception as e:\n",
    "        print(e)\n",
    "        pass"
   ]
  },
  {
   "cell_type": "code",
   "execution_count": 384,
   "metadata": {
    "collapsed": true
   },
   "outputs": [],
   "source": [
    "files=glob('./book/*.txt')"
   ]
  },
  {
   "cell_type": "code",
   "execution_count": 386,
   "metadata": {
    "collapsed": true
   },
   "outputs": [],
   "source": [
    "files=[i.split('/')[-1].split('.')[0] for i in files]"
   ]
  },
  {
   "cell_type": "code",
   "execution_count": 388,
   "metadata": {},
   "outputs": [
    {
     "data": {
      "text/plain": [
       "10659"
      ]
     },
     "execution_count": 388,
     "metadata": {},
     "output_type": "execute_result"
    }
   ],
   "source": [
    "len(book[~book['no'].isin(files)])"
   ]
  },
  {
   "cell_type": "code",
   "execution_count": null,
   "metadata": {
    "collapsed": true
   },
   "outputs": [],
   "source": []
  },
  {
   "cell_type": "code",
   "execution_count": null,
   "metadata": {
    "collapsed": true
   },
   "outputs": [],
   "source": []
  },
  {
   "cell_type": "code",
   "execution_count": 62,
   "metadata": {},
   "outputs": [
    {
     "name": "stdout",
     "output_type": "stream",
     "text": [
      "48160"
     ]
    }
   ],
   "source": [
    "count=[]\n",
    "for i,n in enumerate(no):\n",
    "    try:\n",
    "        flushPrint(i)\n",
    "        with open('./book/'+n+'.txt',\"r\") as f:\n",
    "            a=f.readlines()\n",
    "        c=[]\n",
    "        for j in a:\n",
    "            c.append(len(j.split('\\t')))\n",
    "        count.append([n,np.sum(c),len(c)])\n",
    "    except:\n",
    "        pass"
   ]
  },
  {
   "cell_type": "code",
   "execution_count": 64,
   "metadata": {
    "collapsed": true
   },
   "outputs": [],
   "source": [
    "d=dict(zip([i[0] for i in count],[i[1] for i in count]))\n",
    "d1=dict(zip([i[0] for i in count],[i[2] for i in count]))\n",
    "\n",
    "book['count']=book['no'].apply(lambda x: d[x] if x in d else np.nan)\n",
    "book['len']=book['no'].apply(lambda x: d1[x] if x in d else np.nan)\n",
    "\n",
    "book.to_csv('./gutenberg/metadata.csv',index=False)"
   ]
  },
  {
   "cell_type": "markdown",
   "metadata": {},
   "source": [
    "### long movie"
   ]
  },
  {
   "cell_type": "code",
   "execution_count": 15,
   "metadata": {
    "collapsed": true
   },
   "outputs": [],
   "source": [
    "def chunkify(lines):\n",
    "    # put them back together...\n",
    "    raw_text = \"\\n\".join(lines)\n",
    "    # remove extra whitespace\n",
    "    raw_text_1 = re.sub(\"\\n[\\\\s]+?\\n\",\"\\n\\n\",raw_text)\n",
    "    # remove singleton newlines\n",
    "    raw_text_2 = re.sub(r\"([^\\n])\\n([^\\n])\",r\"\\1 \\2\",raw_text_1)\n",
    "    raw_text_3 = raw_text_2.rstrip().lstrip()\n",
    "\n",
    "    # three levels of significance\n",
    "    # single newlines were already discarded (insignificant)\n",
    "    # double newlines are real line breaks\n",
    "    # triple newlines (or more) separate content\n",
    "\n",
    "    # split on those triples (or more)\n",
    "    big_chunks = re.split(\"\\n\\n\\n+\",raw_text_3)\n",
    "\n",
    "    # now break them into the paragraphs\n",
    "    small_chunks = list(map(lambda x: re.split(\"\\n\\n\",x),big_chunks))\n",
    "    combined_chunks = []\n",
    "    [combined_chunks.extend(el) for el in small_chunks]\n",
    "    combined_chunks = [i for i in combined_chunks]\n",
    "#     combined_chunks = ' '.join(combined_chunks)\n",
    "#     combined_chunks = []\n",
    "\n",
    "#     for i in range(len(small_chunks)):\n",
    "#         for j in range(len(small_chunks[i])):\n",
    "#             combined_chunks.append((i,j,small_chunks[i][j]))\n",
    "    return combined_chunks\n",
    "#     return small_chunks"
   ]
  },
  {
   "cell_type": "code",
   "execution_count": 27,
   "metadata": {
    "collapsed": true
   },
   "outputs": [],
   "source": [
    "movie_type=pd.read_csv('./movie_type.csv')"
   ]
  },
  {
   "cell_type": "code",
   "execution_count": 28,
   "metadata": {},
   "outputs": [
    {
     "data": {
      "text/plain": [
       "1109"
      ]
     },
     "execution_count": 28,
     "metadata": {},
     "output_type": "execute_result"
    }
   ],
   "source": [
    "len(movie_type)"
   ]
  },
  {
   "cell_type": "code",
   "execution_count": 29,
   "metadata": {
    "collapsed": true
   },
   "outputs": [],
   "source": [
    "name=movie_type['name'].values"
   ]
  },
  {
   "cell_type": "code",
   "execution_count": 30,
   "metadata": {},
   "outputs": [
    {
     "name": "stdout",
     "output_type": "stream",
     "text": [
      "13[Errno 2] No such file or directory: './imsdb/48-Hrs.txt'\n",
      "31[Errno 2] No such file or directory: './imsdb/After.txt'\n",
      "41[Errno 2] No such file or directory: './imsdb/Alien-vs.txt'\n",
      "219[Errno 2] No such file or directory: './imsdb/Cecil-B.txt'\n",
      "333[Errno 2] No such file or directory: './imsdb/E.txt'\n",
      "351[Errno 2] No such file or directory: './imsdb/Escape-From-L.txt'\n",
      "396[Errno 2] No such file or directory: './imsdb/Freddy-vs.txt'\n",
      "411[Errno 2] No such file or directory: './imsdb/G.txt'\n",
      "412[Errno 2] No such file or directory: './imsdb/G.txt'\n",
      "592[Errno 2] No such file or directory: './imsdb/L.txt'\n",
      "712[Errno 2] No such file or directory: './imsdb/Mrs.txt'\n",
      "865[Errno 2] No such file or directory: './imsdb/S.txt'\n",
      "870[Errno 2] No such file or directory: './imsdb/Saving-Mr.txt'\n",
      "938[Errno 2] No such file or directory: './imsdb/St.txt'\n",
      "965[Errno 2] No such file or directory: './imsdb/Sunset-Blvd.txt'\n",
      "984[Errno 2] No such file or directory: './imsdb/Talented-Mr.txt'\n",
      "1108"
     ]
    }
   ],
   "source": [
    "for i,n in enumerate(name):\n",
    "    try:\n",
    "        flushPrint(i)\n",
    "        f = open('./imsdb/'+n+'.txt',\"r\")\n",
    "        rawtext = f.read()\n",
    "        f.close()\n",
    "        lines = get_maintext_lines_gutenberg(rawtext)\n",
    "        chunked = chunkify(lines)\n",
    "        data=pre_process(' '.join(chunked)) #break into sentences\n",
    "        data=['\\t'.join(['_'.join([w, str(diction[w])]) for w in s if w in diction]) for s in data]\n",
    "        with open('./long_movie/'+n+'.txt',\"w\") as f:\n",
    "            for d in data:\n",
    "                f.write(d+\"\\n\")\n",
    "    except Exception as e:\n",
    "        print(e)\n",
    "        pass"
   ]
  },
  {
   "cell_type": "code",
   "execution_count": 31,
   "metadata": {},
   "outputs": [
    {
     "name": "stdout",
     "output_type": "stream",
     "text": [
      "1108"
     ]
    }
   ],
   "source": [
    "count=[]\n",
    "for i,n in enumerate(name):\n",
    "    try:\n",
    "        flushPrint(i)\n",
    "        with open('./long_movie/'+n+'.txt',\"r\") as f:\n",
    "            a=f.readlines()\n",
    "        c=[]\n",
    "        for j in a:\n",
    "            c.append(len(j.split('\\t')))\n",
    "        count.append([n,np.sum(c),len(c)])\n",
    "    except:\n",
    "        pass"
   ]
  },
  {
   "cell_type": "code",
   "execution_count": 32,
   "metadata": {
    "collapsed": true
   },
   "outputs": [],
   "source": [
    "d=dict(zip([i[0] for i in count],[i[1] for i in count]))\n",
    "d1=dict(zip([i[0] for i in count],[i[2] for i in count]))\n",
    "\n",
    "movie_type['count']=movie_type['name'].apply(lambda x: d[x] if x in d else np.nan)\n",
    "movie_type['len']=movie_type['name'].apply(lambda x: d1[x] if x in d else np.nan)\n",
    "\n",
    "movie_type.to_csv('./movie_type.csv',index=False)"
   ]
  },
  {
   "cell_type": "code",
   "execution_count": 313,
   "metadata": {
    "collapsed": true
   },
   "outputs": [],
   "source": [
    "movie_type=pd.read_csv('./movie_type.csv')"
   ]
  },
  {
   "cell_type": "code",
   "execution_count": 314,
   "metadata": {
    "scrolled": true
   },
   "outputs": [
    {
     "data": {
      "text/plain": [
       "count    1093.000000\n",
       "mean     2742.877402\n",
       "std       668.023441\n",
       "min       299.000000\n",
       "25%      2367.000000\n",
       "50%      2736.000000\n",
       "75%      3126.000000\n",
       "max      6402.000000\n",
       "Name: len, dtype: float64"
      ]
     },
     "execution_count": 314,
     "metadata": {},
     "output_type": "execute_result"
    }
   ],
   "source": [
    "movie_type['len'].describe()"
   ]
  },
  {
   "cell_type": "code",
   "execution_count": 315,
   "metadata": {},
   "outputs": [
    {
     "data": {
      "text/plain": [
       "count     1093.000000\n",
       "mean     22007.098811\n",
       "std       5361.550623\n",
       "min       3105.000000\n",
       "25%      19082.000000\n",
       "50%      21939.000000\n",
       "75%      24911.000000\n",
       "max      49022.000000\n",
       "Name: count, dtype: float64"
      ]
     },
     "execution_count": 315,
     "metadata": {},
     "output_type": "execute_result"
    }
   ],
   "source": [
    "movie_type['count'].describe()"
   ]
  },
  {
   "cell_type": "markdown",
   "metadata": {},
   "source": [
    "### short movie"
   ]
  },
  {
   "cell_type": "code",
   "execution_count": 316,
   "metadata": {
    "collapsed": true
   },
   "outputs": [],
   "source": [
    "IMDB=pd.read_csv('./IMDB/IMDB_e2.csv')"
   ]
  },
  {
   "cell_type": "code",
   "execution_count": 319,
   "metadata": {
    "collapsed": true
   },
   "outputs": [],
   "source": [
    "name=IMDB['tconst'].values"
   ]
  },
  {
   "cell_type": "code",
   "execution_count": 325,
   "metadata": {
    "scrolled": true
   },
   "outputs": [
    {
     "data": {
      "text/plain": [
       "'0002605'"
      ]
     },
     "execution_count": 325,
     "metadata": {},
     "output_type": "execute_result"
    }
   ],
   "source": [
    "name[0][2:]"
   ]
  },
  {
   "cell_type": "code",
   "execution_count": 326,
   "metadata": {},
   "outputs": [
    {
     "name": "stdout",
     "output_type": "stream",
     "text": [
      "9684"
     ]
    }
   ],
   "source": [
    "for i,n in enumerate(name):\n",
    "    try:\n",
    "        flushPrint(i)\n",
    "        f = open('./IMDB/synopsis/'+n[2:]+'.txt',\"r\")\n",
    "        rawtext = f.read()\n",
    "        data=pre_process(rawtext) #break into sentences\n",
    "        data=['\\t'.join(['_'.join([w, str(diction[w])]) for w in s if w in diction]) for s in data]\n",
    "        with open('./short_movie/'+n+'.txt',\"w\") as f:\n",
    "            for d in data:\n",
    "                f.write(d+\"\\n\")\n",
    "    except Exception as e:\n",
    "        print(e)\n",
    "        pass"
   ]
  },
  {
   "cell_type": "code",
   "execution_count": 345,
   "metadata": {},
   "outputs": [
    {
     "name": "stdout",
     "output_type": "stream",
     "text": [
      "9684"
     ]
    }
   ],
   "source": [
    "count=[]\n",
    "for i,n in enumerate(name):\n",
    "    flushPrint(i)\n",
    "    with open('./short_movie/'+n+'.txt',\"r\") as f:\n",
    "        a=f.readlines()\n",
    "    c=[]\n",
    "    for j in a:\n",
    "        c.append(len(j.split('\\t')))\n",
    "    count.append([n,np.sum(c)])"
   ]
  },
  {
   "cell_type": "code",
   "execution_count": 354,
   "metadata": {
    "collapsed": true
   },
   "outputs": [],
   "source": [
    "d=dict(zip([i[0] for i in count],[i[1] for i in count]))"
   ]
  },
  {
   "cell_type": "code",
   "execution_count": 355,
   "metadata": {
    "collapsed": true
   },
   "outputs": [],
   "source": [
    "IMDB['count']=IMDB['tconst'].apply(lambda x: d[x])"
   ]
  },
  {
   "cell_type": "code",
   "execution_count": 359,
   "metadata": {
    "collapsed": true
   },
   "outputs": [],
   "source": [
    "IMDB.to_csv('./IMDB/IMDB_e2.csv',index=False)"
   ]
  },
  {
   "cell_type": "code",
   "execution_count": null,
   "metadata": {
    "collapsed": true
   },
   "outputs": [],
   "source": []
  },
  {
   "cell_type": "code",
   "execution_count": 45,
   "metadata": {
    "collapsed": true
   },
   "outputs": [],
   "source": [
    "book['class']=book['loc_class'].apply(lambda x: [i[0] for i in x.split('|') if i[0] in [str(chr(i)) for i in range(65,91)]])\n",
    "book['judge']=book['class'].apply(lambda x:True if 'P' in x else False)\n",
    "book=book[book['judge']==True]"
   ]
  },
  {
   "cell_type": "code",
   "execution_count": 46,
   "metadata": {
    "scrolled": true
   },
   "outputs": [
    {
     "data": {
      "text/plain": [
       "1326"
      ]
     },
     "execution_count": 46,
     "metadata": {},
     "output_type": "execute_result"
    }
   ],
   "source": [
    "len(book)"
   ]
  },
  {
   "cell_type": "code",
   "execution_count": 309,
   "metadata": {
    "collapsed": true
   },
   "outputs": [],
   "source": []
  },
  {
   "cell_type": "code",
   "execution_count": 19,
   "metadata": {
    "ExecuteTime": {
     "end_time": "2019-06-14T04:32:39.668392Z",
     "start_time": "2019-06-14T04:32:38.683380Z"
    }
   },
   "outputs": [],
   "source": [
    "IMDB=pd.read_csv('./IMDB/IMDB_e2.csv')\n",
    "IMDB=IMDB.dropna(axis=0,how='any',subset=['tp','emotion','character'])"
   ]
  },
  {
   "cell_type": "code",
   "execution_count": 20,
   "metadata": {
    "ExecuteTime": {
     "end_time": "2019-06-14T04:32:40.193700Z",
     "start_time": "2019-06-14T04:32:40.180618Z"
    }
   },
   "outputs": [],
   "source": [
    "IMDB=IMDB[IMDB['len']>5]"
   ]
  },
  {
   "cell_type": "code",
   "execution_count": 21,
   "metadata": {
    "ExecuteTime": {
     "end_time": "2019-06-14T04:32:41.237709Z",
     "start_time": "2019-06-14T04:32:41.132994Z"
    }
   },
   "outputs": [],
   "source": [
    "IMDB['avg']=IMDB['count']/IMDB['len']"
   ]
  },
  {
   "cell_type": "code",
   "execution_count": 22,
   "metadata": {
    "ExecuteTime": {
     "end_time": "2019-06-14T04:32:41.782378Z",
     "start_time": "2019-06-14T04:32:41.777962Z"
    }
   },
   "outputs": [],
   "source": [
    "def eval_(x):\n",
    "    try:\n",
    "        return eval(x)\n",
    "    except:\n",
    "        return np.nan\n",
    "        pass"
   ]
  },
  {
   "cell_type": "code",
   "execution_count": 23,
   "metadata": {
    "ExecuteTime": {
     "end_time": "2019-06-14T04:32:43.008409Z",
     "start_time": "2019-06-14T04:32:42.939037Z"
    }
   },
   "outputs": [],
   "source": [
    "IMDB['character']=IMDB['character'].apply(lambda x: eval_(x))\n",
    "IMDB['lead_gender']=IMDB['character'].apply(lambda x: x[2] if type(x)==list else np.nan)"
   ]
  },
  {
   "cell_type": "code",
   "execution_count": 24,
   "metadata": {
    "ExecuteTime": {
     "end_time": "2019-06-14T04:32:44.795659Z",
     "start_time": "2019-06-14T04:32:44.783629Z"
    }
   },
   "outputs": [],
   "source": [
    "IMDB_m=IMDB[IMDB['lead_gender']=='male']\n",
    "IMDB_f=IMDB[IMDB['lead_gender']=='female']"
   ]
  },
  {
   "cell_type": "code",
   "execution_count": 55,
   "metadata": {},
   "outputs": [
    {
     "data": {
      "text/plain": [
       "6562"
      ]
     },
     "execution_count": 55,
     "metadata": {},
     "output_type": "execute_result"
    }
   ],
   "source": [
    "len(IMDB)"
   ]
  },
  {
   "cell_type": "code",
   "execution_count": 12,
   "metadata": {
    "ExecuteTime": {
     "end_time": "2019-06-14T04:32:13.551373Z",
     "start_time": "2019-06-14T04:32:12.806801Z"
    }
   },
   "outputs": [],
   "source": [
    "movie_type=pd.read_csv('./movie_type_e2.csv')"
   ]
  },
  {
   "cell_type": "code",
   "execution_count": 13,
   "metadata": {
    "ExecuteTime": {
     "end_time": "2019-06-14T04:32:14.282439Z",
     "start_time": "2019-06-14T04:32:14.278748Z"
    }
   },
   "outputs": [],
   "source": [
    "movie_type['avg']=movie_type['count']/movie_type['len']"
   ]
  },
  {
   "cell_type": "code",
   "execution_count": 14,
   "metadata": {
    "ExecuteTime": {
     "end_time": "2019-06-14T04:32:14.931105Z",
     "start_time": "2019-06-14T04:32:14.917789Z"
    }
   },
   "outputs": [],
   "source": [
    "movie_type['character']=movie_type['character'].apply(lambda x: eval_(x))\n",
    "movie_type['lead_gender']=movie_type['character'].apply(lambda x: x[1] if type(x)==list else np.nan)"
   ]
  },
  {
   "cell_type": "code",
   "execution_count": 15,
   "metadata": {
    "ExecuteTime": {
     "end_time": "2019-06-14T04:32:16.266515Z",
     "start_time": "2019-06-14T04:32:16.262811Z"
    },
    "scrolled": true
   },
   "outputs": [
    {
     "data": {
      "text/plain": [
       "912"
      ]
     },
     "execution_count": 15,
     "metadata": {},
     "output_type": "execute_result"
    }
   ],
   "source": [
    "len(movie_type)"
   ]
  },
  {
   "cell_type": "code",
   "execution_count": 16,
   "metadata": {
    "ExecuteTime": {
     "end_time": "2019-06-14T04:32:17.528116Z",
     "start_time": "2019-06-14T04:32:17.522889Z"
    }
   },
   "outputs": [],
   "source": [
    "movie_type_m=movie_type[movie_type['lead_gender']=='male']\n",
    "movie_type_f=movie_type[movie_type['lead_gender']=='female']"
   ]
  },
  {
   "cell_type": "code",
   "execution_count": 17,
   "metadata": {
    "ExecuteTime": {
     "end_time": "2019-06-14T04:32:19.293955Z",
     "start_time": "2019-06-14T04:32:18.596325Z"
    }
   },
   "outputs": [],
   "source": [
    "book=pd.read_csv('./book.csv')"
   ]
  },
  {
   "cell_type": "code",
   "execution_count": 18,
   "metadata": {
    "ExecuteTime": {
     "end_time": "2019-06-14T04:32:19.309029Z",
     "start_time": "2019-06-14T04:32:19.296430Z"
    }
   },
   "outputs": [],
   "source": [
    "book['character']=book['character'].apply(lambda x: eval_(x))\n",
    "book['lead_gender']=book['character'].apply(lambda x: x[1] if type(x)==list else np.nan)"
   ]
  },
  {
   "cell_type": "code",
   "execution_count": 72,
   "metadata": {
    "collapsed": true
   },
   "outputs": [],
   "source": [
    "# book=pd.read_csv('./gutenberg/metadata.csv')\n",
    "# book_list=pd.read_csv('./book_list.csv')\n",
    "# nos=list(book_list['id'].values)\n",
    "# book=book[book['no'].isin(nos)]"
   ]
  },
  {
   "cell_type": "code",
   "execution_count": 26,
   "metadata": {
    "ExecuteTime": {
     "end_time": "2019-06-14T04:33:24.975110Z",
     "start_time": "2019-06-14T04:33:24.971223Z"
    }
   },
   "outputs": [],
   "source": [
    "book['avg']=book['count']/book['len']"
   ]
  },
  {
   "cell_type": "code",
   "execution_count": 27,
   "metadata": {
    "ExecuteTime": {
     "end_time": "2019-06-14T04:33:25.693845Z",
     "start_time": "2019-06-14T04:33:25.681966Z"
    }
   },
   "outputs": [],
   "source": [
    "book_m=book[book['lead_gender']=='male']\n",
    "book_f=book[book['lead_gender']=='female']"
   ]
  },
  {
   "cell_type": "code",
   "execution_count": 87,
   "metadata": {},
   "outputs": [
    {
     "data": {
      "text/plain": [
       "1326"
      ]
     },
     "execution_count": 87,
     "metadata": {},
     "output_type": "execute_result"
    }
   ],
   "source": [
    "len(book)"
   ]
  },
  {
   "cell_type": "code",
   "execution_count": 56,
   "metadata": {
    "ExecuteTime": {
     "end_time": "2019-06-14T04:48:35.923063Z",
     "start_time": "2019-06-14T04:48:34.605115Z"
    },
    "scrolled": false
   },
   "outputs": [
    {
     "data": {
      "image/png": "[encoded data removed]",
      "text/plain": [
       "<Figure size 1080x288 with 5 Axes>"
      ]
     },
     "metadata": {},
     "output_type": "display_data"
    }
   ],
   "source": [
    "def probability_distribution_function(x):\n",
    "    for i in range(len(x)):\n",
    "        if x[i]<=0:\n",
    "            x[i]=1\n",
    "    countdict=Counter(x)\n",
    "    for key in countdict.keys():\n",
    "        countdict[key]/=len(x)\n",
    "    x=list(countdict.keys())\n",
    "    y=list(countdict.values())\n",
    "    return x,y\n",
    "\n",
    "fig = plt.figure(figsize=(15,4))\n",
    "plt.text(0,1.1,'a',fontsize=15)\n",
    "plt.xticks([])\n",
    "plt.yticks([])\n",
    "ax=fig.add_subplot(141)\n",
    "x,y=probability_distribution_function(IMDB['len'].values)\n",
    "plt.plot(x,y,color='g',marker='o',ls='')\n",
    "plt.xscale('log')\n",
    "plt.yscale('log')\n",
    "plt.xlabel('N of sentences',fontsize=15)\n",
    "plt.ylabel('Frequency',fontsize=15)\n",
    "plt.title('Movie synopsis',fontsize=20)\n",
    "\n",
    "\n",
    "ax=fig.add_subplot(142)\n",
    "plt.hist(movie_type['len'].values, histtype ='stepfilled',color='dodgerblue')\n",
    "plt.xlabel('N of sentences',fontsize=15)\n",
    "plt.title('Movie script',fontsize=20)\n",
    "plt.text(-1.5,360,'b',fontsize=15)\n",
    "\n",
    "ax=fig.add_subplot(143)\n",
    "plt.hist(book['len'].values, histtype ='stepfilled',color='coral')\n",
    "plt.xlabel('N of sentences',fontsize=15)\n",
    "plt.title('Book',fontsize=20)\n",
    "plt.text(-1.5,200,'c',fontsize=15)\n",
    "\n",
    "ax=fig.add_subplot(144)\n",
    "plt.hist(IMDB['avg'].values, histtype ='step',color='g',label='Movie synopsis')\n",
    "plt.hist(movie_type['avg'].values, histtype ='step',color='dodgerblue',label='Movie script')\n",
    "plt.hist(book['avg'].values, histtype ='step',color='coral',label='Book')\n",
    "plt.text(-1.5,2900,'d',fontsize=15)\n",
    "plt.title('All',fontsize=20)\n",
    "plt.legend()\n",
    "plt.xlabel('N of words per sentence',fontsize=15)\n",
    "plt.savefig('./picture/figure8.tiff', dpi = 300)\n",
    "plt.show()"
   ]
  },
  {
   "cell_type": "code",
   "execution_count": 81,
   "metadata": {},
   "outputs": [
    {
     "data": {
      "image/png": "[encoded data removed]",
      "text/plain": [
       "<Figure size 1080x288 with 4 Axes>"
      ]
     },
     "metadata": {},
     "output_type": "display_data"
    }
   ],
   "source": [
    "fig = plt.figure(figsize=(15,4))\n",
    "ax=fig.add_subplot(141)\n",
    "x,y=probability_distribution_function(IMDB_m['len'].values)\n",
    "plt.plot(x,y,color='g',marker='o',ls='')\n",
    "plt.xscale('log')\n",
    "plt.yscale('log')\n",
    "plt.xlabel('N of sentences',fontsize=15)\n",
    "plt.ylabel('Frequency for male',fontsize=15)\n",
    "plt.title('Movie (short)',fontsize=20)\n",
    "\n",
    "\n",
    "ax=fig.add_subplot(142)\n",
    "plt.hist(movie_type_m['len'].values, histtype ='stepfilled',color='dodgerblue')\n",
    "plt.xlabel('N of sentences',fontsize=15)\n",
    "plt.title('Movie (long)',fontsize=20)\n",
    "\n",
    "ax=fig.add_subplot(143)\n",
    "plt.hist(book_m['len'].values, histtype ='stepfilled',color='coral')\n",
    "plt.xlabel('N of sentences',fontsize=15)\n",
    "plt.title('Book',fontsize=20)\n",
    "\n",
    "ax=fig.add_subplot(144)\n",
    "plt.hist(IMDB_m['avg'].values, histtype ='step',color='g',label='Movie (short)')\n",
    "plt.hist(movie_type_m['avg'].values, histtype ='step',color='dodgerblue',label='Movie (long)')\n",
    "plt.hist(book_m['avg'].values, histtype ='step',color='coral',label='Book')\n",
    "plt.title('All',fontsize=20)\n",
    "plt.legend()\n",
    "plt.xlabel('N of words per sentence',fontsize=15)\n",
    "# plt.savefig('./paper/The distribution of sentence and words.tiff', dpi = 300)\n",
    "plt.show()"
   ]
  },
  {
   "cell_type": "code",
   "execution_count": 82,
   "metadata": {},
   "outputs": [
    {
     "data": {
      "image/png": "[encoded data removed]",
      "text/plain": [
       "<Figure size 1080x288 with 4 Axes>"
      ]
     },
     "metadata": {},
     "output_type": "display_data"
    }
   ],
   "source": [
    "fig = plt.figure(figsize=(15,4))\n",
    "ax=fig.add_subplot(141)\n",
    "x,y=probability_distribution_function(IMDB_f['len'].values)\n",
    "plt.plot(x,y,color='g',marker='o',ls='')\n",
    "plt.xscale('log')\n",
    "plt.yscale('log')\n",
    "plt.xlabel('N of sentences',fontsize=15)\n",
    "plt.ylabel('Frequency for female',fontsize=15)\n",
    "plt.title('Movie (short)',fontsize=20)\n",
    "\n",
    "\n",
    "ax=fig.add_subplot(142)\n",
    "plt.hist(movie_type_f['len'].values, histtype ='stepfilled',color='dodgerblue')\n",
    "plt.xlabel('N of sentences',fontsize=15)\n",
    "plt.title('Movie (long)',fontsize=20)\n",
    "\n",
    "ax=fig.add_subplot(143)\n",
    "plt.hist(book_f['len'].values, histtype ='stepfilled',color='coral')\n",
    "plt.xlabel('N of sentences',fontsize=15)\n",
    "plt.title('Book',fontsize=20)\n",
    "\n",
    "ax=fig.add_subplot(144)\n",
    "plt.hist(IMDB_f['avg'].values, histtype ='step',color='g',label='Movie (short)')\n",
    "plt.hist(movie_type_f['avg'].values, histtype ='step',color='dodgerblue',label='Movie (long)')\n",
    "plt.hist(book_f['avg'].values, histtype ='step',color='coral',label='Book')\n",
    "plt.title('All',fontsize=20)\n",
    "plt.legend()\n",
    "plt.xlabel('N of words per sentence',fontsize=15)\n",
    "# plt.savefig('./paper/The distribution of sentence and words.tiff', dpi = 300)\n",
    "plt.show()"
   ]
  },
  {
   "cell_type": "code",
   "execution_count": 156,
   "metadata": {
    "collapsed": true
   },
   "outputs": [],
   "source": [
    "def get_maintext_lines_script(raw_text):\n",
    "    lines = raw_text.split(\"\\n\")\n",
    "    start_book_i = 0\n",
    "    end_book_i = len(lines)-1\n",
    "    if end_book_i == len(lines)-1:\n",
    "        for j,line in enumerate(lines):\n",
    "            if \"FADE OUT\" in line and j>.9*len(lines):\n",
    "                end_book_i = j\n",
    "    if end_book_i == len(lines)-1:\n",
    "        for j,line in enumerate(lines):\n",
    "            if \"THE END\" in line and j>.9*len(lines):\n",
    "                end_book_i = j\n",
    "    return lines[(start_book_i+1):(end_book_i)]"
   ]
  },
  {
   "cell_type": "code",
   "execution_count": 171,
   "metadata": {
    "collapsed": true
   },
   "outputs": [],
   "source": [
    "def chunkify(lines):\n",
    "    # put them back together...\n",
    "    raw_text = \"\\n\".join(lines)\n",
    "    # remove extra whitespace\n",
    "    raw_text_1 = re.sub(\"\\n[\\\\s]+?\\n\",\"\\n\\n\",raw_text)\n",
    "    # remove singleton newlines\n",
    "    raw_text_2 = re.sub(r\"([^\\n])\\n([^\\n])\",r\"\\1 \\2\",raw_text_1)\n",
    "    raw_text_3 = raw_text_2.rstrip().lstrip()\n",
    "\n",
    "\n",
    "    # split on those triples (or more)\n",
    "    big_chunks = re.split(\"\\n\\n\\n+\",raw_text_3)\n",
    "\n",
    "    big_chunks = [i for i in big_chunks if len(re.split('\\n',i))>50] #remove title,author et al.\n",
    "    \n",
    "    if len(big_chunks)!=1:\n",
    "        print('error chunk!')\n",
    "#         big_chunks = '\\n\\n'.join(lines)\n",
    "        \n",
    "    # break into different cuts\n",
    "    big_chunks = re.split(\"CUT TO:\",big_chunks[0])\n",
    "#     print(big_chunks)\n",
    "    # now break them into the paragraphs\n",
    "    small_chunks = list(map(lambda x: re.split(\"\\n\\n\",x),big_chunks))\n",
    "    combined_chunks = []\n",
    "    [combined_chunks.extend(el) for el in small_chunks]\n",
    "    combined_chunks = [i for i in combined_chunks if len(i.strip())>0]\n",
    "#     combined_chunks = ' '.join(combined_chunks)\n",
    "#     combined_chunks = []\n",
    "\n",
    "#     for i in range(len(small_chunks)):\n",
    "#         for j in range(len(small_chunks[i])):\n",
    "#             combined_chunks.append((i,j,small_chunks[i][j]))\n",
    "    return combined_chunks\n",
    "#     return small_chunks"
   ]
  },
  {
   "cell_type": "code",
   "execution_count": 172,
   "metadata": {
    "collapsed": true
   },
   "outputs": [],
   "source": [
    "def main_character(lead):\n",
    "    lead=[i.title() for i in lead]\n",
    "    film_name_list = (set(lead) & set(male_names)) |\\\n",
    "                    (set(lead) & set(female_names))\n",
    "    film_script_wordlist_counter = Counter(lead)\n",
    "    df = pd.DataFrame([[i, film_script_wordlist_counter[i]] for i in film_name_list]\\\n",
    "                                      , columns=['name', 'count'])\n",
    "    df['gender']=df['name'].apply(lambda x:'male' if x in male_names else 'female')\n",
    "    df=df.sort_values(by='count', ascending=False)\n",
    "    lead = df['name'].values[0]\n",
    "    lead_gender=df['gender'].values[0]\n",
    "    if lead_gender=='female':\n",
    "        lead1=df[df['gender']=='male']['name'].values[0]\n",
    "    else:\n",
    "        lead1=df[df['gender']=='female']['name'].values[0]\n",
    "    return lead,lead_gender,lead1"
   ]
  },
  {
   "cell_type": "code",
   "execution_count": 178,
   "metadata": {
    "collapsed": true,
    "scrolled": false
   },
   "outputs": [],
   "source": [
    "f = open('./imsdb/'+'Titanic'+'.txt',\"r\")\n",
    "rawtext = f.read()\n",
    "f.close()\n",
    "lines = get_maintext_lines_script(rawtext)\n",
    "chunked = chunkify(lines)\n",
    "# data=pre_process(' '.join(chunked)) #break into sentences\n",
    "# data=['\\t'.join(['_'.join([w, str(diction[w])]) for w in s if w in diction]) for s in data]"
   ]
  },
  {
   "cell_type": "code",
   "execution_count": 176,
   "metadata": {
    "collapsed": true
   },
   "outputs": [],
   "source": [
    "lines1=[]\n",
    "\n",
    "for i in lines:\n",
    "    if (0<len(tknzr.tokenize(i))<4):\n",
    "        if (tknzr.tokenize(i)[-1][-1] not in string.punctuation) & (len(tknzr.tokenize(i))>0):\n",
    "            lines1.append(i+'\\n\\n')\n",
    "    else:\n",
    "        lines1.append(i)"
   ]
  },
  {
   "cell_type": "code",
   "execution_count": 177,
   "metadata": {
    "scrolled": false
   },
   "outputs": [
    {
     "name": "stdout",
     "output_type": "stream",
     "text": [
      "error chunk!\n"
     ]
    },
    {
     "ename": "IndexError",
     "evalue": "list index out of range",
     "output_type": "error",
     "traceback": [
      "\u001b[0;31m---------------------------------------------------------------------------\u001b[0m",
      "\u001b[0;31mIndexError\u001b[0m                                Traceback (most recent call last)",
      "\u001b[0;32m<ipython-input-177-ef229c909e80>\u001b[0m in \u001b[0;36m<module>\u001b[0;34m()\u001b[0m\n\u001b[0;32m----> 1\u001b[0;31m \u001b[0mchunked\u001b[0m \u001b[0;34m=\u001b[0m \u001b[0mchunkify\u001b[0m\u001b[0;34m(\u001b[0m\u001b[0mlines1\u001b[0m\u001b[0;34m)\u001b[0m\u001b[0;34m\u001b[0m\u001b[0m\n\u001b[0m",
      "\u001b[0;32m<ipython-input-171-3e5b32fbff0e>\u001b[0m in \u001b[0;36mchunkify\u001b[0;34m(lines)\u001b[0m\n\u001b[1;32m     19\u001b[0m \u001b[0;34m\u001b[0m\u001b[0m\n\u001b[1;32m     20\u001b[0m     \u001b[0;31m# break into different cuts\u001b[0m\u001b[0;34m\u001b[0m\u001b[0;34m\u001b[0m\u001b[0m\n\u001b[0;32m---> 21\u001b[0;31m     \u001b[0mbig_chunks\u001b[0m \u001b[0;34m=\u001b[0m \u001b[0mre\u001b[0m\u001b[0;34m.\u001b[0m\u001b[0msplit\u001b[0m\u001b[0;34m(\u001b[0m\u001b[0;34m\"CUT TO:\"\u001b[0m\u001b[0;34m,\u001b[0m\u001b[0mbig_chunks\u001b[0m\u001b[0;34m[\u001b[0m\u001b[0;36m0\u001b[0m\u001b[0;34m]\u001b[0m\u001b[0;34m)\u001b[0m\u001b[0;34m\u001b[0m\u001b[0m\n\u001b[0m\u001b[1;32m     22\u001b[0m \u001b[0;31m#     print(big_chunks)\u001b[0m\u001b[0;34m\u001b[0m\u001b[0;34m\u001b[0m\u001b[0m\n\u001b[1;32m     23\u001b[0m     \u001b[0;31m# now break them into the paragraphs\u001b[0m\u001b[0;34m\u001b[0m\u001b[0;34m\u001b[0m\u001b[0m\n",
      "\u001b[0;31mIndexError\u001b[0m: list index out of range"
     ]
    }
   ],
   "source": [
    "chunked = chunkify(lines1)"
   ]
  },
  {
   "cell_type": "code",
   "execution_count": null,
   "metadata": {
    "collapsed": true
   },
   "outputs": [],
   "source": []
  },
  {
   "cell_type": "code",
   "execution_count": null,
   "metadata": {
    "collapsed": true
   },
   "outputs": [],
   "source": []
  },
  {
   "cell_type": "code",
   "execution_count": null,
   "metadata": {
    "collapsed": true
   },
   "outputs": [],
   "source": []
  },
  {
   "cell_type": "code",
   "execution_count": 214,
   "metadata": {
    "collapsed": true
   },
   "outputs": [],
   "source": [
    "# 获取名字，性别数据列表\n",
    "from nltk.corpus import names\n",
    "male_names = [name for name in names.words('male.txt')]\n",
    "female_names = [name for name in names.words('female.txt')]\n",
    "all_names = male_names+female_names"
   ]
  },
  {
   "cell_type": "code",
   "execution_count": 180,
   "metadata": {
    "collapsed": true
   },
   "outputs": [],
   "source": [
    "tknzr = WordPunctTokenizer()"
   ]
  },
  {
   "cell_type": "code",
   "execution_count": 181,
   "metadata": {
    "collapsed": true
   },
   "outputs": [],
   "source": [
    "lead_role=[]\n",
    "for i,c in enumerate(chunked):\n",
    "    t=[i.lower() for i in tknzr.tokenize(c)]\n",
    "    if (t[-1][-1] not in string.punctuation) & (len(t)<4):\n",
    "        lead_role.extend(t)\n",
    "lead,lead_gender,lead1=main_character(lead_role)"
   ]
  },
  {
   "cell_type": "code",
   "execution_count": 182,
   "metadata": {},
   "outputs": [
    {
     "data": {
      "text/plain": [
       "('Rose', 'female', 'Jack')"
      ]
     },
     "execution_count": 182,
     "metadata": {},
     "output_type": "execute_result"
    }
   ],
   "source": [
    "lead,lead_gender,lead1"
   ]
  },
  {
   "cell_type": "code",
   "execution_count": 183,
   "metadata": {
    "collapsed": true
   },
   "outputs": [],
   "source": [
    "common=[]\n",
    "for i,c in enumerate(chunked):\n",
    "    t=[i.lower() for i in tknzr.tokenize(c)]\n",
    "    if t[-1][-1] in string.punctuation:\n",
    "        if (lead.lower() in t)&(lead1.lower() in t):\n",
    "            common.append(i)"
   ]
  },
  {
   "cell_type": "code",
   "execution_count": 184,
   "metadata": {},
   "outputs": [
    {
     "data": {
      "text/plain": [
       "131"
      ]
     },
     "execution_count": 184,
     "metadata": {},
     "output_type": "execute_result"
    }
   ],
   "source": [
    "len(common)"
   ]
  },
  {
   "cell_type": "code",
   "execution_count": 185,
   "metadata": {
    "collapsed": true
   },
   "outputs": [],
   "source": [
    "common1=[]\n",
    "for i,c in enumerate(chunked):\n",
    "    t=[i.lower() for i in tknzr.tokenize(c)]\n",
    "    if t[-1][-1] not in string.punctuation:\n",
    "        common1.append([i,t])"
   ]
  },
  {
   "cell_type": "code",
   "execution_count": 186,
   "metadata": {
    "collapsed": true
   },
   "outputs": [],
   "source": [
    "a=[]\n",
    "t=4\n",
    "for i in range(1,len(common1)-1):\n",
    "    if (lead.lower() in common1[i][1])&(lead1.lower() in common1[i-1][1]):\n",
    "        if (common1[i+1][0]-common1[i][0])<t: #4 is a threshold of dialoge length\n",
    "            a.extend([j for j in range(common1[i-1][0],common1[i+1][0])])\n",
    "        else:\n",
    "            a.extend([j for j in range(common1[i-1][0],common1[i][0]+t)])\n",
    "    if (lead.lower() in common1[i-1][1])&(lead1.lower() in common1[i][1]):\n",
    "        if (common1[i+1][0]-common1[i][0])<t: #4 is a threshold of dialoge length\n",
    "            a.extend([j for j in range(common1[i-1][0],common1[i+1][0])])\n",
    "        else:\n",
    "            a.extend([j for j in range(common1[i-1][0],common1[i][0]+t)])\n",
    "    if (lead.lower() in common1[i][1])&(lead1.lower() in common1[i][1]):\n",
    "        a.extend([common1[i][0]])"
   ]
  },
  {
   "cell_type": "code",
   "execution_count": 187,
   "metadata": {
    "collapsed": true
   },
   "outputs": [],
   "source": [
    "a=a+common"
   ]
  },
  {
   "cell_type": "code",
   "execution_count": 188,
   "metadata": {
    "collapsed": true
   },
   "outputs": [],
   "source": [
    "a=sorted(list(set(a)))"
   ]
  },
  {
   "cell_type": "code",
   "execution_count": 218,
   "metadata": {},
   "outputs": [
    {
     "name": "stderr",
     "output_type": "stream",
     "text": [
      "/home/sysadmin/anaconda3/lib/python3.6/site-packages/numpy/core/fromnumeric.py:2920: RuntimeWarning: Mean of empty slice.\n",
      "  out=out, **kwargs)\n"
     ]
    }
   ],
   "source": [
    "d=pd.DataFrame()\n",
    "d['sentence']=chunked\n",
    "d['index']=d.index\n",
    "d['tp']=d['index'].apply(lambda x: 'yes' if x in a else np.nan)\n",
    "d['include']=d['sentence'].apply(lambda x: 'no' if ([i.lower() for i in tknzr.tokenize(x)][-1][-1] \\\n",
    "                not in string.punctuation) & (len([i.lower() for i in tknzr.tokenize(x)])<6) else 'yes')    \n",
    "d=d[d['include']=='yes']\n",
    "d=d.reset_index(drop=False)\n",
    "tp=d[d['tp']=='yes'].index\n",
    "d['emotion']=d['sentence'].apply(lambda x: word_to_emotion(x))\n",
    "w=d['emotion'].values\n",
    "w=[0 if np.isnan(i)==True else i for i in w]"
   ]
  },
  {
   "cell_type": "code",
   "execution_count": null,
   "metadata": {
    "collapsed": true
   },
   "outputs": [],
   "source": []
  }
 ],
 "metadata": {
  "kernelspec": {
   "display_name": "Python 3",
   "language": "python",
   "name": "python3"
  },
  "language_info": {
   "codemirror_mode": {
    "name": "ipython",
    "version": 3
   },
   "file_extension": ".py",
   "mimetype": "text/x-python",
   "name": "python",
   "nbconvert_exporter": "python",
   "pygments_lexer": "ipython3",
   "version": "3.6.2"
  },
  "toc": {
   "nav_menu": {},
   "number_sections": true,
   "sideBar": true,
   "skip_h1_title": false,
   "title_cell": "Table of Contents",
   "title_sidebar": "Contents",
   "toc_cell": false,
   "toc_position": {},
   "toc_section_display": true,
   "toc_window_display": false
  }
 },
 "nbformat": 4,
 "nbformat_minor": 2
}
